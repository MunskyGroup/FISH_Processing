{
 "cells": [
  {
   "cell_type": "markdown",
   "metadata": {},
   "source": [
    "# Cell segmentation C. Elegans"
   ]
  },
  {
   "cell_type": "code",
   "execution_count": null,
   "metadata": {},
   "outputs": [],
   "source": [
    "# Importing libraries\n",
    "import sys\n",
    "import matplotlib.pyplot as plt \n",
    "import numpy as np \n",
    "#import tifffile\n",
    "#import shutil\n",
    "#import zipfile\n",
    "#import os\n",
    "import seaborn as sns\n",
    "import pandas as pd\n",
    "import pathlib\n",
    "import warnings\n",
    "#import imageio\n",
    "import re  \n",
    "from skimage.io import imread\n",
    "import os; from os import listdir; from os.path import isfile, join\n",
    "from skimage import io\n",
    "from cellpose import models\n",
    "#from cellpose import plot\n",
    "from scipy.ndimage import binary_fill_holes\n",
    "from skimage.morphology import erosion, disk, square, remove_small_objects\n",
    "import matplotlib.patches as patches\n",
    "from scipy.ndimage import binary_dilation\n",
    "from skimage.measure import label\n",
    "\n",
    "import cv2\n",
    "warnings.filterwarnings(\"ignore\")"
   ]
  },
  {
   "cell_type": "code",
   "execution_count": null,
   "metadata": {},
   "outputs": [],
   "source": [
    "# Defining directories\n",
    "current_dir = pathlib.Path().absolute()\n",
    "fa_dir = current_dir.parents[1].joinpath('src')\n",
    "\n",
    "# Importing fish_analyses module\n",
    "sys.path.append(str(fa_dir))\n",
    "import fish_analyses as fa"
   ]
  },
  {
   "cell_type": "code",
   "execution_count": null,
   "metadata": {},
   "outputs": [],
   "source": [
    "directory =pathlib.Path('/home/luisub/Desktop/FISH_Processing/dev/codes_C_elegans/OneDrive_1_6-12-2024/4-cell/all_images')\n"
   ]
  },
  {
   "cell_type": "code",
   "execution_count": null,
   "metadata": {},
   "outputs": [],
   "source": [
    "list_files_names_complete = sorted([f for f in listdir(directory) if isfile(join(directory, f)) and ('.png') in f], key=str.lower)  # reading all tif files in the folder\n",
    "list_files_names_complete.sort(key=lambda f: int(re.sub('\\D', '', f)))  # sorting the index in numerical order\n",
    "path_files_complete = [ str(directory.joinpath(f).resolve()) for f in list_files_names_complete ] # creating the complete path for each file\n",
    "number_files = len(path_files_complete)\n",
    "list_images_complete = [imread(str(f)) for f in path_files_complete]\n",
    "print(number_files)\n",
    "print(list_images_complete[0].shape)"
   ]
  },
  {
   "cell_type": "code",
   "execution_count": null,
   "metadata": {},
   "outputs": [],
   "source": [
    "path_files_complete"
   ]
  },
  {
   "cell_type": "code",
   "execution_count": null,
   "metadata": {},
   "outputs": [],
   "source": [
    "# plotting all list_images_complete, in a subplot with 4 coulmns for each color channel.\n",
    "fig, axs = plt.subplots(1, number_files, figsize=(30, 10))\n",
    "for idx_image in range (number_files):\n",
    "        axs[idx_image].imshow(list_images_complete[idx_image][:,:,0])\n",
    "        axs[idx_image].axis('off')\n",
    "plt.show()"
   ]
  },
  {
   "cell_type": "code",
   "execution_count": null,
   "metadata": {},
   "outputs": [],
   "source": [
    "# rescaling images\n",
    "list_rescaled_images = []\n",
    "for idx_image in range (number_files):\n",
    "    list_rescaled_images.append( fa.RemoveExtrema(list_images_complete[idx_image][:,:,0],min_percentile=0, max_percentile=99.8).remove_outliers()  )\n",
    "\n",
    "# plotting list_rescaled_images as a single row\n",
    "fig, axs = plt.subplots(1, number_files, figsize=(30, 10))\n",
    "for idx_image in range (number_files):\n",
    "    axs[idx_image].imshow(list_rescaled_images[idx_image],cmap='Greys_r')\n",
    "    axs[idx_image].axis('off')"
   ]
  },
  {
   "cell_type": "code",
   "execution_count": null,
   "metadata": {},
   "outputs": [],
   "source": [
    "# cell segmentation\n",
    "list_masks = []\n",
    "for i, image in enumerate(list_rescaled_images):\n",
    "        model = models.Cellpose(gpu=True, model_type='cyto2') # model_type='cyto', 'cyto2' or model_type='nuclei'\n",
    "        masks = model.eval(image, diameter=100, flow_threshold=1, channels=[0,0], augment=True)[0]\n",
    "        list_masks.append(masks)\n",
    "\n",
    "# plotting list_rescaled_images as a single row\n",
    "fig, axs = plt.subplots(1, number_files, figsize=(30, 10))\n",
    "for i, image in enumerate(list_masks):\n",
    "    axs[i].imshow(image,cmap='Greys_r')\n",
    "    axs[i].axis('off')"
   ]
  },
  {
   "cell_type": "code",
   "execution_count": null,
   "metadata": {},
   "outputs": [],
   "source": [
    "# calculating the membrane mask\n",
    "def compute_membrane_mask(mask):\n",
    "    NUM_PIXELS_TO_DILATE = 10\n",
    "    mask = mask.astype(np.int)\n",
    "    mask_neighbors = np.zeros_like(mask)\n",
    "    for i in range(1, np.max(mask) + 1):\n",
    "        mask_i = mask == i\n",
    "        mask_i_dilated = binary_dilation(mask_i, iterations=NUM_PIXELS_TO_DILATE) \n",
    "        # Use XOR to find the difference between the dilated and original mask\n",
    "        mask_i_neighbors = mask_i_dilated ^ mask_i\n",
    "        # Only keep neighbor values that correspond to different labels in the original mask\n",
    "        mask_i_neighbors = mask_i_neighbors * mask\n",
    "        mask_neighbors += mask_i_neighbors\n",
    "        mask_neighbors[mask_neighbors>0] = 1\n",
    "        mask_neighbors_binary = binary_fill_holes(mask_neighbors.astype(np.int8))\n",
    "    return mask_neighbors_binary"
   ]
  },
  {
   "cell_type": "code",
   "execution_count": null,
   "metadata": {},
   "outputs": [],
   "source": [
    "membrane_mask = compute_membrane_mask(list_masks[0].astype(np.int8))\n",
    "plt.imshow(membrane_mask,cmap='Greys_r')   \n",
    "plt.axis('off')"
   ]
  },
  {
   "cell_type": "code",
   "execution_count": null,
   "metadata": {},
   "outputs": [],
   "source": [
    "# removing small objects and reordering the masks\n",
    "MIN_CELL_SIZE = 5000\n",
    "list_masks_filtered = []\n",
    "for i, masks in enumerate(list_masks):\n",
    "    reorder_masks = np.zeros(masks.shape)\n",
    "    masks_filtered =  remove_small_objects(masks, min_size=MIN_CELL_SIZE)\n",
    "    max_masks_filtered = np.max(masks_filtered)\n",
    "    for mc, mn in enumerate(range(1,max_masks_filtered+1)):\n",
    "        reorder_masks = np.where(masks_filtered == mn, -mc, masks_filtered)\n",
    "    list_masks_filtered.append(np.absolute(reorder_masks))\n",
    "    \n",
    "# plotting list_rescaled_images as a single row\n",
    "fig, axs = plt.subplots(1, number_files, figsize=(30, 10))\n",
    "for i, masks in enumerate(list_masks_filtered):\n",
    "    axs[i].imshow(masks,cmap='Greys_r')\n",
    "    axs[i].axis('off')"
   ]
  },
  {
   "cell_type": "code",
   "execution_count": null,
   "metadata": {},
   "outputs": [],
   "source": [
    "# create a mask for all non-zero elements in the list_masks_filtered\n",
    "list_masks_all_embryo = []\n",
    "mask_all = np.zeros(list_masks_filtered[0].shape)\n",
    "for i, mask in enumerate(list_masks_filtered):\n",
    "    list_masks_all_embryo.append( np.where(mask > 0, 1, mask_all) )    \n",
    "    \n",
    "# plotting list_rescaled_images as a single row\n",
    "fig, axs = plt.subplots(1, number_files, figsize=(30, 10))\n",
    "for i, masks in enumerate(list_masks_all_embryo):\n",
    "    axs[i].imshow(masks,cmap='Greys_r')\n",
    "    axs[i].axis('off')"
   ]
  },
  {
   "cell_type": "code",
   "execution_count": null,
   "metadata": {},
   "outputs": [],
   "source": [
    "# fill empty spaces in the mask\n",
    "list_masks_filled = []\n",
    "for i, mask in enumerate(list_masks_all_embryo):\n",
    "    list_masks_filled.append( binary_fill_holes(mask) )\n",
    "# plotting list_rescaled_images as a single row\n",
    "fig, axs = plt.subplots(1, number_files, figsize=(30, 10))\n",
    "for i, masks in enumerate(list_masks_filled):\n",
    "    axs[i].imshow(masks,cmap='Greys_r')\n",
    "    axs[i].axis('off')"
   ]
  },
  {
   "cell_type": "code",
   "execution_count": null,
   "metadata": {},
   "outputs": [],
   "source": [
    "# expand the mask by dilating it and removing the smallest object\n",
    "list_masks_dilated = []\n",
    "NUM_PIXELS_TO_DILATE = 20\n",
    "for i, mask in enumerate(list_masks_filled):\n",
    "    dilated_mask = binary_dilation(mask, iterations=NUM_PIXELS_TO_DILATE)\n",
    "    # eliminate smallest disconnected mask by replacing smallest mask with zeros\n",
    "    label_image = label(dilated_mask)\n",
    "    if np.max(label_image) > 1:\n",
    "        # count the number of pixels in each mask that are not zeros\n",
    "        non_zero_sizes = [np.count_nonzero(label_image == i) for i in range(1, np.max(label_image)+1)] \n",
    "        dilated_mask = np.where(label_image == np.argmax(non_zero_sizes)+1, 1, 0)\n",
    "    list_masks_dilated.append( dilated_mask)\n",
    "# plotting list_rescaled_images as a single row\n",
    "fig, axs = plt.subplots(1, number_files, figsize=(30, 10))\n",
    "for i, masks in enumerate(list_masks_dilated):\n",
    "    axs[i].imshow(masks,cmap='Greys_r')\n",
    "    axs[i].axis('off')"
   ]
  },
  {
   "cell_type": "code",
   "execution_count": null,
   "metadata": {},
   "outputs": [],
   "source": [
    "# calculate the center of mass of the mask\n",
    "list_center_of_mass = []\n",
    "for i, mask in enumerate(list_masks_dilated):\n",
    "    center_of_mass = np.array([np.mean(np.where(mask > 0)[0]), np.mean(np.where(mask > 0)[1])])\n",
    "    list_center_of_mass.append(center_of_mass)\n",
    "# plotting list_rescaled_images as a single row and the center of mass as a red spot in the image\n",
    "fig, axs = plt.subplots(1, number_files, figsize=(30, 10))\n",
    "for i, masks in enumerate(list_masks_dilated):\n",
    "    axs[i].imshow(masks,cmap='Greys_r')\n",
    "    axs[i].scatter(list_center_of_mass[i][1], list_center_of_mass[i][0], c='r', s=100)\n",
    "    axs[i].axis('off')"
   ]
  },
  {
   "cell_type": "code",
   "execution_count": null,
   "metadata": {},
   "outputs": [],
   "source": [
    "# Fitting an ellipse to the mask\n",
    "image = list_masks_dilated[0]\n",
    "# Find contours in the binary image\n",
    "contours = cv2.findContours(image.astype(np.uint8), cv2.RETR_EXTERNAL, cv2.CHAIN_APPROX_SIMPLE)[0]\n",
    "# Assume the largest contour is the region of interest\n",
    "cnt = max(contours, key=cv2.contourArea)\n",
    "# Fit an ellipse to the contour\n",
    "ellipse = cv2.fitEllipse(cnt)\n",
    "# Extract ellipse parameters\n",
    "(xc, yc), (d1, d2), angle = ellipse\n",
    "# Create a figure and a set of subplots\n",
    "fig, ax = plt.subplots()\n",
    "# Display the image\n",
    "ax.imshow(image, cmap='gray')\n",
    "# Create an ellipse patch. The width and height are switched here to match the image coordinate system used by imshow\n",
    "ellipse_patch = patches.Ellipse(xy= (xc, yc), width= d1, height= d2, angle=angle, edgecolor='r', facecolor='none', linewidth=2.5)\n",
    "# Add the ellipse patch to the axes\n",
    "ax.add_patch(ellipse_patch)\n",
    "# Set plot limits and properties\n",
    "ax.set_axis_off()\n",
    "plt.tight_layout()\n",
    "plt.show()\n",
    "print(d1, d2, angle)\n"
   ]
  },
  {
   "cell_type": "code",
   "execution_count": null,
   "metadata": {},
   "outputs": [],
   "source": [
    "membrane_mask = compute_membrane_mask(list_masks[0])\n",
    "# making all elements larger than one equal to one\n",
    "fig, ax = plt.subplots()\n",
    "ellipse_patch = patches.Ellipse(xy= (xc, yc), width= d1, height= d2, angle=angle, edgecolor='r', facecolor='none', linewidth=2.5)\n",
    "ax.add_patch(ellipse_patch)\n",
    "plt.imshow(membrane_mask,cmap='Greys_r')   \n",
    "plt.axis('off')"
   ]
  },
  {
   "cell_type": "code",
   "execution_count": null,
   "metadata": {},
   "outputs": [],
   "source": []
  },
  {
   "cell_type": "code",
   "execution_count": null,
   "metadata": {},
   "outputs": [],
   "source": []
  },
  {
   "cell_type": "code",
   "execution_count": null,
   "metadata": {},
   "outputs": [],
   "source": []
  },
  {
   "cell_type": "code",
   "execution_count": null,
   "metadata": {},
   "outputs": [],
   "source": []
  },
  {
   "cell_type": "code",
   "execution_count": null,
   "metadata": {},
   "outputs": [],
   "source": []
  },
  {
   "cell_type": "code",
   "execution_count": null,
   "metadata": {},
   "outputs": [],
   "source": [
    "raise"
   ]
  },
  {
   "cell_type": "code",
   "execution_count": null,
   "metadata": {},
   "outputs": [],
   "source": [
    "# removing masks that can be included into a ellipse\n",
    "list_masks_filtered_ellipse = []\n",
    "for i, masks in enumerate(list_masks_filtered):\n",
    "    masks_filtered_ellipse = fa.RemoveEllipses(masks, min_axis=0.5, max_axis=1.5).remove_ellipses()\n",
    "    list_masks_filtered_ellipse.append(masks_filtered_ellipse)"
   ]
  },
  {
   "cell_type": "code",
   "execution_count": null,
   "metadata": {},
   "outputs": [],
   "source": [
    "# label cell based on cell characteristics\n",
    "\n"
   ]
  },
  {
   "cell_type": "code",
   "execution_count": null,
   "metadata": {},
   "outputs": [],
   "source": []
  },
  {
   "cell_type": "code",
   "execution_count": null,
   "metadata": {},
   "outputs": [],
   "source": []
  },
  {
   "cell_type": "code",
   "execution_count": null,
   "metadata": {},
   "outputs": [],
   "source": []
  }
 ],
 "metadata": {
  "kernelspec": {
   "display_name": "FISH_processing",
   "language": "python",
   "name": "python3"
  },
  "language_info": {
   "codemirror_mode": {
    "name": "ipython",
    "version": 3
   },
   "file_extension": ".py",
   "mimetype": "text/x-python",
   "name": "python",
   "nbconvert_exporter": "python",
   "pygments_lexer": "ipython3",
   "version": "3.8.12"
  }
 },
 "nbformat": 4,
 "nbformat_minor": 2
}
