{
 "cells": [
  {
   "cell_type": "markdown",
   "metadata": {},
   "source": [
    "# FISH - Pipeline - A Python interactive notebook to process FISH data\n",
    "\n",
    "```\n",
    "Author: Luis U. Aguilera\n",
    "Contact Info: luis.aguilera@colostate.edu\n",
    "\n",
    "Copyright (c) 2021 Munsky Group \n",
    "Colorado State University \n",
    "Licensed under BSD 3-Clause License.\n",
    "```"
   ]
  },
  {
   "cell_type": "code",
   "execution_count": null,
   "metadata": {},
   "outputs": [],
   "source": [
    "# Importing libraries\n",
    "import sys\n",
    "import matplotlib.pyplot as plt \n",
    "import numpy as np \n",
    "import pathlib\n",
    "import warnings\n",
    "import shutil\n",
    "import zipfile\n",
    "import os\n",
    "import re\n",
    "import seaborn as sns\n",
    "import pandas as pd\n",
    "import glob\n",
    "import tifffile\n",
    "from skimage.io import imread\n",
    "warnings.filterwarnings(\"ignore\")"
   ]
  },
  {
   "cell_type": "code",
   "execution_count": null,
   "metadata": {},
   "outputs": [],
   "source": [
    "# Defining directories\n",
    "current_dir = pathlib.Path().absolute()\n",
    "fa_dir = current_dir.parents[0].joinpath('src')\n",
    "\n",
    "# Importing fish_analyses module\n",
    "sys.path.append(str(fa_dir))\n",
    "import fish_analyses as fa"
   ]
  },
  {
   "cell_type": "markdown",
   "metadata": {},
   "source": [
    "----\n",
    "\n",
    "# Parameters defined by the user \n",
    "\n",
    "----"
   ]
  },
  {
   "cell_type": "markdown",
   "metadata": {},
   "source": [
    "### Paths to images"
   ]
  },
  {
   "cell_type": "code",
   "execution_count": null,
   "metadata": {},
   "outputs": [],
   "source": [
    "# Path to credentials\n",
    "desktop_path = pathlib.Path.home()/'Desktop'\n",
    "path_to_config_file = desktop_path.joinpath('config.yml')"
   ]
  },
  {
   "cell_type": "code",
   "execution_count": null,
   "metadata": {},
   "outputs": [],
   "source": [
    "### Remote directories\n",
    "\n",
    "#data_folder_path =pathlib.Path('smFISH_images/Terminator_smFISH_images/unprocessed')\n",
    "data_folder_path =pathlib.Path('Users/Michael/LowConfluency3Color_200R100G120VMS_FLI/Full resolution')\n",
    "#data_folder_path =pathlib.Path('/Users/Michael/MediumConfluency3Color_200MS_H/Full resolution')\n",
    "#data_folder_path =pathlib.Path('/Users/Michael/MediumConfluency3Color_100MS_F_Repeat/Full resolution')\n",
    "path_to_masks_dir = None   # full path to a zip file"
   ]
  },
  {
   "cell_type": "code",
   "execution_count": null,
   "metadata": {},
   "outputs": [],
   "source": [
    "download_data_from_NAS = True\n",
    "send_data_to_NAS=False"
   ]
  },
  {
   "cell_type": "code",
   "execution_count": null,
   "metadata": {},
   "outputs": [],
   "source": [
    "# converting the data to the standard tensor.\n",
    "num_z = 15\n",
    "num_channels = 3\n",
    "number_of_independent_fov = 49 # 7*7 grid\n",
    "\n",
    "# If only a section  of z-slices is needed to process pass it as a list of integers with consecutive values. If all z-slices are required use None.\n",
    "list_selected_z_slices = [6,7,8] # subsection of slices to process.\n"
   ]
  },
  {
   "cell_type": "code",
   "execution_count": null,
   "metadata": {},
   "outputs": [],
   "source": [
    "# Parameters fo cell segmentation \n",
    "channels_with_cytosol =  [1]             # list or int indicating the channels where the cytosol is detectable\n",
    "channels_with_nucleus = [2]          # list or int indicating the channels where the nucleus is detectable\n",
    "channels_with_FISH = [0]          # list or int with the channels with FISH spots that are used for the quantification\n",
    "diameter_nucleus = 120                # approximate nucleus size in pixels\n",
    "diameter_cytosol = 200                # approximate cytosol size in pixels\n",
    "\n",
    "# Parameters for FISH detection\n",
    "voxel_size_z = 500    #300                      # Microscope conversion px to nanometers in the z axis.\n",
    "voxel_size_yx = 103   #103   #103                 # Microscope conversion px to nanometers in the xy axis.\n",
    "psf_z = 350      #350                           # Theoretical size of the PSF emitted by a [rna] spot in the z plan, in nanometers.\n",
    "psf_yx = 120      #150                           # Theoretical size of the PSF emitted by a [rna] spot in the yx plan, in nanometers.\n",
    "list_voxels =  [ voxel_size_z,voxel_size_yx ]\n",
    "list_psfs =  [psf_z, psf_yx ]\n",
    "\n",
    "\n",
    "# Cluster Detection\n",
    "minimum_spots_cluster = 2                  # The number of spots in a neighborhood for a point to be considered as a core point (from which a cluster is expanded). This includes the point itself.\n",
    "show_plots = False                          # Flag to display plots\n",
    "optimization_segmentation_method = None    # optimization_segmentation_method = 'intensity_segmentation' 'z_slice_segmentation', 'gaussian_filter_segmentation' ,  'center_slice', None\n",
    "save_all_images = False                     # If true, it shows a all planes for the FISH plot detection. \n",
    "threshold_for_spot_detection = None       # Intensity threshold to detect  spots. If None, it will automatically detect the spots."
   ]
  },
  {
   "cell_type": "code",
   "execution_count": null,
   "metadata": {},
   "outputs": [],
   "source": []
  },
  {
   "cell_type": "code",
   "execution_count": null,
   "metadata": {},
   "outputs": [],
   "source": [
    "# names for final folders\n",
    "if (threshold_for_spot_detection is None):\n",
    "    name_final_folder = data_folder_path.name.replace(\" \", \"\")  +'___nuc_' + str(diameter_nucleus) +'__cyto_' + str(diameter_cytosol) +'__psfz_' + str(psf_z) +'__psfyx_' + str(psf_yx)+'__cs_'+str(minimum_spots_cluster)+'__ts_auto' \n",
    "else:\n",
    "    name_final_folder = data_folder_path.name.replace(\" \", \"\")  +'___nuc_' + str(diameter_nucleus) +'__cyto_' + str(diameter_cytosol) +'__psfz_' + str(psf_z) +'__psfyx_' + str(psf_yx)+'__cs_'+str(minimum_spots_cluster)+'__ts_'+str(threshold_for_spot_detection)"
   ]
  },
  {
   "cell_type": "markdown",
   "metadata": {},
   "source": [
    "## Connecting to NAS and Downloading data"
   ]
  },
  {
   "cell_type": "code",
   "execution_count": null,
   "metadata": {},
   "outputs": [],
   "source": [
    "def download_data_NAS(path_to_config_file,data_folder_path, path_to_masks_dir,share_name,timeout=200):\n",
    "    # Downloading data from NAS\n",
    "    local_folder_path = pathlib.Path().absolute().joinpath('temp_' + data_folder_path.name.replace(\" \", \"\") )\n",
    "    fa.NASConnection(path_to_config_file,share_name = share_name).copy_files(data_folder_path, local_folder_path,timeout=timeout)\n",
    "    local_data_dir = local_folder_path     # path to a folder with images.\n",
    "    # Downloading masks from NAS\n",
    "    if not (path_to_masks_dir is None):\n",
    "        local_folder_path_masks = pathlib.Path().absolute().joinpath( path_to_masks_dir.stem  )\n",
    "        zip_file_path = local_folder_path_masks.joinpath( path_to_masks_dir.stem +'.zip')\n",
    "        print(zip_file_path)\n",
    "        fa.NASConnection(path_to_config_file,share_name = share_name).download_file(path_to_masks_dir, local_folder_path_masks,timeout=timeout)\n",
    "        # Unzip downloaded images and update mask directory\n",
    "        file_to_unzip = zipfile.ZipFile(str(zip_file_path)) # opens zip\n",
    "        # Iterates for each file in zip file\n",
    "        for file_in_zip in file_to_unzip.namelist():\n",
    "            # Extracts data to specific folder\n",
    "            file_to_unzip.extract(file_in_zip,local_folder_path_masks)\n",
    "        # Closes the zip file\n",
    "        file_to_unzip.close()\n",
    "        # removes the original zip file\n",
    "        os.remove(zip_file_path)\n",
    "        masks_dir = local_folder_path_masks\n",
    "    else:\n",
    "        masks_dir = None\n",
    "    return local_data_dir, masks_dir"
   ]
  },
  {
   "cell_type": "code",
   "execution_count": null,
   "metadata": {},
   "outputs": [],
   "source": [
    "# Download data from NAS\n",
    "if download_data_from_NAS == True:\n",
    "    share_name = 'share'\n",
    "    local_data_dir, masks_dir= download_data_NAS(path_to_config_file,data_folder_path, path_to_masks_dir,share_name,timeout=200)\n",
    "else:\n",
    "    local_data_dir = data_folder_path \n",
    "    masks_dir = path_to_masks_dir "
   ]
  },
  {
   "cell_type": "code",
   "execution_count": null,
   "metadata": {},
   "outputs": [],
   "source": [
    "# Detecting if images need to be merged\n",
    "list_images, path_files, list_files_names, number_images = fa.ReadImages(directory= local_data_dir).read()\n",
    "# Printing image properties\n",
    "print('Image shape: ', list_images[0].shape , '\\n')\n",
    "print('Number of images: ',number_images , '\\n')\n",
    "print('Local directory with images: ', local_data_dir, '\\n')\n",
    "#del list_images\n",
    "microscope_image_stack = list_images[0]    \n",
    "xy_size = microscope_image_stack.shape[1]\n"
   ]
  },
  {
   "cell_type": "code",
   "execution_count": null,
   "metadata": {},
   "outputs": [],
   "source": [
    "# creating a subdirectory to store separated images\n",
    "separated_files_path = local_data_dir.joinpath('separated_images')\n",
    "if not os.path.exists(str(separated_files_path)):\n",
    "    os.makedirs(str(separated_files_path))\n",
    "separated_files_path"
   ]
  },
  {
   "cell_type": "code",
   "execution_count": null,
   "metadata": {},
   "outputs": [],
   "source": [
    "list_separated_images = []\n",
    "counter = 0\n",
    "for i in range(number_of_independent_fov):\n",
    "    temp_image = np.zeros((num_z, xy_size, xy_size, num_channels))\n",
    "    for z in range(num_z):\n",
    "        for ch in range(num_channels):\n",
    "            temp_image[z,:,:,ch] =  microscope_image_stack[counter] # ZYXC\n",
    "            counter+=1\n",
    "    list_separated_images.append(temp_image)\n",
    "    del temp_image\n"
   ]
  },
  {
   "cell_type": "code",
   "execution_count": null,
   "metadata": {},
   "outputs": [],
   "source": [
    "for i in range(number_of_independent_fov):\n",
    "    if not (list_selected_z_slices is None):\n",
    "        temp_image= list_separated_images[i][list_selected_z_slices, :,:,:]\n",
    "    else:\n",
    "        temp_image= list_separated_images[i][:, :,:,:]\n",
    "    file_name_merged_image = 'image_grid_'+str(i)+'.tif'\n",
    "    tifffile.imsave(separated_files_path.joinpath(file_name_merged_image), temp_image, metadata={'axes': 'ZYXC'})\n",
    "    "
   ]
  },
  {
   "cell_type": "code",
   "execution_count": null,
   "metadata": {},
   "outputs": [],
   "source": [
    "# Detecting if images need to be merged\n",
    "list_images, path_files, list_files_names, number_images = fa.ReadImages(directory= separated_files_path).read()\n",
    "# Printing image properties\n",
    "print('Image shape: ', list_images[0].shape , '\\n')\n",
    "print('Number of images: ',number_images , '\\n')\n",
    "print('Local directory with images: ', local_data_dir, '\\n')\n",
    "del list_images\n"
   ]
  },
  {
   "cell_type": "code",
   "execution_count": null,
   "metadata": {},
   "outputs": [],
   "source": [
    "# create results folder\n",
    "if not os.path.exists(str('analysis_'+ name_final_folder)):\n",
    "    os.makedirs(str('analysis_'+ name_final_folder))    "
   ]
  },
  {
   "cell_type": "markdown",
   "metadata": {},
   "source": [
    "----\n",
    "\n",
    "## Running the pipeline\n",
    "\n",
    "----"
   ]
  },
  {
   "cell_type": "code",
   "execution_count": null,
   "metadata": {},
   "outputs": [],
   "source": [
    "dataframe_FISH,_,_,_ = fa.PipelineFISH(separated_files_path, channels_with_cytosol, channels_with_nucleus, channels_with_FISH,diameter_nucleus, diameter_cytosol, minimum_spots_cluster, masks_dir=masks_dir,  list_voxels=list_voxels, list_psfs=list_psfs, show_plots=show_plots, file_name_str =data_folder_path.name.replace(\" \", \"\") , optimization_segmentation_method = optimization_segmentation_method,save_all_images=save_all_images,threshold_for_spot_detection=threshold_for_spot_detection ).run()"
   ]
  },
  {
   "cell_type": "code",
   "execution_count": null,
   "metadata": {},
   "outputs": [],
   "source": []
  },
  {
   "cell_type": "code",
   "execution_count": null,
   "metadata": {},
   "outputs": [],
   "source": [
    "def extracting_data_from_df (df,spot_type_selected=0):\n",
    "    number_cells = df['cell_id'].nunique()\n",
    "    # Number of spots\n",
    "    number_of_spots_per_cell = [len( df.loc[  (df['cell_id']==i)  & (df['spot_type']==spot_type_selected) & (df['is_cell_fragmented']!=-1)  ].spot_id) for i in range(0, number_cells)]\n",
    "    # Number of spots in cytosol\n",
    "    number_of_spots_per_cell_cytosol = [len( df.loc[  (df['cell_id']==i) & (df['is_nuc']==False) & (df['spot_type']==spot_type_selected) & (df['is_cell_fragmented']!=-1) ].spot_id) for i in range(0, number_cells)]\n",
    "    # Number of spots in nucleus\n",
    "    number_of_spots_per_cell_nucleus = [len( df.loc[  (df['cell_id']==i) &  (df['is_cluster']==False) & (df['is_nuc']==True) & (df['spot_type']==spot_type_selected)  & (df['is_cell_fragmented']!=-1)   ].spot_id) for i in range(0, number_cells)]\n",
    "    # Number of TS per cell.\n",
    "    number_of_TS_per_cell = [len( df.loc[  (df['cell_id']==i) &  (df['is_cluster']==True) & (df['is_nuc']==True) & (df['spot_type']==spot_type_selected) & (df['cluster_size'] >=minimum_spots_cluster) & (df['is_cell_fragmented']!=-1) ].spot_id) for i in range(0, number_cells)]\n",
    "    # Number of RNA in a TS\n",
    "    ts_size =  df.loc[   (df['is_cluster']==True) & (df['is_nuc']==True)  & (df['spot_type']==spot_type_selected) & (df['is_cell_fragmented']!=-1)  ].cluster_size.values\n",
    "    # Size of each cell\n",
    "    cell_size = [df.loc[df['cell_id']==i].cell_area_px.values[0] for i in range(0, number_cells)]\n",
    "    return number_of_spots_per_cell,number_of_spots_per_cell_cytosol, number_of_spots_per_cell_nucleus,number_of_TS_per_cell,ts_size,cell_size "
   ]
  },
  {
   "cell_type": "code",
   "execution_count": null,
   "metadata": {},
   "outputs": [],
   "source": [
    "# Plotting intensity distributions\n",
    "plt.style.use('ggplot')  # ggplot  #default\n",
    "def plot_probability_distribution(data_to_plot, numBins = 10, title='', xlab='', ylab='', color='r', subplots=False, show_grid=True, fig=plt.figure() ):\n",
    "  n, bins, _ = plt.hist(data_to_plot,bins=numBins,density=False,color=color)\n",
    "  plt.xlabel(xlab, size=16)\n",
    "  plt.ylabel(ylab, size=16)\n",
    "  plt.grid(show_grid)\n",
    "  plt.text(bins[(len(bins)//2)],(np.amax(n)//2).astype(int),'mean = '+str(round( np.mean(data_to_plot) ,1) ), fontsize=14,bbox=dict(facecolor='w', alpha=0.5) )\n",
    "  plt.title(title, size=16)\n",
    "  return (f)"
   ]
  },
  {
   "cell_type": "code",
   "execution_count": null,
   "metadata": {},
   "outputs": [],
   "source": [
    "\n",
    "# Extracting data from data frame\n",
    "for i, channel in enumerate(channels_with_FISH):\n",
    "    number_of_spots_per_cell,number_of_spots_per_cell_cytosol, number_of_spots_per_cell_nucleus,number_of_TS_per_cell,ts_size,cell_size = extracting_data_from_df (df=dataframe_FISH,spot_type_selected=i)\n",
    "    #Plotting\n",
    "    fig_size = (30, 7)\n",
    "    f = plt.figure(figsize=fig_size)\n",
    "    ylab='Frequency Count'  \n",
    "    # adding subplots\n",
    "    f.add_subplot(1,5,1) \n",
    "    plot_probability_distribution( number_of_spots_per_cell, numBins=20,  title='Total Num Spots per cell', xlab='Number', ylab=ylab, fig=f, color='orangered')\n",
    "    f.add_subplot(1,5,2) \n",
    "    plot_probability_distribution(number_of_spots_per_cell_cytosol,   numBins=20,  title='Num Spots in Cytosol', xlab='Number', ylab=ylab, fig=f, color='orangered')\n",
    "    f.add_subplot(1,5,3) \n",
    "    plot_probability_distribution(number_of_spots_per_cell_nucleus, numBins=20,    title='Num Spots in Nucleus', xlab='Number', ylab=ylab, fig=f, color='orangered')\n",
    "    f.add_subplot(1,5,4) \n",
    "    plot_probability_distribution(ts_size, numBins=20,    title='Clusters in nucleus', xlab='RNA per Cluster', ylab=ylab, fig=f, color='orangered')\n",
    "    f.add_subplot(1,5,5) \n",
    "    plot_probability_distribution(number_of_TS_per_cell ,  numBins=20, title='Number TS per cell', xlab='TS (>= '+str(minimum_spots_cluster)+' rna)', ylab=ylab, fig=f, color='orangered')\n",
    "    plt.savefig('plots_'+data_folder_path.name.replace(\" \", \"\")  +'__'+str(i)+'.png')\n",
    "    plt.show()\n",
    "    #Figure_path \n",
    "    pathlib.Path().absolute().joinpath('plots_'+ data_folder_path.name.replace(\" \", \"\") +'__'+str(i)+'.png').rename(pathlib.Path().absolute().joinpath(str('analysis_'+ name_final_folder),'plots_'+ data_folder_path.name.replace(\" \", \"\") +'__'+str(i)+'.png'))"
   ]
  },
  {
   "cell_type": "code",
   "execution_count": null,
   "metadata": {},
   "outputs": [],
   "source": [
    "# Plotting Cell size vs \n",
    "df_join_distribution = pd.DataFrame({\"number_of_spots_per_cell\":number_of_spots_per_cell,\"cell_size\":cell_size})\n",
    "sns.jointplot(data=df_join_distribution, x=\"number_of_spots_per_cell\", y=\"cell_size\",kind='scatter',color=\"#003f9a\") #,kind='hex','resid','kde'"
   ]
  },
  {
   "cell_type": "code",
   "execution_count": null,
   "metadata": {},
   "outputs": [],
   "source": [
    "\n",
    "#metadata_path\n",
    "pathlib.Path().absolute().joinpath('metadata_'+ data_folder_path.name.replace(\" \", \"\")  +'.txt').rename(pathlib.Path().absolute().joinpath(str('analysis_'+ name_final_folder),'metadata_'+ data_folder_path.name +'.txt'))\n",
    "#dataframe_path \n",
    "pathlib.Path().absolute().joinpath('dataframe_' + data_folder_path.name.replace(\" \", \"\")  +'.csv').rename(pathlib.Path().absolute().joinpath(str('analysis_'+ name_final_folder),'dataframe_'+ data_folder_path.name +'.csv'))\n",
    "#pdf_path \n",
    "pathlib.Path().absolute().joinpath('pdf_report_' + data_folder_path.name.replace(\" \", \"\")  +'.pdf').rename(pathlib.Path().absolute().joinpath(str('analysis_'+ name_final_folder    ),'pdf_report_'+ data_folder_path.name +'.pdf'))"
   ]
  },
  {
   "cell_type": "code",
   "execution_count": null,
   "metadata": {},
   "outputs": [],
   "source": [
    "# Writing masks to NAS\n",
    "if path_to_masks_dir == None: \n",
    "    mask_folder_created_by_pipeline = 'masks_'+ data_folder_path.name.replace(\" \", \"\")  # default name by pipeline\n",
    "    name_final_masks = data_folder_path.name.replace(\" \", \"\") +'___nuc_' + str(diameter_nucleus) + '__cyto_' + str(diameter_cytosol) \n",
    "    mask_dir_complete_name = 'masks_'+ name_final_masks # final name for masks dir\n",
    "    shutil.move(mask_folder_created_by_pipeline, mask_dir_complete_name ) # remaing the masks dir\n",
    "else: \n",
    "    mask_dir_complete_name = masks_dir.name\n",
    "    \n",
    "if (send_data_to_NAS == True) and (path_to_masks_dir == None) :\n",
    "    shutil.make_archive( mask_dir_complete_name , 'zip', pathlib.Path().absolute().joinpath(mask_dir_complete_name))\n",
    "    local_file_to_send_to_NAS = pathlib.Path().absolute().joinpath(mask_dir_complete_name+'.zip')\n",
    "    fa.NASConnection(path_to_config_file,share_name = share_name).write_files_to_NAS(local_file_to_send_to_NAS, data_folder_path)\n",
    "    os.remove(pathlib.Path().absolute().joinpath(mask_dir_complete_name+'.zip'))"
   ]
  },
  {
   "cell_type": "code",
   "execution_count": null,
   "metadata": {},
   "outputs": [],
   "source": [
    "# Writing analyses data to NAS\n",
    "analysis_folder_name = 'analysis_'+ name_final_folder\n",
    "if send_data_to_NAS == True:\n",
    "    shutil.make_archive(analysis_folder_name,'zip',pathlib.Path().absolute().joinpath(analysis_folder_name))\n",
    "    local_file_to_send_to_NAS = pathlib.Path().absolute().joinpath(analysis_folder_name+'.zip')\n",
    "    fa.NASConnection(path_to_config_file,share_name = share_name).write_files_to_NAS(local_file_to_send_to_NAS, data_folder_path)\n",
    "    os.remove(pathlib.Path().absolute().joinpath(analysis_folder_name+'.zip'))"
   ]
  },
  {
   "cell_type": "code",
   "execution_count": null,
   "metadata": {},
   "outputs": [],
   "source": [
    "# Moving all results to \"analyses\" folder\n",
    "if not os.path.exists(str('analyses')):\n",
    "    os.makedirs(str('analyses'))\n",
    "\n",
    "# Subfolder name\n",
    "final_dir_name =pathlib.Path().absolute().joinpath('analyses', analysis_folder_name)\n",
    "\n",
    "# Removing directory if exist\n",
    "if os.path.exists(str(final_dir_name)):\n",
    "    shutil.rmtree(str(final_dir_name))\n",
    "\n",
    "# Moving results to a subdirectory in 'analyses' folder\n",
    "pathlib.Path().absolute().joinpath(analysis_folder_name).rename(final_dir_name )\n",
    "\n",
    "# Moving masks to a subdirectory in 'analyses' folder\n",
    "if (download_data_from_NAS == True) or (path_to_masks_dir == None):\n",
    "    final_mask_dir_name = pathlib.Path().absolute().joinpath('analyses', mask_dir_complete_name)\n",
    "    if os.path.exists(str(final_mask_dir_name)):\n",
    "        shutil.rmtree(str(final_mask_dir_name))\n",
    "    pathlib.Path().absolute().joinpath(mask_dir_complete_name).rename(final_mask_dir_name )\n",
    "\n",
    "# Delete local temporal files\n",
    "temp_results_folder_name = pathlib.Path().absolute().joinpath('temp_results_' + data_folder_path.name.replace(\" \", \"\") )\n",
    "shutil.rmtree(temp_results_folder_name)\n",
    "\n",
    "if (download_data_from_NAS == True):\n",
    "    # Delete temporal images downloaded from NAS\n",
    "    shutil.rmtree(local_data_dir)"
   ]
  },
  {
   "cell_type": "code",
   "execution_count": null,
   "metadata": {},
   "outputs": [],
   "source": []
  }
 ],
 "metadata": {
  "kernelspec": {
   "display_name": "Python 3.8.12 ('FISH_processing')",
   "language": "python",
   "name": "python3"
  },
  "language_info": {
   "codemirror_mode": {
    "name": "ipython",
    "version": 3
   },
   "file_extension": ".py",
   "mimetype": "text/x-python",
   "name": "python",
   "nbconvert_exporter": "python",
   "pygments_lexer": "ipython3",
   "version": "3.8.12"
  },
  "orig_nbformat": 4,
  "vscode": {
   "interpreter": {
    "hash": "f123aec772437107f61ad48bdc3e74202fc8f652e2fa44805dd8339e0a72f809"
   }
  }
 },
 "nbformat": 4,
 "nbformat_minor": 2
}
