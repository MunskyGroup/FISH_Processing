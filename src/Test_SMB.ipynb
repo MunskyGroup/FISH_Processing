{
 "cells": [
  {
   "cell_type": "code",
   "execution_count": 1,
   "metadata": {},
   "outputs": [],
   "source": [
    "from smb.SMBConnection import SMBConnection\n",
    "import socket\n",
    "import pathlib\n",
    "import yaml"
   ]
  },
  {
   "cell_type": "code",
   "execution_count": 2,
   "metadata": {},
   "outputs": [],
   "source": [
    "# loading credentials\n",
    "desktop = pathlib.Path.home() / 'Desktop'\n",
    "conf = yaml.safe_load(open(str(desktop)+'/config.yml'))\n",
    "usr = conf['user']['username']\n",
    "pwd = conf['user']['password']\n",
    "remote_address = conf['user']['remote_address']\n",
    "domain = conf['user']['domain']"
   ]
  },
  {
   "cell_type": "code",
   "execution_count": 3,
   "metadata": {},
   "outputs": [],
   "source": [
    "# LOCAL NAME\n",
    "local_name = socket.gethostbyname(socket.gethostname())\n",
    "# SERVER NAME\n",
    "share_name = 'share'\n",
    "server_name, alias, addresslist = socket.gethostbyaddr(remote_address)"
   ]
  },
  {
   "cell_type": "code",
   "execution_count": 4,
   "metadata": {},
   "outputs": [
    {
     "name": "stdout",
     "output_type": "stream",
     "text": [
      "True\n",
      ".\n",
      "..\n",
      "Capture 3_XY1617218969_Z00_T0_C1.tif\n",
      "Capture 5_XY1617219370_Z00_T0_C0.tif\n",
      "Capture 2_XY1617218490_Z00_T0_C0.log\n",
      "Sorted\n",
      "Capture 1_XY1617218260_Z00_T0_C0.tif\n",
      "Capture 4_XY1617219159_Z00_T0_C2.tif\n",
      "Capture 2_XY1617218490_Z00_T0_C1.tif\n",
      "Capture 3_XY1617218969_Z00_T0_C0.log\n",
      "Capture 1_XY1617218260_Z00_T0_C1.tif\n",
      "Capture 3_XY1617218969_Z00_T0_C0.tif\n",
      "Capture 5_XY1617219370_Z00_T0_C1.tif\n",
      "Capture 5_XY1617219370_Z00_T0_C0.log\n",
      "Capture 2_XY1617218490_Z00_T0_C0.tif\n",
      "Capture 1_XY1617218260_Z00_T0_C0.log\n",
      "Capture 4_XY1617219159_Z00_T0_C0.tif\n",
      "Capture 1_XY1617218260_Z00_T0_C2.tif\n",
      "Capture 5_XY1617219370_Z00_T0_C2.tif\n",
      "Capture 4_XY1617219159_Z00_T0_C1.tif\n",
      "Capture 2_XY1617218490_Z00_T0_C2.tif\n",
      "Capture 3_XY1617218969_Z00_T0_C2.tif\n",
      "Capture 4_XY1617219159_Z00_T0_C0.log\n"
     ]
    }
   ],
   "source": [
    "conn = SMBConnection(username=usr, password=pwd, domain=domain, my_name=local_name, remote_name=server_name)\n",
    "# Connecting\n",
    "is_connected = conn.connect(remote_address,timeout=60)\n",
    "print(is_connected)\n",
    "# Listing all folders\n",
    "folders = conn.listPath(share_name, '/Test/20210331/GAPDH_Introns-cy3')  # address to the folder to list\n",
    "for folder in folders:\n",
    "    print (folder.filename)\n",
    "# Closing the connection\n",
    "conn.close()"
   ]
  },
  {
   "cell_type": "code",
   "execution_count": null,
   "metadata": {},
   "outputs": [],
   "source": []
  },
  {
   "cell_type": "code",
   "execution_count": null,
   "metadata": {},
   "outputs": [],
   "source": []
  },
  {
   "cell_type": "code",
   "execution_count": 5,
   "metadata": {},
   "outputs": [],
   "source": [
    "# https://github.com/humberry/smb-example/blob/master/smb-test.py"
   ]
  }
 ],
 "metadata": {
  "interpreter": {
   "hash": "40d3a090f54c6569ab1632332b64b2c03c39dcf918b08424e98f38b5ae0af88f"
  },
  "kernelspec": {
   "display_name": "Python 3.8.3 64-bit ('base': conda)",
   "name": "python3"
  },
  "language_info": {
   "codemirror_mode": {
    "name": "ipython",
    "version": 3
   },
   "file_extension": ".py",
   "mimetype": "text/x-python",
   "name": "python",
   "nbconvert_exporter": "python",
   "pygments_lexer": "ipython3",
   "version": "3.8.3"
  }
 },
 "nbformat": 4,
 "nbformat_minor": 5
}
