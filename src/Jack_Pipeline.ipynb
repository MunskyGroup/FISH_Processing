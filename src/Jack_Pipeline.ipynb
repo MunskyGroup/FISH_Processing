{
 "cells": [
  {
   "cell_type": "code",
   "execution_count": null,
   "metadata": {},
   "outputs": [],
   "source": []
  },
  {
   "cell_type": "markdown",
   "metadata": {},
   "source": [
    "# Prepare Data For Classes"
   ]
  },
  {
   "cell_type": "code",
   "execution_count": null,
   "metadata": {},
   "outputs": [],
   "source": []
  },
  {
   "cell_type": "markdown",
   "metadata": {},
   "source": [
    "# Create Objects"
   ]
  },
  {
   "cell_type": "code",
   "execution_count": null,
   "metadata": {},
   "outputs": [],
   "source": []
  },
  {
   "cell_type": "markdown",
   "metadata": {},
   "source": [
    "#### Microscope Object"
   ]
  },
  {
   "cell_type": "code",
   "execution_count": null,
   "metadata": {},
   "outputs": [],
   "source": []
  },
  {
   "cell_type": "markdown",
   "metadata": {},
   "source": [
    "#### Pipeline Object"
   ]
  },
  {
   "cell_type": "code",
   "execution_count": null,
   "metadata": {},
   "outputs": [],
   "source": []
  },
  {
   "cell_type": "markdown",
   "metadata": {},
   "source": [
    "#### Experiment Object"
   ]
  },
  {
   "cell_type": "code",
   "execution_count": null,
   "metadata": {},
   "outputs": [],
   "source": []
  },
  {
   "cell_type": "markdown",
   "metadata": {},
   "source": [
    "# Pipeline"
   ]
  },
  {
   "cell_type": "markdown",
   "metadata": {},
   "source": [
    "## PrePipeline"
   ]
  },
  {
   "cell_type": "markdown",
   "metadata": {},
   "source": [
    "#### Trim Z Slices"
   ]
  },
  {
   "cell_type": "code",
   "execution_count": null,
   "metadata": {},
   "outputs": [],
   "source": []
  },
  {
   "cell_type": "markdown",
   "metadata": {},
   "source": [
    "#### Calculate Sharpness"
   ]
  },
  {
   "cell_type": "code",
   "execution_count": null,
   "metadata": {},
   "outputs": [],
   "source": []
  },
  {
   "cell_type": "markdown",
   "metadata": {},
   "source": [
    "#### Calculate Global Threshold"
   ]
  },
  {
   "cell_type": "code",
   "execution_count": null,
   "metadata": {},
   "outputs": [],
   "source": []
  },
  {
   "cell_type": "markdown",
   "metadata": {},
   "source": [
    "## Main Stream\n",
    "<p> consist of cycling through image 1 at a time </p>"
   ]
  },
  {
   "cell_type": "code",
   "execution_count": null,
   "metadata": {},
   "outputs": [],
   "source": [
    "# Cell Segmentation\n",
    "\n",
    "\n",
    "# Spot Detection\n",
    "\n",
    "\n",
    "# Prepare Data for Final Output"
   ]
  },
  {
   "cell_type": "markdown",
   "metadata": {},
   "source": [
    "#### "
   ]
  },
  {
   "cell_type": "code",
   "execution_count": null,
   "metadata": {},
   "outputs": [],
   "source": [
    "# Assuming that the objects have been initiallized properly, \n",
    "# here are the steps and the data passed\n",
    "\n",
    "# Utilities.trim_zstacks(experiment, pipelinesettings)\n",
    "#      This is going to check if trim bottom and trim top zs are not none\n",
    "#      and if they are not, it will trim the zstacks accordingly\n",
    "#      This will also update the list_images in the experiment object\n",
    "\n",
    "# Utilities.calculate_sharpness(experiment, pipelinesettings)\n",
    "#      This will first check pipelinesettings for the sharpness threshold exists\n",
    "#      then will calculate the sharpness of each image in the experiment\n",
    "#      and update a list of sharpness metrics and will cleave the list_images\n",
    "#      based on a sharpness threshold in the pipelinesettings\n",
    "#      The list of sharpness will be returned as well as stored in the experiment object\n",
    "\n",
    "# from here there will be a for loop over the images in the experiment object, to do this a function set current image will be used\n",
    "# Experiment.set_current_image(i) -> image as well as create a self.current_image in the experiment object\n",
    "\n",
    "# BigFISH(Experiment, PipelineSettings, MicroscopeSettings).detect() -> [spotDetectionCSV, clusterDetectionCSV], rna_filtered, threshold\n",
    "#     This will establish a global threshold for the experiment by running a number of images through\n",
    "#     the spot detection pipeline and calculating the threshold based on the number of spots detected\n",
    "#     This data will be stored a prelimanry thershold in the PipelineSettings and population parameters\n",
    "#     such as min threshold, max threshold, and average thereshold, as well as detected spots will be meaaured\n",
    "\n",
    "# CellSegmentation(Experiment, PipelineSettings, MicroscopeSettings).detect() -> masks_complete_cells, masks_nuclei, masks_cytosol_no_nuclei\n",
    "#     This will segment the cells based on the images in the experiment and the pipeline settings\n",
    "#     The Pipeline will test if the segmentation is successful by checking the number of cells detected\n",
    "#     and will update a valid_segmentation flag in pipeline settings for each image,\n",
    "#     The masks for the complete cells, nuclei, and cytosol will be returned to the experiment object\n",
    "#     As well as a count\n",
    "\n",
    "# SpotDetection(Experiment, PipelineSettings, MicroscopeSettings).detect() -> [spotDetectionCSV, clusterDetectionCSV], rna_filtered, threshold\n",
    "#     This will detect the spots in the images based on the experiment and the pipeline settings\n",
    "#     The pipeline will test if the spot detection is successful by checking the number of spots detected\n",
    "#     and will update a valid_spot_detection flag in the pipeline settings\n",
    "#     The spot detection data will be returned as well as stored in the experiment object\n",
    "\n",
    "\n"
   ]
  }
 ],
 "metadata": {
  "language_info": {
   "name": "python"
  }
 },
 "nbformat": 4,
 "nbformat_minor": 2
}
