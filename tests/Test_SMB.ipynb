{
 "cells": [
  {
   "cell_type": "code",
   "execution_count": 1,
   "metadata": {},
   "outputs": [],
   "source": [
    "from smb.SMBConnection import SMBConnection\n",
    "import socket\n",
    "import pathlib\n",
    "import yaml\n",
    "import os\n",
    "import shutil"
   ]
  },
  {
   "cell_type": "code",
   "execution_count": 2,
   "metadata": {},
   "outputs": [],
   "source": [
    "# Path to credentials\n",
    "desktop_path = pathlib.Path.home()/'Desktop'\n",
    "path_to_config_file = desktop_path.joinpath('config.yml')"
   ]
  },
  {
   "cell_type": "code",
   "execution_count": 3,
   "metadata": {},
   "outputs": [],
   "source": [
    "# Loading credentials\n",
    "conf = yaml.safe_load(open(str(path_to_config_file)))\n",
    "usr = conf['user']['username']\n",
    "pwd = conf['user']['password']\n",
    "remote_address = conf['user']['remote_address']\n",
    "domain = conf['user']['domain']"
   ]
  },
  {
   "cell_type": "code",
   "execution_count": 4,
   "metadata": {},
   "outputs": [],
   "source": [
    "# LOCAL NAME\n",
    "local_name = socket.gethostbyname(socket.gethostname())\n",
    "# SERVER NAME\n",
    "share_name = 'share'\n",
    "server_name, alias, addresslist = socket.gethostbyaddr(remote_address)"
   ]
  },
  {
   "cell_type": "code",
   "execution_count": 12,
   "id": "a89ac96b",
   "metadata": {},
   "outputs": [
    {
     "ename": "ProtocolError",
     "evalue": "Unknown status value (0xC0000022) in SMB_COM_SESSION_SETUP_ANDX (with extended security)\n==================== SMB Message ====================\nCommand: 0x01 (SMB2_COM_SESSION_SETUP) \nStatus: 0xC0000022 \nFlags: 0x01 \nPID: 15218 \nMID: 2 \nTID: 0 \nData: 9 bytes \nb'090000000000000000' \n==================== SMB Data Packet (hex) ====================\nb'fe534d4240000000220000c00100010001000000000000000200000000000000723b0000000000006784e5fe0000000000000000000000000000000000000000090000000000000000'\n",
     "output_type": "error",
     "traceback": [
      "\u001b[0;31m---------------------------------------------------------------------------\u001b[0m",
      "\u001b[0;31mProtocolError\u001b[0m                             Traceback (most recent call last)",
      "\u001b[0;32m<ipython-input-12-3d55fa2b6e1c>\u001b[0m in \u001b[0;36m<module>\u001b[0;34m\u001b[0m\n\u001b[1;32m      9\u001b[0m \u001b[0;31m#print(server_name)\u001b[0m\u001b[0;34m\u001b[0m\u001b[0;34m\u001b[0m\u001b[0;34m\u001b[0m\u001b[0m\n\u001b[1;32m     10\u001b[0m \u001b[0;31m#is_connected = conn.connect(server_name,timeout=60)\u001b[0m\u001b[0;34m\u001b[0m\u001b[0;34m\u001b[0m\u001b[0;34m\u001b[0m\u001b[0m\n\u001b[0;32m---> 11\u001b[0;31m \u001b[0mis_connected\u001b[0m \u001b[0;34m=\u001b[0m \u001b[0mconn\u001b[0m\u001b[0;34m.\u001b[0m\u001b[0mconnect\u001b[0m\u001b[0;34m(\u001b[0m\u001b[0mserver_name\u001b[0m\u001b[0;34m)\u001b[0m\u001b[0;34m\u001b[0m\u001b[0;34m\u001b[0m\u001b[0m\n\u001b[0m",
      "\u001b[0;32m/opt/anaconda3/envs/FISH_processing/lib/python3.6/site-packages/smb/SMBConnection.py\u001b[0m in \u001b[0;36mconnect\u001b[0;34m(self, ip, port, sock_family, timeout)\u001b[0m\n\u001b[1;32m    125\u001b[0m                 \u001b[0mself\u001b[0m\u001b[0;34m.\u001b[0m\u001b[0monNMBSessionOK\u001b[0m\u001b[0;34m(\u001b[0m\u001b[0;34m)\u001b[0m\u001b[0;34m\u001b[0m\u001b[0;34m\u001b[0m\u001b[0m\n\u001b[1;32m    126\u001b[0m             \u001b[0;32mwhile\u001b[0m \u001b[0mself\u001b[0m\u001b[0;34m.\u001b[0m\u001b[0mauth_result\u001b[0m \u001b[0;32mis\u001b[0m \u001b[0;32mNone\u001b[0m\u001b[0;34m:\u001b[0m\u001b[0;34m\u001b[0m\u001b[0;34m\u001b[0m\u001b[0m\n\u001b[0;32m--> 127\u001b[0;31m                 \u001b[0mself\u001b[0m\u001b[0;34m.\u001b[0m\u001b[0m_pollForNetBIOSPacket\u001b[0m\u001b[0;34m(\u001b[0m\u001b[0mtimeout\u001b[0m\u001b[0;34m)\u001b[0m\u001b[0;34m\u001b[0m\u001b[0;34m\u001b[0m\u001b[0m\n\u001b[0m\u001b[1;32m    128\u001b[0m         \u001b[0;32mfinally\u001b[0m\u001b[0;34m:\u001b[0m\u001b[0;34m\u001b[0m\u001b[0;34m\u001b[0m\u001b[0m\n\u001b[1;32m    129\u001b[0m             \u001b[0mself\u001b[0m\u001b[0;34m.\u001b[0m\u001b[0mis_busy\u001b[0m \u001b[0;34m=\u001b[0m \u001b[0;32mFalse\u001b[0m\u001b[0;34m\u001b[0m\u001b[0;34m\u001b[0m\u001b[0m\n",
      "\u001b[0;32m/opt/anaconda3/envs/FISH_processing/lib/python3.6/site-packages/smb/SMBConnection.py\u001b[0m in \u001b[0;36m_pollForNetBIOSPacket\u001b[0;34m(self, timeout)\u001b[0m\n\u001b[1;32m    640\u001b[0m                     \u001b[0;32mraise\u001b[0m \u001b[0mex\u001b[0m\u001b[0;34m\u001b[0m\u001b[0;34m\u001b[0m\u001b[0m\n\u001b[1;32m    641\u001b[0m \u001b[0;34m\u001b[0m\u001b[0m\n\u001b[0;32m--> 642\u001b[0;31m         \u001b[0mself\u001b[0m\u001b[0;34m.\u001b[0m\u001b[0mfeedData\u001b[0m\u001b[0;34m(\u001b[0m\u001b[0mdata\u001b[0m\u001b[0;34m)\u001b[0m\u001b[0;34m\u001b[0m\u001b[0;34m\u001b[0m\u001b[0m\n\u001b[0m",
      "\u001b[0;32m/opt/anaconda3/envs/FISH_processing/lib/python3.6/site-packages/nmb/base.py\u001b[0m in \u001b[0;36mfeedData\u001b[0;34m(self, data)\u001b[0m\n\u001b[1;32m     52\u001b[0m             \u001b[0;32melif\u001b[0m \u001b[0mlength\u001b[0m \u001b[0;34m>\u001b[0m \u001b[0;36m0\u001b[0m\u001b[0;34m:\u001b[0m\u001b[0;34m\u001b[0m\u001b[0;34m\u001b[0m\u001b[0m\n\u001b[1;32m     53\u001b[0m                 \u001b[0moffset\u001b[0m \u001b[0;34m+=\u001b[0m \u001b[0mlength\u001b[0m\u001b[0;34m\u001b[0m\u001b[0;34m\u001b[0m\u001b[0m\n\u001b[0;32m---> 54\u001b[0;31m                 \u001b[0mself\u001b[0m\u001b[0;34m.\u001b[0m\u001b[0m_processNMBSessionPacket\u001b[0m\u001b[0;34m(\u001b[0m\u001b[0mself\u001b[0m\u001b[0;34m.\u001b[0m\u001b[0mdata_nmb\u001b[0m\u001b[0;34m)\u001b[0m\u001b[0;34m\u001b[0m\u001b[0;34m\u001b[0m\u001b[0m\n\u001b[0m\u001b[1;32m     55\u001b[0m             \u001b[0;32melse\u001b[0m\u001b[0;34m:\u001b[0m\u001b[0;34m\u001b[0m\u001b[0;34m\u001b[0m\u001b[0m\n\u001b[1;32m     56\u001b[0m                 \u001b[0;32mraise\u001b[0m \u001b[0mNMBError\u001b[0m\u001b[0;34m\u001b[0m\u001b[0;34m\u001b[0m\u001b[0m\n",
      "\u001b[0;32m/opt/anaconda3/envs/FISH_processing/lib/python3.6/site-packages/nmb/base.py\u001b[0m in \u001b[0;36m_processNMBSessionPacket\u001b[0;34m(self, packet)\u001b[0m\n\u001b[1;32m     73\u001b[0m     \u001b[0;32mdef\u001b[0m \u001b[0m_processNMBSessionPacket\u001b[0m\u001b[0;34m(\u001b[0m\u001b[0mself\u001b[0m\u001b[0;34m,\u001b[0m \u001b[0mpacket\u001b[0m\u001b[0;34m)\u001b[0m\u001b[0;34m:\u001b[0m\u001b[0;34m\u001b[0m\u001b[0;34m\u001b[0m\u001b[0m\n\u001b[1;32m     74\u001b[0m         \u001b[0;32mif\u001b[0m \u001b[0mpacket\u001b[0m\u001b[0;34m.\u001b[0m\u001b[0mtype\u001b[0m \u001b[0;34m==\u001b[0m \u001b[0mSESSION_MESSAGE\u001b[0m\u001b[0;34m:\u001b[0m\u001b[0;34m\u001b[0m\u001b[0;34m\u001b[0m\u001b[0m\n\u001b[0;32m---> 75\u001b[0;31m             \u001b[0mself\u001b[0m\u001b[0;34m.\u001b[0m\u001b[0monNMBSessionMessage\u001b[0m\u001b[0;34m(\u001b[0m\u001b[0mpacket\u001b[0m\u001b[0;34m.\u001b[0m\u001b[0mflags\u001b[0m\u001b[0;34m,\u001b[0m \u001b[0mpacket\u001b[0m\u001b[0;34m.\u001b[0m\u001b[0mdata\u001b[0m\u001b[0;34m)\u001b[0m\u001b[0;34m\u001b[0m\u001b[0;34m\u001b[0m\u001b[0m\n\u001b[0m\u001b[1;32m     76\u001b[0m         \u001b[0;32melif\u001b[0m \u001b[0mpacket\u001b[0m\u001b[0;34m.\u001b[0m\u001b[0mtype\u001b[0m \u001b[0;34m==\u001b[0m \u001b[0mPOSITIVE_SESSION_RESPONSE\u001b[0m\u001b[0;34m:\u001b[0m\u001b[0;34m\u001b[0m\u001b[0;34m\u001b[0m\u001b[0m\n\u001b[1;32m     77\u001b[0m             \u001b[0mself\u001b[0m\u001b[0;34m.\u001b[0m\u001b[0monNMBSessionOK\u001b[0m\u001b[0;34m(\u001b[0m\u001b[0;34m)\u001b[0m\u001b[0;34m\u001b[0m\u001b[0;34m\u001b[0m\u001b[0m\n",
      "\u001b[0;32m/opt/anaconda3/envs/FISH_processing/lib/python3.6/site-packages/smb/base.py\u001b[0m in \u001b[0;36monNMBSessionMessage\u001b[0;34m(self, flags, data)\u001b[0m\n\u001b[1;32m    142\u001b[0m                                    \u001b[0mSMB2_COMMAND_NAMES\u001b[0m\u001b[0;34m.\u001b[0m\u001b[0mget\u001b[0m\u001b[0;34m(\u001b[0m\u001b[0mself\u001b[0m\u001b[0;34m.\u001b[0m\u001b[0msmb_message\u001b[0m\u001b[0;34m.\u001b[0m\u001b[0mcommand\u001b[0m\u001b[0;34m,\u001b[0m \u001b[0;34m'<unknown>'\u001b[0m\u001b[0;34m)\u001b[0m\u001b[0;34m,\u001b[0m\u001b[0;34m\u001b[0m\u001b[0;34m\u001b[0m\u001b[0m\n\u001b[1;32m    143\u001b[0m                                    self.smb_message.command, self.smb_message.flags)\n\u001b[0;32m--> 144\u001b[0;31m                 \u001b[0;32mif\u001b[0m \u001b[0mself\u001b[0m\u001b[0;34m.\u001b[0m\u001b[0m_updateState\u001b[0m\u001b[0;34m(\u001b[0m\u001b[0mself\u001b[0m\u001b[0;34m.\u001b[0m\u001b[0msmb_message\u001b[0m\u001b[0;34m)\u001b[0m\u001b[0;34m:\u001b[0m\u001b[0;34m\u001b[0m\u001b[0;34m\u001b[0m\u001b[0m\n\u001b[0m\u001b[1;32m    145\u001b[0m                     \u001b[0;31m# We need to create a new instance instead of calling reset() because the instance could be captured in the message history.\u001b[0m\u001b[0;34m\u001b[0m\u001b[0;34m\u001b[0m\u001b[0;34m\u001b[0m\u001b[0m\n\u001b[1;32m    146\u001b[0m                     \u001b[0mself\u001b[0m\u001b[0;34m.\u001b[0m\u001b[0msmb_message\u001b[0m \u001b[0;34m=\u001b[0m \u001b[0mself\u001b[0m\u001b[0;34m.\u001b[0m\u001b[0m_klassSMBMessage\u001b[0m\u001b[0;34m(\u001b[0m\u001b[0;34m)\u001b[0m\u001b[0;34m\u001b[0m\u001b[0;34m\u001b[0m\u001b[0m\n",
      "\u001b[0;32m/opt/anaconda3/envs/FISH_processing/lib/python3.6/site-packages/smb/base.py\u001b[0m in \u001b[0;36m_updateState_SMB2\u001b[0;34m(self, message)\u001b[0m\n\u001b[1;32m    321\u001b[0m                 \u001b[0;32melse\u001b[0m\u001b[0;34m:\u001b[0m\u001b[0;34m\u001b[0m\u001b[0;34m\u001b[0m\u001b[0m\n\u001b[1;32m    322\u001b[0m                     raise ProtocolError('Unknown status value (0x%08X) in SMB_COM_SESSION_SETUP_ANDX (with extended security)' % message.status,\n\u001b[0;32m--> 323\u001b[0;31m                                         message.raw_data, message)\n\u001b[0m\u001b[1;32m    324\u001b[0m \u001b[0;34m\u001b[0m\u001b[0m\n\u001b[1;32m    325\u001b[0m             \u001b[0;32mif\u001b[0m \u001b[0mmessage\u001b[0m\u001b[0;34m.\u001b[0m\u001b[0misAsync\u001b[0m\u001b[0;34m:\u001b[0m\u001b[0;34m\u001b[0m\u001b[0;34m\u001b[0m\u001b[0m\n",
      "\u001b[0;31mProtocolError\u001b[0m: Unknown status value (0xC0000022) in SMB_COM_SESSION_SETUP_ANDX (with extended security)\n==================== SMB Message ====================\nCommand: 0x01 (SMB2_COM_SESSION_SETUP) \nStatus: 0xC0000022 \nFlags: 0x01 \nPID: 15218 \nMID: 2 \nTID: 0 \nData: 9 bytes \nb'090000000000000000' \n==================== SMB Data Packet (hex) ====================\nb'fe534d4240000000220000c00100010001000000000000000200000000000000723b0000000000006784e5fe0000000000000000000000000000000000000000090000000000000000'\n"
     ]
    }
   ],
   "source": [
    "folder_path = '/Test/test_dir/'\n",
    "# Creating a local directory in the local computer\n",
    "temp_local_path = pathlib.Path().absolute().joinpath('temp')\n",
    "if os.path.exists(str(temp_local_path)):\n",
    "    shutil.rmtree(temp_local_path)\n",
    "os.makedirs(str(temp_local_path))\n",
    "# Establishing connection to the server\n",
    "conn = SMBConnection(username=usr, password=pwd, domain=domain, my_name=local_name, use_ntlm_v2 = False, remote_name=server_name, is_direct_tcp=False)\n",
    "#print(server_name)\n",
    "#is_connected = conn.connect(server_name,timeout=60)\n",
    "is_connected = conn.connect(server_name)"
   ]
  },
  {
   "cell_type": "code",
   "execution_count": null,
   "id": "62bd3330",
   "metadata": {},
   "outputs": [],
   "source": [
    "raise"
   ]
  },
  {
   "cell_type": "code",
   "execution_count": null,
   "metadata": {},
   "outputs": [],
   "source": [
    "folder_path = '/Test/test_dir/'\n",
    "# Creating a local directory in the local computer\n",
    "temp_local_path = pathlib.Path().absolute().joinpath('temp')\n",
    "if os.path.exists(str(temp_local_path)):\n",
    "    shutil.rmtree(temp_local_path)\n",
    "os.makedirs(str(temp_local_path))\n",
    "# Establishing connection to the server\n",
    "conn = SMBConnection(username=usr, password=pwd, domain=domain, my_name=local_name, remote_name=server_name, is_direct_tcp=True,use_ntlm_v2=True)\n",
    "print(server_name)\n",
    "#is_connected = conn.connect(server_name,timeout=60)\n",
    "is_connected = conn.connect(server_name)\n",
    "\n",
    "print('Connection established: ', is_connected)\n",
    "print('The files are downloaded to:', temp_local_path)\n",
    "\n",
    "# Iterate in the folder to download all tif files\n",
    "list_dir = conn.listPath(share_name, folder_path)\n",
    "for file in list_dir:\n",
    "    if (file.filename not in ['.', '..']) and ('.tif' in file.filename) :\n",
    "        print ('File Downloaded :', file.filename)\n",
    "        fileobj = open(file.filename,'wb')\n",
    "        conn.retrieveFile(share_name,folder_path+file.filename,fileobj)\n",
    "        # moving files in the local computer\n",
    "        shutil.move(pathlib.Path().absolute().joinpath(file.filename), temp_local_path.joinpath(file.filename))\n",
    "conn.close()"
   ]
  },
  {
   "cell_type": "code",
   "execution_count": null,
   "metadata": {},
   "outputs": [],
   "source": [
    "\n",
    "list_names = [file.filename for file in list_dir]\n",
    "list_names"
   ]
  },
  {
   "cell_type": "code",
   "execution_count": null,
   "metadata": {},
   "outputs": [],
   "source": [
    "class NASConnection():\n",
    "    '''\n",
    "    This class is intended to establish a connection between a Network-Attached storage and a local computer. The class allow the user to establish a connection to NAS, download specific files, and write back files to NAS.\n",
    "    This class doesn't allow the user to delete, modify or overwrite files in NAS.\n",
    "\n",
    "    To use this class you need to:\n",
    "    1) Use the university's network or use the two factor authentication to connect to the university's VPN.\n",
    "    2) You need to create a configuration yaml file, with the following format:\n",
    "\n",
    "    user:\n",
    "        username: name_of_the_user_in_the_nas_server\n",
    "        password: user_password_in_the_nas_server \n",
    "        remote_address : ip or name for the nas server\n",
    "        domain: domain for the nas server\n",
    "    \n",
    "    Parameters\n",
    "    --  --  --  --  -- \n",
    "\n",
    "    ,: bool, optional\n",
    "        parameter description. The default is True. \n",
    "\n",
    "    path_to_config_file : str, Pathlib obj\n",
    "        The path in the local computer that containts the config file.\n",
    "    share_name : str\n",
    "        Name of the share partition to access in NAS. The default is 'share'.\n",
    "    '''\n",
    "    def __init__(self,path_to_config_file,share_name = 'share'):\n",
    "        # Loading credentials\n",
    "        conf = yaml.safe_load(open(str(path_to_config_file)))\n",
    "        usr = conf['user']['username']\n",
    "        pwd = conf['user']['password']\n",
    "        remote_address = conf['user']['remote_address']\n",
    "        domain = conf['user']['domain']\n",
    "        # LOCAL NAME\n",
    "        local_name = socket.gethostbyname(socket.gethostname())\n",
    "        # SERVER NAME\n",
    "        self.share_name = share_name\n",
    "        self.server_name, alias, addresslist = socket.gethostbyaddr(remote_address)\n",
    "        # Deffining the connection to NAS\n",
    "        self.conn = SMBConnection(username=usr, password=pwd, domain=domain, my_name=local_name, remote_name=self.server_name, is_direct_tcp=True)\n",
    "    def connect_to_server(self,timeout=60):\n",
    "        is_connected = self.conn.connect(self.server_name,timeout=timeout)\n",
    "        if is_connected == True:\n",
    "            print('Connection established')\n",
    "        else:\n",
    "            print('Connection failed')\n",
    "        return self.conn\n",
    "        \n",
    "    def copy_files(self, remote_folder_path, local_folder_path, timeout=60):\n",
    "        '''\n",
    "        This method downloads the tif files from NAS to a temp folder in the local computer\n",
    "\n",
    "        Parameters\n",
    "        --  --  --  --  -- \n",
    "\n",
    "        remote_folder_path : str, Pathlib obj\n",
    "            The path in the remote folder to download\n",
    "        local_folder_path : str, Pathlib obj\n",
    "            The path in the local computer where the files will be copied\n",
    "        timeout : int, optional\n",
    "            seconds to establish connection. The default is 60.\n",
    "        '''\n",
    "        # Connecting to NAS\n",
    "        is_connected = self.conn.connect(self.server_name,timeout=timeout)\n",
    "        if is_connected == True:\n",
    "            print('Connection established')\n",
    "        else:\n",
    "            print('Connection failed')\n",
    "        # Converting the paths to a Pathlib object\n",
    "        if type(local_folder_path) == str:\n",
    "            local_folder_path = pathlib.Path(local_folder_path)\n",
    "        if type(remote_folder_path)==str:\n",
    "            remote_folder_path = pathlib.Path(remote_folder_path)\n",
    "        # Creating a temporal folder in path\n",
    "        if  not str(local_folder_path)[-4:] ==  'temp':\n",
    "            local_folder_path = pathlib.Path(local_folder_path).joinpath('temp')\n",
    "        # Making the local directory\n",
    "        if os.path.exists(str(local_folder_path)):\n",
    "            shutil.rmtree(local_folder_path)\n",
    "        os.makedirs(str(local_folder_path))\n",
    "        \n",
    "        # Iterate in the folder to download all tif files\n",
    "        list_dir = self.conn.listPath(self.share_name, str(remote_folder_path))\n",
    "        for file in list_dir:\n",
    "            if (file.filename not in ['.', '..']) and ('.tif' in file.filename) :\n",
    "                print ('File Downloaded :', file.filename)\n",
    "                fileobj = open(file.filename,'wb')\n",
    "                self.conn.retrieveFile(self.share_name, str( pathlib.Path(remote_folder_path).joinpath(file.filename) ),fileobj)\n",
    "                # moving files in the local computer\n",
    "                \n",
    "                #shutil.move(pathlib.Path().absolute().joinpath(file.filename), local_folder_path.joinpath(file.filename))\n",
    "    \n",
    "    def write_files_to_NAS(self, file_to_write_to_NAS, remote_folder_path,  timeout=60):\n",
    "        '''\n",
    "        This method writes files from a local computer to NAS \n",
    "\n",
    "        Parameters\n",
    "        --  --  --  --  -- \n",
    "\n",
    "        remote_folder_path : str, Pathlib obj\n",
    "            The path in the remote folder to download\n",
    "        local_folder_path : str, Pathlib obj\n",
    "            The path in the local computer where the files will be copied\n",
    "        timeout : int, optional\n",
    "            seconds to establish connection. The default is 60.\n",
    "        '''\n",
    "        # Connecting to NAS\n",
    "        is_connected = self.conn.connect(self.server_name,timeout=timeout)\n",
    "        if is_connected == True:\n",
    "            print('Connection established')\n",
    "        else:\n",
    "            print('Connection failed')\n",
    "        # Converting the paths to a Pathlib object\n",
    "        if type(file_to_write_to_NAS) == str:\n",
    "            file_to_write_to_NAS = pathlib.Path(file_to_write_to_NAS)\n",
    "\n",
    "        if type(remote_folder_path)==str:\n",
    "            remote_folder_path = pathlib.Path(remote_folder_path)\n",
    "\n",
    "        # checks that the file doesn't exist on NAS. If it exist it will create a new name as follows original_name__1\n",
    "        # Iterate in the folder to download all tif files\n",
    "        list_dir = self.conn.listPath(self.share_name, str(remote_folder_path))\n",
    "        list_all_files_in_NAS = [file.filename for file in list_dir]\n",
    "\n",
    "        for file in list_dir:\n",
    "            if str(file_to_write_to_NAS.name) not in list_all_files_in_NAS:\n",
    "\n",
    "                #self.conn.storeFile(self.share_name, ,path,file)\n",
    "\n",
    "    "
   ]
  },
  {
   "cell_type": "code",
   "execution_count": null,
   "metadata": {},
   "outputs": [],
   "source": [
    "conn_session= NASConnection(path_to_config_file).connect_to_server()"
   ]
  },
  {
   "cell_type": "code",
   "execution_count": null,
   "metadata": {},
   "outputs": [],
   "source": []
  },
  {
   "cell_type": "code",
   "execution_count": null,
   "metadata": {},
   "outputs": [],
   "source": [
    "remote_folder_path = '/Test/test_dir/'\n",
    "local_folder_path = pathlib.Path().absolute().joinpath('temp')\n",
    "NASConnection(path_to_config_file).copy_files(remote_folder_path, local_folder_path,timeout=60)"
   ]
  },
  {
   "cell_type": "code",
   "execution_count": null,
   "metadata": {},
   "outputs": [],
   "source": [
    "conn_session.close()"
   ]
  },
  {
   "cell_type": "code",
   "execution_count": null,
   "metadata": {},
   "outputs": [],
   "source": [
    "# https://github.com/humberry/smb-example/blob/master/smb-test.py"
   ]
  }
 ],
 "metadata": {
  "interpreter": {
   "hash": "f123aec772437107f61ad48bdc3e74202fc8f652e2fa44805dd8339e0a72f809"
  },
  "kernelspec": {
   "display_name": "Python 3.6.13 64-bit ('FISH_processing': conda)",
   "name": "python3"
  },
  "language_info": {
   "codemirror_mode": {
    "name": "ipython",
    "version": 3
   },
   "file_extension": ".py",
   "mimetype": "text/x-python",
   "name": "python",
   "nbconvert_exporter": "python",
   "pygments_lexer": "ipython3",
   "version": "3.6.13"
  }
 },
 "nbformat": 4,
 "nbformat_minor": 5
}
