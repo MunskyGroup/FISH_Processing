{
 "cells": [
  {
   "cell_type": "code",
   "execution_count": null,
   "metadata": {},
   "outputs": [],
   "source": [
    "# Importing libraries\n",
    "import sys\n",
    "import matplotlib as mpl \n",
    "import matplotlib.pyplot as plt \n",
    "import numpy as np \n",
    "import pandas as pd\n",
    "import pathlib\n",
    "import warnings\n",
    "import glob\n",
    "import seaborn as sns\n",
    "import joypy\n",
    "warnings.filterwarnings(\"ignore\")"
   ]
  },
  {
   "cell_type": "code",
   "execution_count": null,
   "metadata": {},
   "outputs": [],
   "source": [
    "current_dir = pathlib.Path().absolute()"
   ]
  },
  {
   "cell_type": "code",
   "execution_count": null,
   "metadata": {},
   "outputs": [],
   "source": [
    "def dataframe_extract_data(dataframe,spot_type_selected = 0, minimal_cluster_size=3):\n",
    "    ''' This function is intended to read a dataframe and returns \n",
    "        number_of_spots_per_cell, number_of_spots_per_cell_cytosol, number_of_spots_per_cell_nucleus, number_of_TS_per_cell, ts_size, cell_size\n",
    "    '''\n",
    "    number_cells = dataframe['cell_id'].nunique()\n",
    "    # Number of spots\n",
    "    number_of_spots_per_cell = np.asarray([len( dataframe.loc[  (dataframe['cell_id']==i)  & (dataframe['spot_type']==spot_type_selected) ].spot_id) for i in range(0, number_cells)])\n",
    "    # Number of spots in cytosol\n",
    "    number_of_spots_per_cell_cytosol = np.asarray([len( dataframe.loc[  (dataframe['cell_id']==i) & (dataframe['is_nuc']==False) & (dataframe['spot_type']==spot_type_selected) ].spot_id) for i in range(0, number_cells)])\n",
    "    # Number of spots in nucleus\n",
    "    number_of_spots_per_cell_nucleus = np.asarray([len( dataframe.loc[  (dataframe['cell_id']==i) &  (dataframe['is_cluster']==False) & (dataframe['is_nuc']==True) & (dataframe['spot_type']==spot_type_selected)    ].spot_id) for i in range(0, number_cells)])\n",
    "    # Total number of spots\n",
    "    total_of_spots_per_cell_nucleus = np.asarray([len( dataframe.loc[  (dataframe['cell_id']==i) & (dataframe['spot_type']==spot_type_selected)    ].spot_id) for i in range(0, number_cells)])\n",
    "    # Number of TS per cell.\n",
    "    number_of_TS_per_cell = [len( dataframe.loc[  (dataframe['cell_id']==i) &  (dataframe['is_cluster']==True) & (dataframe['is_nuc']==True) & (dataframe['spot_type']==spot_type_selected) & (dataframe['cluster_size'] >=4) ].spot_id) for i in range(0, number_cells)]\n",
    "    number_of_TS_per_cell= np.asarray(number_of_TS_per_cell)\n",
    "    #number_of_TS_per_cell=number_of_TS_per_cell[number_of_TS_per_cell>minimal_cluster_size]   \n",
    "    # Number of RNA in a TS\n",
    "    ts_size =  dataframe.loc[   (dataframe['is_cluster']==True) & (dataframe['is_nuc']==True)  & (dataframe['spot_type']==spot_type_selected)   ].cluster_size.values\n",
    "    # Size of each cell\n",
    "    cell_size = np.asarray([len( dataframe.loc[  (dataframe['cell_id']==i) & (dataframe['spot_type']==0)].cell_area_px.values) for i in range(0, number_cells)])\n",
    "    return number_of_spots_per_cell,number_of_spots_per_cell_cytosol,number_of_spots_per_cell_nucleus,number_of_TS_per_cell,ts_size,cell_size,number_cells,total_of_spots_per_cell_nucleus\n"
   ]
  },
  {
   "cell_type": "code",
   "execution_count": null,
   "metadata": {},
   "outputs": [],
   "source": [
    "%%capture\n",
    "data_dir = ['analysis_GAPDH-Cy3_NFKBIA-Cy5_woDex___nuc_120__cyto_220__psfz_350__psfyx_120',\n",
    "            'analysis_GAPDH-Cy3_NFKBIA-Cy5_5min_100nMDex___nuc_120__cyto_220__psfz_350__psfyx_120',\n",
    "            'analysis_GAPDH-Cy3_NFKBIA-Cy5_10min_100nMDex___nuc_120__cyto_220__psfz_350__psfyx_120',\n",
    "            'analysis_GAPDH-Cy3_NFKBIA-Cy5_15min_100nMDex___nuc_120__cyto_220__psfz_350__psfyx_120',\n",
    "            'analysis_GAPDH-Cy3_NFKBIA-Cy5_30min_100nMDex___nuc_120__cyto_220__psfz_350__psfyx_120',\n",
    "            'analysis_GAPDH-Cy3_NFKBIA-Cy5_1h_100nMDex___nuc_120__cyto_220__psfz_350__psfyx_120',\n",
    "            'analysis_GAPDH-Cy3_NFKBIA-Cy5_2h_100nMDex___nuc_120__cyto_220__psfz_350__psfyx_120',\n",
    "            'analysis_GAPDH-Cy3_NFKBIA-Cy5_4h_100nMDex___nuc_120__cyto_220__psfz_350__psfyx_120']\n",
    "\n",
    "condition_labels = ['wo', '5min','10min','15min','30min','1h', '2h','4h']\n",
    "plot_title= \"GAPDH-Cy3_NFKBIA-Cy5_Dex\"\n",
    "max_val = 300\n"
   ]
  },
  {
   "cell_type": "code",
   "execution_count": null,
   "metadata": {},
   "outputs": [],
   "source": [
    "%%capture\n",
    "'''\n",
    "data_dir =['analysis_GAPDH-Cy3_NFKBIA-Cy5_WO_IL-1B___nuc_120__cyto_220__psfz_350__psfyx_120',\n",
    "            'analysis_GAPDH-Cy3_NFKBIA-Cy5_5min_10ng_mL_IL-1B___nuc_120__cyto_220__psfz_350__psfyx_120',\n",
    "            'analysis_GAPDH-Cy3_NFKBIA-Cy5_10min_10ng_mL_IL-1B___nuc_120__cyto_220__psfz_350__psfyx_120',\n",
    "            'analysis_GAPDH-Cy3_NFKBIA-Cy5_15min_10ng_mL_IL-1B___nuc_120__cyto_220__psfz_350__psfyx_120',\n",
    "            'analysis_GAPDH-Cy3_NFKBIA-Cy5_20min_10ng_mL_IL-1B___nuc_120__cyto_220__psfz_350__psfyx_120',\n",
    "            'analysis_GAPDH-Cy3_NFKBIA-Cy5_30min_10ng_mL_IL-1B___nuc_120__cyto_220__psfz_350__psfyx_120',\n",
    "            'analysis_GAPDH-Cy3_NFKBIA-Cy5_1h_10ng_mL_IL-1B___nuc_120__cyto_220__psfz_350__psfyx_120',\n",
    "            'analysis_GAPDH-Cy3_NFKBIA-Cy5_2h_10ng_mL_IL-1B___nuc_120__cyto_220__psfz_350__psfyx_120',\n",
    "            'analysis_GAPDH-Cy3_NFKBIA-Cy5_3h_10ng_mL_IL-1B___nuc_120__cyto_220__psfz_350__psfyx_120']\n",
    "\n",
    "condition_labels = ['wo', '5min','10min','15min','20min','30min','1h', '2h','3h']\n",
    "plot_title= \"GAPDH-Cy3_NFKBIA-Cy5_IL-1B\"\n",
    "max_val = 100\n",
    "'''"
   ]
  },
  {
   "cell_type": "code",
   "execution_count": null,
   "metadata": {},
   "outputs": [],
   "source": [
    "list_spots_cell_conditions=[]\n",
    "list_spots_nuc=[]\n",
    "list_number_cells =[]\n",
    "for i in range (0, len (data_dir)):\n",
    "    dataframe_dir = current_dir.joinpath('analyses',data_dir[i])    # loading files from \"analyses\" folder\n",
    "    dataframe_file = glob.glob( str(dataframe_dir.joinpath('dataframe_*')) )[0]\n",
    "    dataframe_file\n",
    "    df = pd.read_csv(dataframe_file) \n",
    "    number_of_spots_per_cell,number_of_spots_per_cell_cytosol,number_of_spots_per_cell_nucleus,number_of_TS_per_cell,ts_size,cell_size,number_cells,total_of_spots_per_cell_nucleus = dataframe_extract_data(df)\n",
    "    list_spots_cell_conditions.append(total_of_spots_per_cell_nucleus)\n",
    "    list_spots_nuc.append(number_of_spots_per_cell_nucleus)\n",
    "    list_number_cells.append(number_cells)\n",
    "    del number_of_spots_per_cell,number_of_spots_per_cell_cytosol,number_of_spots_per_cell_nucleus,number_of_TS_per_cell,ts_size,cell_size,number_cells,total_of_spots_per_cell_nucleus\n"
   ]
  },
  {
   "cell_type": "code",
   "execution_count": null,
   "metadata": {},
   "outputs": [],
   "source": [
    "print('number of cells in each dataset: ', list_number_cells)"
   ]
  },
  {
   "cell_type": "code",
   "execution_count": null,
   "metadata": {},
   "outputs": [],
   "source": [
    "# defining the dimensions for the array.\n",
    "max_number_cells = max(list_number_cells)\n",
    "number_conditions = len(list_number_cells)"
   ]
  },
  {
   "cell_type": "code",
   "execution_count": null,
   "metadata": {},
   "outputs": [],
   "source": [
    "# creating an array with the same dimensions\n",
    "spots_coditions_array = np.empty((max_number_cells,number_conditions))\n",
    "spots_coditions_array[:] = np.NaN\n",
    "# replace the elements in the array\n",
    "for i in range(0,number_conditions ):\n",
    "    spots_coditions_array[0:list_number_cells[i],i] = list_spots_cell_conditions[i] \n",
    "# creating a dataframe\n",
    "df = pd.DataFrame(data=spots_coditions_array, columns=condition_labels)\n",
    "df\n"
   ]
  },
  {
   "cell_type": "code",
   "execution_count": null,
   "metadata": {},
   "outputs": [],
   "source": [
    "# Removing 1% extreme values.\n",
    "for col in df.columns:\n",
    "    max_data_value= df[col].quantile(0.99)\n",
    "    df[col] = np.where(df[col]>=max_data_value, np.nan, df[col])"
   ]
  },
  {
   "cell_type": "code",
   "execution_count": null,
   "metadata": {},
   "outputs": [],
   "source": [
    "plt.figure(figsize=(10,5))\n",
    "sns.set(font_scale = 1)\n",
    "sns.set_style(\"whitegrid\")\n",
    "p_dist =sns.violinplot(data=df, scale=\"count\",palette=\"OrRd\")\n",
    "p_dist.set_xlabel(\"Total count of spots per cell (nuc + cyto)\")\n",
    "p_dist.set_ylabel(\"Count\")\n",
    "p_dist.set_title(plot_title)\n",
    "#p_dist.set_ylim(-10,max_val)\n",
    "plt.savefig('Violin__'+plot_title+'.png', transparent=False)\n",
    "plt.show()"
   ]
  },
  {
   "cell_type": "code",
   "execution_count": null,
   "metadata": {},
   "outputs": [],
   "source": [
    "plt.figure(figsize=(10,5))\n",
    "sns.set(font_scale = 1)\n",
    "sns.set_style(\"whitegrid\")\n",
    "p_dist =sns.kdeplot(data=df,palette=\"OrRd\")\n",
    "p_dist.set_xlabel(\"Total count of spots per cell (nuc + cyto)\")\n",
    "p_dist.set_ylabel(\"Kernel Density Estimator (KDE)\")\n",
    "p_dist.set_title(plot_title)\n",
    "#sns.set(font_scale = 1)\n",
    "p_dist.set_xlim(-20,max_val)\n",
    "plt.savefig('Distributions__'+plot_title+'.png', transparent=False)\n",
    "plt.show()"
   ]
  },
  {
   "cell_type": "code",
   "execution_count": null,
   "metadata": {},
   "outputs": [],
   "source": [
    "plt.figure(figsize=(10,5))\n",
    "sns.set(font_scale = 1)\n",
    "sns.set_style(\"whitegrid\")\n",
    "p_dist =sns.ecdfplot(data=df,palette=\"OrRd\")\n",
    "p_dist.set_xlabel(\"Total count of spots per cell (nuc + cyto)\")\n",
    "p_dist.set_ylabel(\"Proportion\")\n",
    "p_dist.set_title(plot_title)\n",
    "p_dist.set_xlim(0,max_val)\n",
    "plt.savefig('ECDF__'+ plot_title+'.png', transparent=False)\n",
    "plt.show()"
   ]
  },
  {
   "cell_type": "code",
   "execution_count": null,
   "metadata": {},
   "outputs": [],
   "source": [
    "plt.figure(figsize=(7,7))\n",
    "sns.set(font_scale = 1.5)\n",
    "sns.set_style(\"white\")\n",
    "p = sns.stripplot(data=df, size=3, color='0.5', jitter=0.2)\n",
    "plt.xticks(rotation=45, ha=\"right\")\n",
    "sns.set(font_scale = 1.5)\n",
    "#p.set_ylim(0,max_val)\n",
    "bp=sns.boxplot( \n",
    "            meanprops={'visible': True,'color': 'r', 'ls': 'solid', 'lw': 4},\n",
    "            #medianprops={'visible': False,'color': 'orangered', 'ls': 'solid', 'lw': 1},\n",
    "            whiskerprops={'visible': True, 'color':'k','ls': 'solid', 'lw': 1},\n",
    "            data=df,\n",
    "            showcaps={'visible': False, 'color':'orangered', 'ls': 'solid', 'lw': 1}, # Q1-Q3 25-75%\n",
    "            ax=p,\n",
    "            showmeans=True,meanline=True,zorder=10,showfliers=False,showbox=True,linewidth=1,color='w')\n",
    "p.set_xlabel(\"time_after_treatment\")\n",
    "p.set_ylabel(\"Total count of spots per cell (nuc + cyto)\")\n",
    "p.set_title(plot_title)\n",
    "sns.set(font_scale = 1.5)\n",
    "plt.savefig('BarPlots__'+plot_title+'.png', transparent=False)\n",
    "plt.show()"
   ]
  },
  {
   "cell_type": "code",
   "execution_count": null,
   "metadata": {},
   "outputs": [],
   "source": [
    "plt.style.use('ggplot')\n",
    "fig, axes = joypy.joyplot(df,kind=\"counts\", bins=50,range_style='own',\n",
    "                          grid=\"y\", linewidth=2, legend=False, figsize=(5,5),  \n",
    "                          title=\"none\",ylim='own',alpha=0.7,x_range=[-10.0,max_val],overlap=0,linecolor=\"k\", color=\"k\",\n",
    "                          colormap=mpl.cm.Blues)\n",
    "plt.title('Distributions', fontsize=12)\n",
    "plt.xlabel('Counts', fontsize=12)\n",
    "plt.ylabel('Conditions', fontsize=12)\n",
    "plt.savefig('JoyPlots__'+plot_title+'.png', transparent=False)"
   ]
  },
  {
   "cell_type": "markdown",
   "metadata": {},
   "source": [
    "# Moving plots to a final folder \"comparing_distributions\""
   ]
  },
  {
   "cell_type": "code",
   "execution_count": null,
   "metadata": {},
   "outputs": [],
   "source": [
    "# create results folder\n",
    "destination_folder = 'comparing_distributions_'+plot_title\n",
    "\n",
    "if not os.path.exists(destination_folder):\n",
    "    os.makedirs(destination_folder)\n",
    "\n",
    "plot_names = ['Violin__'+plot_title+'.png',\n",
    "'Distributions__'+plot_title+'.png',\n",
    "'BarPlots__'+plot_title+'.png',\n",
    "'JoyPlots__'+plot_title+'.png',\n",
    "'ECDF__'+plot_title+'.png']\n",
    "\n",
    "#figure_path \n",
    "for name_plot in plot_names:\n",
    "    pathlib.Path().absolute().joinpath(name_plot).rename(pathlib.Path().absolute().joinpath(destination_folder,name_plot))\n"
   ]
  },
  {
   "cell_type": "code",
   "execution_count": null,
   "metadata": {},
   "outputs": [],
   "source": [
    "# https://deepnote.com/@deepnote/Joyplot-Introduction-RmbhozJJRC6alCu8xcsbHQ\n",
    "# https://github.com/leotac/joypy/issues/10\n",
    "# https://towardsdatascience.com/creating-joy-plots-using-joypy-67327a15eb50\n",
    "# https://seaborn.pydata.org/tutorial/distributions.html#tutorial-ecdf\n",
    "\n",
    "# Color palettes\n",
    "#https://medium.com/@morganjonesartist/color-guide-to-seaborn-palettes-da849406d44f\n"
   ]
  }
 ],
 "metadata": {
  "interpreter": {
   "hash": "041431ac7e3bc2ef7f2f5628aa36a0858cfecc7ab5587fc492a79545cc0a25bd"
  },
  "kernelspec": {
   "display_name": "Python 3.6.13 64-bit ('FISH_processing': conda)",
   "language": "python",
   "name": "python3"
  },
  "language_info": {
   "codemirror_mode": {
    "name": "ipython",
    "version": 3
   },
   "file_extension": ".py",
   "mimetype": "text/x-python",
   "name": "python",
   "nbconvert_exporter": "python",
   "pygments_lexer": "ipython3",
   "version": "3.8.12"
  },
  "orig_nbformat": 4
 },
 "nbformat": 4,
 "nbformat_minor": 2
}
