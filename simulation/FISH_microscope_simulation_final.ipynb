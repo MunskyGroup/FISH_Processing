{
 "cells": [
  {
   "attachments": {},
   "cell_type": "markdown",
   "id": "d494faaa",
   "metadata": {},
   "source": [
    "# FISH - Pipeline - A Python notebook to simulate FISH data\n",
    "\n",
    "```\n",
    "Author: Luis U. Aguilera\n",
    "Contact Info: luis.aguilera@colostate.edu\n",
    "\n",
    "Copyright (c) 2021 Munsky Group \n",
    "Colorado State University \n",
    "Licensed under BSD 3-Clause License.\n",
    "```"
   ]
  },
  {
   "attachments": {},
   "cell_type": "markdown",
   "id": "6e1f620b",
   "metadata": {},
   "source": [
    "### Libraries"
   ]
  },
  {
   "cell_type": "code",
   "execution_count": null,
   "id": "ec7c8aea",
   "metadata": {},
   "outputs": [],
   "source": [
    "# Importing libraries\n",
    "import sys\n",
    "import pathlib\n",
    "import warnings\n",
    "import pandas as pd\n",
    "import numpy as np\n",
    "import matplotlib.pyplot as plt#\n",
    "import os; from os import listdir; from os.path import isfile, join\n",
    "import re\n",
    "\n",
    "warnings.filterwarnings(\"ignore\")"
   ]
  },
  {
   "attachments": {},
   "cell_type": "markdown",
   "id": "9d558787",
   "metadata": {},
   "source": [
    "### Path to source directories"
   ]
  },
  {
   "cell_type": "code",
   "execution_count": null,
   "id": "fbf289c0",
   "metadata": {},
   "outputs": [],
   "source": [
    "# Defining directories\n",
    "current_dir = pathlib.Path().absolute()\n",
    "fa_dir = current_dir.parents[0].joinpath('src')\n",
    "\n",
    "# Importing fish_analyses module\n",
    "sys.path.append(str(fa_dir))\n",
    "import fish_analyses as fa\n",
    "\n",
    "# Path to credentials\n",
    "desktop_path = pathlib.Path.home()/'Desktop'\n",
    "path_to_config_file = desktop_path.joinpath('config.yml')"
   ]
  },
  {
   "cell_type": "code",
   "execution_count": null,
   "id": "c17a95df",
   "metadata": {},
   "outputs": [],
   "source": [
    "# Path to data\n",
    "cell_library_folder_path = current_dir.joinpath('cell_library')\n",
    "background_library_path = cell_library_folder_path.joinpath('background_pixels_library.npy')\n",
    "dataframe_library_path = cell_library_folder_path.joinpath('dataframe_library.csv')\n"
   ]
  },
  {
   "cell_type": "code",
   "execution_count": null,
   "id": "3d26191b",
   "metadata": {},
   "outputs": [],
   "source": [
    "def read_files(directory):\n",
    "    list_files_names_complete = sorted([f for f in listdir(directory) if isfile(join(directory, f)) and ('cell_') in f], key=str.lower)  # reading all files in the folder with prefix 'cell_'\n",
    "    list_files_names_complete.sort(key=lambda f: int(re.sub('\\D', '', f)))  # sorting the index in numerical order\n",
    "    path_files_complete = [ str(directory.joinpath(f).resolve()) for f in list_files_names_complete ] # creating the complete path for each file\n",
    "    list_library_cells =  [ np.load(f) for f in path_files_complete ]\n",
    "    return list_library_cells"
   ]
  },
  {
   "cell_type": "code",
   "execution_count": null,
   "id": "873518e0",
   "metadata": {},
   "outputs": [],
   "source": [
    "# microscope.initialize() \n",
    "# inputs\n",
    "#image_size_Y_X = [5000,5000]\n",
    "#number_of_cells_in_simulation = 100\n",
    "\n"
   ]
  },
  {
   "cell_type": "code",
   "execution_count": null,
   "id": "6d32fdaa",
   "metadata": {},
   "outputs": [],
   "source": [
    "# extracting library data\n",
    "background_pixels_library = np.load(background_library_path)   # Reading the background library [C, Number_pixels]\n",
    "dataframe_cell_library = pd.read_csv(dataframe_library_path)   # Returns a dataframe with the following columns [cell_id, size, number_of_spots,ts_size] and each row represents a cell.\n",
    "list_library_cells = read_files(cell_library_folder_path)      # Returns a list of cells where each cell has the shape [Z,Y,X,C]"
   ]
  },
  {
   "attachments": {},
   "cell_type": "markdown",
   "id": "c3bdd328",
   "metadata": {},
   "source": [
    "___"
   ]
  },
  {
   "attachments": {},
   "cell_type": "markdown",
   "id": "98a031e6",
   "metadata": {},
   "source": [
    "# Function to simulate cell positions"
   ]
  },
  {
   "cell_type": "code",
   "execution_count": null,
   "id": "907b21d2",
   "metadata": {},
   "outputs": [],
   "source": [
    "image_size_Y_X = [5000,5000]\n",
    "number_of_cells_in_simulation = 100\n",
    "simulation_dataframe,complete_image_size_Z_Y_X = fa.MicroscopeSimulation.generate_simulated_positions(image_size_Y_X,number_of_cells_in_simulation,list_library_cells,dataframe_cell_library)\n",
    "simulation_dataframe.tail()"
   ]
  },
  {
   "attachments": {},
   "cell_type": "markdown",
   "id": "5e7d9eaf",
   "metadata": {},
   "source": [
    "# Generate simulation on demand"
   ]
  },
  {
   "cell_type": "code",
   "execution_count": null,
   "id": "c40402de",
   "metadata": {},
   "outputs": [],
   "source": [
    "# Region to display\n",
    "z_position = 0 #[-13:13]\n",
    "y_position =  1200\n",
    "x_position = 1200\n",
    "x_size = 960\n",
    "y_size = 960\n",
    "\n",
    "simulated_image,dataframe_cells_in_image = fa.MicroscopeSimulation.make_simulated_image(z_position, y_position, x_position, x_size, y_size, complete_image_size_Z_Y_X, simulation_dataframe, list_library_cells, background_pixels_library)\n",
    "\n",
    "# Plotting\n",
    "number_color_channels = simulated_image.shape[2]\n",
    "fig, ax = plt.subplots(1,number_color_channels, figsize=(15, 7))\n",
    "# Plotting the heatmap of a section in the image\n",
    "for i in range (number_color_channels):\n",
    "    simulated_image_removed_extreme_values = fa.RemoveExtrema(simulated_image[:,:,i],min_percentile=0, max_percentile=99.9).remove_outliers()  #np.max(simulated_image[:,:,:,i],axis = 0)\n",
    "    ax[i].imshow(simulated_image_removed_extreme_values);ax[i].set(title='Channel '+ str(i)); ax[i].axis('off');ax[i].grid(False)\n",
    "plt.show()\n"
   ]
  },
  {
   "cell_type": "code",
   "execution_count": null,
   "id": "42bebfcf",
   "metadata": {},
   "outputs": [],
   "source": [
    "dataframe_cells_in_image"
   ]
  },
  {
   "cell_type": "code",
   "execution_count": null,
   "id": "dc2d93bb",
   "metadata": {},
   "outputs": [],
   "source": [
    "z_position = -25\n",
    "y_position =  1200\n",
    "x_position = 1000\n",
    "x_size = 960\n",
    "y_size = 960\n",
    "simulated_image, dataframe_cells_in_image = fa.MicroscopeSimulation.make_simulated_image(z_position, y_position, x_position, x_size, y_size, complete_image_size_Z_Y_X, simulation_dataframe, list_library_cells, background_pixels_library)\n",
    "\n",
    "# Plotting\n",
    "number_color_channels = simulated_image.shape[2]\n",
    "fig, ax = plt.subplots(1,number_color_channels, figsize=(15, 7))\n",
    "# Plotting the heatmap of a section in the image\n",
    "for i in range (number_color_channels):\n",
    "    simulated_image_removed_extreme_values = fa.RemoveExtrema(simulated_image[:,:,i],min_percentile=0, max_percentile=99.9).remove_outliers()  #np.max(simulated_image[:,:,:,i],axis = 0)\n",
    "    simulated_image_removed_extreme_values[0,0]=300\n",
    "    simulated_image_removed_extreme_values[0,1]=2000\n",
    "    ax[i].imshow(simulated_image_removed_extreme_values);ax[i].set(title='Channel '+ str(i)); ax[i].axis('off');ax[i].grid(False)\n",
    "    print(np.min(simulated_image_removed_extreme_values),np.max(simulated_image_removed_extreme_values))\n",
    "plt.show()\n"
   ]
  },
  {
   "cell_type": "code",
   "execution_count": null,
   "id": "30e4e1ea",
   "metadata": {},
   "outputs": [],
   "source": [
    "dataframe_cells_in_image"
   ]
  },
  {
   "cell_type": "code",
   "execution_count": null,
   "id": "9b5c979f",
   "metadata": {},
   "outputs": [],
   "source": []
  },
  {
   "cell_type": "code",
   "execution_count": null,
   "id": "d191564c",
   "metadata": {},
   "outputs": [],
   "source": []
  },
  {
   "cell_type": "code",
   "execution_count": null,
   "id": "6e042a36",
   "metadata": {},
   "outputs": [],
   "source": []
  }
 ],
 "metadata": {
  "interpreter": {
   "hash": "f123aec772437107f61ad48bdc3e74202fc8f652e2fa44805dd8339e0a72f809"
  },
  "kernelspec": {
   "display_name": "Python 3.6.13 64-bit ('FISH_processing': conda)",
   "name": "python3"
  },
  "language_info": {
   "codemirror_mode": {
    "name": "ipython",
    "version": 3
   },
   "file_extension": ".py",
   "mimetype": "text/x-python",
   "name": "python",
   "nbconvert_exporter": "python",
   "pygments_lexer": "ipython3",
   "version": "3.8.12"
  }
 },
 "nbformat": 4,
 "nbformat_minor": 5
}
