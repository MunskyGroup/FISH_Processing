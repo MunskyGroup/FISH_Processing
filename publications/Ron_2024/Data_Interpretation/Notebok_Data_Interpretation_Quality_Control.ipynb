{
 "cells": [
  {
   "cell_type": "markdown",
   "metadata": {},
   "source": [
    "# Notebook Data Interpretation\n",
    "\n",
    "### This notebook summarizes the complete dataframes for the GR and DUSP1 experiments.\n",
    "\n",
    "```\n",
    "Author: Eric Ron and Luis U. Aguilera\n",
    "Contact Info: luis.aguilera@colostate.edu\n",
    "\n",
    "Copyright (c) 2024 Munsky Group \n",
    "Colorado State University \n",
    "Licensed under BSD 3-Clause License.\n",
    "```\n",
    "----"
   ]
  },
  {
   "cell_type": "markdown",
   "metadata": {},
   "source": [
    "### Notebook summary \n",
    "\n",
    "- The code downloads and reads a complete quantification dataframe from the NAS (munsky-nas). \n",
    "- The data consist of 3 different experimental conditions:\n",
    "  - ```GR_timesweep``` :\n",
    "  - ```DUSP1_timesweep``` :\n",
    "  - ```DUSP1_TPL``` :\n",
    "- The code reads the complete dataframe and returns a pandas.DataFrame with the fields:\n",
    "  -  Cell_id\n",
    "  -  Condition \n",
    "  -  Replica \n",
    "  -  Dex_Conc \n",
    "  -  Time_index \n",
    "  -  Time_TPL \n",
    "  -  Nuc_Area \n",
    "  -  Cyto_Area \n",
    "  -  Nuc_GR_avg_int \n",
    "  -  Cyto_GR_avg_int\n",
    "  -  Nuc_DUSP1_avg_int \n",
    "  -  Cyto_DUSP1_avg_int \n",
    "  -  RNA_DUSP1_nuc \n",
    "  -  RNA_DUSP1_cyto \n",
    "  -  DUSP1_ts_size_0 \n",
    "  -  DUSP1_ts_size_1 \n",
    "  -  DUSP1_ts_size_2 \n",
    "  -  DUSP1_ts_size_3\n",
    "\n",
    "- All processing is performing using class ```DataManagement```. When information was not collected for a particular experiment the dataframe is populated with NaNs.\n",
    "----"
   ]
  },
  {
   "cell_type": "markdown",
   "metadata": {},
   "source": [
    "### Loading libraries and Modules"
   ]
  },
  {
   "cell_type": "code",
   "execution_count": null,
   "metadata": {},
   "outputs": [],
   "source": [
    "import DataManagement as DM\n",
    "import pathlib\n",
    "import pandas as pd\n",
    "import matplotlib.pyplot as plt\n"
   ]
  },
  {
   "cell_type": "code",
   "execution_count": null,
   "metadata": {},
   "outputs": [],
   "source": [
    "# Directories\n",
    "current_dir = pathlib.Path().absolute()\n",
    "dataframe_path = current_dir.joinpath('output_dataframes','Complete_dataframe_Ron_2024.csv') \n"
   ]
  },
  {
   "cell_type": "code",
   "execution_count": null,
   "metadata": {},
   "outputs": [],
   "source": [
    "complete_df = pd.read_csv(dataframe_path, index_col=0)\n",
    "complete_df"
   ]
  },
  {
   "cell_type": "code",
   "execution_count": null,
   "metadata": {},
   "outputs": [],
   "source": [
    "# Plot histogram\n",
    "plt.hist(complete_df['Nuc_Area'], bins=100, color='orangered', edgecolor='w')\n",
    "print(\"Max value in Nuc_Area: \", int(complete_df['Nuc_Area'].max()) ,'\\n', \n",
    "      \"Mean value in Nuc_Area: \", int(complete_df['Nuc_Area'].mean()),'\\n', \n",
    "      \"Min value in Nuc_Area: \", int(complete_df['Nuc_Area'].min()))\n",
    "# Set title and labels\n",
    "plt.title('Histogram of Nuc_Area')\n",
    "plt.xlabel('Nuc_Area')\n",
    "plt.ylabel('Frequency')\n",
    "# Show the plot\n",
    "plt.show()"
   ]
  },
  {
   "cell_type": "code",
   "execution_count": null,
   "metadata": {},
   "outputs": [],
   "source": [
    "# Plot histogram\n",
    "plt.hist(complete_df['Cyto_Area'], bins=100, color='orangered', edgecolor='w')\n",
    "print(\"Max value in Cyto_Area: \", int(complete_df['Cyto_Area'].max()) ,'\\n', \n",
    "      \"Mean value in Cyto_Area: \", int(complete_df['Cyto_Area'].mean()),'\\n', \n",
    "      \"Min value in Cyto_Area: \", int(complete_df['Cyto_Area'].min()))\n",
    "# Set title and labels\n",
    "plt.title('Histogram of Cyto_Area')\n",
    "plt.xlabel('Cyto_Area')\n",
    "plt.ylabel('Frequency')\n",
    "# Show the plot\n",
    "plt.show()"
   ]
  },
  {
   "cell_type": "code",
   "execution_count": null,
   "metadata": {},
   "outputs": [],
   "source": [
    "\n",
    "# Plot histogram\n",
    "plt.hist(complete_df['Nuc_GR_avg_int'], bins=100, color='orangered', edgecolor='w')\n",
    "print(\"Max value in Nuc_GR_avg_int: \", int(complete_df['Nuc_GR_avg_int'].max()) ,'\\n', \n",
    "        \"Mean value in Nuc_GR_avg_int: \", int(complete_df['Nuc_GR_avg_int'].mean()),'\\n', \n",
    "        \"Min value in Nuc_GR_avg_int: \", int(complete_df['Nuc_GR_avg_int'].min()))\n",
    "# Set title and labels\n",
    "plt.title('Histogram of Nuc_GR_avg_int')\n",
    "plt.xlabel('Nuc_GR_avg_int')\n",
    "plt.ylabel('Frequency')\n",
    "# Show the plot\n",
    "plt.show()"
   ]
  },
  {
   "cell_type": "code",
   "execution_count": null,
   "metadata": {},
   "outputs": [],
   "source": [
    "# Plot histogram\n",
    "plt.hist(complete_df['Cyto_GR_avg_int'], bins=100, color='orangered', edgecolor='w')\n",
    "print(\"Max value in Cyto_GR_avg_int: \", int(complete_df['Cyto_GR_avg_int'].max()) ,'\\n', \n",
    "      \"Mean value in Cyto_GR_avg_int: \", int(complete_df['Cyto_GR_avg_int'].mean()),'\\n', \n",
    "      \"Min value in Cyto_GR_avg_int: \", int(complete_df['Cyto_GR_avg_int'].min()))\n",
    "# Set title and labels\n",
    "plt.title('Histogram of Cyto_GR_avg_int')\n",
    "plt.xlabel('Cyto_GR_avg_int')\n",
    "plt.ylabel('Frequency')\n",
    "# Show the plot\n",
    "plt.show()"
   ]
  },
  {
   "cell_type": "code",
   "execution_count": null,
   "metadata": {},
   "outputs": [],
   "source": [
    "\n",
    "# Plot histogram\n",
    "plt.hist(complete_df['Nuc_DUSP1_avg_int'], bins=100, color='orangered', edgecolor='w')\n",
    "print(\"Max value in Nuc_DUSP1_avg_int: \", int(complete_df['Nuc_DUSP1_avg_int'].max()) ,'\\n', \n",
    "        \"Mean value in Nuc_DUSP1_avg_int: \", int(complete_df['Nuc_DUSP1_avg_int'].mean()),'\\n', \n",
    "        \"Min value in Nuc_DUSP1_avg_int: \", int(complete_df['Nuc_DUSP1_avg_int'].min()), '\\n',\n",
    "        \"Total Nuc_DUSP1_avg_int: \", int(complete_df['Nuc_DUSP1_avg_int'].sum()/10000 ) )\n",
    "# Set title and labels\n",
    "plt.title('Histogram of Nuc_DUSP1_avg_int')\n",
    "plt.xlabel('Nuc_DUSP1_avg_int')\n",
    "plt.ylabel('Frequency')\n",
    "# Show the plot\n",
    "plt.show()"
   ]
  },
  {
   "cell_type": "code",
   "execution_count": null,
   "metadata": {},
   "outputs": [],
   "source": [
    "# Plot histogram\n",
    "plt.hist(complete_df['Cyto_DUSP1_avg_int'], bins=100, color='orangered', edgecolor='w')\n",
    "print(\"Max value in Cyto_DUSP1_avg_int: \", int(complete_df['Cyto_DUSP1_avg_int'].max()) ,'\\n', \n",
    "      \"Mean value in Cyto_DUSP1_avg_int: \", int(complete_df['Cyto_DUSP1_avg_int'].mean()),'\\n', \n",
    "      \"Min value in Cyto_DUSP1_avg_int: \", int(complete_df['Cyto_DUSP1_avg_int'].min()), '\\n',\n",
    "      \"Total Cyto_DUSP1_avg_int: \", int(complete_df['Cyto_DUSP1_avg_int'].sum()/10000 ) )\n",
    "# Set title and labels\n",
    "plt.title('Histogram of Cyto_DUSP1_avg_int')\n",
    "plt.xlabel('Cyto_DUSP1_avg_int')\n",
    "plt.ylabel('Frequency')\n",
    "# Show the plot\n",
    "plt.show()"
   ]
  },
  {
   "cell_type": "code",
   "execution_count": null,
   "metadata": {},
   "outputs": [],
   "source": [
    "# Plot histogram\n",
    "plt.hist(complete_df['Cyto_DUSP1_avg_int'], bins=80, color='orangered', edgecolor='w', alpha=0.5, label='Cyto_DUSP1_avg_int')\n",
    "plt.hist(complete_df['Nuc_DUSP1_avg_int'], bins=80, color='blue', edgecolor='w', alpha=0.4, label='Nuc_DUSP1_avg_int')\n",
    "plt.xlim([650, 1800])\n",
    "# Set title and labels\n",
    "plt.title('Histogram of Nuc_DUSP1_avg_int and Cyto_DUSP1_avg_int')\n",
    "plt.xlabel('Nuc_DUSP1_avg_int')\n",
    "plt.ylabel('Frequency')\n",
    "# Add legend\n",
    "plt.legend()\n",
    "# Show the plot\n",
    "plt.show()"
   ]
  },
  {
   "cell_type": "code",
   "execution_count": null,
   "metadata": {},
   "outputs": [],
   "source": [
    "\n",
    "# Plot histogram\n",
    "plt.hist(complete_df['RNA_DUSP1_nuc'], bins=100, color='orangered', edgecolor='w')\n",
    "print(\"Max value in RNA_DUSP1_nuc: \", int(complete_df['RNA_DUSP1_nuc'].max()) ,'\\n', \n",
    "        \"Mean value in RNA_DUSP1_nuc: \", int(complete_df['RNA_DUSP1_nuc'].mean()),'\\n', \n",
    "        \"Min value in RNA_DUSP1_nuc: \", int(complete_df['RNA_DUSP1_nuc'].min()))\n",
    "# Set title and labels\n",
    "plt.title('Histogram of RNA_DUSP1_nuc')\n",
    "plt.xlabel('RNA_DUSP1_nuc')\n",
    "plt.ylabel('Frequency')\n",
    "# Show the plot\n",
    "plt.show()"
   ]
  },
  {
   "cell_type": "code",
   "execution_count": null,
   "metadata": {},
   "outputs": [],
   "source": [
    "# Plot histogram\n",
    "plt.hist(complete_df['RNA_DUSP1_cyto'], bins=100, color='orangered', edgecolor='w')\n",
    "print(\"Max value in RNA_DUSP1_cyto: \", int(complete_df['RNA_DUSP1_cyto'].max()) ,'\\n', \n",
    "        \"Mean value in RNA_DUSP1_cyto: \", int(complete_df['RNA_DUSP1_cyto'].mean()),'\\n', \n",
    "        \"Min value in RNA_DUSP1_cyto: \", int(complete_df['RNA_DUSP1_cyto'].min()))\n",
    "# Set title and labels\n",
    "plt.title('Histogram of RNA_DUSP1_cyto')\n",
    "plt.xlabel('RNA_DUSP1_cyto')\n",
    "plt.ylabel('Frequency')\n",
    "# Show the plot\n",
    "plt.show()"
   ]
  },
  {
   "cell_type": "code",
   "execution_count": null,
   "metadata": {},
   "outputs": [],
   "source": [
    "# Plot histogram\n",
    "plt.hist(complete_df['DUSP1_ts_size_0'], bins=200, color='orangered', edgecolor='w')\n",
    "print(\"Max value in DUSP1_ts_size_0: \", int(complete_df['DUSP1_ts_size_0'].max()) ,'\\n', \n",
    "        \"Mean value in DUSP1_ts_size_0: \", int(complete_df['DUSP1_ts_size_0'].mean()),'\\n', \n",
    "        \"Min value in DUSP1_ts_size_0: \", int(complete_df['DUSP1_ts_size_0'].min()))\n",
    "# Set title and labels\n",
    "plt.xlim([0, 50])\n",
    "plt.title('Histogram of DUSP1_ts_size_0')\n",
    "plt.xlabel('DUSP1_ts_size_0')\n",
    "plt.ylabel('Frequency')\n",
    "# Show the plot\n",
    "plt.show()"
   ]
  },
  {
   "cell_type": "code",
   "execution_count": null,
   "metadata": {},
   "outputs": [],
   "source": [
    "selected_rows = complete_df[complete_df['DUSP1_ts_size_0'] > 200]\n",
    "selected_rows"
   ]
  },
  {
   "cell_type": "code",
   "execution_count": null,
   "metadata": {},
   "outputs": [],
   "source": [
    "# Plot histogram\n",
    "plt.hist(complete_df['DUSP1_ts_size_1'], bins=20, color='orangered', edgecolor='w')\n",
    "print(\"Max value in DUSP1_ts_size_1: \", int(complete_df['DUSP1_ts_size_1'].max()) ,'\\n', \n",
    "        \"Mean value in DUSP1_ts_size_1: \", int(complete_df['DUSP1_ts_size_1'].mean()),'\\n', \n",
    "        \"Min value in DUSP1_ts_size_1: \", int(complete_df['DUSP1_ts_size_1'].min()))\n",
    "# Set title and labels\n",
    "#plt.xlim([00, 50])\n",
    "plt.title('Histogram of DUSP1_ts_size_1')\n",
    "plt.xlabel('DUSP1_ts_size_1')\n",
    "plt.ylabel('Frequency')\n",
    "# Show the plot\n",
    "plt.show()"
   ]
  },
  {
   "cell_type": "code",
   "execution_count": null,
   "metadata": {},
   "outputs": [],
   "source": [
    "# Plot histogram\n",
    "plt.hist(complete_df['DUSP1_ts_size_2'], bins=20, color='orangered', edgecolor='w')\n",
    "print(\"Max value in DUSP1_ts_size_2: \", int(complete_df['DUSP1_ts_size_2'].max()) ,'\\n', \n",
    "        \"Mean value in DUSP1_ts_size_2: \", int(complete_df['DUSP1_ts_size_2'].mean()),'\\n', \n",
    "        \"Min value in DUSP1_ts_size_2: \", int(complete_df['DUSP1_ts_size_2'].min()))\n",
    "# Set title and labels\n",
    "plt.title('Histogram of DUSP1_ts_size_2')\n",
    "plt.xlabel('DUSP1_ts_size_2')\n",
    "plt.ylabel('Frequency')\n",
    "# Show the plot\n",
    "plt.show()"
   ]
  },
  {
   "cell_type": "code",
   "execution_count": null,
   "metadata": {},
   "outputs": [],
   "source": [
    "# Plot histogram\n",
    "plt.hist(complete_df['DUSP1_ts_size_3'], bins=20, color='orangered', edgecolor='w')\n",
    "print(\"Max value in DUSP1_ts_size_3: \", int(complete_df['DUSP1_ts_size_3'].max()) ,'\\n', \n",
    "        \"Mean value in DUSP1_ts_size_3: \", int(complete_df['DUSP1_ts_size_3'].mean()),'\\n', \n",
    "        \"Min value in DUSP1_ts_size_3: \", int(complete_df['DUSP1_ts_size_3'].min()))\n",
    "# Set title and labels\n",
    "plt.title('Histogram of DUSP1_ts_size_3')\n",
    "plt.xlabel('DUSP1_ts_size_3')\n",
    "plt.ylabel('Frequency')\n",
    "# Show the plot\n",
    "plt.show()"
   ]
  },
  {
   "cell_type": "code",
   "execution_count": null,
   "metadata": {},
   "outputs": [],
   "source": []
  }
 ],
 "metadata": {
  "kernelspec": {
   "display_name": "base",
   "language": "python",
   "name": "python3"
  },
  "language_info": {
   "codemirror_mode": {
    "name": "ipython",
    "version": 3
   },
   "file_extension": ".py",
   "mimetype": "text/x-python",
   "name": "python",
   "nbconvert_exporter": "python",
   "pygments_lexer": "ipython3",
   "version": "3.8.12"
  }
 },
 "nbformat": 4,
 "nbformat_minor": 2
}
