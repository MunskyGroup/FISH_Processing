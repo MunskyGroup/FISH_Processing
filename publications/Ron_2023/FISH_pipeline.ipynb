{
 "cells": [
  {
   "attachments": {},
   "cell_type": "markdown",
   "id": "d494faaa",
   "metadata": {},
   "source": [
    "# FISH - Pipeline - A Python interactive notebook to process FISH data\n",
    "\n",
    "```\n",
    "Author: Luis U. Aguilera\n",
    "Contact Info: luis.aguilera@colostate.edu\n",
    "\n",
    "Copyright (c) 2021 Munsky Group \n",
    "Colorado State University \n",
    "Licensed under BSD 3-Clause License.\n",
    "```"
   ]
  },
  {
   "attachments": {},
   "cell_type": "markdown",
   "id": "d5465534",
   "metadata": {},
   "source": [
    "### Notebook summary \n",
    "\n",
    "\n",
    "- Load a directory with microscope FISH images\n",
    "- Establish a connection to Network-attached storage (NAS) using [pysmb](https://github.com/miketeo/pysmb)\n",
    "- Perform cell segmentation using [Cellpose](https://github.com/MouseLand/cellpose)\n",
    "- Perform spot detection using [Big-FISH](https://github.com/fish-quant/big-fish)\n",
    "- Datamanagement using Pandas\n",
    "\n",
    "----"
   ]
  },
  {
   "attachments": {},
   "cell_type": "markdown",
   "id": "6e1f620b",
   "metadata": {},
   "source": [
    "### Libraries"
   ]
  },
  {
   "cell_type": "code",
   "execution_count": null,
   "id": "ec7c8aea",
   "metadata": {},
   "outputs": [],
   "source": [
    "# Importing libraries\n",
    "import sys\n",
    "import pathlib\n",
    "import warnings\n",
    "warnings.filterwarnings(\"ignore\")"
   ]
  },
  {
   "attachments": {},
   "cell_type": "markdown",
   "id": "9d558787",
   "metadata": {},
   "source": [
    "### Path to source directories"
   ]
  },
  {
   "cell_type": "code",
   "execution_count": null,
   "id": "fbf289c0",
   "metadata": {},
   "outputs": [],
   "source": [
    "# Defining directories\n",
    "current_dir = pathlib.Path().absolute()\n",
    "fa_dir = current_dir.parents[1].joinpath('src')\n",
    "\n",
    "# Importing fish_analyses module\n",
    "sys.path.append(str(fa_dir))\n",
    "import fish_analyses as fa"
   ]
  },
  {
   "cell_type": "code",
   "execution_count": null,
   "id": "3d321ee7",
   "metadata": {},
   "outputs": [],
   "source": [
    "fa.Banner().print_banner()"
   ]
  },
  {
   "attachments": {},
   "cell_type": "markdown",
   "id": "3aa72c56",
   "metadata": {},
   "source": [
    "----\n",
    "\n",
    "# Parameters defined by the user \n",
    "\n",
    "----"
   ]
  },
  {
   "attachments": {},
   "cell_type": "markdown",
   "id": "2d70c1f2",
   "metadata": {},
   "source": [
    "### Paths to images"
   ]
  },
  {
   "cell_type": "code",
   "execution_count": null,
   "id": "3aef9d74",
   "metadata": {},
   "outputs": [],
   "source": [
    "# FISH_ICC=(\\\n",
    "# 'smFISH_images/Eric_smFISH_images/20230626_DUSP1GR_DexStep/DUSP1_GR_Dex100nM_0min_062123' \\\n",
    "# 'smFISH_images/Eric_smFISH_images/20230626_DUSP1GR_DexStep/DUSP1_GR_Dex100nM_20min_062123' \\\n",
    "# 'smFISH_images/Eric_smFISH_images/20230626_DUSP1GR_DexStep/DUSP1_GR_Dex100nM_40min_062123' \\\n",
    "# 'smFISH_images/Eric_smFISH_images/20230626_DUSP1GR_DexStep/DUSP1_GR_Dex100nM_75min_062123' \\\n",
    "# 'smFISH_images/Eric_smFISH_images/20230626_DUSP1GR_DexStep/DUSP1_GR_Dex100nM_90min_062123' \\\n",
    "# 'smFISH_images/Eric_smFISH_images/20230626_DUSP1GR_DexStep/DUSP1_GR_Dex100nM_150min_062123' \\\n",
    "# )\n",
    "\n",
    "# FISH_ICC_Masks=(\\\n",
    "# 'smFISH_images/Eric_smFISH_images/20230626_DUSP1GR_DexStep/DUSP1_GR_Dex100nM_0min_062123/masks_DUSP1_GR_Dex100nM_0min_062123___nuc_100__cyto_200.zip' \\\n",
    "# 'smFISH_images/Eric_smFISH_images/20230626_DUSP1GR_DexStep/DUSP1_GR_Dex100nM_20min_062123/masks_DUSP1_GR_Dex100nM_20min_062123___nuc_100__cyto_200.zip' \\\n",
    "# 'smFISH_images/Eric_smFISH_images/20230626_DUSP1GR_DexStep/DUSP1_GR_Dex100nM_40min_062123/masks_DUSP1_GR_Dex100nM_40min_062123___nuc_100__cyto_200.zip' \\\n",
    "# 'smFISH_images/Eric_smFISH_images/20230626_DUSP1GR_DexStep/DUSP1_GR_Dex100nM_75min_062123/masks_DUSP1_GR_Dex100nM_75min_062123___nuc_100__cyto_200.zip' \\\n",
    "# 'smFISH_images/Eric_smFISH_images/20230626_DUSP1GR_DexStep/DUSP1_GR_Dex100nM_90min_062123/masks_DUSP1_GR_Dex100nM_90min_062123___nuc_100__cyto_200.zip' \\\n",
    "# 'smFISH_images/Eric_smFISH_images/20230626_DUSP1GR_DexStep/DUSP1_GR_Dex100nM_150min_062123/masks_DUSP1_GR_Dex100nM_150min_062123___nuc_100__cyto_200.zip' \\\n",
    "# )"
   ]
  },
  {
   "cell_type": "code",
   "execution_count": null,
   "id": "55e130a5",
   "metadata": {},
   "outputs": [],
   "source": [
    "# Path to credentials\n",
    "desktop_path = pathlib.Path.home()/'Desktop'\n",
    "path_to_config_file = desktop_path.joinpath('config.yml')\n",
    "# Path to images and masks\n",
    "data_folder_path = pathlib.Path('smFISH_images/Eric_smFISH_images/20230626_DUSP1GR_DexStep/DUSP1_GR_Dex100nM_0min_062123')\n",
    "path_to_masks_dir = pathlib.Path('smFISH_images/Eric_smFISH_images/20230626_DUSP1GR_DexStep/DUSP1_GR_Dex100nM_0min_062123/masks_DUSP1_GR_Dex100nM_0min_062123___nuc_100__cyto_200.zip')"
   ]
  },
  {
   "cell_type": "code",
   "execution_count": null,
   "id": "04d42692",
   "metadata": {},
   "outputs": [],
   "source": [
    "diameter_nucleus=100                 # Approximate nucleus size in pixels\n",
    "diameter_cytosol=200                 # Approximate cytosol size in pixels\n",
    "psf_z=350                            # Theoretical size of the PSF emitted by a [rna] spot in the z plan, in nanometers.\n",
    "psf_yx=160                           # Theoretical size of the PSF emitted by a [rna] spot in the yx plan, in nanometers.\n",
    "voxel_size_z=500                     # Microscope conversion px to nanometers in the z axis.\n",
    "voxel_size_yx=160                    # Microscope conversion px to nanometers in the xy axis.\n",
    "channels_with_nucleus=[3]                  # Channel to pass to python for nucleus segmentation\n",
    "channels_with_cytosol=[2]                 # Channel to pass to python for cytosol segmentation\n",
    "channels_with_FISH=[0,1]                   # Channel to pass to python for spot detection\n",
    "send_data_to_NAS=0                   # If data sent back to NAS use 1.\n",
    "download_data_from_NAS=1             # Download data from NAS\n",
    "#path_to_masks_dir='None'             # 'Test/test_dir/masks_test_dir___nuc_120__cyto_220.zip'\n",
    "save_all_images=0                    # If true, it shows a all planes for the FISH plot detection.\n",
    "threshold_for_spot_detection=None  # Thresholds for spot detection. Use an integer for a defined value, or 'None' for automatic detection.\n",
    "save_filtered_images=0               #         \n",
    "optimization_segmentation_method='default' # optimization_segmentation_method = 'default' 'intensity_segmentation' 'z_slice_segmentation_marker', 'gaussian_filter_segmentation' , None\n",
    "remove_z_slices_borders=0       # Use this flag to remove 2 z-slices from the top and bottom of the stack. This is needed to remove z-slices that are out of focus.\n",
    "remove_out_of_focus_images=0         # Flag to remove out of focus images\n",
    "save_pdf_report=1\n",
    "# ######### Parameters to reformat images to standard format ########\n",
    "convert_to_standard_format=0\n",
    "number_color_channels=0\n",
    "number_of_fov=0\n",
    "show_plots=1"
   ]
  },
  {
   "attachments": {},
   "cell_type": "markdown",
   "id": "b93f8f3b",
   "metadata": {},
   "source": [
    "### Parameters for segmentation and spot detection"
   ]
  },
  {
   "cell_type": "code",
   "execution_count": null,
   "id": "a60c901e",
   "metadata": {},
   "outputs": [],
   "source": [
    "# diameter_nucleus=100                         # Approximate nucleus size in pixels\n",
    "# diameter_cytosol=180                         # Approximate cytosol size in pixels\n",
    "# psf_z=350                                    # Theoretical size of the PSF emitted by a [rna] spot in the z plan, in nanometers\n",
    "# psf_yx=160                                   # Theoretical size of the PSF emitted by a [rna] spot in the yx plan, in nanometers\n",
    "# voxel_size_z=500                             # Microscope conversion px to nanometers in the z axis.\n",
    "# voxel_size_yx=160                            # Microscope conversion px to nanometers in the xy axis.\n",
    "# channels_with_nucleus= [2]                   # Channel to pass to python for nucleus segmentation\n",
    "# channels_with_cytosol=[1]                    # Channel to pass to python for cytosol segmentation\n",
    "# channels_with_FISH=[0]                       # Channel to pass to python for spot detection\n",
    "# optimization_segmentation_method='default'   # optimization_segmentation_method = 'default', 'intensity_segmentation' 'z_slice_segmentation', 'gaussian_filter_segmentation' , None\n",
    "# save_all_images=0                            # To save all images for all the z-slices\n",
    "# save_filtered_images = False                 # To save filtered images.\n",
    "number_of_images_to_process = None           # Use an integer to process a subset of images. None is used to indicate that all images need to be processed.\n",
    "minimum_spots_cluster = 4                    # Minimal value used to define a cluster.\n",
    "# threshold_for_spot_detection=None            # To select an specific threshold for spot detection. The default is None, and use automated threshold detection.\n",
    "# show_plots=1                                 # Flag to show plots\n",
    "# send_data_to_NAS=0                           # If data sent back to NAS use 1\n",
    "# download_data_from_NAS=1                     # If data downloaded from NAS use 1\n",
    "# remove_z_slices_borders=0                    # Use this flag to remove 2 z-slices from the top and bottom of the stack. This is needed to remove z-slices that are out of focus.\n",
    "# save_pdf_report=False\n"
   ]
  },
  {
   "attachments": {},
   "cell_type": "markdown",
   "id": "887f8361",
   "metadata": {},
   "source": [
    "## Downloading data from NAS"
   ]
  },
  {
   "cell_type": "code",
   "execution_count": null,
   "id": "af176d76",
   "metadata": {},
   "outputs": [],
   "source": [
    "%%capture\n",
    "# Download data from NAS\n",
    "convert_to_standard_format = False\n",
    "if convert_to_standard_format == False:\n",
    "    local_data_dir, masks_dir, _, _, _,list_images = fa.Utilities().read_images_from_folder( path_to_config_file, data_folder_path, path_to_masks_dir,  download_data_from_NAS)\n",
    "    number_color_channels = list_images[0].shape[-1]\n",
    "else:\n",
    "    ####################################################################\n",
    "    #### Parameters to reformat images from the terminator scope ####\n",
    "    number_color_channels = 0                    # Only use if it is needed to convert to standard format\n",
    "    number_of_fov = 0                            # Only use if it is needed to convert to standard format     \n",
    "    ####################################################################\n",
    "    local_data_dir, masks_dir, _, _, _= fa.Utilities().convert_to_standard_format(data_folder_path=data_folder_path, \n",
    "                                                                                path_to_config_file=path_to_config_file, \n",
    "                                                                                download_data_from_NAS = download_data_from_NAS,\n",
    "                                                                                number_color_channels=number_color_channels)"
   ]
  },
  {
   "attachments": {},
   "cell_type": "markdown",
   "id": "dba673cc",
   "metadata": {},
   "source": [
    "## Running the pipeline\n",
    "\n",
    "----"
   ]
  },
  {
   "cell_type": "code",
   "execution_count": null,
   "id": "bd3a9063",
   "metadata": {},
   "outputs": [],
   "source": [
    "dataframe_FISH,_,_,_,output_identification_string = fa.PipelineFISH(local_data_dir, channels_with_cytosol, channels_with_nucleus, channels_with_FISH,diameter_nucleus, \n",
    "                                       diameter_cytosol, minimum_spots_cluster, masks_dir=masks_dir,  voxel_size_z=voxel_size_z,\n",
    "                                       voxel_size_yx=voxel_size_yx ,psf_z=psf_z,psf_yx=psf_yx, show_plots=show_plots,  \n",
    "                                       file_name_str=data_folder_path.name, \n",
    "                                       optimization_segmentation_method=optimization_segmentation_method,\n",
    "                                       save_all_images=save_all_images,\n",
    "                                       threshold_for_spot_detection=threshold_for_spot_detection,\n",
    "                                       save_filtered_images=save_filtered_images,\n",
    "                                       number_of_images_to_process=number_of_images_to_process,\n",
    "                                       remove_z_slices_borders=remove_z_slices_borders,\n",
    "                                       save_pdf_report=save_pdf_report).run()"
   ]
  },
  {
   "attachments": {},
   "cell_type": "markdown",
   "id": "435ce599",
   "metadata": {},
   "source": [
    "## Extracting data from the dataframe\n",
    "\n",
    "----"
   ]
  },
  {
   "cell_type": "code",
   "execution_count": null,
   "id": "05ebfd58",
   "metadata": {},
   "outputs": [],
   "source": [
    "# Be aware that the code keeps track of cells without spots. In the data frame, the fields for cells without spots are populated with -1 values.\n",
    "dataframe_FISH.head()"
   ]
  },
  {
   "attachments": {},
   "cell_type": "markdown",
   "id": "6b9b3e73",
   "metadata": {},
   "source": [
    "## Plots"
   ]
  },
  {
   "cell_type": "code",
   "execution_count": null,
   "id": "352b47cc",
   "metadata": {},
   "outputs": [],
   "source": [
    "list_files_distributions = fa.Plots().plot_all_distributions(dataframe_FISH,channels_with_cytosol, channels_with_nucleus,channels_with_FISH,minimum_spots_cluster,output_identification_string )"
   ]
  },
  {
   "cell_type": "code",
   "execution_count": null,
   "id": "6f40d8ce",
   "metadata": {},
   "outputs": [],
   "source": [
    "file_plots_bleed_thru = fa.Plots().plot_scatter_bleed_thru(dataframe_FISH, channels_with_cytosol, channels_with_nucleus,output_identification_string)"
   ]
  },
  {
   "cell_type": "code",
   "execution_count": null,
   "id": "04286c61",
   "metadata": {},
   "outputs": [],
   "source": [
    "# plots for cytosol nucleus intensity ratios\n",
    "if not fa.Utilities().is_None(channels_with_cytosol):\n",
    "    file_plots_int_ratio = fa.Plots().plot_nuc_cyto_int_ratio_distributions(dataframe_FISH,output_identification_string=None,plot_for_pseudo_cytosol=False)\n",
    "else:\n",
    "    file_plots_int_ratio = None\n",
    "file_plots_int_pseudo_ratio = fa.Plots().plot_nuc_cyto_int_ratio_distributions(dataframe_FISH,output_identification_string=None,plot_for_pseudo_cytosol=True)\n"
   ]
  },
  {
   "attachments": {},
   "cell_type": "markdown",
   "id": "44ccedfd",
   "metadata": {},
   "source": [
    "## Saving data"
   ]
  },
  {
   "cell_type": "code",
   "execution_count": null,
   "id": "56c1ffc2",
   "metadata": {},
   "outputs": [],
   "source": [
    "# Saving data and plots, and sending data to NAS\n",
    "fa.Utilities().save_output_to_folder(output_identification_string, data_folder_path, \n",
    "                                   list_files_distributions=list_files_distributions,\n",
    "                                   file_plots_bleed_thru=file_plots_bleed_thru,\n",
    "                                   file_plots_int_ratio=file_plots_int_ratio,\n",
    "                                   file_plots_int_pseudo_ratio=file_plots_int_pseudo_ratio,\n",
    "                                   channels_with_FISH=channels_with_FISH,save_pdf_report=save_pdf_report)\n",
    "\n",
    "# sending data to NAS\n",
    "analysis_folder_name, mask_dir_complete_name = fa.Utilities().sending_data_to_NAS(output_identification_string, data_folder_path, path_to_config_file, path_to_masks_dir, diameter_nucleus, diameter_cytosol, send_data_to_NAS, masks_dir)\n",
    "\n",
    "# Moving the complete analysis folder to final analyses folder \n",
    "fa.Utilities().move_results_to_analyses_folder( output_identification_string, data_folder_path, mask_dir_complete_name, path_to_masks_dir, save_filtered_images, download_data_from_NAS )"
   ]
  },
  {
   "cell_type": "code",
   "execution_count": 1,
   "id": "a3404a0a",
   "metadata": {},
   "outputs": [
    {
     "ename": "RuntimeError",
     "evalue": "No active exception to reraise",
     "output_type": "error",
     "traceback": [
      "\u001b[0;31m---------------------------------------------------------------------------\u001b[0m",
      "\u001b[0;31mRuntimeError\u001b[0m                              Traceback (most recent call last)",
      "\u001b[1;32m/home/luisub/Desktop/FISH_Processing/publications/Ron_2023/FISH_pipeline.ipynb Cell 27\u001b[0m in \u001b[0;36m<module>\u001b[0;34m\u001b[0m\n\u001b[0;32m----> <a href='vscode-notebook-cell://ssh-remote%2B7b22686f73744e616d65223a2253636f74745f4c756973227d/home/luisub/Desktop/FISH_Processing/publications/Ron_2023/FISH_pipeline.ipynb#X35sdnNjb2RlLXJlbW90ZQ%3D%3D?line=0'>1</a>\u001b[0m \u001b[39mraise\u001b[39;00m\n",
      "\u001b[0;31mRuntimeError\u001b[0m: No active exception to reraise"
     ]
    }
   ],
   "source": [
    "raise"
   ]
  },
  {
   "cell_type": "code",
   "execution_count": null,
   "id": "5fbc8422",
   "metadata": {},
   "outputs": [],
   "source": [
    "# Calculating ts intensity\n",
    "dataframe = dataframe_FISH.copy()\n",
    "dataframe.columns"
   ]
  },
  {
   "cell_type": "code",
   "execution_count": null,
   "id": "55733955",
   "metadata": {},
   "outputs": [],
   "source": [
    "dataframe.head()"
   ]
  },
  {
   "cell_type": "code",
   "execution_count": null,
   "id": "040f52d2",
   "metadata": {},
   "outputs": [],
   "source": [
    "dataframe.loc[ (dataframe['is_cluster']==1) ]"
   ]
  },
  {
   "cell_type": "code",
   "execution_count": null,
   "id": "42d20224",
   "metadata": {},
   "outputs": [],
   "source": [
    "# Extracting TS intensity. for all cells\n",
    "\n",
    "number_cells = dataframe['cell_id'].nunique()\n",
    "\n",
    "minimum_spots_cluster = 2\n",
    "\n",
    "ts_size =  dataframe.loc[ (dataframe['is_cluster']==True) & (dataframe['is_nuc']==True) &  (dataframe['cluster_size']>=minimum_spots_cluster)  & (dataframe['is_cell_fragmented']!=-1)   ].cluster_size.values\n",
    "\n",
    "ts_size"
   ]
  },
  {
   "cell_type": "code",
   "execution_count": null,
   "id": "d4288436",
   "metadata": {},
   "outputs": [],
   "source": []
  },
  {
   "cell_type": "code",
   "execution_count": null,
   "id": "1513b6f9",
   "metadata": {},
   "outputs": [],
   "source": [
    "#list_ts = sorted(dataframe.loc[ (dataframe['cell_id']==df_index) & (dataframe['is_cluster']==True) &   (dataframe['cluster_size']>=minimum_spots_cluster)  ].cluster_size.values, reverse=True)\n",
    "#min_length = min(len(ts_array), len(list_ts))\n",
    "#ts_array[:min_length] = list_ts[:min_length]\n",
    "# Size of the nucleus of each cell\n",
    "#nuc_area = dataframe.loc[   (dataframe['cell_id']==df_index) ].nuc_area_px.values[0]   "
   ]
  },
  {
   "cell_type": "code",
   "execution_count": null,
   "id": "6a632bee",
   "metadata": {},
   "outputs": [],
   "source": []
  },
  {
   "cell_type": "code",
   "execution_count": null,
   "id": "29b315cb",
   "metadata": {},
   "outputs": [],
   "source": []
  },
  {
   "cell_type": "code",
   "execution_count": null,
   "id": "e03ae2e8",
   "metadata": {},
   "outputs": [],
   "source": []
  }
 ],
 "metadata": {
  "interpreter": {
   "hash": "f123aec772437107f61ad48bdc3e74202fc8f652e2fa44805dd8339e0a72f809"
  },
  "kernelspec": {
   "display_name": "Python 3.6.13 64-bit ('FISH_processing': conda)",
   "name": "python3"
  },
  "language_info": {
   "codemirror_mode": {
    "name": "ipython",
    "version": 3
   },
   "file_extension": ".py",
   "mimetype": "text/x-python",
   "name": "python",
   "nbconvert_exporter": "python",
   "pygments_lexer": "ipython3",
   "version": "3.8.12"
  }
 },
 "nbformat": 4,
 "nbformat_minor": 5
}
