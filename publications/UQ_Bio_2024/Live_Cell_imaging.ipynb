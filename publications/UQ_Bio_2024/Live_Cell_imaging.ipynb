{
 "cells": [
  {
   "cell_type": "code",
   "execution_count": null,
   "metadata": {},
   "outputs": [],
   "source": [
    "# Importing libraries\n",
    "import sys\n",
    "import pathlib\n",
    "import warnings\n",
    "import numpy as np\n",
    "from matplotlib_scalebar.scalebar import ScaleBar\n",
    "import matplotlib.pyplot as plt\n",
    "from skimage.io import imread\n",
    "#from  matplotlib.ticker import FuncFormatter\n",
    "#from matplotlib_scalebar.scalebar import ScaleBar\n",
    "from skimage.filters import gaussian\n",
    "from skimage import img_as_float64, img_as_uint\n",
    "font_props = {'size': 16}\n",
    "warnings.filterwarnings(\"ignore\")"
   ]
  },
  {
   "cell_type": "code",
   "execution_count": null,
   "metadata": {},
   "outputs": [],
   "source": [
    "# Defining directories\n",
    "current_dir = pathlib.Path().absolute()\n",
    "fa_dir = current_dir.parents[1].joinpath('src')\n",
    "# Importing fish_analyses module\n",
    "sys.path.append(str(fa_dir))\n",
    "import fish_analyses as fa\n",
    "# Path to credentials\n",
    "desktop_path = pathlib.Path.home()/'Desktop'\n",
    "path_to_config_file = desktop_path.joinpath('config.yml')"
   ]
  },
  {
   "cell_type": "code",
   "execution_count": null,
   "metadata": {},
   "outputs": [],
   "source": [
    "data_folder_path =desktop_path.joinpath('FISH_Processing','dataBases','20190909_u2os_multiplex','smFLAG-KDM5B','MAX_Cell01.tif')\n",
    "# plasmid image located here 'publications/UQ_Bio_2024/images_for_notebooks/pUB_smFLAG-KDM5B-MS2.png'"
   ]
  },
  {
   "cell_type": "code",
   "execution_count": null,
   "metadata": {},
   "outputs": [],
   "source": [
    "# Load image\n",
    "video = imread(str(data_folder_path))\n",
    "print(video.shape)\n",
    "# Color channels used for paper [0,1] \n",
    "# Ch 0 = 561 # mRNA\n",
    "# Ch1 488 # KDM5B\n"
   ]
  },
  {
   "cell_type": "code",
   "execution_count": null,
   "metadata": {},
   "outputs": [],
   "source": [
    "# show a given time point of the image for a given color channel. Use red and Green channels\n",
    "def plot_image(video, selected_time_point, selected_channel, selected_colormap, max_percentile, min_percentile,selected_x_range=None,selected_y_range=None, microns_per_pixel=0.13,show_scalebar=True,show_box=False, show_zoom_in=False):\n",
    "    if not (selected_x_range is None) and (show_zoom_in == True):\n",
    "        temp_video = video[selected_time_point,selected_x_range[0]:selected_x_range[1] ,selected_y_range[0]:selected_y_range[1],selected_channel]\n",
    "    else:\n",
    "        temp_video = video[selected_time_point,: ,:,selected_channel] \n",
    "    # Using a gaussian filter to smooth the image\n",
    "    temp_video = img_as_uint(gaussian(img_as_float64(temp_video), sigma=1))\n",
    "    max_visualization_value = np.percentile(temp_video,max_percentile)\n",
    "    min_visualization_value = np.percentile(temp_video, min_percentile)\n",
    "    fig, ax = plt.subplots(1, 1, figsize=(10, 10))\n",
    "    ax.imshow( temp_video ,cmap = selected_colormap, vmin=min_visualization_value, vmax=max_visualization_value)\n",
    "    # Plotting a yellow box around the selected region\n",
    "    if show_box ==True:\n",
    "        ax.plot([selected_y_range[0], selected_y_range[1]], [selected_x_range[0], selected_x_range[0]], '#808080', lw=4)\n",
    "        ax.plot([selected_y_range[0], selected_y_range[1]], [selected_x_range[1], selected_x_range[1]], '#808080', lw=4)\n",
    "        ax.plot([selected_y_range[0], selected_y_range[0]], [selected_x_range[0], selected_x_range[1]], '#808080', lw=4)\n",
    "        ax.plot([selected_y_range[1], selected_y_range[1]], [selected_x_range[0], selected_x_range[1]], '#808080', lw=4)\n",
    "    if show_scalebar:\n",
    "        scalebar = ScaleBar(dx = microns_per_pixel, units= 'um', length_fraction=0.25,location='lower right',box_color='k',color='w', font_properties=font_props)\n",
    "        ax.add_artist(scalebar)\n",
    "    ax.axis('off')\n",
    "    plt.show()"
   ]
  },
  {
   "cell_type": "code",
   "execution_count": null,
   "metadata": {},
   "outputs": [],
   "source": [
    "# Selected ranges and time points\n",
    "selected_time_point = 0 # times used for paper [0]\n",
    "selected_x_range = [350,400]\n",
    "selected_y_range = [350,400]\n"
   ]
  },
  {
   "cell_type": "code",
   "execution_count": null,
   "metadata": {},
   "outputs": [],
   "source": [
    "plot_image(video, \n",
    "            selected_time_point=selected_time_point, \n",
    "            selected_channel=0, \n",
    "            selected_colormap= 'Reds_r', \n",
    "            max_percentile=99.9, \n",
    "            min_percentile=1,\n",
    "            selected_x_range = selected_x_range,\n",
    "            selected_y_range = selected_y_range,\n",
    "            show_scalebar=True,\n",
    "            show_box=True,\n",
    "            show_zoom_in= False,\n",
    "           )"
   ]
  },
  {
   "cell_type": "code",
   "execution_count": null,
   "metadata": {},
   "outputs": [],
   "source": [
    "plot_image(video, \n",
    "            selected_time_point=selected_time_point, \n",
    "            selected_channel=1, \n",
    "            selected_colormap= 'Greens_r', \n",
    "            max_percentile=99.9, \n",
    "            min_percentile=1,\n",
    "            selected_x_range = selected_x_range,\n",
    "            selected_y_range = selected_y_range,\n",
    "            show_scalebar=True,\n",
    "            show_box=True,\n",
    "            show_zoom_in= False,\n",
    "           )"
   ]
  },
  {
   "cell_type": "code",
   "execution_count": null,
   "metadata": {},
   "outputs": [],
   "source": [
    "# Third Color channel contains no information.\n",
    "plot_image(video, \n",
    "            selected_time_point=selected_time_point, \n",
    "            selected_channel=2, \n",
    "            selected_colormap= 'Blues_r', \n",
    "            max_percentile=99.9, \n",
    "            min_percentile=1,\n",
    "            selected_x_range = selected_x_range,\n",
    "            selected_y_range = selected_y_range,\n",
    "            show_scalebar=True,\n",
    "            show_box=True,\n",
    "            show_zoom_in= False,\n",
    "           )"
   ]
  },
  {
   "cell_type": "code",
   "execution_count": null,
   "metadata": {},
   "outputs": [],
   "source": [
    "# plotting the subsection for channel 0\n",
    "plot_image(video, \n",
    "            selected_time_point=selected_time_point, \n",
    "            selected_channel=1, \n",
    "            selected_colormap= 'Reds_r', \n",
    "            max_percentile=99.9, \n",
    "            min_percentile=1,\n",
    "            selected_x_range=selected_x_range,\n",
    "            selected_y_range=selected_y_range,\n",
    "            show_scalebar=False,\n",
    "            show_zoom_in= True,\n",
    "           )"
   ]
  },
  {
   "cell_type": "code",
   "execution_count": null,
   "metadata": {},
   "outputs": [],
   "source": [
    "# plotting the subsection for channel 0\n",
    "plot_image(video, \n",
    "           selected_time_point=selected_time_point, \n",
    "           selected_channel=1, \n",
    "           selected_colormap= 'Greens_r', \n",
    "           max_percentile=99.9, \n",
    "           min_percentile=5,\n",
    "           selected_x_range=selected_x_range,\n",
    "           selected_y_range=selected_y_range,\n",
    "           show_scalebar=False,\n",
    "           show_zoom_in= True,\n",
    "           )"
   ]
  },
  {
   "cell_type": "markdown",
   "metadata": {},
   "source": [
    "# Image processing image"
   ]
  },
  {
   "cell_type": "code",
   "execution_count": null,
   "metadata": {},
   "outputs": [],
   "source": [
    "# show a given time point of the image for a given color channel. Use red and Green channels\n",
    "def plot_image_rgb(video, selected_time_point, max_percentile, min_percentile, selected_x_range=None,selected_y_range=None, microns_per_pixel=0.13,show_scalebar=True,show_box=False, show_zoom_in=False, use_gaussian_filter=True):\n",
    "    if not (selected_x_range is None) and (show_zoom_in == True):\n",
    "        temp_section = video[selected_time_point,selected_x_range[0]:selected_x_range[1] ,selected_y_range[0]:selected_y_range[1],:]\n",
    "    else:\n",
    "        temp_section= video[selected_time_point,: ,:,:] \n",
    "    \n",
    "    if use_gaussian_filter:\n",
    "        # Using a gaussian filter to smooth the image\n",
    "        number_channels = video.shape[3]\n",
    "        for i in range(number_channels):\n",
    "            temp_section[:,:,i] = img_as_uint(gaussian(img_as_float64(temp_section[:,:,i]), sigma=1))\n",
    "    temp_video=  fa.Utilities().convert_to_int8(image=temp_section ,min_percentile=min_percentile, max_percentile=max_percentile\n",
    "    # Plotting\n",
    "    fig, ax = plt.subplots(1, 1, figsize=(10, 10))\n",
    "    ax.imshow( temp_video)\n",
    "    #ax.imshow( temp_video, vmin=min_visualization_value, vmax=max_visualization_value)\n",
    "    # Plotting a yellow box around the selected region\n",
    "    if show_box ==True:\n",
    "        ax.plot([selected_y_range[0], selected_y_range[1]], [selected_x_range[0], selected_x_range[0]], '#808080', lw=4)\n",
    "        ax.plot([selected_y_range[0], selected_y_range[1]], [selected_x_range[1], selected_x_range[1]], '#808080', lw=4)\n",
    "        ax.plot([selected_y_range[0], selected_y_range[0]], [selected_x_range[0], selected_x_range[1]], '#808080', lw=4)\n",
    "        ax.plot([selected_y_range[1], selected_y_range[1]], [selected_x_range[0], selected_x_range[1]], '#808080', lw=4)\n",
    "    if show_scalebar:\n",
    "        scalebar = ScaleBar(dx = microns_per_pixel, units= 'um', length_fraction=0.25,location='lower right',box_color='k',color='w', font_properties=font_props)\n",
    "        ax.add_artist(scalebar)\n",
    "    ax.axis('off')\n",
    "    plt.show()"
   ]
  },
  {
   "cell_type": "code",
   "execution_count": null,
   "metadata": {},
   "outputs": [],
   "source": [
    "plot_image_rgb(video, \n",
    "            selected_time_point=selected_time_point, \n",
    "            max_percentile=99.9, \n",
    "            min_percentile=1,\n",
    "            selected_x_range = selected_x_range,\n",
    "            selected_y_range = selected_y_range,\n",
    "            show_scalebar=True,\n",
    "            show_box=True,\n",
    "            show_zoom_in= False,\n",
    "            use_gaussian_filter=False\n",
    "           )"
   ]
  },
  {
   "cell_type": "code",
   "execution_count": null,
   "metadata": {},
   "outputs": [],
   "source": []
  },
  {
   "cell_type": "code",
   "execution_count": null,
   "metadata": {},
   "outputs": [],
   "source": []
  },
  {
   "cell_type": "code",
   "execution_count": null,
   "metadata": {},
   "outputs": [],
   "source": []
  }
 ],
 "metadata": {
  "kernelspec": {
   "display_name": "FISH_processing",
   "language": "python",
   "name": "python3"
  },
  "language_info": {
   "codemirror_mode": {
    "name": "ipython",
    "version": 3
   },
   "file_extension": ".py",
   "mimetype": "text/x-python",
   "name": "python",
   "nbconvert_exporter": "python",
   "pygments_lexer": "ipython3",
   "version": "3.8.12"
  }
 },
 "nbformat": 4,
 "nbformat_minor": 2
}
