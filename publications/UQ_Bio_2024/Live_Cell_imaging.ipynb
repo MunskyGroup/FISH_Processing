{
 "cells": [
  {
   "cell_type": "code",
   "execution_count": null,
   "metadata": {},
   "outputs": [],
   "source": [
    "# Importing libraries\n",
    "import sys\n",
    "import pathlib\n",
    "import warnings\n",
    "import numpy as np\n",
    "from matplotlib_scalebar.scalebar import ScaleBar\n",
    "import matplotlib.pyplot as plt\n",
    "from skimage.io import imread\n",
    "#from  matplotlib.ticker import FuncFormatter\n",
    "#from matplotlib_scalebar.scalebar import ScaleBar\n",
    "from skimage.filters import gaussian\n",
    "from skimage import img_as_float64, img_as_uint\n",
    "from matplotlib.ticker import ScalarFormatter\n",
    "from matplotlib.ticker import FuncFormatter\n",
    "import matplotlib.patches as mpatches\n",
    "from matplotlib.colors import ListedColormap\n",
    "warnings.filterwarnings(\"ignore\")\n",
    "\n",
    "# Imoporting the library with the filter modules\n",
    "from skimage.filters import difference_of_gaussians\n",
    "import trackpy as tp # Library for particle tracking"
   ]
  },
  {
   "cell_type": "code",
   "execution_count": null,
   "metadata": {},
   "outputs": [],
   "source": [
    "# Importing rsnaped\n",
    "current_dir = pathlib.Path().absolute()\n",
    "rsnaped_dir=current_dir.parents[2].joinpath('rsnaped','rsnaped')\n",
    "sys.path.append(str(rsnaped_dir))\n",
    "import rsnaped as rsp"
   ]
  },
  {
   "cell_type": "code",
   "execution_count": null,
   "metadata": {},
   "outputs": [],
   "source": [
    "# big fish library\n",
    "import bigfish.stack as stack\n",
    "import bigfish.plot as plot\n",
    "import bigfish.detection as detection\n",
    "import bigfish.multistack as multistack"
   ]
  },
  {
   "cell_type": "code",
   "execution_count": null,
   "metadata": {},
   "outputs": [],
   "source": [
    "plt.rcParams.update({\n",
    "    'axes.labelsize': 16,\n",
    "    'axes.titlesize': 16,\n",
    "    'xtick.labelsize': 14,\n",
    "    'ytick.labelsize': 14,\n",
    "    'legend.fontsize': 12,\n",
    "})\n",
    "figSize=800\n",
    "font_props = {'size': 16}"
   ]
  },
  {
   "cell_type": "code",
   "execution_count": null,
   "metadata": {},
   "outputs": [],
   "source": [
    "# Defining directories\n",
    "current_dir = pathlib.Path().absolute()\n",
    "fa_dir = current_dir.parents[1].joinpath('src')\n",
    "# Importing fish_analyses module\n",
    "sys.path.append(str(fa_dir))\n",
    "import fish_analyses as fa\n",
    "# Path to credentials\n",
    "desktop_path = pathlib.Path.home()/'Desktop'\n",
    "path_to_config_file = desktop_path.joinpath('config.yml')"
   ]
  },
  {
   "cell_type": "code",
   "execution_count": null,
   "metadata": {},
   "outputs": [],
   "source": [
    "data_folder_path =desktop_path.joinpath('FISH_Processing','dataBases','20190909_u2os_multiplex','smFLAG-KDM5B','MAX_Cell01.tif')\n",
    "# plasmid image located here 'publications/UQ_Bio_2024/images_for_notebooks/pUB_smFLAG-KDM5B-MS2.png'"
   ]
  },
  {
   "cell_type": "markdown",
   "metadata": {},
   "source": [
    "<img src= https://github.com/MunskyGroup/FISH_Processing/raw/main/publications/UQ_Bio_2024/images_for_notebooks/pUB_smFLAG-KDM5B-MS2.png alt=\"drawing\" width=\"600\"/>"
   ]
  },
  {
   "cell_type": "code",
   "execution_count": null,
   "metadata": {},
   "outputs": [],
   "source": [
    "# Load image\n",
    "video = imread(str(data_folder_path))\n",
    "print(video.shape)\n",
    "# Color channels used for paper [0,1] \n",
    "# Ch 0 = 561 # mRNA\n",
    "# Ch1 488 # KDM5B\n",
    "# Ch2 does not contain information\n"
   ]
  },
  {
   "cell_type": "code",
   "execution_count": null,
   "metadata": {},
   "outputs": [],
   "source": [
    "# show a given time point of the image for a given color channel. Use red and Green channels\n",
    "def plot_image(video, selected_time_point, selected_channel, selected_colormap, max_percentile, min_percentile,selected_x_range=None,selected_y_range=None, microns_per_pixel=0.13,show_scalebar=True,show_box=False, show_zoom_in=False):\n",
    "    if not (selected_x_range is None) and (show_zoom_in == True):\n",
    "        temp_video = video[selected_time_point,selected_x_range[0]:selected_x_range[1] ,selected_y_range[0]:selected_y_range[1],selected_channel]\n",
    "    else:\n",
    "        temp_video = video[selected_time_point,: ,:,selected_channel] \n",
    "    # Using a gaussian filter to smooth the image\n",
    "    temp_video = img_as_uint(gaussian(img_as_float64(temp_video), sigma=1))\n",
    "    max_visualization_value = np.percentile(temp_video,max_percentile)\n",
    "    min_visualization_value = np.percentile(temp_video, min_percentile)\n",
    "    fig, ax = plt.subplots(1, 1, figsize=(10, 10))\n",
    "    ax.imshow( temp_video ,cmap = selected_colormap, vmin=min_visualization_value, vmax=max_visualization_value)\n",
    "    # Plotting a yellow box around the selected region\n",
    "    if show_box ==True:\n",
    "        ax.plot([selected_y_range[0], selected_y_range[1]], [selected_x_range[0], selected_x_range[0]], '#808080', lw=4)\n",
    "        ax.plot([selected_y_range[0], selected_y_range[1]], [selected_x_range[1], selected_x_range[1]], '#808080', lw=4)\n",
    "        ax.plot([selected_y_range[0], selected_y_range[0]], [selected_x_range[0], selected_x_range[1]], '#808080', lw=4)\n",
    "        ax.plot([selected_y_range[1], selected_y_range[1]], [selected_x_range[0], selected_x_range[1]], '#808080', lw=4)\n",
    "    if show_scalebar:\n",
    "        scalebar = ScaleBar(dx = microns_per_pixel, units= 'um', length_fraction=0.25,location='lower right',box_color='k',color='w', font_properties=font_props)\n",
    "        ax.add_artist(scalebar)\n",
    "    ax.axis('off')\n",
    "    plt.show()"
   ]
  },
  {
   "cell_type": "code",
   "execution_count": null,
   "metadata": {},
   "outputs": [],
   "source": [
    "# Selected ranges and time points\n",
    "selected_time_point = 0 # times used for paper [0]\n",
    "selected_x_range = [350,400]\n",
    "selected_y_range = [350,400]\n"
   ]
  },
  {
   "cell_type": "code",
   "execution_count": null,
   "metadata": {},
   "outputs": [],
   "source": [
    "plot_image(video, \n",
    "            selected_time_point=selected_time_point, \n",
    "            selected_channel=0, \n",
    "            selected_colormap= 'Reds_r', \n",
    "            max_percentile=99.9, \n",
    "            min_percentile=1,\n",
    "            selected_x_range = selected_x_range,\n",
    "            selected_y_range = selected_y_range,\n",
    "            show_scalebar=True,\n",
    "            show_box=True,\n",
    "            show_zoom_in= False,\n",
    "           )"
   ]
  },
  {
   "cell_type": "code",
   "execution_count": null,
   "metadata": {},
   "outputs": [],
   "source": [
    "plot_image(video, \n",
    "            selected_time_point=selected_time_point, \n",
    "            selected_channel=1, \n",
    "            selected_colormap= 'Greens_r', \n",
    "            max_percentile=99.9, \n",
    "            min_percentile=1,\n",
    "            selected_x_range = selected_x_range,\n",
    "            selected_y_range = selected_y_range,\n",
    "            show_scalebar=True,\n",
    "            show_box=True,\n",
    "            show_zoom_in= False,\n",
    "           )"
   ]
  },
  {
   "cell_type": "code",
   "execution_count": null,
   "metadata": {},
   "outputs": [],
   "source": [
    "# Third Color channel does not contains information.\n",
    "plot_image(video, \n",
    "            selected_time_point=selected_time_point, \n",
    "            selected_channel=2, \n",
    "            selected_colormap= 'Blues_r', \n",
    "            max_percentile=99.9, \n",
    "            min_percentile=1,\n",
    "            selected_x_range = selected_x_range,\n",
    "            selected_y_range = selected_y_range,\n",
    "            show_scalebar=True,\n",
    "            show_box=True,\n",
    "            show_zoom_in= False,\n",
    "           )"
   ]
  },
  {
   "cell_type": "code",
   "execution_count": null,
   "metadata": {},
   "outputs": [],
   "source": [
    "# plotting the subsection for channel 0\n",
    "plot_image(video, \n",
    "            selected_time_point=selected_time_point, \n",
    "            selected_channel=1, \n",
    "            selected_colormap= 'Reds_r', \n",
    "            max_percentile=99.9, \n",
    "            min_percentile=1,\n",
    "            selected_x_range=selected_x_range,\n",
    "            selected_y_range=selected_y_range,\n",
    "            show_scalebar=False,\n",
    "            show_zoom_in= True,\n",
    "           )"
   ]
  },
  {
   "cell_type": "code",
   "execution_count": null,
   "metadata": {},
   "outputs": [],
   "source": [
    "# plotting the subsection for channel 1\n",
    "plot_image(video, \n",
    "           selected_time_point=selected_time_point, \n",
    "           selected_channel=1, \n",
    "           selected_colormap= 'Greens_r', \n",
    "           max_percentile=99.9, \n",
    "           min_percentile=5,\n",
    "           selected_x_range=selected_x_range,\n",
    "           selected_y_range=selected_y_range,\n",
    "           show_scalebar=False,\n",
    "           show_zoom_in= True,\n",
    "           )"
   ]
  },
  {
   "cell_type": "markdown",
   "metadata": {},
   "source": [
    "# Image processing image"
   ]
  },
  {
   "cell_type": "code",
   "execution_count": null,
   "metadata": {},
   "outputs": [],
   "source": [
    "# show a given time point of the image for a given color channel. Use red and Green channels\n",
    "def plot_image_rgb(video, selected_time_point, max_percentile, min_percentile, selected_x_range=None,selected_y_range=None, microns_per_pixel=0.13,show_scalebar=True,show_box=False, show_zoom_in=False, use_gaussian_filter=True):\n",
    "    if not (selected_x_range is None) and (show_zoom_in == True):\n",
    "        temp_section = video[selected_time_point,selected_x_range[0]:selected_x_range[1] ,selected_y_range[0]:selected_y_range[1],:]\n",
    "    else:\n",
    "        temp_section= video[selected_time_point,: ,:,:] \n",
    "    \n",
    "    if use_gaussian_filter:\n",
    "        # Using a gaussian filter to smooth the image\n",
    "        number_channels = video.shape[3]\n",
    "        for i in range(number_channels):\n",
    "            temp_section[:,:,i] = img_as_uint(gaussian(img_as_float64(temp_section[:,:,i]), sigma=1))\n",
    "    temp_video=  fa.Utilities().convert_to_int8(image=temp_section ,min_percentile=min_percentile, max_percentile=max_percentile)\n",
    "    # Plotting\n",
    "    fig, ax = plt.subplots(1, 1, figsize=(10, 10))\n",
    "    ax.imshow( temp_video)\n",
    "    #ax.imshow( temp_video, vmin=min_visualization_value, vmax=max_visualization_value)\n",
    "    # Plotting a yellow box around the selected region\n",
    "    if show_box ==True:\n",
    "        ax.plot([selected_y_range[0], selected_y_range[1]], [selected_x_range[0], selected_x_range[0]], '#808080', lw=4)\n",
    "        ax.plot([selected_y_range[0], selected_y_range[1]], [selected_x_range[1], selected_x_range[1]], '#808080', lw=4)\n",
    "        ax.plot([selected_y_range[0], selected_y_range[0]], [selected_x_range[0], selected_x_range[1]], '#808080', lw=4)\n",
    "        ax.plot([selected_y_range[1], selected_y_range[1]], [selected_x_range[0], selected_x_range[1]], '#808080', lw=4)\n",
    "    if show_scalebar:\n",
    "        scalebar = ScaleBar(dx = microns_per_pixel, units= 'um', length_fraction=0.25,location='lower right',box_color='k',color='w', font_properties=font_props)\n",
    "        ax.add_artist(scalebar)\n",
    "    ax.axis('off')\n",
    "    plt.show()"
   ]
  },
  {
   "cell_type": "code",
   "execution_count": null,
   "metadata": {},
   "outputs": [],
   "source": [
    "plot_image_rgb(video[...,0:2],  # ploting only the first two channels\n",
    "            selected_time_point=selected_time_point, \n",
    "            max_percentile=99.9, \n",
    "            min_percentile=1,\n",
    "            selected_x_range = selected_x_range,\n",
    "            selected_y_range = selected_y_range,\n",
    "            show_scalebar=True,\n",
    "            show_box=False,\n",
    "            show_zoom_in= False,\n",
    "            use_gaussian_filter=False\n",
    "           )"
   ]
  },
  {
   "cell_type": "code",
   "execution_count": null,
   "metadata": {},
   "outputs": [],
   "source": [
    "selected_frame = 0\n",
    "selected_color_channel = 1\n",
    "selected_image_ch0 = video[selected_frame,:,:,0]\n",
    "selected_image_ch1 = video[selected_frame,:,:,1]\n",
    "\n",
    "selected_cmap_0 = 'Reds' #'hsv' # 'viridis'    # 'plasma' # 'inferno' # 'magma' # 'cividis', \n",
    "selected_cmap_1 = 'Greens'\n",
    "# Plotting code as provided\n",
    "space = np.arange(0, selected_image_ch0.shape[0], 1)\n",
    "xx, yy = np.meshgrid(space, space)\n",
    "fig = plt.figure(figsize=(9, 3))\n",
    "\n",
    "\n",
    "# Second plot: 3D surface plot\n",
    "ax2 = fig.add_subplot(1, 2, 1, projection='3d')\n",
    "surf2 = ax2.plot_surface(xx, yy, selected_image_ch0, rstride=20, cstride=20, shade=False, cmap=selected_cmap_0)\n",
    "ax2.view_init(15, 120)\n",
    "ax2.invert_xaxis()\n",
    "ax2.set_xlabel('X',fontsize=14)\n",
    "ax2.set_ylabel('Y',fontsize=14)\n",
    "#ax2.set_zlabel('Intensity',fontsize=14, labelpad=10)\n",
    "ax2.set_facecolor('white')\n",
    "ax2.set_title('Channel 0',fontsize=14)\n",
    "#ax2.zaxis.set_major_formatter(ScalarFormatter(useMathText=True))  # Apply scientific notation\n",
    "ax2.zaxis.set_ticklabels([])  # Hide Z-axis ticks\n",
    "cbar2 = fig.colorbar(surf2, ax=ax2, shrink=0.5, aspect=20, pad=0.1)\n",
    "cbar2.set_label('Intensity', fontsize=12)\n",
    "\n",
    "\n",
    "ax3 = fig.add_subplot(1, 2, 2, projection='3d')\n",
    "surf3 = ax3.plot_surface(xx, yy, selected_image_ch1, rstride=20, cstride=20, shade=False, cmap=selected_cmap_1)\n",
    "ax3.view_init(15, 120)\n",
    "ax3.invert_xaxis()\n",
    "ax3.set_xlabel('X',fontsize=14)\n",
    "ax3.set_ylabel('Y',fontsize=14)\n",
    "#ax3.set_zlabel('Intensity',fontsize=14, labelpad=10)\n",
    "ax3.set_facecolor('white')\n",
    "ax3.set_title('Channel 1',fontsize=14)\n",
    "#ax3.zaxis.set_major_formatter(ScalarFormatter(useMathText=True))  # Apply scientific notation\n",
    "ax3.zaxis.set_ticklabels([])  # Hide Z-axis ticks\n",
    "\n",
    "cbar3 = fig.colorbar(surf3, ax=ax3, shrink=0.5, aspect=20, pad=0.1)\n",
    "cbar3.set_label('Intensity', fontsize=12)\n",
    "\n",
    "plt.tight_layout()  # Adjust layout to not overlap\n",
    "plt.show()\n"
   ]
  },
  {
   "cell_type": "markdown",
   "metadata": {},
   "source": [
    "## Cell segmentation"
   ]
  },
  {
   "cell_type": "code",
   "execution_count": null,
   "metadata": {},
   "outputs": [],
   "source": [
    "selected_frame = 0\n",
    "selected_color_channel = 1\n",
    "selected_image_ch1 = video[selected_frame,:,:,selected_color_channel]\n",
    "\n",
    "masks = rsp.Cellpose(video= selected_image_ch1, num_iterations = 4, channels = [0,0], diameter = 150, model_type = 'cyto', selection_method = 'max_cells_and_area',minimum_cell_area=6000).calculate_masks() # options are 'max_area' or 'max_cells'\n"
   ]
  },
  {
   "cell_type": "code",
   "execution_count": null,
   "metadata": {},
   "outputs": [],
   "source": [
    "# Plotting the masks with a legend\n",
    "colors = ['black', 'lightgrey', 'dimgrey']\n",
    "cmap = ListedColormap(colors)  # Colors for background, cell 1, and cell 2\n",
    "fig = plt.figure(figsize=(5, 4))\n",
    "plt.imshow(masks, cmap=cmap)\n",
    "legend_labels = { 'Cell 1': colors[1], 'Cell 2': colors[2]}\n",
    "patches = [mpatches.Patch(color=color, label=label) for label, color in legend_labels.items()]\n",
    "plt.legend(handles=patches,fontsize=12)\n",
    "plt.axis('off')\n",
    "plt.show()\n"
   ]
  },
  {
   "cell_type": "code",
   "execution_count": null,
   "metadata": {},
   "outputs": [],
   "source": [
    "# multiplying selected_image_ch1 by the masks \n",
    "selected_mask = np.where(masks==1,1,0)\n",
    "masked_image = selected_image_ch1 * selected_mask\n",
    "# plotting the masked image\n",
    "fig = plt.figure(figsize=(5, 4))\n",
    "plt.imshow(masked_image, cmap='Greys_r')\n",
    "plt.axis('off')\n",
    "plt.show()\n"
   ]
  },
  {
   "cell_type": "markdown",
   "metadata": {},
   "source": [
    "# Spot detection and tracking"
   ]
  },
  {
   "cell_type": "code",
   "execution_count": null,
   "metadata": {},
   "outputs": [],
   "source": [
    "selected_time =0\n",
    "selected_color_channel=0\n",
    "threshold_for_spot_detection = 50 #100\n",
    "img_spots=video[selected_time,:,:,0]"
   ]
  },
  {
   "cell_type": "code",
   "execution_count": null,
   "metadata": {},
   "outputs": [],
   "source": [
    "# Applying the filter\n",
    "img_difference_of_gaussians = img_as_uint(difference_of_gaussians(img_as_float64(img_spots), 0.1,40))\n",
    "# Side-by-side comparizon\n",
    "fig, ax = plt.subplots(1,2, figsize=(30, 10))\n",
    "ax[0].imshow(img_spots,cmap='gray')\n",
    "ax[0].set(title='Original')\n",
    "ax[0].axis('off')\n",
    "# noise reduction \n",
    "ax[1].imshow(img_difference_of_gaussians,cmap='gray')\n",
    "ax[1].set(title='difference_of_gaussians')\n",
    "ax[1].axis('off')\n",
    "plt.show()\n"
   ]
  },
  {
   "cell_type": "code",
   "execution_count": null,
   "metadata": {},
   "outputs": [],
   "source": [
    "plt.figure(figsize=(6,6))\n",
    "plt.imshow(img_difference_of_gaussians,cmap='gray')\n",
    "#plt.set(title='difference_of_gaussians')\n",
    "plt.axis('off')\n",
    "plt.show()"
   ]
  },
  {
   "cell_type": "code",
   "execution_count": null,
   "metadata": {},
   "outputs": [],
   "source": [
    "plt.figure(figsize=(4,4))\n",
    "plt.hist(img_difference_of_gaussians.flatten(), bins=80,color='orangered')\n",
    "plt.xlabel('Value')\n",
    "plt.ylabel('Frequency')\n",
    "plt.title('Intensity Histogram')\n",
    "plt.xlim(0,300)\n",
    "plt.show()"
   ]
  },
  {
   "cell_type": "code",
   "execution_count": null,
   "metadata": {},
   "outputs": [],
   "source": [
    "# Applying the filter to all the frames\n",
    "filtered_video = np.zeros(video[...,0].shape)\n",
    "for i in range(video.shape[0]):\n",
    "    filtered_video[i,:,:] = img_as_uint(difference_of_gaussians(img_as_float64(video[i,:,:,0]), 0.1,40))\n"
   ]
  },
  {
   "cell_type": "code",
   "execution_count": null,
   "metadata": {},
   "outputs": [],
   "source": [
    "filtered_video.shape"
   ]
  },
  {
   "cell_type": "code",
   "execution_count": null,
   "metadata": {},
   "outputs": [],
   "source": [
    "#detect spots using trackpy for all frames using filtered_video\n",
    "# Parameters for the detection\n",
    "min_int = 100\n",
    "particle_size = 7\n",
    "max_time=100\n",
    "# Detecting spots\n",
    "dataframe_with_spots_all_frames = tp.batch(filtered_video[0:max_time,...], particle_size, minmass = min_int, processes = 'auto', max_iterations = 1000, preprocess = False, percentile = 75)\n"
   ]
  },
  {
   "cell_type": "code",
   "execution_count": null,
   "metadata": {},
   "outputs": [],
   "source": [
    "dataframe_with_spots_all_frames.head()"
   ]
  },
  {
   "cell_type": "code",
   "execution_count": null,
   "metadata": {},
   "outputs": [],
   "source": [
    "def spots_in_mask(df,masks):\n",
    "    # extracting the contours in the image\n",
    "    coords = np.array([df.y, df.x]).T # These are the points detected by trackpy\n",
    "    coords_int = np.round(coords).astype(int)  # or np.floor, depends\n",
    "    values_at_coords = masks[tuple(coords_int.T)] # If 1 the value is in the mask\n",
    "    df['In Mask']=values_at_coords # Check if pts are on/in polygon mask\n",
    "    return df"
   ]
  },
  {
   "cell_type": "code",
   "execution_count": null,
   "metadata": {},
   "outputs": [],
   "source": [
    "max_distance_particle_moves= 5\n",
    "min_time_particle_vanishes = 1\n",
    "minimal_frames = 20\n",
    "\n",
    "dataframe_with_label_in_mask = spots_in_mask(dataframe_with_spots_all_frames,selected_mask)\n",
    "# Selecting only the spots located inside the mask\n",
    "dataframe_particles_in_mask = dataframe_with_label_in_mask[dataframe_with_label_in_mask['In Mask']==True]\n",
    "# Linking particles\n",
    "dataframe_linked_particles = tp.link_df(dataframe_particles_in_mask, max_distance_particle_moves, memory = min_time_particle_vanishes, adaptive_stop = 1, link_strategy = 'auto') # tp.link_df(data_frame, min_distance_particle_moves, min_time_particle_vanish).\n",
    "# Selecting trajectories that appear in at least 10 frames.\n",
    "trackpy_dataframe = tp.filter_stubs(dataframe_linked_particles, minimal_frames)  \n",
    "number_particles = trackpy_dataframe['particle'].nunique()  "
   ]
  },
  {
   "cell_type": "code",
   "execution_count": null,
   "metadata": {},
   "outputs": [],
   "source": [
    "trackpy_dataframe.head()"
   ]
  },
  {
   "cell_type": "code",
   "execution_count": null,
   "metadata": {},
   "outputs": [],
   "source": [
    "# Group the DataFrame by 'particle' and count the number of rows in each group\n",
    "trajectory_lengths = trackpy_dataframe.groupby('particle').size()\n",
    "\n",
    "# Find the particle ID with the longest trajectory\n",
    "longest_trajectory_particle = trajectory_lengths.idxmax()\n",
    "\n",
    "# Find the length of the longest trajectory\n",
    "longest_trajectory_length = trajectory_lengths.max()\n",
    "\n",
    "print(f\"The longest trajectory is for particle {longest_trajectory_particle} with {longest_trajectory_length} points.\")"
   ]
  },
  {
   "cell_type": "code",
   "execution_count": null,
   "metadata": {},
   "outputs": [],
   "source": [
    "number_particles"
   ]
  },
  {
   "cell_type": "code",
   "execution_count": null,
   "metadata": {},
   "outputs": [],
   "source": [
    "def plot_trajectories(image,df):\n",
    "    plt.figure(figsize=(10, 10))\n",
    "    plt.imshow(image, cmap='gray')\n",
    "    for particle_id in df['particle'].unique():\n",
    "        particle_data = df[df['particle'] == particle_id]\n",
    "        plt.plot(particle_data['x'], particle_data['y'], linestyle='-', label=f'Particle {particle_id}',lw=1, color= 'orangered')\n",
    "    plt.axis('off')\n",
    "    plt.show()\n",
    "    \n",
    "plot_trajectories(img_difference_of_gaussians,trackpy_dataframe) "
   ]
  },
  {
   "cell_type": "code",
   "execution_count": null,
   "metadata": {},
   "outputs": [],
   "source": [
    "\n",
    "def plot_trajectories(image, df, zoom_particle_id=None):\n",
    "    plt.figure(figsize=(10, 10))\n",
    "    plt.imshow(image, cmap='gray')\n",
    "    \n",
    "    if zoom_particle_id is not None:\n",
    "        # Assuming the zoom_particle_id is provided and valid\n",
    "        zoom_data = df[df['particle'] == zoom_particle_id]\n",
    "        # Setting the plot limits to zoom in on the selected particle trajectory\n",
    "        buffer = 10  # Adjust buffer space around the trajectory as needed\n",
    "        xmin, xmax = zoom_data['x'].min() - buffer, zoom_data['x'].max() + buffer\n",
    "        ymin, ymax = zoom_data['y'].min() - buffer, zoom_data['y'].max() + buffer\n",
    "        plt.xlim(xmin, xmax)\n",
    "        plt.ylim(ymin, ymax)\n",
    "    \n",
    "    # Plotting all trajectories or just the one if zoomed in\n",
    "    for particle_id in df['particle'].unique():\n",
    "        particle_data = df[df['particle'] == particle_id]\n",
    "        plt.plot(particle_data['x'], particle_data['y'], linestyle='-', label=f'Particle {particle_id}', lw=2, color='orangered')\n",
    "    \n",
    "    plt.axis('off')\n",
    "    plt.show()\n",
    "\n",
    "# Example usage:\n",
    "plot_trajectories(filtered_video[max_time,...], trackpy_dataframe, zoom_particle_id=67)\n"
   ]
  },
  {
   "cell_type": "code",
   "execution_count": null,
   "metadata": {},
   "outputs": [],
   "source": [
    "import matplotlib.pyplot as plt\n",
    "import matplotlib.patches as patches\n",
    "\n",
    "def plot_trajectories_with_zoom(image, df, zoom_particle_id=None):\n",
    "    fig, axs = plt.subplots(1, 2, figsize=(20, 10))\n",
    "    \n",
    "    # Plot on the left: complete image with all trajectories\n",
    "    axs[0].imshow(image, cmap='gray')\n",
    "    for particle_id in df['particle'].unique():\n",
    "        particle_data = df[df['particle'] == particle_id]\n",
    "        axs[0].plot(particle_data['x'], particle_data['y'], linestyle='-', lw=1, color='yellow')\n",
    "    \n",
    "    if zoom_particle_id is not None:\n",
    "        # Draw a rectangle around the selected trajectory\n",
    "        zoom_data = df[df['particle'] == zoom_particle_id]\n",
    "        buffer = 10\n",
    "        xmin, xmax = zoom_data['x'].min() - buffer, zoom_data['x'].max() + buffer\n",
    "        ymin, ymax = zoom_data['y'].min() - buffer, zoom_data['y'].max() + buffer\n",
    "        rect = patches.Rectangle((xmin, ymin), xmax-xmin, ymax-ymin, linewidth=2, edgecolor='orangered', facecolor='none')\n",
    "        axs[0].add_patch(rect)\n",
    "    \n",
    "    axs[0].axis('off')\n",
    "    \n",
    "    # Plot on the right: zoomed-in view if a particle is selected\n",
    "    if zoom_particle_id is not None:\n",
    "        axs[1].imshow(image, cmap='gray', extent=[0, image.shape[1], image.shape[0], 0])\n",
    "        zoom_data = df[df['particle'] == zoom_particle_id]\n",
    "        axs[1].plot(zoom_data['x'], zoom_data['y'], linestyle='-', lw=4, color='yellow')\n",
    "        axs[1].set_xlim(xmin, xmax)\n",
    "        axs[1].set_ylim(ymax, ymin)  # Inverted to match the image's coordinate system\n",
    "        axs[1].add_patch(patches.Rectangle((xmin, ymin), xmax-xmin, ymax-ymin, linewidth=8, edgecolor='orangered', facecolor='none', linestyle='-'))\n",
    "\n",
    "        axs[1].axis('off')\n",
    "    else:\n",
    "        # Hide the second subplot if no particle is selected for zooming\n",
    "        axs[1].axis('off')\n",
    "    \n",
    "    plt.show()\n",
    "\n",
    "# Example usage:\n",
    "plot_trajectories_with_zoom(filtered_video[max_time,...], trackpy_dataframe, zoom_particle_id=2)\n"
   ]
  },
  {
   "cell_type": "code",
   "execution_count": null,
   "metadata": {},
   "outputs": [],
   "source": []
  },
  {
   "cell_type": "code",
   "execution_count": null,
   "metadata": {},
   "outputs": [],
   "source": []
  },
  {
   "cell_type": "code",
   "execution_count": null,
   "metadata": {},
   "outputs": [],
   "source": []
  },
  {
   "cell_type": "code",
   "execution_count": null,
   "metadata": {},
   "outputs": [],
   "source": []
  },
  {
   "cell_type": "code",
   "execution_count": null,
   "metadata": {},
   "outputs": [],
   "source": []
  },
  {
   "cell_type": "code",
   "execution_count": null,
   "metadata": {},
   "outputs": [],
   "source": []
  },
  {
   "cell_type": "code",
   "execution_count": null,
   "metadata": {},
   "outputs": [],
   "source": []
  },
  {
   "cell_type": "code",
   "execution_count": null,
   "metadata": {},
   "outputs": [],
   "source": []
  }
 ],
 "metadata": {
  "kernelspec": {
   "display_name": "FISH_processing",
   "language": "python",
   "name": "python3"
  },
  "language_info": {
   "codemirror_mode": {
    "name": "ipython",
    "version": 3
   },
   "file_extension": ".py",
   "mimetype": "text/x-python",
   "name": "python",
   "nbconvert_exporter": "python",
   "pygments_lexer": "ipython3",
   "version": "3.8.12"
  }
 },
 "nbformat": 4,
 "nbformat_minor": 2
}
