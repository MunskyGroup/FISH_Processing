{
  "cells": [
    {
      "cell_type": "code",
      "execution_count": 21,
      "metadata": {
        "id": "8Yxz18jcUEqI"
      },
      "outputs": [],
      "source": [
        "\n",
        "#@title Importing modules\n",
        "from IPython.display import Image\n",
        "import matplotlib.pyplot as plt\n",
        "import numpy as np\n",
        "from scipy.integrate import odeint\n",
        "import pandas as pd\n",
        "#from emcee.autocorr import function_1d\n",
        "#import emcee\n",
        "import matplotlib.pyplot as plt\n",
        "import gillespy2\n",
        "import os\n",
        "from scipy.sparse import csr_matrix # For sparse matrices\n",
        "from typing import List\n",
        "from scipy.sparse.linalg import expm_multiply\n",
        "from tqdm.auto import tqdm\n",
        "#from joblib import Parallel, delayed\n",
        "import seaborn as sns\n",
        "import shutil\n",
        "import matplotlib.ticker as ticker\n",
        "figSize=800\n",
        "\n",
        "import pathlib\n",
        "# current directory\n",
        "current_dir = pathlib.Path().absolute()\n",
        "\n",
        "# if folder_outputs doesnt exist, create it\n",
        "folder_outputs = current_dir.joinpath('sim_outputs')\n",
        "\n",
        "# Removing directory if exist\n",
        "if os.path.exists(folder_outputs):\n",
        "    shutil.rmtree(folder_outputs)\n",
        "# Creating the directory\n",
        "folder_outputs.mkdir(parents=True, exist_ok=True)\n"
      ]
    },
    {
      "cell_type": "markdown",
      "metadata": {},
      "source": [
        "# Model\n",
        "\n",
        "| Index | Reaction | Description | Reaction Rate |\n",
        "|-------|----------|-------------|---------------|\n",
        "| $r_1$ | $G_{off} \\xrightarrow[]{k_{on}} G_{on}$ | gene activation | $k_{on} \\cdot [G_{off}]$ |\n",
        "| $r_2$ | $G_{on} \\xrightarrow[]{k_{off}} G_{off}$ | gene deactivation | $k_{off} \\cdot [G_{on}]$ |\n",
        "| $r_3$ | $G_{on} \\xrightarrow[]{k_{r}} G_{on} + R_{n}$ | active gene produces mRNA | $k_{r} \\cdot [G_{on}]$ |\n",
        "| $r_4$ | $R_{n} \\xrightarrow[]{k_{t}} R_{c}$ | mRNA transport to cytoplasm | $k_{t} \\cdot [R_{n}]$ |\n",
        "| $r_5$ | $R_{c} \\xrightarrow[]{k_{p}} R_{c} + P$ | mRNA in cytoplasm produces Protein | $k_{p} \\cdot [R_{c}]$ |\n",
        "| $r_6$ | $R_{n} \\xrightarrow[]{\\gamma_{r_n}} \\phi$ | nuclear mRNA decay | $\\gamma_{r_n} \\cdot [R_{n}]$ |\n",
        "| $r_7$ | $R_{c} \\xrightarrow[]{\\gamma_{r_c}} \\phi$ | cytoplasm mRNA decay | $\\gamma_{r_c} \\cdot [R_{c}]$ |\n",
        "| $r_8$ | $P \\xrightarrow[]{\\gamma_p} \\phi$ | protein decay | $\\gamma_p \\cdot [P]$ |\n",
        "\n"
      ]
    },
    {
      "cell_type": "code",
      "execution_count": 22,
      "metadata": {
        "id": "7eZUsIe6MCVV"
      },
      "outputs": [],
      "source": [
        "#@title Plotting configuration\n",
        "plt.rcParams.update({\n",
        "    'axes.labelsize': 14,\n",
        "    'axes.titlesize': 14,\n",
        "    'xtick.labelsize': 14,\n",
        "    'ytick.labelsize': 14,\n",
        "    'legend.fontsize': 10,\n",
        "})\n",
        "# Assign colors to each species for consistent plotting\n",
        "species_colors = {\n",
        "    'G_off': 'blue',\n",
        "    'G_on': 'orange',\n",
        "    'R_n': 'green',\n",
        "    'R_c': 'red',\n",
        "    'P': 'purple'\n",
        "}"
      ]
    },
    {
      "cell_type": "code",
      "execution_count": 23,
      "metadata": {
        "id": "ambx37gU4pfM"
      },
      "outputs": [],
      "source": [
        "#@title Plotting ODE model\n",
        "def plotting_deterministic(time,concentrations_species,species_colors,drug_application_time=None,ylim_val=False):\n",
        "    plt.figure(figsize=(8, 5))\n",
        "    for species, color in species_colors.items():\n",
        "        plt.plot(time, concentrations_species[species], color=color, label=species,lw=4)\n",
        "    if not drug_application_time is None:\n",
        "        plt.axvline(x=drug_application_time, color='k', linestyle='--', label= r'$t_{drug}$',lw=1.5)\n",
        "    plt.xlabel('Time')\n",
        "    plt.ylabel('Concentration')\n",
        "    plt.title('Deterministic Dynamics')\n",
        "    plt.legend(loc='upper right')\n",
        "    plt.grid(True, linestyle='--', alpha=0.7)\n",
        "    if ylim_val:\n",
        "        plt.ylim(0,ylim_val)\n",
        "    plt.show()"
      ]
    },
    {
      "cell_type": "code",
      "execution_count": 24,
      "metadata": {
        "id": "BWRoc4KD5GCx"
      },
      "outputs": [],
      "source": [
        "#@title Plotting SSA model\n",
        "def plotting_stochastic(time, trajectories_species,species_colors,drug_application_time=None,ylim_val=False):\n",
        "    def plot_species_trajectories(time, trajectories_species, species_name, color):\n",
        "        # Extract the trajectories for the species\n",
        "        trajectories = trajectories_species[species_name]\n",
        "        # Calculate the mean and standard deviation across all trajectories\n",
        "        mean_trajectories = np.mean(trajectories, axis=0)\n",
        "        std_trajectories = np.std(trajectories, axis=0)\n",
        "        # Plot mean concentration with standard deviation as shaded area\n",
        "        plt.plot(time, mean_trajectories, '-', color=color, label=species_name, lw=4)\n",
        "        plt.fill_between(time, mean_trajectories - std_trajectories, mean_trajectories + std_trajectories, color=color, alpha=0.1)\n",
        "    plt.figure(figsize=(8, 5))\n",
        "    # Plot each species\n",
        "    for species, color in species_colors.items():\n",
        "        plot_species_trajectories(time, trajectories_species, species, color)\n",
        "    # Mark the drug application time\n",
        "    if not drug_application_time is None:\n",
        "        plt.axvline(x=drug_application_time, color='k', linestyle='--', label=r'$t_{drug}$', lw=1.5)\n",
        "    # Set plot details\n",
        "    plt.xlabel('Time')\n",
        "    plt.ylabel('Number of Molecules')\n",
        "    plt.title('Stochastic Dynamics')\n",
        "    plt.legend(loc='upper right')\n",
        "    plt.grid(True, linestyle='--', alpha=0.7)\n",
        "    if ylim_val:\n",
        "        plt.ylim(0,ylim_val)\n",
        "    plt.show()\n"
      ]
    },
    {
      "cell_type": "code",
      "execution_count": 25,
      "metadata": {
        "id": "VaXJJDf8MMJ8"
      },
      "outputs": [],
      "source": [
        "def plotting_stochastic_dist(time, trajectories_species, species_name, species_color_dist, time_points, ylim_val=False):\n",
        "    def plot_species_trajectories(ax, time, trajectories_species, species_name, color, time_point):\n",
        "        # Extract the trajectories for the species at the specific time point\n",
        "        trajectories = trajectories_species[species_name][:, time_point]\n",
        "        # Plot distribution of species count at the specified time point\n",
        "        ax.hist(trajectories, bins=20, color=color, alpha=0.7, label=f\"{species_name} at time={time[time_point]}\")\n",
        "        ax.legend(loc='upper right')\n",
        "    # Set up a 2x2 subplot grid\n",
        "    fig, axs = plt.subplots(2, 2, figsize=(8, 8))\n",
        "    axs = axs.flatten()  # Flatten the 2x2 array to easily loop over it\n",
        "\n",
        "    # Plot the species distribution at each of the four user-selected time points\n",
        "    for i, time_point in enumerate(time_points):\n",
        "        plot_species_trajectories(axs[i], time, trajectories_species, species_name, species_color_dist, time_point)\n",
        "        axs[i].set_xlabel('Number of Molecules')\n",
        "        axs[i].set_ylabel('Frequency')\n",
        "        if ylim_val:\n",
        "            axs[i].set_ylim(0, ylim_val)\n",
        "    # Set a general title\n",
        "    plt.suptitle(f'Distribution of {species_name} at Different Time Points')\n",
        "    plt.tight_layout(rect=[0, 0.03, 1, 0.95])  # Adjust subplots to fit into the figure area\n",
        "    plt.show()\n",
        "\n",
        "#species_name = 'G_on'  # Example species\n",
        "#species_color_dist = 'blue'  # Example color for the species\n",
        "#time_points = [5, 10, 20, 100]  # User-selected time points (indices from the 'time' array)\n"
      ]
    },
    {
      "cell_type": "code",
      "execution_count": 26,
      "metadata": {
        "id": "xkGPrEdmNzFW"
      },
      "outputs": [],
      "source": [
        "def plotting_stochastic_dist_all_species(time, trajectories_species, species_colors, time_point, ylim_val=False):\n",
        "    n_species = len(species_colors)  # Number of species to plot\n",
        "    n_cols = n_species  # Number of columns in subplot grid\n",
        "    n_rows = 1\n",
        "    def plot_species_trajectories(ax, time, trajectories_species, species_name, color, time_point):\n",
        "        # Extract the trajectories for the species at the specific time point\n",
        "        trajectories = trajectories_species[species_name][:, time_point]\n",
        "        # Plot distribution of species count at the specified time point\n",
        "        ax.hist(trajectories, bins=30, color=color, alpha=0.7, label=f\"{species_name} \") # at time={time[time_point]}\")\n",
        "        ax.legend(loc='upper right')\n",
        "        ax.set_xlabel('Number of Molecules')\n",
        "        ax.set_ylabel('Frequency')\n",
        "        if ylim_val:\n",
        "            ax.set_ylim(0, ylim_val)\n",
        "    # Set up subplot grid\n",
        "    fig, axs = plt.subplots(n_rows, n_cols, figsize=(16, 3 * n_rows), squeeze=False)\n",
        "    axs = axs.flatten()  # Flatten the array to easily loop over it\n",
        "    # Plot the species distribution at the selected time point\n",
        "    for i, (species_name, species_color) in enumerate(species_colors.items()):\n",
        "        plot_species_trajectories(axs[i], time, trajectories_species, species_name, species_color, time_point)\n",
        "    for ax in axs[i+1:]:  # Hide unused subplots\n",
        "        ax.set_visible(False)\n",
        "    # Set a general title\n",
        "    plt.suptitle(f'Distribution of Species at Time={time[time_point]}',fontsize=20 )\n",
        "    plt.tight_layout(rect=[0, 0.03, 1, 0.95])\n",
        "    plt.show()\n"
      ]
    },
    {
      "cell_type": "code",
      "execution_count": 27,
      "metadata": {
        "id": "JepjJi5iQtQj"
      },
      "outputs": [],
      "source": [
        "\n",
        "def plotting_combined(time, trajectories_species, species_colors, drug_application_time=None, ylim_val=False,time_point=10):\n",
        "    # Define the structure of the plot grid\n",
        "    fig, axs = plt.subplots(2, 3, figsize=(18, 10), squeeze=False)\n",
        "\n",
        "    # Function to plot time courses for all species\n",
        "    def plot_time_courses(ax, time, trajectories_species, species_colors, drug_application_time):\n",
        "        for species_name, color in species_colors.items():\n",
        "            trajectories = trajectories_species[species_name]\n",
        "            mean_trajectories = np.mean(trajectories, axis=0)\n",
        "            std_trajectories = np.std(trajectories, axis=0)\n",
        "            ax.plot(time, mean_trajectories, '-', color=color, label=species_name, lw=2)\n",
        "            ax.fill_between(time, mean_trajectories - std_trajectories, mean_trajectories + std_trajectories, color=color, alpha=0.1)\n",
        "        if drug_application_time is not None:\n",
        "            ax.axvline(x=drug_application_time, color='k', linestyle='--', label='Drug application', lw=1.5)\n",
        "        ax.set_xlabel('Time')\n",
        "        ax.set_ylabel('Number of Molecules')\n",
        "        ax.legend(loc='upper right', fontsize=14)\n",
        "        ax.set_title('Time Courses for All Species')\n",
        "        if ylim_val:\n",
        "            ax.set_ylim(0, ylim_val)\n",
        "\n",
        "    # Function to plot distribution of species count at a specified time point\n",
        "    def plot_species_distribution(ax, time, trajectories_species, species_name, color, time_point):\n",
        "        trajectories = trajectories_species[species_name][:, time_point]\n",
        "        ax.hist(trajectories, bins=30, color=color, alpha=0.7, label=f\"{species_name}\")\n",
        "        ax.legend(loc='upper right', fontsize=18)\n",
        "        ax.set_xlabel('Number of Molecules')\n",
        "        ax.set_ylabel('Frequency')\n",
        "        if ylim_val:\n",
        "            ax.set_ylim(0, ylim_val)\n",
        "        ax.set_title(f'Distribution at Time={time[time_point]}')\n",
        "\n",
        "    # Plot time courses for all species in the first subplot\n",
        "    plot_time_courses(axs[0, 0], time, trajectories_species, species_colors, drug_application_time)\n",
        "\n",
        "    # Plot the distributions for each species in the remaining subplots\n",
        "    species_list = list(species_colors.keys())\n",
        "    for i, species_name in enumerate(species_list[:5]):  # Adjust based on the number of species and subplot slots\n",
        "        col = (i + 1) % 3\n",
        "        row = (i + 1) // 3\n",
        "        plot_species_distribution(axs[row, col], time, trajectories_species, species_name, species_colors[species_name], time_point)\n",
        "\n",
        "    # Hide any unused subplots\n",
        "    for j in range(i + 2, 6):\n",
        "        axs.flatten()[j].set_visible(False)\n",
        "\n",
        "    plt.tight_layout()\n",
        "    plt.show()"
      ]
    },
    {
      "cell_type": "code",
      "execution_count": 28,
      "metadata": {
        "id": "Fi0X4NuQ9fB2"
      },
      "outputs": [],
      "source": [
        "#@title Creating Model in Gillespy2\n",
        "class GeneExpressionModel(gillespy2.Model):\n",
        "    def __init__(self, parameter_values,initial_conditions):\n",
        "        super(GeneExpressionModel, self).__init__('GeneExpressionModel')\n",
        "        # Create and add parameters to the model\n",
        "        for name, expression in parameter_values.items():\n",
        "            self.add_parameter(gillespy2.Parameter(name=name, expression=expression))\n",
        "        # Species\n",
        "        G_off = gillespy2.Species(name='G_off', initial_value=initial_conditions.get('G_off') )\n",
        "        G_on = gillespy2.Species(name='G_on', initial_value=initial_conditions.get('G_on') )\n",
        "        R_n = gillespy2.Species(name='R_n', initial_value=initial_conditions.get('R_n') )\n",
        "        R_c = gillespy2.Species(name='R_c', initial_value=initial_conditions.get('R_c') )\n",
        "        P = gillespy2.Species(name='P', initial_value=initial_conditions.get('P') )\n",
        "        self.add_species([G_off, G_on, R_n, R_c, P])\n",
        "        # Reactions\n",
        "        react1 = gillespy2.Reaction(name='gene_activation', reactants={G_off: 1}, products={G_on: 1}, rate=self.listOfParameters['k_on'])\n",
        "        react2 = gillespy2.Reaction(name='gene_deactivation', reactants={G_on: 1}, products={G_off: 1}, rate=self.listOfParameters['k_off'])\n",
        "        react3 = gillespy2.Reaction(name='mRNA_production', reactants={G_on: 1}, products={G_on: 1, R_n: 1}, rate=self.listOfParameters['k_r'])\n",
        "        react4 = gillespy2.Reaction(name='mRNA_transport', reactants={R_n: 1}, products={R_c: 1}, rate=self.listOfParameters['k_t'])\n",
        "        react5 = gillespy2.Reaction(name='protein_production', reactants={R_c: 1}, products={R_c: 1, P: 1}, rate=self.listOfParameters['k_p'])\n",
        "        react6 = gillespy2.Reaction(name='nuclear_mRNA_decay', reactants={R_n: 1}, products={}, rate=self.listOfParameters['gamma_rn'])\n",
        "        react7 = gillespy2.Reaction(name='cytoplasm_mRNA_decay', reactants={R_c: 1}, products={}, rate=self.listOfParameters['gamma_rc'])\n",
        "        react8 = gillespy2.Reaction(name='protein_decay', reactants={P: 1}, products={}, rate=self.listOfParameters['gamma_p'])\n",
        "        self.add_reaction([react1, react2, react3, react4, react5, react6, react7, react8])\n",
        "        # Set the timespan for the model\n",
        "        self.timespan(np.linspace(0, 100, 101))\n",
        "\n",
        "def initialize_model(parameter_values,initial_conditions,mode='discrete', apply_drug =False,inhibited_parameters=None):\n",
        "    model = GeneExpressionModel(parameter_values,initial_conditions)\n",
        "    for species in model.listOfSpecies.values():\n",
        "        species.mode = mode  # Dynamically set the species mode options are 'discrete' or 'continuous'\n",
        "    if apply_drug ==True and not (inhibited_parameters is None):\n",
        "      #apply_drug_effect\n",
        "      for param, value in inhibited_parameters.items():\n",
        "        if param in model.listOfParameters:\n",
        "            model.listOfParameters[param].expression = str(value)\n",
        "    return model\n"
      ]
    },
    {
      "cell_type": "code",
      "execution_count": 29,
      "metadata": {
        "cellView": "form",
        "id": "m1iC_zM_3Is6"
      },
      "outputs": [],
      "source": [
        "#@title Deterministic simulation\n",
        "def simulate_deterministic(parameter_values,initial_conditions,total_simulation_time, drug_application_time=None,inhibited_parameters=None):\n",
        "    # Part 1: Before drug application, ensure species are in the correct mode (if needed)\n",
        "    model_before_drug = initialize_model(parameter_values,initial_conditions,'continuous')\n",
        "    timespan_before = np.linspace(0, drug_application_time if drug_application_time else total_simulation_time, num=(drug_application_time if drug_application_time else total_simulation_time) + 1)\n",
        "    model_before_drug.timespan(timespan_before)\n",
        "    results_before_drug = model_before_drug.run(solver=gillespy2.ODESolver)\n",
        "    if drug_application_time is not None:\n",
        "        # Part 2: After drug application, reinitialize model if mode needs to be changed\n",
        "        model_after_drug = initialize_model(parameter_values,initial_conditions,'continuous',apply_drug=True,inhibited_parameters=inhibited_parameters)\n",
        "        # Assuming you want to update initial values based on the end state of the first simulation part\n",
        "        for species_name, species in model_after_drug.listOfSpecies.items():\n",
        "            species.initial_value = results_before_drug[0][species_name][-1]\n",
        "        model_after_drug.timespan(np.linspace(0, total_simulation_time - drug_application_time, total_simulation_time - drug_application_time + 1))\n",
        "        results_after_drug = model_after_drug.run(solver=gillespy2.ODESolver)\n",
        "        # Combine results\n",
        "        time_after_drug_corrected = results_after_drug[0]['time'] + drug_application_time\n",
        "        time = np.concatenate([results_before_drug[0]['time'], time_after_drug_corrected])\n",
        "        concentrations_species = {species: np.concatenate([results_before_drug[0][species], results_after_drug[0][species]]) for species in model_before_drug.listOfSpecies.keys()}\n",
        "    else:\n",
        "        # No drug application; use the results from the first phase directly\n",
        "        time = timespan_before\n",
        "        concentrations_species = {species: results_before_drug[0][species] for species in model_before_drug.listOfSpecies.keys()}\n",
        "    return time, concentrations_species\n"
      ]
    },
    {
      "cell_type": "code",
      "execution_count": 30,
      "metadata": {
        "id": "yd9qvJLFvdYU"
      },
      "outputs": [],
      "source": [
        "#@title Stochastic simulation\n",
        "def simulate_stochastic(parameter_values,initial_conditions,number_of_trajectories, total_simulation_time, drug_application_time=None, inhibited_parameters=None):\n",
        "    # Initialize and configure the model for the first simulation phase\n",
        "    model_before_drug = initialize_model(parameter_values,initial_conditions,'discrete')\n",
        "    timespan_before = np.linspace(0, drug_application_time if drug_application_time else total_simulation_time, num=(drug_application_time if drug_application_time else total_simulation_time) + 1)\n",
        "    model_before_drug.timespan(timespan_before)\n",
        "    results_before_drug = model_before_drug.run(solver=gillespy2.TauLeapingSolver, number_of_trajectories=number_of_trajectories)\n",
        "    if drug_application_time is not None:\n",
        "        # Apply drug effect for the second simulation phase\n",
        "        model_after_drug = initialize_model(parameter_values,initial_conditions,'discrete', apply_drug=True, inhibited_parameters=inhibited_parameters)\n",
        "        timespan_after = np.linspace(0, total_simulation_time - drug_application_time, num=total_simulation_time - drug_application_time + 1)\n",
        "        model_after_drug.timespan(timespan_after)\n",
        "        all_results_after_drug = []\n",
        "        for i in range(number_of_trajectories):\n",
        "            # Update initial conditions based on the end state before drug application\n",
        "            for species, _ in model_after_drug.listOfSpecies.items():\n",
        "                model_after_drug.listOfSpecies[species].initial_value = results_before_drug[i][species][-1]\n",
        "            result_after_drug = model_after_drug.run(solver=gillespy2.TauLeapingSolver, number_of_trajectories=1)\n",
        "            all_results_after_drug.append(result_after_drug[0])\n",
        "        # Combine results for both phases\n",
        "        time_after_drug_corrected = all_results_after_drug[0]['time'] + drug_application_time\n",
        "        time = np.concatenate([timespan_before[:-1], time_after_drug_corrected])  # Exclude duplicate time point\n",
        "        trajectories_species = {species: np.concatenate([np.array([result[species] for result in results_before_drug])[:,:-1],  # Exclude duplicate data point\n",
        "                                                            np.array([result[species] for result in all_results_after_drug])], axis=1)\n",
        "                                  for species in model_before_drug.listOfSpecies.keys()}\n",
        "    else:\n",
        "        # No drug application; use the results from the first phase directly\n",
        "        time = timespan_before\n",
        "        trajectories_species = {species: np.array([result[species] for result in results_before_drug])\n",
        "                                  for species in model_before_drug.listOfSpecies.keys()}\n",
        "    return trajectories_species, time\n"
      ]
    },
    {
      "cell_type": "markdown",
      "metadata": {
        "id": "-SzcEi6O6dly"
      },
      "source": [
        "# Solving unperturbed moodel"
      ]
    },
    {
      "cell_type": "code",
      "execution_count": 31,
      "metadata": {
        "id": "94Xx2_l66vE2"
      },
      "outputs": [],
      "source": [
        "# Model Parameters\n",
        "parameter_values = {\n",
        "            'k_on': 0.5,\n",
        "            'k_off': 0.1,\n",
        "            'k_r': 2,\n",
        "            'k_t': 0.5,\n",
        "            'k_p': 1,\n",
        "            'gamma_rn': 0.05,\n",
        "            'gamma_rc': 0.05,\n",
        "            'gamma_p': 0.5\n",
        "        }\n",
        "initial_conditions = {\n",
        "    'G_off': 0,\n",
        "    'G_on': 1,\n",
        "    'R_n': 0,\n",
        "    'R_c': 0,\n",
        "    'P' : 0\n",
        "}\n",
        "total_simulation_time = 201\n",
        "number_of_trajectories = 100\n",
        "drug_application_time = None\n",
        "inhibited_parameters=None"
      ]
    },
    {
      "cell_type": "code",
      "execution_count": 32,
      "metadata": {
        "id": "qAnWoEcJ6vh8"
      },
      "outputs": [
        {
          "data": {
            "image/png": "[encoded data removed]",
            "text/plain": [
              "<Figure size 576x360 with 1 Axes>"
            ]
          },
          "metadata": {
            "needs_background": "light"
          },
          "output_type": "display_data"
        }
      ],
      "source": [
        "# Runnning the ODE model\n",
        "time, concentrations_species = simulate_deterministic(parameter_values,\n",
        "                                                      initial_conditions,\n",
        "                                                      total_simulation_time,\n",
        "                                                      drug_application_time,\n",
        "                                                      inhibited_parameters)\n",
        "plotting_deterministic(time,concentrations_species,species_colors,ylim_val=75)"
      ]
    },
    {
      "cell_type": "code",
      "execution_count": null,
      "metadata": {
        "id": "ZKtdOiXW6vla"
      },
      "outputs": [],
      "source": [
        "# Running SSA\n",
        "trajectories_species, time  = simulate_stochastic(parameter_values,\n",
        "                                                  initial_conditions,\n",
        "                                                  number_of_trajectories,\n",
        "                                                  total_simulation_time,\n",
        "                                                  drug_application_time,\n",
        "                                                  inhibited_parameters)\n",
        "#plotting_stochastic(time, trajectories_species,species_colors,ylim_val=55)\n",
        "#plotting_stochastic_dist_all_species(time, trajectories_species, species_colors, time_point=20)\n",
        "plotting_combined(time, trajectories_species, species_colors,drug_application_time, time_point=60)"
      ]
    },
    {
      "cell_type": "markdown",
      "metadata": {
        "id": "loNArqu06wI-"
      },
      "source": [
        "# Solving the model after drug application"
      ]
    },
    {
      "cell_type": "code",
      "execution_count": null,
      "metadata": {
        "id": "ed0b5LPI60KF"
      },
      "outputs": [],
      "source": [
        "# Model Parameters\n",
        "drug_application_time = 60\n",
        "inhibited_parameters={'k_t': '0.1'}"
      ]
    },
    {
      "cell_type": "code",
      "execution_count": null,
      "metadata": {
        "id": "CN-DtTQA60mY"
      },
      "outputs": [],
      "source": [
        "# Runnning the ODE model\n",
        "time, concentrations_species = simulate_deterministic(parameter_values,\n",
        "                                                      initial_conditions,\n",
        "                                                      total_simulation_time,\n",
        "                                                      drug_application_time,\n",
        "                                                      inhibited_parameters)\n",
        "plotting_deterministic(time,concentrations_species,species_colors,drug_application_time,ylim_val=80)"
      ]
    },
    {
      "cell_type": "code",
      "execution_count": null,
      "metadata": {
        "id": "aBpjOGfC60s6"
      },
      "outputs": [],
      "source": [
        "# Running SSA\n",
        "trajectories_species, time  = simulate_stochastic(parameter_values,\n",
        "                                                  initial_conditions,\n",
        "                                                  number_of_trajectories,\n",
        "                                                  total_simulation_time,\n",
        "                                                  drug_application_time,\n",
        "                                                  inhibited_parameters)\n",
        "plotting_stochastic(time, trajectories_species,species_colors,drug_application_time,ylim_val=80)\n",
        "\n"
      ]
    },
    {
      "cell_type": "code",
      "execution_count": null,
      "metadata": {
        "id": "glr3uu19O8S9"
      },
      "outputs": [],
      "source": [
        "plotting_stochastic_dist_all_species(time, trajectories_species, species_colors, time_point=40)\n",
        "plotting_stochastic_dist_all_species(time, trajectories_species, species_colors, time_point=80)\n",
        "#plotting_stochastic_dist_all_species(time, trajectories_species, species_colors, time_point=100)"
      ]
    },
    {
      "cell_type": "code",
      "execution_count": null,
      "metadata": {
        "id": "qW6lcqrzfiCK"
      },
      "outputs": [],
      "source": [
        "# Simulated data\n",
        "T_MEASUREMENTS = np.array([5,10,20,40,60,80,100]).astype(int)\n",
        "observation_data_P = np.zeros(T_MEASUREMENTS.shape[0])\n",
        "observation_data_R_n = np.zeros(T_MEASUREMENTS.shape[0])\n",
        "observation_data_P_variance = np.zeros(T_MEASUREMENTS.shape[0])\n",
        "observation_data_R_n_variance = np.zeros(T_MEASUREMENTS.shape[0])\n",
        "species_name = 'P'\n",
        "for i,time_point in enumerate (T_MEASUREMENTS):\n",
        "  observation_data_P[i] = np.mean(trajectories_species['P'][:, time_point]) # R_n_exp_mean\n",
        "  observation_data_R_n[i] = np.mean(trajectories_species['R_n'][:, time_point]) # R_n_exp_mean\n",
        "  observation_data_P_variance[i] = np.var(trajectories_species['P'][:, time_point]) # R_n_exp_variance\n",
        "  observation_data_R_n_variance[i] = np.var(trajectories_species['R_n'][:, time_point]) # R_n_exp_variance\n",
        "observation_data = [observation_data_P,observation_data_R_n]\n",
        "observation_data_variance = [observation_data_P_variance,observation_data_R_n_variance]\n"
      ]
    },
    {
      "cell_type": "code",
      "execution_count": null,
      "metadata": {
        "id": "bkVTlOHR89fg"
      },
      "outputs": [],
      "source": [
        "observation_data"
      ]
    },
    {
      "cell_type": "code",
      "execution_count": null,
      "metadata": {},
      "outputs": [],
      "source": [
        "observation_data_variance"
      ]
    },
    {
      "cell_type": "code",
      "execution_count": null,
      "metadata": {
        "id": "K0Pf3PdsQ9BZ"
      },
      "outputs": [],
      "source": [
        "#plotting_combined(time, trajectories_species, species_colors,drug_application_time, time_point=20)\n"
      ]
    },
    {
      "cell_type": "code",
      "execution_count": null,
      "metadata": {},
      "outputs": [],
      "source": [
        "raise"
      ]
    },
    {
      "cell_type": "markdown",
      "metadata": {
        "id": "TpmFFcTmY-cb"
      },
      "source": [
        "# Parameter Estimation"
      ]
    },
    {
      "cell_type": "code",
      "execution_count": null,
      "metadata": {
        "id": "HUc5halCZAib"
      },
      "outputs": [],
      "source": [
        "#@title metropolis hastings\n",
        "def adaptive_metropolis(log_target_pdf,\n",
        "               start,\n",
        "               chain_len,\n",
        "               cov_matrix,\n",
        "               rng=np.random.default_rng()):\n",
        "  pdim = len(start)\n",
        "\n",
        "  samples = np.zeros((chain_len, pdim))\n",
        "  log_target_pdfs = np.zeros((chain_len,))\n",
        "\n",
        "  samples[0,:] = start[:]\n",
        "  log_target_pdfs[0] = log_target_pdf(samples[0,:])\n",
        "\n",
        "  nacc = 0\n",
        "\n",
        "  pbar = tqdm(range(chain_len-1))\n",
        "  for i in pbar:\n",
        "      xpropose = rng.multivariate_normal(samples[i,:], cov_matrix)\n",
        "\n",
        "      logpipropose = log_target_pdf(xpropose)\n",
        "\n",
        "      logu = np.log(rng.uniform(0, 1))\n",
        "\n",
        "      if logu <= logpipropose - log_target_pdfs[i]:\n",
        "          # Accept\n",
        "          samples[i+1, :] = xpropose[:]\n",
        "          log_target_pdfs[i+1] = logpipropose\n",
        "          nacc += 1\n",
        "      else:\n",
        "          # Reject\n",
        "          samples[i+1, :] = samples[i, :]\n",
        "          log_target_pdfs[i+1] = log_target_pdfs[i]\n",
        "\n",
        "      if i > 1:\n",
        "        cov_matrix = np.cov(samples[0:i + 1, :], None, rowvar=False) + 1.0e-6 * 2.4**2.0/ pdim * \\\n",
        "                            np.eye(pdim)\n",
        "\n",
        "      pbar.set_postfix(acceptance_rate=nacc/(i+1))\n",
        "\n",
        "  return samples, log_target_pdfs"
      ]
    },
    {
      "cell_type": "code",
      "execution_count": null,
      "metadata": {},
      "outputs": [],
      "source": [
        "def adaptive_metropolis(log_target_pdf, start, chain_len, cov_matrix, rng=np.random.default_rng()):\n",
        "    pdim = len(start)\n",
        "\n",
        "    samples = np.zeros((chain_len, pdim))\n",
        "    log_target_pdfs = np.zeros(chain_len)\n",
        "    samples[0, :] = start\n",
        "    log_target_pdfs[0] = log_target_pdf(samples[0, :])\n",
        "\n",
        "    nacc = 0  # Number of accepted proposals\n",
        "    cov_matrix_adjustment = 1.0e-6 * (2.4 ** 2.0) / pdim  # Adjustment factor for the covariance matrix\n",
        "    update_freq = 50  # Frequency of covariance matrix updates\n",
        "\n",
        "    pbar = tqdm(total=chain_len-1)\n",
        "    for i in range(chain_len - 1):\n",
        "        xpropose = rng.multivariate_normal(samples[i, :], cov_matrix)\n",
        "        logpipropose = log_target_pdf(xpropose)\n",
        "        logu = np.log(rng.uniform(0, 1))\n",
        "\n",
        "        if logu <= logpipropose - log_target_pdfs[i]:\n",
        "            samples[i + 1, :] = xpropose\n",
        "            log_target_pdfs[i + 1] = logpipropose\n",
        "            nacc += 1\n",
        "        else:\n",
        "            samples[i + 1, :] = samples[i, :]\n",
        "            log_target_pdfs[i + 1] = log_target_pdfs[i]\n",
        "\n",
        "        if (i + 1) % update_freq == 0 and i > 1:\n",
        "            cov_matrix = np.cov(samples[:i + 1, :], rowvar=False) + cov_matrix_adjustment * np.eye(pdim)\n",
        "\n",
        "        if (i + 1) % 100 == 0:  # Update progress bar every 100 iterations\n",
        "            pbar.update(100)\n",
        "            pbar.set_postfix(acceptance_rate=nacc / (i + 1))\n",
        "\n",
        "    pbar.close()\n",
        "    return samples, log_target_pdfs\n"
      ]
    },
    {
      "cell_type": "code",
      "execution_count": null,
      "metadata": {},
      "outputs": [],
      "source": []
    },
    {
      "cell_type": "code",
      "execution_count": null,
      "metadata": {
        "id": "WeetNEKJZPFf"
      },
      "outputs": [],
      "source": [
        "def Loglikelihood(  parameters,\n",
        "                    observations ,\n",
        "                    t_measurements):\n",
        "    parameter_values = {\n",
        "            'k_on': parameters[0],\n",
        "            'k_off': parameters[1],\n",
        "            'k_r': parameters[2],\n",
        "            'k_t': parameters[3],\n",
        "            'k_p': parameters[4],\n",
        "            'gamma_rn': parameters[5],\n",
        "            'gamma_rc': parameters[6],\n",
        "            'gamma_p': parameters[7]\n",
        "        }\n",
        "    initial_conditions = {\n",
        "        'G_off': 0,\n",
        "        'G_on': 1,\n",
        "        'R_n': 0,\n",
        "        'R_c': 0,\n",
        "        'P' : 0\n",
        "    }\n",
        "    total_simulation_time = 100\n",
        "    drug_application_time = 50\n",
        "    inhibited_parameters={'k_t': '0.1'}\n",
        "    time, concentrations_species = simulate_deterministic(parameter_values,\n",
        "                                                        initial_conditions,\n",
        "                                                        total_simulation_time,\n",
        "                                                        drug_application_time,\n",
        "                                                        inhibited_parameters)\n",
        "    y_R_n = concentrations_species['R_n'][t_measurements]\n",
        "    y_R_c = concentrations_species['R_c'][t_measurements]\n",
        "    y_P = concentrations_species['P'][t_measurements]\n",
        "    SIGMA=1\n",
        "    loglikelihood = 0.0\n",
        "    for i in range(observations[0].shape[0]):\n",
        "        #loglikelihood += np.sum(np.log(mrna_distributions[i][observations[i]]))\n",
        "        #loglikelihood += np.sum(np.log(mrna_distributions[i][observations[i]]))\n",
        "        loglikelihood +=  ( (np.sum(observations[0][i]) - y_P[i])**2/(2*SIGMA**2.0)  ) +   (  (np.sum(observations[1][i]) -y_R_n[i])**2/(2*SIGMA**2.0)   )\n",
        "    return -loglikelihood"
      ]
    },
    {
      "cell_type": "code",
      "execution_count": null,
      "metadata": {
        "id": "tvGEOm8iZUJc"
      },
      "outputs": [],
      "source": [
        "BG_MU = np.array([-1.0, -1.0, -1.0, -1.0, -1.0,-1.0,-1.0,-1.0])\n",
        "BG_SIGMA = np.array([1.0, 1.0, 1.0, 1.0, 1.0, 1.0, 1.0, 1.0])\n",
        "\n",
        "def bg_prior_sample(n_sample: int, rng=np.random.default_rng()) -> np.ndarray:\n",
        "    in_range = False\n",
        "    while in_range == False:\n",
        "      prior_sample = rng.normal(loc=BG_MU, scale=BG_SIGMA, size=(n_sample, BG_MU.shape[0]))\n",
        "      if np.any(10.0**(prior_sample) < 0.0001) or np.any(10.0**(prior_sample) > 10):\n",
        "          in_range= False\n",
        "      else:\n",
        "          in_range = True\n",
        "    return prior_sample\n",
        "\n",
        "def bg_logprior(parameter: np.ndarray):\n",
        "    #return -2.0*np.sum((parameter - BG_MU)**2.0 ) #/(BG_SIGMA**2.0))\n",
        "    return -1.0*np.sum((parameter - BG_MU)**2.0/(2*BG_SIGMA**2.0))\n",
        "\n",
        "def bg_log_target(theta):\n",
        "  transformed_theta = 10.0**(theta)\n",
        "  if np.any(transformed_theta < 0.0001) or np.any(transformed_theta > 100):\n",
        "    return -1e200\n",
        "  else:\n",
        "    return bg_logprior(theta) + Loglikelihood(transformed_theta, observations=observation_data, t_measurements=T_MEASUREMENTS)"
      ]
    },
    {
      "cell_type": "code",
      "execution_count": null,
      "metadata": {
        "id": "ml8U75RKC3ne"
      },
      "outputs": [],
      "source": [
        "chain_start = bg_prior_sample(n_sample=1)[0]\n",
        "print('inital guess:', 10.0**(chain_start))"
      ]
    },
    {
      "cell_type": "code",
      "execution_count": null,
      "metadata": {
        "id": "ZL_oiHyeZWom"
      },
      "outputs": [],
      "source": [
        "run_ms = False\n",
        "if run_ms:\n",
        "    bg_chain, bg_logpos = adaptive_metropolis(bg_log_target,\n",
        "                                            start=chain_start,\n",
        "                                            chain_len=1000000,\n",
        "                                            cov_matrix=np.eye(BG_MU.shape[0]))\n",
        "    np.save('bg_chain.npy', bg_chain)\n",
        "    np.save('bg_logpos.npy', bg_logpos)\n",
        "else:\n",
        "    bg_chain = np.load('bg_chain.npy')\n",
        "    bg_logpos = np.load('bg_logpos.npy')"
      ]
    },
    {
      "cell_type": "code",
      "execution_count": null,
      "metadata": {},
      "outputs": [],
      "source": [
        "# save bg_chain, bg_logpos with numpy save\n",
        "\n",
        "#np.save('bg_chain.npy', bg_chain)\n",
        "#np.save('bg_logpos.npy', bg_logpos)\n",
        "\n",
        "# load bg_chain, bg_logpos with numpy load\n",
        "#bg_chain = np.load('bg_chain.npy')\n",
        "#bg_logpos = np.load('bg_logpos.npy')"
      ]
    },
    {
      "cell_type": "code",
      "execution_count": null,
      "metadata": {},
      "outputs": [],
      "source": [
        "fig, axs = plt.subplots(2, 8, figsize=(20, 4))  # Adjusted for a horizontal layout\n",
        "fig.set_tight_layout(True)\n",
        "\n",
        "# Setting titles for the top row for \"MCMC Chain\" and the bottom row for \"Autocorrelation\"\n",
        "for i in range(8):\n",
        "    if i == 3:\n",
        "        axs[0, i].set_title(\"MH Chain\", fontsize=20)\n",
        "        axs[1, i].set_title(\"Autocorrelation\", fontsize=20)\n",
        "        \n",
        "    # MCMC chain plot\n",
        "    axs[0, i].plot(bg_chain[2000:, i], color='lightslategray', lw=2)\n",
        "    axs[0, i].axhline(theta_true[i], color='orangered', lw=3)\n",
        "    axs[0, i].set_ylabel(parameter_symbols[i])\n",
        "    axs[1, i].set_ylabel(parameter_symbols[i])\n",
        "    axs[0, i].set_xlabel('MH-steps')\n",
        "    axs[1, i].set_xlabel('MH-steps')\n",
        "    \n",
        "    # Autocorrelation plot\n",
        "    # Note: Adjust the autocorrelation calculation based on your version of emcee\n",
        "    autocorr = emcee.autocorr.function_1d(bg_chain[2000:, i]) if hasattr(emcee.autocorr, 'function_1d') else np.correlate(bg_chain[2000:, i], bg_chain[2000:, i], mode='full')[len(bg_chain[2000:, i])-1:] / len(bg_chain[2000:, i])\n",
        "    axs[1, i].plot(autocorr, color='lightslategray', lw=3)\n",
        "\n",
        "fig.savefig(folder_outputs+\"mcmc_trajectories_horizontal.png\", dpi=400, bbox_inches=\"tight\")"
      ]
    },
    {
      "cell_type": "code",
      "execution_count": null,
      "metadata": {},
      "outputs": [],
      "source": [
        "fig, axs = plt.subplots(2, 4, figsize=(15, 6))  # Adjusted to a 2x4 layout\n",
        "fig.set_tight_layout(True)\n",
        "\n",
        "# Loop through the parameter indices and plot\n",
        "for i in range(8):\n",
        "    row = i // 4  # Calculate row index\n",
        "    col = i % 4  # Calculate column index\n",
        "    # MCMC chain plot\n",
        "    axs[row, col].plot(bg_chain[2000:, i], color='lightslategray', lw=2)\n",
        "    axs[row, col].axhline(theta_true[i], color='orangered', lw=3)\n",
        "    axs[row, col].set_ylabel(parameter_symbols[i])\n",
        "    axs[row, col].set_xlabel('MH-steps')\n",
        "# adding title for all plots\n",
        "fig.suptitle(\"Metropolis-Hastings Chains\", fontsize=20)\n",
        "\n",
        "# Adjust the layout\n",
        "fig.tight_layout()\n",
        "fig.savefig(folder_outputs+\"mcmc_trajectories_parameters.png\", dpi=400, bbox_inches=\"tight\")\n",
        "plt.show()"
      ]
    },
    {
      "cell_type": "code",
      "execution_count": null,
      "metadata": {},
      "outputs": [],
      "source": [
        "\n",
        "fig, axs = plt.subplots(2, 4, figsize=(15, 6))  # Adjusted to a 2x4 layout\n",
        "fig.set_tight_layout(True)\n",
        "\n",
        "# Loop through the parameter indices and create histograms\n",
        "for i in range(8):\n",
        "    row = i // 4  # Calculate row index\n",
        "    col = i % 4  # Calculate column index\n",
        "    \n",
        "    data = bg_chain[2000:, i]  # Extracting the burn-in adjusted chain for the parameter\n",
        "    mean = np.mean(data)  # Calculate the mean of the parameter's chain\n",
        "    ci_lower, ci_upper = np.percentile(data, [5, 95])  # Calculate the 90% CI\n",
        "    \n",
        "    # Histogram plot\n",
        "    axs[row, col].hist(data, bins=30, color='lightslategray', alpha=0.7)\n",
        "    axs[row, col].axvline(mean, color='orangered', lw=4, label='Estimate')\n",
        "    axs[row, col].axvline(ci_lower, color='blue', linestyle='--', lw=2, label='90% CI')\n",
        "    axs[row, col].axvline(ci_upper, color='blue', linestyle='--', lw=2)\n",
        "    axs[row, col].axvline(theta_true[i], color='green', lw=4, label='True', linestyle='--')  # Marking the true parameter value\n",
        "    axs[row, col].set_ylabel('Frequency')\n",
        "    axs[row, col].set_xlabel(parameter_symbols[i])\n",
        "    axs[row, col].legend()\n",
        "\n",
        "# Adding a title for all plots\n",
        "fig.suptitle(\"Parameter Uncertainty\", fontsize=20)\n",
        "\n",
        "# Adjust the layout\n",
        "fig.tight_layout()\n",
        "\n",
        "# Save the figure\n",
        "fig.savefig(folder_outputs+\"mcmc_parameter_distributions_with_true.png\", dpi=400, bbox_inches=\"tight\")\n",
        "plt.show()\n"
      ]
    },
    {
      "cell_type": "code",
      "execution_count": null,
      "metadata": {},
      "outputs": [],
      "source": [
        "sns.set(style=\"white\")  # Set Seaborn style\n",
        "chain_trunc = bg_chain[2000:, :]  # Remove burn-in samples\n",
        "fig, axs = plt.subplots(8, 8, figsize=(15, 15))\n",
        "fig.tight_layout(pad=2.0)\n",
        "\n",
        "for i in range(8):\n",
        "    for j in range(i):\n",
        "        axs[i, j].hexbin(chain_trunc[:, j], chain_trunc[:, i], gridsize=15, cmap='plasma', mincnt=1)\n",
        "        axs[i, j].tick_params(axis='both', which='major', labelsize=8)\n",
        "        if j == 0:\n",
        "            axs[i, j].set_ylabel(parameter_symbols[i], fontsize=10)\n",
        "        if i == 7:  # This ensures the x labels appear at the bottom row\n",
        "            axs[i, j].set_xlabel(parameter_symbols[j], fontsize=10)\n",
        "    for j in range(i + 1, 8):\n",
        "        axs[i, j].axis('off')\n",
        "        \n",
        "    # Plot histogram\n",
        "    n, bins, patches = axs[i, i].hist(chain_trunc[:, i], color='lightslategray', bins=10)\n",
        "    axs[i, i].axvline(theta_true[i], color=\"orangered\", lw=4)\n",
        "    axs[i, i].tick_params(axis='both', which='major', labelsize=8)\n",
        "    \n",
        "    # Use scientific notation for y-axis\n",
        "    axs[i, i].yaxis.set_major_formatter(ticker.ScalarFormatter(useMathText=True))\n",
        "    axs[i, i].ticklabel_format(style='sci', axis='y', scilimits=(0,0))\n",
        "\n",
        "plt.show()\n",
        "\n",
        "fig.savefig(folder_outputs+\"mcmc_distributions.png\", dpi=400, bbox_inches=\"tight\")"
      ]
    },
    {
      "cell_type": "code",
      "execution_count": null,
      "metadata": {},
      "outputs": [],
      "source": [
        "# plot the ODE model with the best fit parameters\n",
        "best_fit = np.mean(bg_chain[2000:], axis=0)\n",
        "print('best fit:', 10.0**(best_fit))\n",
        "parameter_values = {\n",
        "            'k_on': 10.0**(best_fit[0]),\n",
        "            'k_off': 10.0**(best_fit[1]),\n",
        "            'k_r': 10.0**(best_fit[2]),\n",
        "            'k_t': 10.0**(best_fit[3]),\n",
        "            'k_p': 10.0**(best_fit[4]),\n",
        "            'gamma_rn': 10.0**(best_fit[5]),\n",
        "            'gamma_rc': 10.0**(best_fit[6]),\n",
        "            'gamma_p': 10.0**(best_fit[7])\n",
        "        }\n",
        "initial_conditions = {\n",
        "    'G_off': 0,\n",
        "    'G_on': 1,\n",
        "    'R_n': 0,\n",
        "    'R_c': 0,\n",
        "    'P' : 0\n",
        "}\n",
        "total_simulation_time = 100\n",
        "drug_application_time = 50\n",
        "inhibited_parameters={'k_t': '0.1'}\n",
        "time, concentrations_species = simulate_deterministic(parameter_values,\n",
        "                                                      initial_conditions,\n",
        "                                                      total_simulation_time,\n",
        "                                                      drug_application_time,\n",
        "                                                      inhibited_parameters)\n",
        "\n",
        "# solving the model with the true parameters\n",
        "true_parameter_values = {\n",
        "            'k_on': 0.5,\n",
        "            'k_off': 0.1,\n",
        "            'k_r': 5,\n",
        "            'k_t': 4,\n",
        "            'k_p': 2,\n",
        "            'gamma_rn': 0.1,\n",
        "            'gamma_rc': 0.5,\n",
        "            'gamma_p': 0.5\n",
        "}\n",
        "time, concentrations_species_true = simulate_deterministic(true_parameter_values,\n",
        "                                                      initial_conditions,\n",
        "                                                      total_simulation_time,\n",
        "                                                      drug_application_time,\n",
        "                                                      inhibited_parameters)\n",
        "\n",
        "#plotting_deterministic(time,concentrations_species,species_colors,drug_application_time,ylim_val=55)\n",
        "\n",
        "\n",
        "\n",
        "# Plotting the ODE model and the experimental data only for variables P and R_n\n",
        "plt.figure(figsize=(8, 5))\n",
        "plt.plot(T_MEASUREMENTS, observation_data_P, 'o', color='purple', label=' Data (P)', markersize=8)\n",
        "plt.plot(T_MEASUREMENTS, observation_data_R_n, 'o', color='green', label=' Data (R_n)', markersize=8)\n",
        "plt.plot(time, concentrations_species['P'], color='purple', label='Model Fit (P)', lw=4)\n",
        "plt.plot(time, concentrations_species['R_n'], color='green', label='Model Fit (R_n)', lw=4)\n",
        "# plotting for concentrations_species_true\n",
        "plt.plot(time, concentrations_species_true['P'], color='purple', label='True Model (P)', lw=2, linestyle='--')\n",
        "plt.plot(time, concentrations_species_true['R_n'], color='green', label='True Model (R_n)', lw=2, linestyle='--')\n",
        "\n",
        "# plotting the standard deviation for T_MEASUREMENTS\n",
        "#plt.fill_between(T_MEASUREMENTS, observation_data_P - np.sqrt(observation_data_P_variance), observation_data_P + np.sqrt(observation_data_P_variance), color='blue', alpha=0.1)\n",
        "#plt.fill_between(T_MEASUREMENTS, observation_data_R_n - np.sqrt(observation_data_R_n_variance), observation_data_R_n + np.sqrt(observation_data_R_n_variance), color='green', alpha=0.1)\n",
        "\n",
        "plt.xlabel('Time')\n",
        "plt.ylabel('Concentration')\n",
        "plt.title('ODE Model vs Data')\n",
        "plt.legend(loc='upper right', fontsize=12)\n",
        "plt.grid(True, linestyle='--', alpha=0.7)\n",
        "plt.ylim(0, 55)\n",
        "# save the figure\n",
        "\n",
        "plt.savefig(folder_outputs+'model_fit.png', dpi=400, bbox_inches=\"tight\")\n",
        "plt.show()\n",
        "\n"
      ]
    },
    {
      "cell_type": "code",
      "execution_count": null,
      "metadata": {},
      "outputs": [],
      "source": []
    },
    {
      "cell_type": "code",
      "execution_count": null,
      "metadata": {},
      "outputs": [],
      "source": []
    }
  ],
  "metadata": {
    "colab": {
      "private_outputs": true,
      "provenance": []
    },
    "kernelspec": {
      "display_name": "Python 3",
      "name": "python3"
    },
    "language_info": {
      "codemirror_mode": {
        "name": "ipython",
        "version": 3
      },
      "file_extension": ".py",
      "mimetype": "text/x-python",
      "name": "python",
      "nbconvert_exporter": "python",
      "pygments_lexer": "ipython3",
      "version": "3.8.12"
    }
  },
  "nbformat": 4,
  "nbformat_minor": 0
}
