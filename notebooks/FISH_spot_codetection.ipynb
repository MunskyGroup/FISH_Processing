{
 "cells": [
  {
   "cell_type": "code",
   "execution_count": null,
   "metadata": {},
   "outputs": [],
   "source": [
    "# Importing libraries\n",
    "import sys\n",
    "import pathlib\n",
    "import warnings\n",
    "import matplotlib.pyplot as plt\n",
    "from matplotlib_scalebar.scalebar import ScaleBar\n",
    "import seaborn as sns\n",
    "import pandas as pd\n",
    "import numpy as np\n",
    "warnings.filterwarnings(\"ignore\")\n",
    "sns.set(font_scale = 1)\n"
   ]
  },
  {
   "cell_type": "code",
   "execution_count": null,
   "metadata": {},
   "outputs": [],
   "source": [
    "# Defining directories\n",
    "current_dir = pathlib.Path().absolute()\n",
    "fa_dir = current_dir.parents[0].joinpath('src')\n",
    "\n",
    "# Importing fish_analyses module\n",
    "sys.path.append(str(fa_dir))\n",
    "import fish_analyses as fa\n",
    "\n",
    "# Path to credentials\n",
    "desktop_path = pathlib.Path.home()/'Desktop'\n",
    "path_to_config_file = desktop_path.joinpath('config.yml')\n",
    "# Path to data \n",
    "data_dir = current_dir.parents[0].joinpath('dataBases','MS2-CY5_cyto543_560_woStim_short')"
   ]
  },
  {
   "cell_type": "code",
   "execution_count": null,
   "metadata": {},
   "outputs": [],
   "source": [
    "list_images, path_files, list_files_names, number_images = fa.ReadImages(directory=data_dir).read()"
   ]
  },
  {
   "cell_type": "code",
   "execution_count": null,
   "metadata": {},
   "outputs": [],
   "source": [
    "selected_image = list_images[1]\n",
    "number_color_channels = selected_image.shape[3]"
   ]
  },
  {
   "cell_type": "code",
   "execution_count": null,
   "metadata": {},
   "outputs": [],
   "source": [
    "# Ploting merged image\n",
    "img_filtered = fa.GaussianFilter(selected_image, sigma = 1).apply_filter()\n",
    "max_img_filtered = np.max(img_filtered,axis=0)\n",
    "img_filtered_int8 = fa.Utilities.convert_to_int8(max_img_filtered, rescale=True, min_percentile=0, max_percentile=99.5)\n",
    "\n",
    "# Plot maximum projection\n",
    "_, axes = plt.subplots(nrows = 1, ncols = 2, figsize = (12, 12))\n",
    "axes[0].imshow( img_filtered_int8[:,:,[2,1,0]])\n",
    "axes[0].grid(False)\n",
    "axes[0].set_xticks([])\n",
    "axes[0].set_yticks([])\n",
    "axes[0].set_title('Ch0' )\n",
    "\n",
    "axes[1].imshow( img_filtered_int8[:,:,[2,3,0]])\n",
    "axes[1].grid(False)\n",
    "axes[1].set_xticks([])\n",
    "axes[1].set_yticks([])\n",
    "axes[1].set_title('CH1' )\n",
    "plt.show()"
   ]
  },
  {
   "cell_type": "code",
   "execution_count": null,
   "metadata": {},
   "outputs": [],
   "source": [
    "# Plotting each channel\n",
    "selected_z_slice = 12\n",
    "z_slice_selected_image = selected_image[selected_z_slice,:,:,:] #np.max(selected_image,axis=0)\n",
    "z_slice_selected_image_removed_extreme = np.zeros_like(z_slice_selected_image)\n",
    "min_percentile = 1\n",
    "max_percentile = 99\n",
    "\n",
    "for ch in range( z_slice_selected_image.shape[2]):\n",
    "    z_slice_selected_image_removed_extreme[:,:,ch] = fa.RemoveExtrema(z_slice_selected_image[:,:,ch],min_percentile=min_percentile, max_percentile=max_percentile).remove_outliers() \n",
    "# Plot maximum projection\n",
    "_, axes = plt.subplots(nrows = 1, ncols = number_color_channels, figsize = (15, 5))\n",
    "for i in range(0, number_color_channels):\n",
    "    axes[i].imshow(z_slice_selected_image_removed_extreme[:,:,i])\n",
    "    axes[i].grid(False)\n",
    "    #axes[i].set_xticks([])\n",
    "    #axes[i].set_yticks([])\n",
    "    axes[i].set_title('channel_'+str(i) )"
   ]
  },
  {
   "cell_type": "code",
   "execution_count": null,
   "metadata": {},
   "outputs": [],
   "source": [
    "channels_with_cytosol = [2, 1]\n",
    "channels_with_nucleus = [0, 1] \n",
    "channels_with_FISH = [1, 3]\n",
    "diameter_cytosol = 160\n",
    "diameter_nucleus = 80 \n",
    "masks_complete_cells, masks_nuclei, masks_cytosol_no_nuclei = fa.CellSegmentation(image= z_slice_selected_image_removed_extreme,\n",
    "                                                                                    channels_with_cytosol=channels_with_cytosol, \n",
    "                                                                                    channels_with_nucleus=channels_with_nucleus, \n",
    "                                                                                    diameter_cytosol=diameter_cytosol, \n",
    "                                                                                    diameter_nucleus=diameter_nucleus, \n",
    "                                                                                    show_plots = True,\n",
    "                                                                                    optimization_segmentation_method = None,\n",
    "                                                                                    image_name = 'temp' ).calculate_masks() "
   ]
  },
  {
   "cell_type": "code",
   "execution_count": null,
   "metadata": {},
   "outputs": [],
   "source": [
    "threshold_intensity_0 = 500\n",
    "threshold_intensity_1 = 500\n",
    "dataframe_FISH, filtered_images = fa.SpotDetection( z_slice_selected_image,\n",
    "                                                    channels_with_FISH,\n",
    "                                                    channels_with_cytosol,\n",
    "                                                    channels_with_nucleus, \n",
    "                                                    minimum_spots_cluster = 2,\n",
    "                                                    masks_complete_cells = masks_complete_cells, \n",
    "                                                    masks_nuclei = masks_nuclei, \n",
    "                                                    masks_cytosol_no_nuclei = masks_cytosol_no_nuclei, \n",
    "                                                    list_voxels = [ [500 , 160], [500 , 160] ],\n",
    "                                                    list_psfs = [ [350 , 160] , [350 , 160] ], \n",
    "                                                    show_plots = False,\n",
    "                                                    image_name = 'temp_detection',\n",
    "                                                    threshold_for_spot_detection = [threshold_intensity_0, threshold_intensity_1]).get_dataframe()"
   ]
  },
  {
   "cell_type": "code",
   "execution_count": null,
   "metadata": {},
   "outputs": [],
   "source": [
    "# Plotting cells with IDs\n",
    "df_labels = dataframe_FISH.loc[ :, ['image_id','cell_id','nuc_loc_y','nuc_loc_x','cyto_loc_y','cyto_loc_x']].drop_duplicates()\n",
    "fa.Plots.plotting_masks_and_original_image(image = z_slice_selected_image_removed_extreme, \n",
    "                                            masks_complete_cells = masks_complete_cells, \n",
    "                                            masks_nuclei = masks_nuclei, \n",
    "                                            channels_with_cytosol = channels_with_cytosol, \n",
    "                                            channels_with_nucleus = channels_with_nucleus,\n",
    "                                            image_name = 'temp',\n",
    "                                            show_plots = True,\n",
    "                                            df_labels = df_labels)"
   ]
  },
  {
   "cell_type": "code",
   "execution_count": null,
   "metadata": {},
   "outputs": [],
   "source": [
    "# Code to calculate the euclidian distance between the points in image 1 and image 2.\n",
    "# ColocalizationDistance is intended to calculate the Euclidean 2nd norm distance between the spots detected in two FISH channels.\n",
    "# Detecting colocalized spots as spots that are detected on both channels and are located within a MINIMAL_RADIUS_IN_PIXELS = 2. \n",
    "MINIMAL_RADIUS_IN_PIXELS = 2\n",
    "df_spots_classification, df_coordinates_colocalized_spots, df_coordinates_0_only_spots, df_coordinates_1_only_spots = fa.ColocalizationDistance(df=dataframe_FISH,\n",
    "                                                    threshold_intensity_0 = threshold_intensity_0, \n",
    "                                                    threshold_intensity_1 = threshold_intensity_1,\n",
    "                                                    show_plots = False,\n",
    "                                                    threshold_distance = MINIMAL_RADIUS_IN_PIXELS ).extract_spot_classification_from_df()"
   ]
  },
  {
   "cell_type": "code",
   "execution_count": null,
   "metadata": {},
   "outputs": [],
   "source": [
    "print(len(df_coordinates_0_only_spots))\n",
    "print(len(df_coordinates_1_only_spots))\n",
    "print(len(df_coordinates_colocalized_spots))\n"
   ]
  },
  {
   "cell_type": "code",
   "execution_count": null,
   "metadata": {},
   "outputs": [],
   "source": [
    "df_coordinates_colocalized_spots"
   ]
  },
  {
   "cell_type": "code",
   "execution_count": null,
   "metadata": {},
   "outputs": [],
   "source": [
    "# Pandas dataframe with the following columns: [time, ts_intensity_0, ts_intensity_1, ts_distance, image_id, cell_id, num_0_only, num_1_only, num_0_1, num_0, num_1, total]. \n",
    "    #num_0_only = num_type_0_only\n",
    "    #num_1_only = num_type_1_only\n",
    "    #num_0_1 = num_type_0_1\n",
    "    #num_0 = num_type_0_only + num_type_0_1\n",
    "    #num_1 = num_type_1_only + num_type_0_1\n",
    "    #total = num_type_0_only + num_type_1_only + num_type_0_1\n",
    "df_spots_classification"
   ]
  },
  {
   "cell_type": "code",
   "execution_count": null,
   "metadata": {},
   "outputs": [],
   "source": [
    "df_melted = pd.melt(df_spots_classification, id_vars = ['cell_id'], value_vars = ['num_0_only','num_1_only','num_0_1'])\n",
    "#df_melted"
   ]
  },
  {
   "cell_type": "code",
   "execution_count": null,
   "metadata": {},
   "outputs": [],
   "source": [
    "sns.set(font_scale = 1.5)\n",
    "sns.set_style(\"white\")\n",
    "plt.figure(figsize=(7,5))\n",
    "color_palete = 'CMRmap'\n",
    "p_bar = sns.barplot( x = 'variable',\n",
    "                        y = 'value',\n",
    "                        data = df_melted,\n",
    "                        capsize = 0.1,\n",
    "                        #ci = \"sd\",\n",
    "                        palette=color_palete)\n",
    "p = sns.stripplot(data=df_melted, \n",
    "                x = 'variable',\n",
    "                y = 'value',\n",
    "                size=3, \n",
    "                color='0.5', \n",
    "                jitter=0.2)\n",
    "# Show the plot\n",
    "p_bar.set_xlabel('Spot type')\n",
    "p_bar.set_ylabel('Number of Spots')\n",
    "p_bar.set_title('Colocalization spots')\n",
    "plt.show()"
   ]
  },
  {
   "cell_type": "code",
   "execution_count": null,
   "metadata": {},
   "outputs": [],
   "source": [
    "#df_coordinates_colocalized_spots.head()"
   ]
  },
  {
   "cell_type": "code",
   "execution_count": null,
   "metadata": {},
   "outputs": [],
   "source": [
    "#df_coordinates_0_only_spots"
   ]
  },
  {
   "cell_type": "code",
   "execution_count": null,
   "metadata": {},
   "outputs": [],
   "source": [
    "#df_coordinates_1_only_spots"
   ]
  },
  {
   "cell_type": "code",
   "execution_count": null,
   "metadata": {},
   "outputs": [],
   "source": [
    "# plot image with detected spots\n",
    "min_percentile = 1\n",
    "max_percentile = 99\n",
    "filtered_images_remove_extrema_first = fa.RemoveExtrema(filtered_images[0][0,:,:],min_percentile=min_percentile, max_percentile=max_percentile).remove_outliers() \n",
    "filtered_images_remove_extrema_second = fa.RemoveExtrema(filtered_images[1][0,:,:],min_percentile=min_percentile, max_percentile=max_percentile).remove_outliers() \n",
    "# merging both channels\n",
    "merged_filtered_images = np.stack((filtered_images[0][0,:,:], filtered_images[1][0,:,:]), axis=-1)\n",
    "merged_filtered_images_remove_extrema= fa.Utilities.convert_to_int8(merged_filtered_images, rescale=True, min_percentile=min_percentile, max_percentile=max_percentile)  \n",
    "\n",
    "selected_cmap ='plasma'\n",
    "\n",
    "# Plot filtered images with spots\n",
    "_, axes = plt.subplots(nrows = 1, ncols = 3, figsize = (20, 12))\n",
    "axes[0].imshow( filtered_images_remove_extrema_first,cmap=selected_cmap)\n",
    "axes[0].grid(False)\n",
    "axes[0].set_xticks([])\n",
    "axes[0].set_yticks([])\n",
    "axes[0].set_title('spots 0' )\n",
    "\n",
    "axes[1].imshow( filtered_images_remove_extrema_second,cmap=selected_cmap)\n",
    "axes[1].grid(False)\n",
    "axes[1].set_xticks([])\n",
    "axes[1].set_yticks([])\n",
    "axes[1].set_title('spots 1' )\n",
    "\n",
    "axes[2].imshow( merged_filtered_images_remove_extrema,cmap=selected_cmap)\n",
    "axes[2].grid(False)\n",
    "axes[2].set_xticks([])\n",
    "axes[2].set_yticks([])\n",
    "axes[2].set_title('merged' )\n",
    "\n",
    "plt.show()\n"
   ]
  },
  {
   "cell_type": "code",
   "execution_count": null,
   "metadata": {},
   "outputs": [],
   "source": []
  },
  {
   "cell_type": "code",
   "execution_count": null,
   "metadata": {},
   "outputs": [],
   "source": []
  }
 ],
 "metadata": {
  "kernelspec": {
   "display_name": "FISH_processing",
   "language": "python",
   "name": "python3"
  },
  "language_info": {
   "codemirror_mode": {
    "name": "ipython",
    "version": 3
   },
   "file_extension": ".py",
   "mimetype": "text/x-python",
   "name": "python",
   "nbconvert_exporter": "python",
   "pygments_lexer": "ipython3",
   "version": "3.8.12"
  },
  "orig_nbformat": 4
 },
 "nbformat": 4,
 "nbformat_minor": 2
}
