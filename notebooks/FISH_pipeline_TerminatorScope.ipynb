{
 "cells": [
  {
   "attachments": {},
   "cell_type": "markdown",
   "id": "d494faaa",
   "metadata": {},
   "source": [
    "# FISH - Pipeline - A Python interactive notebook to process FISH data\n",
    "\n",
    "```\n",
    "Author: Luis U. Aguilera\n",
    "Contact Info: luis.aguilera@colostate.edu\n",
    "\n",
    "Copyright (c) 2021 Munsky Group \n",
    "Colorado State University \n",
    "Licensed under BSD 3-Clause License.\n",
    "```"
   ]
  },
  {
   "attachments": {},
   "cell_type": "markdown",
   "id": "d5465534",
   "metadata": {},
   "source": [
    "### Notebook summary \n",
    "\n",
    "\n",
    "- Load a directory with microscope FISH images\n",
    "- Establish a connection to Network-attached storage (NAS) using [pysmb](https://github.com/miketeo/pysmb)\n",
    "- Perform cell segmentation using [Cellpose](https://github.com/MouseLand/cellpose)\n",
    "- Perform spot detection using [Big-FISH](https://github.com/fish-quant/big-fish)\n",
    "- Datamanagement using Pandas\n",
    "\n",
    "----"
   ]
  },
  {
   "attachments": {},
   "cell_type": "markdown",
   "id": "6e1f620b",
   "metadata": {},
   "source": [
    "### Libraries"
   ]
  },
  {
   "cell_type": "code",
   "execution_count": null,
   "id": "ec7c8aea",
   "metadata": {},
   "outputs": [],
   "source": [
    "# Importing libraries\n",
    "import sys\n",
    "import pathlib\n",
    "import warnings\n",
    "import numpy as np\n",
    "warnings.filterwarnings(\"ignore\")"
   ]
  },
  {
   "attachments": {},
   "cell_type": "markdown",
   "id": "9d558787",
   "metadata": {},
   "source": [
    "### Path to source directories"
   ]
  },
  {
   "cell_type": "code",
   "execution_count": null,
   "id": "fbf289c0",
   "metadata": {},
   "outputs": [],
   "source": [
    "# Defining directories\n",
    "current_dir = pathlib.Path().absolute()\n",
    "fa_dir = current_dir.parents[0].joinpath('src')\n",
    "\n",
    "# Importing fish_analyses module\n",
    "sys.path.append(str(fa_dir))\n",
    "import fish_analyses as fa"
   ]
  },
  {
   "cell_type": "code",
   "execution_count": null,
   "id": "3d321ee7",
   "metadata": {},
   "outputs": [],
   "source": [
    "fa.Banner().print_banner()"
   ]
  },
  {
   "attachments": {},
   "cell_type": "markdown",
   "id": "3aa72c56",
   "metadata": {},
   "source": [
    "----\n",
    "\n",
    "# Parameters defined by the user \n",
    "\n",
    "----"
   ]
  },
  {
   "attachments": {},
   "cell_type": "markdown",
   "id": "2d70c1f2",
   "metadata": {},
   "source": [
    "### Paths to images"
   ]
  },
  {
   "cell_type": "code",
   "execution_count": null,
   "id": "a801367c",
   "metadata": {},
   "outputs": [],
   "source": [
    "# Path to credentials\n",
    "desktop_path = pathlib.Path.home()/'Desktop'\n",
    "path_to_config_file = desktop_path.joinpath('config.yml')\n",
    "# Path to images and masks\n",
    "path_to_masks_dir = None "
   ]
  },
  {
   "cell_type": "code",
   "execution_count": null,
   "id": "be731e4b",
   "metadata": {},
   "outputs": [],
   "source": [
    "\n",
    "#data_folder_path =pathlib.Path('TermData/data/users/Eric/DUSP1_smFISH/20230414_DUSP1_10nM_Dex_180min_040523_60x/20230414_5')\n",
    "#data_folder_path =pathlib.Path('smFISH_images/Sawyer_smFISH_images/A549/Terminator/20230425_DUSP1_A549_DEX_60min_031123' )\n",
    "data_folder_path =pathlib.Path('smFISH_images/Sawyer_smFISH_images/A549/Terminator/20230425_DUSP1_A549_DEX_0min_031123')\n",
    "#data_folder_path =pathlib.Path('smFISH_images/Sawyer_smFISH_images/A549/Terminator/20230426_DUSP1_A549_DEX_180min_031123')\n",
    "\n",
    "data_folder_path =pathlib.Path('/home/luisub/Desktop/FISH_Processing/dataBases/test_term')\n"
   ]
  },
  {
   "attachments": {},
   "cell_type": "markdown",
   "id": "b93f8f3b",
   "metadata": {},
   "source": [
    "### Parameters for segmentation and spot detection"
   ]
  },
  {
   "cell_type": "code",
   "execution_count": null,
   "id": "8785240c",
   "metadata": {},
   "outputs": [],
   "source": [
    "send_data_to_NAS=0                           # If data sent back to NAS use 1\n",
    "download_data_from_NAS=0                     # If data downloaded from NAS use 1"
   ]
  },
  {
   "cell_type": "code",
   "execution_count": null,
   "id": "305786bc",
   "metadata": {},
   "outputs": [],
   "source": [
    "diameter_nucleus=103                          # Approximate nucleus size in pixels\n",
    "diameter_cytosol=210                          # Approximate cytosol size in pixels\n",
    "voxel_size_z=500                              # Microscope conversion px to nanometers in the z axis.\n",
    "voxel_size_yx=120#96                           # Microscope conversion px to nanometers in the xy axis.\n",
    "psf_z=500                                     # Theoretical size of the PSF emitted by a [rna] spot in the z plan, in nanometers\n",
    "psf_yx= 120#int(voxel_size_yx*1)#96             # Theoretical size of the PSF emitted by a [rna] spot in the yx plan, in nanometers\n",
    "channels_with_nucleus=None #[1]               # Channel to pass to python for nucleus segmentation\n",
    "channels_with_cytosol=[1]                     # Channel to pass to python for cytosol segmentation\n",
    "channels_with_FISH=[0]                        # Channel to pass to python for spot detection\n",
    "optimization_segmentation_method ='default'   # optimization_segmentation_method = 'intensity_segmentation' 'default', 'z_slice_segmentation_marker', 'gaussian_filter_segmentation' , None\n",
    "save_all_images = 0                           # To save all images for all the z-slices\n",
    "save_filtered_images = 0                  # To save filtered images.\n",
    "number_of_images_to_process = None#           # Use an integer to process a subset of images. None is used to indicate that all images need to be processed.\n",
    "minimum_spots_cluster = 10                    # Minimal value used to define a cluster.\n",
    "threshold_for_spot_detection=600#None             # To select an specific threshold for spot detection. The default is None, and use automated threshold detection.\n",
    "show_plots=0                                  # Flag to show  plots\n",
    "remove_z_slices_borders = True                # Use this flag to remove 2 z-slices from the top and bottom of the stack. This is needed to remove z-slices that are out of focus.\n",
    "remove_out_of_focus_images=True\n",
    "save_pdf_report=False\n",
    "sharpness_threshold=1.12\n",
    "####################################################################\n",
    "#### Parameters to reformat images from the terminator scope ####\n",
    "convert_to_standard_format = False             # Flag to indicate the code to convert image to standard format. Only use if it is needed to convert to standard format\n",
    "number_color_channels = 2                     # Only use if it is needed to convert to standard format\n",
    "number_of_fov = 1                             # Only use if it is needed to convert to standard format\n",
    "####################################################################"
   ]
  },
  {
   "attachments": {},
   "cell_type": "markdown",
   "id": "887f8361",
   "metadata": {},
   "source": [
    "## Downloading data from NAS"
   ]
  },
  {
   "cell_type": "code",
   "execution_count": null,
   "id": "af176d76",
   "metadata": {},
   "outputs": [],
   "source": [
    "%%capture\n",
    "# Download data from NAS\n",
    "if convert_to_standard_format == False:\n",
    "    local_data_dir, masks_dir, _, _, list_files_names,_ = fa.Utilities.read_images_from_folder( path_to_config_file, data_folder_path, path_to_masks_dir,  download_data_from_NAS)\n",
    "else:\n",
    "    local_data_dir,masks_dir, list_files_names, _, list_images= fa.Utilities.convert_to_standard_format(data_folder_path=data_folder_path, \n",
    "                                                                                    path_to_config_file=path_to_config_file, \n",
    "                                                                                    download_data_from_NAS = download_data_from_NAS, \n",
    "                                                                                    number_color_channels=number_color_channels,\n",
    "                                                                                    number_of_fov=number_of_fov )"
   ]
  },
  {
   "attachments": {},
   "cell_type": "markdown",
   "id": "dba673cc",
   "metadata": {},
   "source": [
    "## Running the pipeline\n",
    "\n",
    "----"
   ]
  },
  {
   "cell_type": "code",
   "execution_count": null,
   "id": "bd3a9063",
   "metadata": {},
   "outputs": [],
   "source": [
    "dataframe_FISH,_,_,_,output_identification_string = fa.PipelineFISH(local_data_dir, channels_with_cytosol, channels_with_nucleus, channels_with_FISH,diameter_nucleus, \n",
    "                                       diameter_cytosol, minimum_spots_cluster, masks_dir=masks_dir,  voxel_size_z=voxel_size_z,\n",
    "                                       voxel_size_yx=voxel_size_yx ,psf_z=psf_z,psf_yx=psf_yx, show_plots=show_plots,  \n",
    "                                       file_name_str =data_folder_path.name, optimization_segmentation_method = optimization_segmentation_method,\n",
    "                                       save_all_images=save_all_images,threshold_for_spot_detection=threshold_for_spot_detection,save_filtered_images=save_filtered_images,\n",
    "                                       number_of_images_to_process=number_of_images_to_process,\n",
    "                                       remove_z_slices_borders=remove_z_slices_borders,\n",
    "                                       remove_out_of_focus_images=remove_out_of_focus_images,\n",
    "                                       save_pdf_report=save_pdf_report).run()"
   ]
  },
  {
   "attachments": {},
   "cell_type": "markdown",
   "id": "435ce599",
   "metadata": {},
   "source": [
    "## Extracting data from the dataframe\n",
    "\n",
    "----"
   ]
  },
  {
   "cell_type": "code",
   "execution_count": null,
   "id": "05ebfd58",
   "metadata": {},
   "outputs": [],
   "source": [
    "# Be aware that the code keeps track of cells without spots. In the data frame, the fields for cells without spots are populated with -1 values.\n",
    "#dataframe_FISH.tail()"
   ]
  },
  {
   "attachments": {},
   "cell_type": "markdown",
   "id": "6b9b3e73",
   "metadata": {},
   "source": [
    "## Plots"
   ]
  },
  {
   "cell_type": "code",
   "execution_count": null,
   "id": "352b47cc",
   "metadata": {},
   "outputs": [],
   "source": [
    "list_files_distributions = fa.Plots.plot_all_distributions(dataframe_FISH,channels_with_cytosol, channels_with_nucleus,channels_with_FISH,minimum_spots_cluster,output_identification_string )"
   ]
  },
  {
   "cell_type": "code",
   "execution_count": null,
   "id": "6f40d8ce",
   "metadata": {},
   "outputs": [],
   "source": [
    "file_plots_bleed_thru = fa.Plots.plot_scatter_bleed_thru(dataframe_FISH, channels_with_cytosol, channels_with_nucleus,output_identification_string)"
   ]
  },
  {
   "attachments": {},
   "cell_type": "markdown",
   "id": "44ccedfd",
   "metadata": {},
   "source": [
    "## Saving data"
   ]
  },
  {
   "cell_type": "code",
   "execution_count": null,
   "id": "56c1ffc2",
   "metadata": {},
   "outputs": [],
   "source": [
    "# Saving data and plots, and sending data to NAS\n",
    "fa.Utilities.save_output_to_folder(output_identification_string, data_folder_path, list_files_distributions=list_files_distributions,\n",
    "                                   file_plots_bleed_thru=file_plots_bleed_thru,channels_with_FISH=channels_with_FISH,save_pdf_report=save_pdf_report)\n",
    "\n",
    "# sending data to NAS\n",
    "analysis_folder_name, mask_dir_complete_name = fa.Utilities.sending_data_to_NAS(output_identification_string, data_folder_path, path_to_config_file, path_to_masks_dir, diameter_nucleus, diameter_cytosol, send_data_to_NAS, masks_dir)\n",
    "\n",
    "# Moving the complete analysis folder to final analyses folder \n",
    "fa.Utilities.move_results_to_analyses_folder( output_identification_string, data_folder_path, mask_dir_complete_name, path_to_masks_dir, save_filtered_images, download_data_from_NAS )"
   ]
  }
 ],
 "metadata": {
  "interpreter": {
   "hash": "f123aec772437107f61ad48bdc3e74202fc8f652e2fa44805dd8339e0a72f809"
  },
  "kernelspec": {
   "display_name": "Python 3.6.13 64-bit ('FISH_processing': conda)",
   "name": "python3"
  },
  "language_info": {
   "codemirror_mode": {
    "name": "ipython",
    "version": 3
   },
   "file_extension": ".py",
   "mimetype": "text/x-python",
   "name": "python",
   "nbconvert_exporter": "python",
   "pygments_lexer": "ipython3",
   "version": "3.8.12"
  }
 },
 "nbformat": 4,
 "nbformat_minor": 5
}
