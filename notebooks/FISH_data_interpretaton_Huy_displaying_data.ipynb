{
 "cells": [
  {
   "cell_type": "markdown",
   "metadata": {},
   "source": [
    "# FISH - Data interpretation - A Python interactive notebook to interpret FISH data\n",
    "\n",
    "```\n",
    "Author: Luis U. Aguilera\n",
    "Contact Info: luis.aguilera@colostate.edu\n",
    "\n",
    "Copyright (c) 2021 Munsky Group \n",
    "Colorado State University \n",
    "Licensed under BSD 3-Clause License.\n",
    "\n",
    "```"
   ]
  },
  {
   "cell_type": "markdown",
   "metadata": {},
   "source": [
    "## Importing libraries"
   ]
  },
  {
   "cell_type": "code",
   "execution_count": null,
   "metadata": {},
   "outputs": [],
   "source": [
    "import sys\n",
    "import matplotlib.pyplot as plt \n",
    "from  matplotlib.ticker import FuncFormatter\n",
    "import numpy as np \n",
    "import pandas as pd\n",
    "import pathlib\n",
    "import warnings\n",
    "import glob\n",
    "import seaborn as sns\n",
    "import zipfile\n",
    "import shutil\n",
    "import scipy.stats as stats\n",
    "import os\n",
    "warnings.filterwarnings(\"ignore\")"
   ]
  },
  {
   "cell_type": "markdown",
   "metadata": {},
   "source": [
    "## Defining paths"
   ]
  },
  {
   "cell_type": "code",
   "execution_count": null,
   "metadata": {},
   "outputs": [],
   "source": [
    "# Defining directories\n",
    "current_dir = pathlib.Path().absolute()\n",
    "fa_dir = current_dir.parents[0].joinpath('src')\n",
    "# Importing fish_analyses module\n",
    "sys.path.append(str(fa_dir))\n",
    "import fish_analyses as fa\n",
    "# Local folder path\n",
    "local_folder_path = pathlib.Path().absolute().joinpath('temp_zip_analyses')\n",
    "local_folder_path\n",
    "# Path to credentials\n",
    "desktop_path = pathlib.Path.home()/'Desktop'\n",
    "# Connection to munsky-nas\n",
    "path_to_config_file = desktop_path.joinpath('config.yml')\n",
    "share_name = 'share'\n",
    "\n",
    "# creating a folder to store all plots\n",
    "destination_folder = pathlib.Path().absolute().joinpath('results', 'data_Huy')\n",
    "if not os.path.exists(destination_folder):\n",
    "    os.makedirs(destination_folder) "
   ]
  },
  {
   "cell_type": "code",
   "execution_count": null,
   "metadata": {},
   "outputs": [],
   "source": [
    "psf_z=350                # Theoretical size of the PSF emitted by a [rna] spot in the z plan, in nanometers\n",
    "psf_yx=160               # Theoretical size of the PSF emitted by a [rna] spot in the yx plan, in nanometers\n",
    "voxel_size_z=500         # Microscope conversion px to nanometers in the z axis.\n",
    "voxel_size_yx=160        # Microscope conversion px to nanometers in the xy axis.\n",
    "scale = np.array ([ voxel_size_z/psf_z, voxel_size_yx/psf_yx, voxel_size_yx/psf_yx ])\n",
    "\n",
    "list_timepoints = [0,18,300]\n",
    "list_thresholds_intensity =[400,450,500,550]\n",
    "list_thresholds_distance=[1,2,3]"
   ]
  },
  {
   "cell_type": "markdown",
   "metadata": {},
   "source": [
    "## List of folders to process"
   ]
  },
  {
   "cell_type": "code",
   "execution_count": null,
   "metadata": {},
   "outputs": [],
   "source": [
    "def Huy_data(mandatory_substring):\n",
    "    list_dirs=(\n",
    "    'smFISH_images/Linda_smFISH_images/Confocal/20220714/MS2-CY5_Cyto543_560_woStim',\n",
    "    'smFISH_images/Linda_smFISH_images/Confocal/20220714/MS2-CY5_Cyto543_560_18minTPL_5uM' ,\n",
    "    'smFISH_images/Linda_smFISH_images/Confocal/20220714/MS2-CY5_Cyto543_560_5hTPL_5uM' )\n",
    "    list_labels = [ 'woSTM','18minTPL_5uM','5hTPL_5uM']\n",
    "    plot_title_suffix= \"MS2_CY5\"\n",
    "    mandatory_substring = mandatory_substring      #'nuc_70__cyto_0__psfz_350__psfyx_160__ts_400_400'\n",
    "    return list_dirs, list_labels, plot_title_suffix, mandatory_substring"
   ]
  },
  {
   "cell_type": "markdown",
   "metadata": {},
   "source": [
    "----\n",
    "\n",
    "# Running the codes\n",
    "\n",
    "----"
   ]
  },
  {
   "cell_type": "code",
   "execution_count": null,
   "metadata": {},
   "outputs": [],
   "source": [
    "substrings =[\n",
    "    'nuc_70__cyto_0__psfz_350__psfyx_160__ts_400_400',\n",
    "    'nuc_70__cyto_0__psfz_350__psfyx_160__ts_450_450',\n",
    "    'nuc_70__cyto_0__psfz_350__psfyx_160__ts_500_500',\n",
    "    'nuc_70__cyto_0__psfz_350__psfyx_160__ts_550_550' ]"
   ]
  },
  {
   "cell_type": "markdown",
   "metadata": {},
   "source": [
    "## Connecting to NAS and extracting data"
   ]
  },
  {
   "cell_type": "code",
   "execution_count": null,
   "metadata": {},
   "outputs": [],
   "source": [
    "list_df_paths=[]\n",
    "list_df_names=[]\n",
    "counter_dataframes =0\n",
    "plot_title_suffix= \"MS2_CY5\"\n",
    "for k, ts_distance in enumerate(list_thresholds_distance):\n",
    "    for j,mandatory_substring in enumerate(substrings):\n",
    "        # Iterating for each time point (experimental condition)\n",
    "        for i,tp in enumerate (list_timepoints):\n",
    "            df_name = plot_title_suffix+'_time_'+str(tp)+ '_int_'+str(list_thresholds_intensity[j])+ '_dist_'+str(ts_distance)\n",
    "            df_path=pathlib.Path().absolute().joinpath(destination_folder,df_name +'.csv')\n",
    "            list_df_paths.append(df_path)\n",
    "            list_df_names.append(df_name)\n",
    "            counter_dataframes+=1\n",
    "# Loading all dataframes in a dictionary\n",
    "dic_dataframes = {}\n",
    "for df_index, df_name in enumerate (list_df_names):\n",
    "    dic_dataframes[df_name] = pd.read_csv(list_df_paths[df_index])\n"
   ]
  },
  {
   "cell_type": "code",
   "execution_count": null,
   "metadata": {},
   "outputs": [],
   "source": [
    "matrix_number_spots_time_0 = np.zeros( (len(list_thresholds_intensity),len(list_thresholds_distance)) )\n",
    "matrix_both_by_total_time_0 = np.zeros( (len(list_thresholds_intensity),len(list_thresholds_distance)) )\n",
    "for int, ts_intensity in enumerate(list_thresholds_intensity):\n",
    "    for d, ts_distance in enumerate(list_thresholds_distance):\n",
    "        df_name_loop = 'MS2_CY5_time_0_int_'+str(ts_intensity)+'_dist_'+str(ts_distance)\n",
    "        matrix_both_by_total_time_0[int, d] =   np.round(\n",
    "                                                np.mean (   \n",
    "                                                np.nan_to_num(\n",
    "                                                np.divide( dic_dataframes[df_name_loop]['num_0_1'].values ,  dic_dataframes[df_name_loop]['total'].values)\n",
    "                                                )\n",
    "                                                )\n",
    "                                                ,2)\n",
    "        matrix_number_spots_time_0[int, d] =np.round( dic_dataframes[df_name_loop]['num_0_1'].values.mean(), 0)\n",
    "matrix_number_spots_time_0\n",
    "matrix_both_by_total_time_0\n",
    "\n",
    "fig, ax = plt.subplots(1,1)\n",
    "img = ax.imshow(matrix_number_spots_time_0,cmap='Blues')\n",
    "for (j,i),label in np.ndenumerate(matrix_number_spots_time_0.astype('int')):\n",
    "    ax.text(i,j,label,ha='center',va='center')\n",
    "ax.set_yticks([0,1,2,3])\n",
    "ax.set_xticks([0,1,2])\n",
    "ax.set_xticklabels(list_thresholds_distance)\n",
    "ax.set_yticklabels(list_thresholds_intensity)\n",
    "ax.set_xlabel('dist ts')\n",
    "ax.set_ylabel('int ts both channels')\n",
    "ax.set_title('mean co-detected spots time 0')\n",
    "fig.colorbar(img)\n",
    "plt.grid(None)\n",
    "plt.show()\n",
    "\n",
    "fig, ax = plt.subplots(1,1)\n",
    "img = ax.imshow(matrix_both_by_total_time_0,cmap='Greens')\n",
    "for (j,i),label in np.ndenumerate(matrix_both_by_total_time_0):\n",
    "    ax.text(i,j,label,ha='center',va='center')\n",
    "ax.set_yticks([0,1,2,3])\n",
    "ax.set_xticks([0,1,2])\n",
    "ax.set_xticklabels(list_thresholds_distance)\n",
    "ax.set_yticklabels(list_thresholds_intensity)\n",
    "ax.set_xlabel('dist ts')\n",
    "ax.set_ylabel('int ts both channels')\n",
    "ax.set_title(r'mean co-detected_div_total at time 0')\n",
    "fig.colorbar(img)\n",
    "plt.grid(None)\n",
    "plt.show()"
   ]
  },
  {
   "cell_type": "code",
   "execution_count": null,
   "metadata": {},
   "outputs": [],
   "source": [
    "matrix_number_spots_tme_18 = np.zeros( (len(list_thresholds_intensity),len(list_thresholds_distance)) )\n",
    "matrix_both_by_total_time_18 = np.zeros( (len(list_thresholds_intensity),len(list_thresholds_distance)) )\n",
    "\n",
    "for int, ts_intensity in enumerate(list_thresholds_intensity):\n",
    "    for d, ts_distance in enumerate(list_thresholds_distance):\n",
    "        df_name_loop = 'MS2_CY5_time_18_int_'+str(ts_intensity)+'_dist_'+str(ts_distance)\n",
    "        matrix_both_by_total_time_18[int, d] =   np.round(\n",
    "                                                np.mean (   \n",
    "                                                np.nan_to_num(\n",
    "                                                np.divide( dic_dataframes[df_name_loop]['num_0_1'].values ,  dic_dataframes[df_name_loop]['total'].values)\n",
    "                                                )\n",
    "                                                )\n",
    "                                                ,2)\n",
    "        matrix_number_spots_tme_18[int, d] = np.round( dic_dataframes[df_name_loop]['num_0_1'].values.mean(), 0)\n",
    "matrix_number_spots_tme_18\n",
    "\n",
    "fig, ax = plt.subplots(1,1)\n",
    "img = ax.imshow(matrix_number_spots_tme_18,cmap='Blues')\n",
    "for (j,i),label in np.ndenumerate(matrix_number_spots_tme_18.astype('int')):\n",
    "    ax.text(i,j,label,ha='center',va='center')\n",
    "ax.set_yticks([0,1,2,3])\n",
    "ax.set_xticks([0,1,2])\n",
    "ax.set_xticklabels(list_thresholds_distance)\n",
    "ax.set_yticklabels(list_thresholds_intensity)\n",
    "ax.set_xlabel('dist ts')\n",
    "ax.set_ylabel('int ts both channels')\n",
    "ax.set_title('mean co-detected spots time 18')\n",
    "fig.colorbar(img)\n",
    "plt.grid(None)\n",
    "plt.show()\n",
    "\n",
    "fig, ax = plt.subplots(1,1)\n",
    "img = ax.imshow(matrix_both_by_total_time_18,cmap='Greens')\n",
    "for (j,i),label in np.ndenumerate(matrix_both_by_total_time_18):\n",
    "    ax.text(i,j,label,ha='center',va='center')\n",
    "ax.set_yticks([0,1,2,3])\n",
    "ax.set_xticks([0,1,2])\n",
    "ax.set_xticklabels(list_thresholds_distance)\n",
    "ax.set_yticklabels(list_thresholds_intensity)\n",
    "ax.set_xlabel('dist ts')\n",
    "ax.set_ylabel('int ts both channels')\n",
    "ax.set_title(r'mean co-detected_div_total at time 18')\n",
    "fig.colorbar(img)\n",
    "plt.grid(None)\n",
    "plt.show()"
   ]
  },
  {
   "cell_type": "code",
   "execution_count": null,
   "metadata": {},
   "outputs": [],
   "source": [
    "matrix_number_spots_tme_300 = np.zeros( (len(list_thresholds_intensity),len(list_thresholds_distance)) )\n",
    "matrix_both_by_total_time_300 = np.zeros( (len(list_thresholds_intensity),len(list_thresholds_distance)) )\n",
    "\n",
    "for int, ts_intensity in enumerate(list_thresholds_intensity):\n",
    "    for d, ts_distance in enumerate(list_thresholds_distance):\n",
    "        df_name_loop = 'MS2_CY5_time_300_int_'+str(ts_intensity)+'_dist_'+str(ts_distance)\n",
    "        matrix_both_by_total_time_300[int, d] =   np.round(\n",
    "                                                np.mean (   \n",
    "                                                np.nan_to_num(\n",
    "                                                np.divide( dic_dataframes[df_name_loop]['num_0_1'].values ,  dic_dataframes[df_name_loop]['total'].values)\n",
    "                                                )\n",
    "                                                )\n",
    "                                                ,2)\n",
    "        matrix_number_spots_tme_300[int, d] = np.round( dic_dataframes[df_name_loop]['num_0_1'].values.mean(), 0)\n",
    "matrix_number_spots_tme_300\n",
    "\n",
    "fig, ax = plt.subplots(1,1)\n",
    "img = ax.imshow(matrix_number_spots_tme_300,cmap='Blues')\n",
    "for (j,i),label in np.ndenumerate(matrix_number_spots_tme_300.astype('int')):\n",
    "    ax.text(i,j,label,ha='center',va='center')\n",
    "ax.set_yticks([0,1,2,3])\n",
    "ax.set_xticks([0,1,2])\n",
    "ax.set_xticklabels(list_thresholds_distance)\n",
    "ax.set_yticklabels(list_thresholds_intensity)\n",
    "ax.set_xlabel('dist ts')\n",
    "ax.set_ylabel('int ts both channels')\n",
    "ax.set_title('mean co-detected spots time 300')\n",
    "fig.colorbar(img)\n",
    "plt.grid(None)\n",
    "plt.show()\n",
    "\n",
    "fig, ax = plt.subplots(1,1)\n",
    "img = ax.imshow(matrix_both_by_total_time_300,cmap='Greens')\n",
    "for (j,i),label in np.ndenumerate(matrix_both_by_total_time_300):\n",
    "    ax.text(i,j,label,ha='center',va='center')\n",
    "ax.set_yticks([0,1,2,3])\n",
    "ax.set_xticks([0,1,2])\n",
    "ax.set_xticklabels(list_thresholds_distance)\n",
    "ax.set_yticklabels(list_thresholds_intensity)\n",
    "ax.set_xlabel('dist ts')\n",
    "ax.set_ylabel('int ts both channels')\n",
    "ax.set_title(r'mean co-detected_div_total at time 300')\n",
    "fig.colorbar(img)\n",
    "plt.grid(None)\n",
    "plt.show()"
   ]
  },
  {
   "cell_type": "code",
   "execution_count": null,
   "metadata": {},
   "outputs": [],
   "source": []
  }
 ],
 "metadata": {
  "interpreter": {
   "hash": "f123aec772437107f61ad48bdc3e74202fc8f652e2fa44805dd8339e0a72f809"
  },
  "kernelspec": {
   "display_name": "Python 3.8.12 ('FISH_processing')",
   "language": "python",
   "name": "python3"
  },
  "language_info": {
   "codemirror_mode": {
    "name": "ipython",
    "version": 3
   },
   "file_extension": ".py",
   "mimetype": "text/x-python",
   "name": "python",
   "nbconvert_exporter": "python",
   "pygments_lexer": "ipython3",
   "version": "3.8.12 (default, Oct 12 2021, 13:49:34) \n[GCC 7.5.0]"
  },
  "orig_nbformat": 4
 },
 "nbformat": 4,
 "nbformat_minor": 2
}
