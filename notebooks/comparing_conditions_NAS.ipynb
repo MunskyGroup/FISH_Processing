{
 "cells": [
  {
   "cell_type": "markdown",
   "metadata": {},
   "source": [
    "# Importing Libraries"
   ]
  },
  {
   "cell_type": "code",
   "execution_count": 1,
   "metadata": {},
   "outputs": [],
   "source": [
    "import sys\n",
    "import matplotlib as mpl \n",
    "import matplotlib.pyplot as plt \n",
    "import numpy as np \n",
    "import pandas as pd\n",
    "import pathlib\n",
    "import warnings\n",
    "import glob\n",
    "import seaborn as sns\n",
    "import joypy\n",
    "import zipfile\n",
    "import shutil\n",
    "warnings.filterwarnings(\"ignore\")"
   ]
  },
  {
   "cell_type": "markdown",
   "metadata": {},
   "source": [
    "# Defining paths"
   ]
  },
  {
   "cell_type": "code",
   "execution_count": 2,
   "metadata": {},
   "outputs": [],
   "source": [
    "# Deffining directories\n",
    "current_dir = pathlib.Path().absolute()\n",
    "fa_dir = current_dir.parents[0].joinpath('src')\n",
    "\n",
    "# Importing fish_analyses module\n",
    "sys.path.append(str(fa_dir))\n",
    "import fish_analyses as fa\n",
    "\n",
    "# Local folder path\n",
    "local_folder_path = pathlib.Path().absolute().joinpath('temp_zip_analyses')\n",
    "local_folder_path\n",
    "\n",
    "# Path to credentials\n",
    "desktop_path = pathlib.Path.home()/'Desktop'\n",
    "\n",
    "# Connection to munsky-nas\n",
    "path_to_config_file = desktop_path.joinpath('config.yml')\n",
    "share_name = 'share'\n"
   ]
  },
  {
   "cell_type": "markdown",
   "metadata": {},
   "source": [
    "# List of folders to process"
   ]
  },
  {
   "cell_type": "code",
   "execution_count": 3,
   "metadata": {},
   "outputs": [],
   "source": [
    "def dusp_list():\n",
    "    list=(\n",
    "    'smFISH_images/Eric_smFISH_images/20220126/DUSP1_Dex_0min' ,\n",
    "    'smFISH_images/Eric_smFISH_images/20220126/DUSP1_Dex_10min' ,\n",
    "    'smFISH_images/Eric_smFISH_images/20220126/DUSP1_Dex_20min' ,\n",
    "    'smFISH_images/Eric_smFISH_images/20220126/DUSP1_Dex_30min' ,\n",
    "    'smFISH_images/Eric_smFISH_images/20220126/DUSP1_Dex_40min' ,\n",
    "    'smFISH_images/Eric_smFISH_images/20220131/DUSP1_Dex_50min' ,\n",
    "    'smFISH_images/Eric_smFISH_images/20220131/DUSP1_Dex_60min' ,\n",
    "    'smFISH_images/Eric_smFISH_images/20220131/DUSP1_Dex_75min' ,\n",
    "    'smFISH_images/Eric_smFISH_images/20220131/DUSP1_Dex_90min' ,\n",
    "    'smFISH_images/Eric_smFISH_images/20220131/DUSP1_Dex_120min' ,\n",
    "    'smFISH_images/Eric_smFISH_images/20220131/DUSP1_Dex_150min' ,\n",
    "    'smFISH_images/Eric_smFISH_images/20220131/DUSP1_Dex_180min' )\n",
    "    condition_labels = [ 'wo','10min','20min','30min','40min','50min','60min','75min','90min','120min','150min','180min']\n",
    "    plot_title= \"DUSP1_Dex\"\n",
    "    mandatory_substring = 'nuc_100__cyto_220__psfz_300__psfyx_105'\n",
    "    return list, condition_labels, plot_title, mandatory_substring"
   ]
  },
  {
   "cell_type": "code",
   "execution_count": 4,
   "metadata": {},
   "outputs": [],
   "source": [
    "def IL_R2_list():\n",
    "    list=(\n",
    "    'smFISH_images/Linda_smFISH_images/Confocal/20220214/GAPDH-Cy3_NFKBIA-Cy5_WO_10ng_mL_IL-1B_Rep2' ,\n",
    "    'smFISH_images/Linda_smFISH_images/Confocal/20220214/GAPDH-Cy3_NFKBIA-Cy5_5min_10ng_mL_IL-1B_Rep2' ,\n",
    "    'smFISH_images/Linda_smFISH_images/Confocal/20220209/GAPDH-Cy3_NFKBIA-Cy5_10min_10ng_mL_IL-1B_Rep2' ,\n",
    "    'smFISH_images/Linda_smFISH_images/Confocal/20220209/GAPDH-Cy3_NFKBIA-Cy5_15min_10ng_mL_IL-1B_Rep2' ,\n",
    "    'smFISH_images/Linda_smFISH_images/Confocal/20220209/GAPDH-Cy3_NFKBIA-Cy5_20min_10ng_mL_IL-1B_Rep2' ,\n",
    "    'smFISH_images/Linda_smFISH_images/Confocal/20220207/GAPDH-Cy3_NFKBIA-Cy5_30min_10ng_mL_IL-1B_Rep2' ,\n",
    "    'smFISH_images/Linda_smFISH_images/Confocal/20220207/GAPDH-Cy3_NFKBIA-Cy5_1h_10ng_mL_IL-1B_Rep2' ,\n",
    "    'smFISH_images/Linda_smFISH_images/Confocal/20220207/GAPDH-Cy3_NFKBIA-Cy5_2h_10ng_mL_IL-1B_Rep2' ,\n",
    "    'smFISH_images/Linda_smFISH_images/Confocal/20220207/GAPDH-Cy3_NFKBIA-Cy5_3h_10ng_mL_IL-1B_Rep2' ) \n",
    "    condition_labels = [ 'wo','5min','10min','15min','20min','30min','1h', '2h','3h']\n",
    "    plot_title= \"GAPDH-Cy3_NFKBIA-Cy5_IL-1B_Rep2\"\n",
    "    mandatory_substring = 'nuc_120__cyto_220__psfz_350__psfyx_120'  \n",
    "    return list, condition_labels, plot_title, mandatory_substring"
   ]
  },
  {
   "cell_type": "code",
   "execution_count": 5,
   "metadata": {},
   "outputs": [],
   "source": [
    "def IL_R1_list():\n",
    "    list=(\n",
    "    'smFISH_images/Linda_smFISH_images/Confocal/20220125/GAPDH-Cy3_NFKBIA-Cy5_WO_IL-1B',\n",
    "    'smFISH_images/Linda_smFISH_images/Confocal/20220203/GAPDH-Cy3_NFKBIA-Cy5_5min_10ng_mL_IL-1B' ,\n",
    "    'smFISH_images/Linda_smFISH_images/Confocal/20220127/GAPDH-Cy3_NFKBIA-Cy5_10min_10ng_mL_IL-1B' ,\n",
    "    'smFISH_images/Linda_smFISH_images/Confocal/20220125/GAPDH-Cy3_NFKBIA-Cy5_15min_10ng_mL_IL-1B' ,\n",
    "    'smFISH_images/Linda_smFISH_images/Confocal/20220125/GAPDH-Cy3_NFKBIA-Cy5_20min_10ng_mL_IL-1B' ,\n",
    "    'smFISH_images/Linda_smFISH_images/Confocal/20220124/GAPDH-Cy3_NFKBIA-Cy5_30min_10ng_mL_IL-1B' ,\n",
    "    'smFISH_images/Linda_smFISH_images/Confocal/20220124/GAPDH-Cy3_NFKBIA-Cy5_1h_10ng_mL_IL-1B' ,\n",
    "    'smFISH_images/Linda_smFISH_images/Confocal/20220124/GAPDH-Cy3_NFKBIA-Cy5_2h_10ng_mL_IL-1B' ,\n",
    "    'smFISH_images/Linda_smFISH_images/Confocal/20220124/GAPDH-Cy3_NFKBIA-Cy5_3h_10ng_mL_IL-1B' ) \n",
    "    condition_labels = [ 'wo','5min','10min','15min','20min','30min','1h', '2h','3h']\n",
    "    plot_title= \"GAPDH-Cy3_NFKBIA-Cy5_IL-1B_Rep1\"\n",
    "    mandatory_substring = 'nuc_120__cyto_220__psfz_350__psfyx_120'\n",
    "    return list, condition_labels, plot_title, mandatory_substring"
   ]
  },
  {
   "cell_type": "markdown",
   "metadata": {},
   "source": [
    "# Establishing connection to NAS and downloading zip files."
   ]
  },
  {
   "cell_type": "code",
   "execution_count": 6,
   "metadata": {},
   "outputs": [],
   "source": [
    "def read_zipfiles_from_NAS(list_folders,path_to_config_file,share_name):\n",
    "    # This function iterates over all zip files in a remote directory and download them to a local directory\n",
    "    list_remote_files=[]\n",
    "    list_local_files =[]\n",
    "    for folder in list_folders:\n",
    "        list_files = fa.NASConnection(path_to_config_file,share_name = share_name).read_files(folder,timeout=60)\n",
    "        for file in list_files:\n",
    "            if ('.zip' in file) and (mandatory_substring in file):   # add an argument with re conditions \n",
    "                # Listing all zip files\n",
    "                zip_file_path = pathlib.Path().joinpath(folder,file)\n",
    "                list_remote_files.append (zip_file_path)\n",
    "                list_local_files.append(pathlib.Path().joinpath(local_folder_path,zip_file_path.name)) \n",
    "                # downloading the zip files from NAS\n",
    "                fa.NASConnection(path_to_config_file,share_name = share_name).download_file(zip_file_path, local_folder_path,timeout=120)\n",
    "    return list_local_files"
   ]
  },
  {
   "cell_type": "markdown",
   "metadata": {},
   "source": [
    "# Running  the codes"
   ]
  },
  {
   "cell_type": "code",
   "execution_count": 7,
   "metadata": {},
   "outputs": [],
   "source": [
    "%%capture\n",
    "list, condition_labels, plot_title, mandatory_substring = IL_R2_list () #IL_R2_list()\n",
    "list_local_files = read_zipfiles_from_NAS(list,path_to_config_file,share_name)\n",
    "remove_extreme_values = 0 "
   ]
  },
  {
   "cell_type": "markdown",
   "metadata": {},
   "source": [
    "# Unzipping Files"
   ]
  },
  {
   "cell_type": "code",
   "execution_count": 8,
   "metadata": {},
   "outputs": [],
   "source": [
    "list_final_local_folders =[]\n",
    "for zip_folder in list_local_files:\n",
    "    # Reads from a list of zip files\n",
    "    file_to_unzip = zipfile.ZipFile(str(zip_folder)) # opens zip\n",
    "    temp_folder_name = pathlib.Path().joinpath(local_folder_path, zip_folder.stem)\n",
    "    if (os.path.exists(temp_folder_name)) :\n",
    "        shutil.rmtree(temp_folder_name)\n",
    "        os.makedirs(temp_folder_name) # make a new directory\n",
    "    # Iterates for each file in zip file\n",
    "    for file_in_zip in file_to_unzip.namelist():\n",
    "        # Extracts data to specific folder\n",
    "        file_to_unzip.extract(file_in_zip,temp_folder_name)\n",
    "    # Closes the zip file\n",
    "    file_to_unzip.close()\n",
    "    # removes the original zip file\n",
    "    os.remove(pathlib.Path().joinpath(local_folder_path, zip_folder.name))\n",
    "    list_final_local_folders.append(temp_folder_name)"
   ]
  },
  {
   "cell_type": "code",
   "execution_count": 9,
   "metadata": {},
   "outputs": [],
   "source": [
    "def dataframe_extract_data(dataframe,spot_type_selected = 0, minimal_cluster_size=3):\n",
    "    ''' This function is intended to read a dataframe and returns \n",
    "        number_of_spots_per_cell, number_of_spots_per_cell_cytosol, number_of_spots_per_cell_nucleus, number_of_TS_per_cell, ts_size, cell_size\n",
    "    '''\n",
    "    number_cells = dataframe['cell_id'].nunique()\n",
    "    # Number of spots\n",
    "    number_of_spots_per_cell = np.asarray([len( dataframe.loc[  (dataframe['cell_id']==i)  & (dataframe['spot_type']==spot_type_selected) ].spot_id) for i in range(0, number_cells)])\n",
    "    # Number of spots in cytosol\n",
    "    number_of_spots_per_cell_cytosol = np.asarray([len( dataframe.loc[  (dataframe['cell_id']==i) & (dataframe['is_nuc']==False) & (dataframe['spot_type']==spot_type_selected) ].spot_id) for i in range(0, number_cells)])\n",
    "    # Number of spots in nucleus\n",
    "    number_of_spots_per_cell_nucleus = np.asarray([len( dataframe.loc[  (dataframe['cell_id']==i) &  (dataframe['is_cluster']==False) & (dataframe['is_nuc']==True) & (dataframe['spot_type']==spot_type_selected)    ].spot_id) for i in range(0, number_cells)])\n",
    "    # Total number of spots\n",
    "    total_of_spots_per_cell_nucleus = np.asarray([len( dataframe.loc[  (dataframe['cell_id']==i) & (dataframe['spot_type']==spot_type_selected)    ].spot_id) for i in range(0, number_cells)])\n",
    "    # Number of TS per cell.\n",
    "    number_of_TS_per_cell = [len( dataframe.loc[  (dataframe['cell_id']==i) &  (dataframe['is_cluster']==True) & (dataframe['is_nuc']==True) & (dataframe['spot_type']==spot_type_selected) & (dataframe['cluster_size'] >=4) ].spot_id) for i in range(0, number_cells)]\n",
    "    number_of_TS_per_cell= np.asarray(number_of_TS_per_cell)\n",
    "    #number_of_TS_per_cell=number_of_TS_per_cell[number_of_TS_per_cell>minimal_cluster_size]   \n",
    "    # Number of RNA in a TS\n",
    "    ts_size =  dataframe.loc[   (dataframe['is_cluster']==True) & (dataframe['is_nuc']==True)  & (dataframe['spot_type']==spot_type_selected)   ].cluster_size.values\n",
    "    # Size of each cell\n",
    "    cell_size = np.asarray([len( dataframe.loc[  (dataframe['cell_id']==i) & (dataframe['spot_type']==0)].cell_area_px.values) for i in range(0, number_cells)])\n",
    "    return number_of_spots_per_cell,number_of_spots_per_cell_cytosol,number_of_spots_per_cell_nucleus,number_of_TS_per_cell,ts_size,cell_size,number_cells,total_of_spots_per_cell_nucleus\n"
   ]
  },
  {
   "cell_type": "code",
   "execution_count": 10,
   "metadata": {},
   "outputs": [],
   "source": [
    "data_dir = list_final_local_folders"
   ]
  },
  {
   "cell_type": "code",
   "execution_count": 11,
   "metadata": {},
   "outputs": [],
   "source": [
    "list_spots_cell_conditions=[]\n",
    "list_spots_nuc=[]\n",
    "list_number_cells =[]\n",
    "for i in range (0, len (data_dir)):\n",
    "    dataframe_dir = current_dir.joinpath('analyses',data_dir[i])    # loading files from \"analyses\" folder\n",
    "    dataframe_file = glob.glob( str(dataframe_dir.joinpath('dataframe_*')) )[0]\n",
    "    dataframe_file\n",
    "    df = pd.read_csv(dataframe_file) \n",
    "    number_of_spots_per_cell,number_of_spots_per_cell_cytosol,number_of_spots_per_cell_nucleus,number_of_TS_per_cell,ts_size,cell_size,number_cells,total_of_spots_per_cell_nucleus = dataframe_extract_data(df)\n",
    "    list_spots_cell_conditions.append(total_of_spots_per_cell_nucleus)\n",
    "    list_spots_nuc.append(number_of_spots_per_cell_nucleus)\n",
    "    list_number_cells.append(number_cells)\n",
    "    del number_of_spots_per_cell,number_of_spots_per_cell_cytosol,number_of_spots_per_cell_nucleus,number_of_TS_per_cell,ts_size,cell_size,number_cells,total_of_spots_per_cell_nucleus\n"
   ]
  },
  {
   "cell_type": "code",
   "execution_count": 12,
   "metadata": {},
   "outputs": [
    {
     "name": "stdout",
     "output_type": "stream",
     "text": [
      "number of cells in each dataset:  []\n"
     ]
    }
   ],
   "source": [
    "print('number of cells in each dataset: ', list_number_cells)"
   ]
  },
  {
   "cell_type": "code",
   "execution_count": 13,
   "metadata": {},
   "outputs": [
    {
     "ename": "ValueError",
     "evalue": "max() arg is an empty sequence",
     "output_type": "error",
     "traceback": [
      "\u001b[0;31m---------------------------------------------------------------------------\u001b[0m",
      "\u001b[0;31mValueError\u001b[0m                                Traceback (most recent call last)",
      "\u001b[1;32m/home/luisub/Desktop/FISH_Processing/notebooks/comparing_conditions_NAS.ipynb Cell 19'\u001b[0m in \u001b[0;36m<module>\u001b[0;34m\u001b[0m\n\u001b[1;32m      <a href='vscode-notebook-cell://ssh-remote%2B7b22686f73744e616d65223a2253636f74745f4c756973227d/home/luisub/Desktop/FISH_Processing/notebooks/comparing_conditions_NAS.ipynb#ch0000019vscode-remote?line=0'>1</a>\u001b[0m \u001b[39m# defining the dimensions for the array.\u001b[39;00m\n\u001b[0;32m----> <a href='vscode-notebook-cell://ssh-remote%2B7b22686f73744e616d65223a2253636f74745f4c756973227d/home/luisub/Desktop/FISH_Processing/notebooks/comparing_conditions_NAS.ipynb#ch0000019vscode-remote?line=1'>2</a>\u001b[0m max_number_cells \u001b[39m=\u001b[39m \u001b[39mmax\u001b[39;49m(list_number_cells)\n\u001b[1;32m      <a href='vscode-notebook-cell://ssh-remote%2B7b22686f73744e616d65223a2253636f74745f4c756973227d/home/luisub/Desktop/FISH_Processing/notebooks/comparing_conditions_NAS.ipynb#ch0000019vscode-remote?line=2'>3</a>\u001b[0m number_conditions \u001b[39m=\u001b[39m \u001b[39mlen\u001b[39m(list_number_cells)\n",
      "\u001b[0;31mValueError\u001b[0m: max() arg is an empty sequence"
     ]
    }
   ],
   "source": [
    "# defining the dimensions for the array.\n",
    "max_number_cells = max(list_number_cells)\n",
    "number_conditions = len(list_number_cells)"
   ]
  },
  {
   "cell_type": "code",
   "execution_count": null,
   "metadata": {},
   "outputs": [],
   "source": [
    "# creating an array with the same dimensions\n",
    "spots_coditions_array = np.empty((max_number_cells,number_conditions))\n",
    "spots_coditions_array[:] = np.NaN\n",
    "# replace the elements in the array\n",
    "for i in range(0,number_conditions ):\n",
    "    spots_coditions_array[0:list_number_cells[i],i] = list_spots_cell_conditions[i] \n",
    "# creating a dataframe\n",
    "df = pd.DataFrame(data=spots_coditions_array, columns=condition_labels)\n",
    "df"
   ]
  },
  {
   "cell_type": "markdown",
   "metadata": {},
   "source": [
    "# Removing outliers"
   ]
  },
  {
   "cell_type": "code",
   "execution_count": null,
   "metadata": {},
   "outputs": [],
   "source": [
    "# Removing 1% extreme values.\n",
    "if remove_extreme_values == True:\n",
    "    for col in df.columns:\n",
    "        max_data_value= df[col].quantile(0.98)\n",
    "        df[col] = np.where(df[col]>=max_data_value, np.nan, df[col])"
   ]
  },
  {
   "cell_type": "markdown",
   "metadata": {},
   "source": [
    "# Plotting"
   ]
  },
  {
   "cell_type": "code",
   "execution_count": null,
   "metadata": {},
   "outputs": [],
   "source": [
    "plt.figure(figsize=(10,5))\n",
    "sns.set(font_scale = 1)\n",
    "sns.set_style(\"whitegrid\")\n",
    "p_dist =sns.violinplot(data=df, scale=\"count\",palette=\"OrRd\")\n",
    "p_dist.set_xlabel(\"Total count of spots per cell (nuc + cyto)\")\n",
    "p_dist.set_ylabel(\"Count\")\n",
    "p_dist.set_title(plot_title)\n",
    "#p_dist.set_ylim(-10,max_val)\n",
    "plt.savefig('Violin__'+plot_title+'.png', transparent=False)\n",
    "plt.show()"
   ]
  },
  {
   "cell_type": "code",
   "execution_count": null,
   "metadata": {},
   "outputs": [],
   "source": [
    "plt.figure(figsize=(10,5))\n",
    "sns.set(font_scale = 1)\n",
    "sns.set_style(\"whitegrid\")\n",
    "p_dist =sns.kdeplot(data=df,palette=\"OrRd\")\n",
    "p_dist.set_xlabel(\"Total count of spots per cell (nuc + cyto)\")\n",
    "p_dist.set_ylabel(\"Kernel Density Estimator (KDE)\")\n",
    "p_dist.set_title(plot_title)\n",
    "#sns.set(font_scale = 1)\n",
    "#p_dist.set_xlim(-10,max_val)\n",
    "plt.savefig('Distributions__'+plot_title+'.png', transparent=False)\n",
    "plt.show()"
   ]
  },
  {
   "cell_type": "code",
   "execution_count": null,
   "metadata": {},
   "outputs": [],
   "source": [
    "plt.figure(figsize=(10,5))\n",
    "sns.set(font_scale = 1)\n",
    "sns.set_style(\"whitegrid\")\n",
    "p_dist =sns.ecdfplot(data=df,palette=\"OrRd\")\n",
    "p_dist.set_xlabel(\"Total count of spots per cell (nuc + cyto)\")\n",
    "p_dist.set_ylabel(\"Proportion\")\n",
    "p_dist.set_title(plot_title)\n",
    "#p_dist.set_xlim(0,max_val)\n",
    "plt.savefig('ECDF__'+ plot_title+'.png', transparent=False)\n",
    "plt.show()"
   ]
  },
  {
   "cell_type": "code",
   "execution_count": null,
   "metadata": {},
   "outputs": [],
   "source": [
    "plt.figure(figsize=(7,7))\n",
    "sns.set(font_scale = 1.5)\n",
    "sns.set_style(\"white\")\n",
    "p = sns.stripplot(data=df, size=3, color='0.5', jitter=0.2)\n",
    "plt.xticks(rotation=45, ha=\"right\")\n",
    "sns.set(font_scale = 1.5)\n",
    "#p.set_ylim(0,max_val)\n",
    "bp=sns.boxplot( \n",
    "            meanprops={'visible': True,'color': 'r', 'ls': 'solid', 'lw': 4},\n",
    "            #medianprops={'visible': False,'color': 'orangered', 'ls': 'solid', 'lw': 1},\n",
    "            whiskerprops={'visible': True, 'color':'k','ls': 'solid', 'lw': 1},\n",
    "            data=df,\n",
    "            showcaps={'visible': False, 'color':'orangered', 'ls': 'solid', 'lw': 1}, # Q1-Q3 25-75%\n",
    "            ax=p,\n",
    "            showmeans=True,meanline=True,zorder=10,showfliers=False,showbox=True,linewidth=1,color='w')\n",
    "p.set_xlabel(\"time_after_treatment\")\n",
    "p.set_ylabel(\"Total count of spots per cell (nuc + cyto)\")\n",
    "p.set_title(plot_title)\n",
    "sns.set(font_scale = 1.5)\n",
    "plt.savefig('BarPlots__'+plot_title+'.png', transparent=False)\n",
    "plt.show()"
   ]
  },
  {
   "cell_type": "code",
   "execution_count": null,
   "metadata": {},
   "outputs": [],
   "source": [
    "plt.style.use('ggplot')\n",
    "fig, axes = joypy.joyplot(df,kind=\"counts\", bins=40,range_style='own',\n",
    "                          grid=\"y\", linewidth=2, legend=False, figsize=(5,5),  \n",
    "                          title=\"none\",ylim='own',alpha=0.7,overlap=0,linecolor=\"k\", color=\"k\", # ,x_range=[-10.0,max_val]\n",
    "                          colormap=mpl.cm.Blues)\n",
    "plt.title('Distributions', fontsize=12)\n",
    "plt.xlabel('Counts', fontsize=12)\n",
    "plt.ylabel('Conditions', fontsize=12)\n",
    "plt.savefig('JoyPlots__'+plot_title+'.png', transparent=False)"
   ]
  },
  {
   "cell_type": "markdown",
   "metadata": {},
   "source": [
    "# Moving plots to a final folder \"comparing_distributions\""
   ]
  },
  {
   "cell_type": "code",
   "execution_count": null,
   "metadata": {},
   "outputs": [],
   "source": [
    "# create results folder\n",
    "destination_folder = 'comparing_distributions_'+plot_title+'__'+mandatory_substring\n",
    "\n",
    "if not os.path.exists(destination_folder):\n",
    "    os.makedirs(destination_folder)\n",
    "\n",
    "plot_names = ['Violin__'+plot_title+'.png',\n",
    "'Distributions__'+plot_title+'.png',\n",
    "'BarPlots__'+plot_title+'.png',\n",
    "'JoyPlots__'+plot_title+'.png',\n",
    "'ECDF__'+plot_title+'.png']\n",
    "\n",
    "#figure_path \n",
    "for name_plot in plot_names:\n",
    "    pathlib.Path().absolute().joinpath(name_plot).rename(pathlib.Path().absolute().joinpath(destination_folder,name_plot))"
   ]
  },
  {
   "cell_type": "code",
   "execution_count": null,
   "metadata": {},
   "outputs": [],
   "source": [
    "# remove temporary folder\n",
    "shutil.rmtree(local_folder_path)"
   ]
  },
  {
   "cell_type": "code",
   "execution_count": null,
   "metadata": {},
   "outputs": [],
   "source": []
  }
 ],
 "metadata": {
  "interpreter": {
   "hash": "041431ac7e3bc2ef7f2f5628aa36a0858cfecc7ab5587fc492a79545cc0a25bd"
  },
  "kernelspec": {
   "display_name": "Python 3.6.13 64-bit ('FISH_processing': conda)",
   "language": "python",
   "name": "python3"
  },
  "language_info": {
   "codemirror_mode": {
    "name": "ipython",
    "version": 3
   },
   "file_extension": ".py",
   "mimetype": "text/x-python",
   "name": "python",
   "nbconvert_exporter": "python",
   "pygments_lexer": "ipython3",
   "version": "3.8.12"
  },
  "orig_nbformat": 4
 },
 "nbformat": 4,
 "nbformat_minor": 2
}
