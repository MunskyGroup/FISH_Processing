{
 "cells": [
  {
   "cell_type": "markdown",
   "metadata": {},
   "source": [
    "# Importing Libraries"
   ]
  },
  {
   "cell_type": "code",
   "execution_count": null,
   "metadata": {},
   "outputs": [],
   "source": [
    "import sys\n",
    "import matplotlib.pyplot as plt \n",
    "from  matplotlib.ticker import FuncFormatter\n",
    "import numpy as np \n",
    "import pandas as pd\n",
    "import pathlib\n",
    "import warnings\n",
    "import glob\n",
    "import seaborn as sns\n",
    "import zipfile\n",
    "import shutil\n",
    "warnings.filterwarnings(\"ignore\")"
   ]
  },
  {
   "cell_type": "markdown",
   "metadata": {},
   "source": [
    "# Defining paths"
   ]
  },
  {
   "cell_type": "code",
   "execution_count": null,
   "metadata": {},
   "outputs": [],
   "source": [
    "# Deffining directories\n",
    "current_dir = pathlib.Path().absolute()\n",
    "fa_dir = current_dir.parents[0].joinpath('src')\n",
    "\n",
    "# Importing fish_analyses module\n",
    "sys.path.append(str(fa_dir))\n",
    "import fish_analyses as fa\n",
    "\n",
    "# Local folder path\n",
    "local_folder_path = pathlib.Path().absolute().joinpath('temp_zip_analyses')\n",
    "local_folder_path\n",
    "\n",
    "# Path to credentials\n",
    "desktop_path = pathlib.Path.home()/'Desktop'\n",
    "\n",
    "# Connection to munsky-nas\n",
    "path_to_config_file = desktop_path.joinpath('config.yml')\n",
    "share_name = 'share'"
   ]
  },
  {
   "cell_type": "markdown",
   "metadata": {},
   "source": [
    "# List of folders to process"
   ]
  },
  {
   "cell_type": "code",
   "execution_count": null,
   "metadata": {},
   "outputs": [],
   "source": [
    "def dusp__dirs(mandatory_substring):\n",
    "    list_dirs=(\n",
    "    'smFISH_images/Eric_smFISH_images/20220126/DUSP1_Dex_0min' ,\n",
    "    'smFISH_images/Eric_smFISH_images/20220126/DUSP1_Dex_10min' ,\n",
    "    'smFISH_images/Eric_smFISH_images/20220126/DUSP1_Dex_20min' ,\n",
    "    'smFISH_images/Eric_smFISH_images/20220126/DUSP1_Dex_30min' ,\n",
    "    'smFISH_images/Eric_smFISH_images/20220126/DUSP1_Dex_40min' ,\n",
    "    'smFISH_images/Eric_smFISH_images/20220131/DUSP1_Dex_50min' ,\n",
    "    'smFISH_images/Eric_smFISH_images/20220131/DUSP1_Dex_60min' ,\n",
    "    'smFISH_images/Eric_smFISH_images/20220131/DUSP1_Dex_75min' ,\n",
    "    'smFISH_images/Eric_smFISH_images/20220131/DUSP1_Dex_90min' ,\n",
    "    'smFISH_images/Eric_smFISH_images/20220131/DUSP1_Dex_120min' ,\n",
    "    'smFISH_images/Eric_smFISH_images/20220131/DUSP1_Dex_150min' ,\n",
    "    'smFISH_images/Eric_smFISH_images/20220131/DUSP1_Dex_180min' )\n",
    "    list_labels = [ 'wo','10min','20min','30min','40min','50min','60min','75min','90min','120min','150min','180min']\n",
    "    plot_title_subfix= \"DUSP1_Dex\"\n",
    "    mandatory_substring = mandatory_substring #'nuc_100__cyto_220__psfz_300__psfyx_105'\n",
    "    return list_dirs, list_labels, plot_title_subfix, mandatory_substring"
   ]
  },
  {
   "cell_type": "code",
   "execution_count": null,
   "metadata": {},
   "outputs": [],
   "source": [
    "def IL_R2_list(mandatory_substring):\n",
    "    list_dirs=(\n",
    "    'smFISH_images/Linda_smFISH_images/Confocal/20220214/GAPDH-Cy3_NFKBIA-Cy5_WO_10ng_mL_IL-1B_Rep2' ,\n",
    "    'smFISH_images/Linda_smFISH_images/Confocal/20220214/GAPDH-Cy3_NFKBIA-Cy5_5min_10ng_mL_IL-1B_Rep2' ,\n",
    "    'smFISH_images/Linda_smFISH_images/Confocal/20220209/GAPDH-Cy3_NFKBIA-Cy5_10min_10ng_mL_IL-1B_Rep2' ,\n",
    "    'smFISH_images/Linda_smFISH_images/Confocal/20220209/GAPDH-Cy3_NFKBIA-Cy5_15min_10ng_mL_IL-1B_Rep2' ,\n",
    "    'smFISH_images/Linda_smFISH_images/Confocal/20220209/GAPDH-Cy3_NFKBIA-Cy5_20min_10ng_mL_IL-1B_Rep2' ,\n",
    "    'smFISH_images/Linda_smFISH_images/Confocal/20220207/GAPDH-Cy3_NFKBIA-Cy5_30min_10ng_mL_IL-1B_Rep2' ,\n",
    "    'smFISH_images/Linda_smFISH_images/Confocal/20220207/GAPDH-Cy3_NFKBIA-Cy5_1h_10ng_mL_IL-1B_Rep2' ,\n",
    "    'smFISH_images/Linda_smFISH_images/Confocal/20220207/GAPDH-Cy3_NFKBIA-Cy5_2h_10ng_mL_IL-1B_Rep2' ,\n",
    "    'smFISH_images/Linda_smFISH_images/Confocal/20220207/GAPDH-Cy3_NFKBIA-Cy5_3h_10ng_mL_IL-1B_Rep2' ) \n",
    "    list_labels = [ 'wo','5min','10min','15min','20min','30min','1h', '2h','3h']\n",
    "    plot_title_subfix= \"GAPDH-Cy3_NFKBIA-Cy5_IL-1B_Rep2\"\n",
    "    mandatory_substring = mandatory_substring   #'nuc_100__cyto_220__psfz_350__psfyx_120'\n",
    "    return list_dirs, list_labels, plot_title_subfix, mandatory_substring"
   ]
  },
  {
   "cell_type": "code",
   "execution_count": null,
   "metadata": {},
   "outputs": [],
   "source": [
    "def IL_R1_list(mandatory_substring):\n",
    "    list_dirs=(\n",
    "    'smFISH_images/Linda_smFISH_images/Confocal/20220125/GAPDH-Cy3_NFKBIA-Cy5_WO_IL-1B',\n",
    "    'smFISH_images/Linda_smFISH_images/Confocal/20220203/GAPDH-Cy3_NFKBIA-Cy5_5min_10ng_mL_IL-1B' ,\n",
    "    'smFISH_images/Linda_smFISH_images/Confocal/20220127/GAPDH-Cy3_NFKBIA-Cy5_10min_10ng_mL_IL-1B' ,\n",
    "    'smFISH_images/Linda_smFISH_images/Confocal/20220125/GAPDH-Cy3_NFKBIA-Cy5_15min_10ng_mL_IL-1B' ,\n",
    "    'smFISH_images/Linda_smFISH_images/Confocal/20220125/GAPDH-Cy3_NFKBIA-Cy5_20min_10ng_mL_IL-1B' ,\n",
    "    'smFISH_images/Linda_smFISH_images/Confocal/20220124/GAPDH-Cy3_NFKBIA-Cy5_30min_10ng_mL_IL-1B' ,\n",
    "    'smFISH_images/Linda_smFISH_images/Confocal/20220124/GAPDH-Cy3_NFKBIA-Cy5_1h_10ng_mL_IL-1B' ,\n",
    "    'smFISH_images/Linda_smFISH_images/Confocal/20220124/GAPDH-Cy3_NFKBIA-Cy5_2h_10ng_mL_IL-1B' ,\n",
    "    'smFISH_images/Linda_smFISH_images/Confocal/20220124/GAPDH-Cy3_NFKBIA-Cy5_3h_10ng_mL_IL-1B' ) \n",
    "    list_labels = [ 'wo','5min','10min','15min','20min','30min','1h', '2h','3h']\n",
    "    plot_title_subfix= \"GAPDH-Cy3_NFKBIA-Cy5_IL-1B_Rep1\"\n",
    "    mandatory_substring = mandatory_substring    #'nuc_100__cyto_220__psfz_350__psfyx_120'\n",
    "    return list_dirs, list_labels, plot_title_subfix, mandatory_substring"
   ]
  },
  {
   "cell_type": "code",
   "execution_count": null,
   "metadata": {},
   "outputs": [],
   "source": [
    "def Dex_R1_list(mandatory_substring):\n",
    "    list_dirs=(\n",
    "    'smFISH_images/Linda_smFISH_images/Confocal/20220114/GAPDH-Cy3_NFKBIA-Cy5_woDex' ,\n",
    "    'smFISH_images/Linda_smFISH_images/Confocal/20220121/GAPDH-Cy3_NFKBIA-Cy5_5min_100nMDex' ,\n",
    "    'smFISH_images/Linda_smFISH_images/Confocal/20220121/GAPDH-Cy3_NFKBIA-Cy5_10min_100nMDex' ,\n",
    "    'smFISH_images/Linda_smFISH_images/Confocal/20220124/GAPDH-Cy3_NFKBIA-Cy5_15min_100nMDex' ,\n",
    "    'smFISH_images/Linda_smFISH_images/Confocal/20220124/GAPDH-Cy3_NFKBIA-Cy5_30min_100nMDex' ,\n",
    "    'smFISH_images/Linda_smFISH_images/Confocal/20220117/GAPDH-Cy3_NFKBIA-Cy5_1h_100nMDex' ,\n",
    "    'smFISH_images/Linda_smFISH_images/Confocal/20220114/GAPDH-Cy3_NFKBIA-Cy5_2h_100nMDex' ,\n",
    "    'smFISH_images/Linda_smFISH_images/Confocal/20220117/GAPDH-Cy3_NFKBIA-Cy5_4h_100nMDex' )\n",
    "    list_labels = [ 'wo','5min','10min','15min','30min','1h', '2h','4h']\n",
    "    plot_title_subfix= \"GAPDH-Cy3_NFKBIA-Cy5_100nMDex_Rep1\"\n",
    "    mandatory_substring = mandatory_substring       #'nuc_100__cyto_220__psfz_350__psfyx_120'\n",
    "    return list_dirs, list_labels, plot_title_subfix, mandatory_substring"
   ]
  },
  {
   "cell_type": "code",
   "execution_count": null,
   "metadata": {},
   "outputs": [],
   "source": [
    "def Dex_R2_list(mandatory_substring):\n",
    "    list_dirs=(    \n",
    "    'smFISH_images/Linda_smFISH_images/Confocal/20220214/GAPDH-Cy3_NFKBIA-Cy5_WO_DEX_Rep2' ,\n",
    "    'smFISH_images/Linda_smFISH_images/Confocal/20220216/GAPDH-Cy3_NFKBIA-Cy5_5min_100nM_DEX_Rep2' ,\n",
    "    'smFISH_images/Linda_smFISH_images/Confocal/20220216/GAPDH-Cy3_NFKBIA-Cy5_10min_100nM_DEX_Rep2' ,\n",
    "    'smFISH_images/Linda_smFISH_images/Confocal/20220216/GAPDH-Cy3_NFKBIA-Cy5_15min_100nM_DEX_Rep2' ,\n",
    "    'smFISH_images/Linda_smFISH_images/Confocal/20220215/GAPDH-Cy3_NFKBIA-Cy5_30min_100nM_DEX_Rep2' ,\n",
    "    'smFISH_images/Linda_smFISH_images/Confocal/20220214/GAPDH-Cy3_NFKBIA-Cy5_1h_100nM_DEX_Rep2' ,\n",
    "    'smFISH_images/Linda_smFISH_images/Confocal/20220214/GAPDH-Cy3_NFKBIA-Cy5_2h_100nM_DEX_Rep2' ,\n",
    "    'smFISH_images/Linda_smFISH_images/Confocal/20220214/GAPDH-Cy3_NFKBIA-Cy5_4h_100nM_DEX_Rep2' )\n",
    "    list_labels = [ 'wo','5min','10min','15min','30min','1h', '2h','4h']\n",
    "    plot_title_subfix= \"GAPDH-Cy3_NFKBIA-Cy5_100nM_DEX_Rep2\"\n",
    "    mandatory_substring = mandatory_substring      #'nuc_100__cyto_220__psfz_350__psfyx_120'\n",
    "    return list_dirs, list_labels, plot_title_subfix, mandatory_substring"
   ]
  },
  {
   "cell_type": "markdown",
   "metadata": {},
   "source": [
    "# Establishing connection to NAS and downloading zip files."
   ]
  },
  {
   "cell_type": "code",
   "execution_count": null,
   "metadata": {},
   "outputs": [],
   "source": [
    "def read_zipfiles_from_NAS(list_dirs,path_to_config_file,share_name,mandatory_substring,local_folder_path):\n",
    "    # This function iterates over all zip files in a remote directory and download them to a local directory\n",
    "    list_remote_files=[]\n",
    "    list_local_files =[]\n",
    "    for folder in list_dirs:\n",
    "        list_files = fa.NASConnection(path_to_config_file,share_name = share_name).read_files(folder,timeout=60)\n",
    "        for file in list_files:\n",
    "            if ('.zip' in file) and (mandatory_substring in file):   # add an argument with re conditions \n",
    "                # Listing all zip files\n",
    "                zip_file_path = pathlib.Path().joinpath(folder,file)\n",
    "                list_remote_files.append (zip_file_path)\n",
    "                list_local_files.append(pathlib.Path().joinpath(local_folder_path,zip_file_path.name)) \n",
    "                # downloading the zip files from NAS\n",
    "                fa.NASConnection(path_to_config_file,share_name = share_name).download_file(zip_file_path, local_folder_path,timeout=200)\n",
    "    return list_local_files\n",
    "\n"
   ]
  },
  {
   "cell_type": "markdown",
   "metadata": {},
   "source": [
    "# Unzipping Files"
   ]
  },
  {
   "cell_type": "code",
   "execution_count": null,
   "metadata": {},
   "outputs": [],
   "source": [
    "def unzip_local_folders(list_local_files,local_folder_path):\n",
    "    list_local_folders =[]\n",
    "    for zip_folder in list_local_files:\n",
    "        # Reads from a list of zip files\n",
    "        file_to_unzip = zipfile.ZipFile(str(zip_folder)) # opens zip\n",
    "        temp_folder_name = pathlib.Path().joinpath(local_folder_path, zip_folder.stem)\n",
    "        if (os.path.exists(temp_folder_name)) :\n",
    "            shutil.rmtree(temp_folder_name)\n",
    "            os.makedirs(temp_folder_name) # make a new directory\n",
    "        # Iterates for each file in zip file\n",
    "        for file_in_zip in file_to_unzip.namelist():\n",
    "            # Extracts data to specific folder\n",
    "            file_to_unzip.extract(file_in_zip,temp_folder_name)\n",
    "        # Closes the zip file\n",
    "        file_to_unzip.close()\n",
    "        # removes the original zip file\n",
    "        os.remove(pathlib.Path().joinpath(local_folder_path, zip_folder.name))\n",
    "        list_local_folders.append(temp_folder_name)\n",
    "    return list_local_folders\n"
   ]
  },
  {
   "cell_type": "code",
   "execution_count": null,
   "metadata": {},
   "outputs": [],
   "source": [
    "def dataframe_extract_data(dataframe,spot_type_selected = 0):\n",
    "    ''' This function is intended to read a dataframe and returns \n",
    "        number_of_spots_per_cell, number_of_spots_per_cell_cytosol, number_of_spots_per_cell_nucleus, number_of_TS_per_cell, ts_size, cell_size\n",
    "    '''\n",
    "    number_cells = dataframe['cell_id'].nunique()\n",
    "    # Number of spots\n",
    "    number_of_spots_per_cell = np.asarray([len( dataframe.loc[  (dataframe['cell_id']==i)  & (dataframe['spot_type']==spot_type_selected) ].spot_id) for i in range(0, number_cells)])\n",
    "    # Number of spots in cytosol\n",
    "    number_of_spots_per_cell_cytosol = np.asarray([len( dataframe.loc[  (dataframe['cell_id']==i) & (dataframe['is_nuc']==False) & (dataframe['spot_type']==spot_type_selected) ].spot_id) for i in range(0, number_cells)])\n",
    "    # Number of spots in nucleus.  Spots without TS.\n",
    "    number_of_spots_per_cell_nucleus = np.asarray([len( dataframe.loc[  (dataframe['cell_id']==i) &  (dataframe['is_cluster']==False) & (dataframe['is_nuc']==True) & (dataframe['is_nuc']==True) & (dataframe['spot_type']==spot_type_selected)    ].spot_id) for i in range(0, number_cells)])\n",
    "    # Number of TS per cell.\n",
    "    number_of_TS_per_cell = [len( dataframe.loc[  (dataframe['cell_id']==i) &  (dataframe['is_cluster']==True) & (dataframe['is_nuc']==True) & (dataframe['spot_type']==spot_type_selected) & (dataframe['cluster_size'] >=4) ].spot_id) for i in range(0, number_cells)]\n",
    "    number_of_TS_per_cell= np.asarray(number_of_TS_per_cell)\n",
    "    # Number of RNA in a TS\n",
    "    ts_size =  dataframe.loc[   (dataframe['is_cluster']==True) & (dataframe['is_nuc']==True)  & (dataframe['spot_type']==spot_type_selected)   ].cluster_size.values\n",
    "    # Size of each cell\n",
    "    cell_size = np.asarray([len( dataframe.loc[  (dataframe['cell_id']==i) & (dataframe['spot_type']==0)].cell_area_px.values) for i in range(0, number_cells)])\n",
    "    return number_of_spots_per_cell, number_of_spots_per_cell_cytosol, number_of_spots_per_cell_nucleus, number_of_TS_per_cell, ts_size,cell_size, number_cells\n"
   ]
  },
  {
   "cell_type": "code",
   "execution_count": null,
   "metadata": {},
   "outputs": [],
   "source": [
    "def extracting_data_for_each_df_in_directory(data_dir):\n",
    "    '''\n",
    "    '''\n",
    "    # Extracting data from dataframe and converting it into lists for each directory.\n",
    "    list_spots_total=[]\n",
    "    list_spots_nuc=[]\n",
    "    list_spots_cytosol=[]\n",
    "    list_number_cells =[]\n",
    "    list_transcription_sites =[]\n",
    "    for i in range (0, len (data_dir)):\n",
    "        dataframe_dir = current_dir.joinpath('analyses',data_dir[i])    # loading files from \"analyses\" folder\n",
    "        dataframe_file = glob.glob( str(dataframe_dir.joinpath('dataframe_*')) )[0]\n",
    "        df = pd.read_csv(dataframe_file) \n",
    "        # Exctracting values from dataframe\n",
    "        number_of_spots_per_cell, number_of_spots_per_cell_cytosol, number_of_spots_per_cell_nucleus, number_of_TS_per_cell, ts_size, cell_size, number_cells = dataframe_extract_data(df)\n",
    "        # Appending each condition to a list\n",
    "        list_spots_total.append(number_of_spots_per_cell)  # This list includes spots and TS in the nucleus\n",
    "        list_spots_nuc.append(number_of_spots_per_cell_nucleus)   #\n",
    "        list_spots_cytosol.append(number_of_spots_per_cell_cytosol)\n",
    "        list_number_cells.append(number_cells)\n",
    "        list_transcription_sites.append(number_of_TS_per_cell)\n",
    "        # Deleting variables\n",
    "        del number_of_spots_per_cell, number_of_spots_per_cell_cytosol, number_of_spots_per_cell_nucleus, number_of_TS_per_cell, ts_size, cell_size, number_cells\n",
    "    return list_spots_total, list_spots_nuc, list_spots_cytosol, list_number_cells, list_transcription_sites\n"
   ]
  },
  {
   "cell_type": "code",
   "execution_count": null,
   "metadata": {},
   "outputs": [],
   "source": [
    "def convert_list_to_df (list_number_cells, list_spots, list_labels, remove_extreme_values= False) :\n",
    "    # defining the dimensions for the array.\n",
    "    max_number_cells = max(list_number_cells)\n",
    "    number_conditions = len(list_number_cells)\n",
    "    # creating an array with the same dimensions\n",
    "    spots_array = np.empty((max_number_cells,number_conditions))\n",
    "    spots_array[:] = np.NaN\n",
    "    # replace the elements in the array\n",
    "    for i in range(0,number_conditions ):\n",
    "        spots_array[0:list_number_cells[i],i] = list_spots[i] \n",
    "    # creating a dataframe\n",
    "    df = pd.DataFrame(data=spots_array, columns=list_labels)\n",
    "    \n",
    "    # Removing 1% extreme values.\n",
    "    if remove_extreme_values == True:\n",
    "        for col in df.columns:\n",
    "            max_data_value= df[col].quantile(0.99)\n",
    "            df[col] = np.where(df[col]>=max_data_value, np.nan, df[col])\n",
    "    return df\n"
   ]
  },
  {
   "cell_type": "code",
   "execution_count": null,
   "metadata": {},
   "outputs": [],
   "source": [
    "def dist_plots(df, plot_title,destination_folder ):\n",
    "    \n",
    "    if not os.path.exists(destination_folder):\n",
    "        os.makedirs(destination_folder)\n",
    "    \n",
    "    # Violin plots\n",
    "    plt.figure(figsize=(10,5))\n",
    "    sns.set(font_scale = 1)\n",
    "    sns.set_style(\"whitegrid\")\n",
    "    p_dist =sns.violinplot(data=df, scale=\"count\",palette=\"OrRd\")\n",
    "    p_dist.set_xlabel(\"Spot count\")\n",
    "    p_dist.set_ylabel(\"Count\")\n",
    "    p_dist.set_title(plot_title)\n",
    "    #p_dist.set_ylim(-10,max_val)\n",
    "    name_plot = 'Vio_'+plot_title+'.png'\n",
    "    plt.savefig(name_plot, transparent=False)\n",
    "    plt.show()\n",
    "    pathlib.Path().absolute().joinpath(name_plot).rename(pathlib.Path().absolute().joinpath(destination_folder,name_plot))\n",
    "\n",
    "    # Distribution\n",
    "    plt.figure(figsize=(10,5))\n",
    "    sns.set(font_scale = 1)\n",
    "    sns.set_style(\"whitegrid\")\n",
    "    p_dist =sns.kdeplot(data=df,palette=\"OrRd\")\n",
    "    p_dist.set_xlabel(\"Spots\")\n",
    "    p_dist.set_ylabel(\"Kernel Density Estimator (KDE)\")\n",
    "    p_dist.set_title(plot_title)\n",
    "    #sns.set(font_scale = 1)\n",
    "    #p_dist.set_xlim(-10,max_val)\n",
    "    name_plot = 'Dist_'+plot_title+'.png'\n",
    "    plt.savefig(name_plot, transparent=False)\n",
    "    plt.show()\n",
    "    pathlib.Path().absolute().joinpath(name_plot).rename(pathlib.Path().absolute().joinpath(destination_folder,name_plot))\n",
    "\n",
    "    # ECDF\n",
    "    plt.figure(figsize=(10,5))\n",
    "    sns.set(font_scale = 1)\n",
    "    sns.set_style(\"whitegrid\")\n",
    "    p_dist =sns.ecdfplot(data=df,palette=\"OrRd\")\n",
    "    p_dist.set_xlabel(\"Spots\")\n",
    "    p_dist.set_ylabel(\"Proportion\")\n",
    "    p_dist.set_title(plot_title)\n",
    "    #p_dist.set_xlim(0,max_val)\n",
    "    name_plot = 'ECDF_'+ plot_title+'.png'\n",
    "    plt.savefig(name_plot, transparent=False)\n",
    "    plt.show()\n",
    "    pathlib.Path().absolute().joinpath(name_plot).rename(pathlib.Path().absolute().joinpath(destination_folder,name_plot))\n",
    "\n",
    "    # Barplots\n",
    "    plt.figure(figsize=(7,7))\n",
    "    sns.set(font_scale = 1.5)\n",
    "    sns.set_style(\"white\")\n",
    "    p = sns.stripplot(data=df, size=3, color='0.5', jitter=0.2)\n",
    "    plt.xticks(rotation=45, ha=\"right\")\n",
    "    sns.set(font_scale = 1.5)\n",
    "    #p.set_ylim(0,max_val)\n",
    "    bp=sns.boxplot( \n",
    "                meanprops={'visible': True,'color': 'r', 'ls': 'solid', 'lw': 4},\n",
    "                #medianprops={'visible': False,'color': 'orangered', 'ls': 'solid', 'lw': 1},\n",
    "                whiskerprops={'visible': True, 'color':'k','ls': 'solid', 'lw': 1},\n",
    "                data=df,\n",
    "                showcaps={'visible': False, 'color':'orangered', 'ls': 'solid', 'lw': 1}, # Q1-Q3 25-75%\n",
    "                ax=p,\n",
    "                showmeans=True,meanline=True,zorder=10,showfliers=False,showbox=True,linewidth=1,color='w')\n",
    "    p.set_xlabel(\"time_after_treatment\")\n",
    "    p.set_ylabel(\"Spot Count\")\n",
    "    p.set_title(plot_title)\n",
    "    sns.set(font_scale = 1.5)\n",
    "    name_plot = 'Bar_'+plot_title+'.png'\n",
    "    plt.savefig(name_plot, transparent=False)\n",
    "    plt.show()\n",
    "    pathlib.Path().absolute().joinpath(name_plot).rename(pathlib.Path().absolute().joinpath(destination_folder,name_plot))\n",
    "    return None"
   ]
  },
  {
   "cell_type": "code",
   "execution_count": null,
   "metadata": {},
   "outputs": [],
   "source": [
    "def plot_comparing_df(df_all,df_cyto,df_nuc,plot_title,destination_folder):\n",
    "    # This code creates a single colum for all conditions and adds a 'location' column.\n",
    "    df_all_melt = df_all.melt()\n",
    "    df_all_melt['location'] = 'all' \n",
    "    df_cyto_melt = df_cyto.melt()\n",
    "    df_cyto_melt['location']= 'cyto'\n",
    "    df_nuc_melt = df_nuc.melt()\n",
    "    df_nuc_melt['location']= 'nuc' \n",
    "    data_frames_list = [df_all_melt, df_cyto_melt, df_nuc_melt]\n",
    "    data_frames = pd.concat(data_frames_list)       \n",
    "    # Plotting\n",
    "    plt.figure(figsize=(12,7))\n",
    "    sns.set(font_scale = 1.5)\n",
    "    b= sns.barplot(data=data_frames, x= 'variable',y='value', hue = 'location')\n",
    "    b.set_xlabel(\"time after treatment\")\n",
    "    b.set_ylabel(\"Spot Count\")\n",
    "    b.set_title(plot_title)\n",
    "    plt.xticks(rotation=45, ha=\"right\")\n",
    "    name_plot = plot_title +'.png'\n",
    "    plt.savefig(name_plot, transparent=False)\n",
    "    plt.show()\n",
    "    pathlib.Path().absolute().joinpath(name_plot).rename(pathlib.Path().absolute().joinpath(destination_folder,name_plot))\n",
    "    return None"
   ]
  },
  {
   "cell_type": "code",
   "execution_count": null,
   "metadata": {},
   "outputs": [],
   "source": [
    "def plot_TS(df,plot_title,destination_folder,minimal_TS_size,remove_zeros):\n",
    "    if remove_zeros == True:\n",
    "        for col in df.columns:\n",
    "            df[col] = np.where(df[col]==0, np.nan, df[col])\n",
    "    plt.figure(figsize=(12,7))\n",
    "    b= sns.stripplot(data=df, size=4, jitter=0.3, dodge=True)\n",
    "    b.set_xlabel('time after treatment')\n",
    "    b.set_ylabel('TS with intensity >= ' +str (minimal_TS_size) +' <RNAs>' )\n",
    "    b.set_title(plot_title)\n",
    "    plt.gca().yaxis.set_major_formatter(FuncFormatter(lambda x, _: int(x)))\n",
    "    plt.xticks(rotation=45, ha=\"right\")\n",
    "    name_plot = plot_title +'.png'\n",
    "    plt.savefig(name_plot, transparent=False)\n",
    "    plt.show()\n",
    "    pathlib.Path().absolute().joinpath(name_plot).rename(pathlib.Path().absolute().joinpath(destination_folder,name_plot))\n",
    "    return None"
   ]
  },
  {
   "cell_type": "markdown",
   "metadata": {},
   "source": [
    "# Running the codes"
   ]
  },
  {
   "cell_type": "code",
   "execution_count": null,
   "metadata": {},
   "outputs": [],
   "source": [
    "%%capture\n",
    "# To download data from NAS it is necessary to use CSU network or use the CSU VPN.\n",
    "\n",
    "list_dirs, list_labels, plot_title_subfix, mandatory_substring = IL_R1_list ('nuc_120__cyto_220__psfz_350__psfyx_120') \n",
    "#list_dirs, list_labels, plot_title_subfix, mandatory_substring = IL_R2_list ('nuc_120__cyto_220__psfz_350__psfyx_120') \n",
    "#list_dirs, list_labels, plot_title_subfix, mandatory_substring = Dex_R1_list ('nuc_120__cyto_220__psfz_350__psfyx_120') \n",
    "#list_dirs, list_labels, plot_title_subfix, mandatory_substring = Dex_R2_list ('nuc_120__cyto_220__psfz_350__psfyx_120') \n",
    "#list_dirs, list_labels, plot_title_subfix, mandatory_substring = dusp__dirs('nuc_100__cyto_220__psfz_300__psfyx_105') \n",
    "\n",
    "minimal_TS_size = 5 # Just for the plotting\n",
    "connect_to_NAS = True\n",
    "\n",
    "if connect_to_NAS == True:\n",
    "    # Reading the data from NAS, unziping files, organizing data as single dataframe for comparison. \n",
    "    list_local_files = read_zipfiles_from_NAS(list_dirs,path_to_config_file,share_name, mandatory_substring, local_folder_path)\n",
    "    list_local_folders = unzip_local_folders(list_local_files,local_folder_path)\n",
    "else: \n",
    "    list_local_folders = list_dirs # Use this line to process files from a local repository\n",
    "\n",
    "# Extracting data from each repository\n",
    "list_spots_total, list_spots_nuc, list_spots_cytosol, list_number_cells, list_transcription_sites = extracting_data_for_each_df_in_directory(list_local_folders)\n",
    "\n",
    "# Final dataframes for nuc, cyto and total spots\n",
    "df_all = convert_list_to_df (list_number_cells, list_spots_total, list_labels, remove_extreme_values= True)\n",
    "df_cyto = convert_list_to_df (list_number_cells, list_spots_cytosol, list_labels, remove_extreme_values= True)\n",
    "df_nuc = convert_list_to_df (list_number_cells, list_spots_nuc, list_labels, remove_extreme_values= True)\n",
    "df_transcription_sites = convert_list_to_df (list_number_cells, list_transcription_sites, list_labels, remove_extreme_values= False)\n",
    "\n",
    "print('number of cells in each dataset: ', list_number_cells)"
   ]
  },
  {
   "cell_type": "markdown",
   "metadata": {},
   "source": [
    "# Plotting"
   ]
  },
  {
   "cell_type": "code",
   "execution_count": null,
   "metadata": {},
   "outputs": [],
   "source": [
    "# creating a folder to store all plots\n",
    "destination_folder = pathlib.Path().absolute().joinpath('results', 'dist_'+plot_title_subfix+'__'+mandatory_substring)"
   ]
  },
  {
   "cell_type": "code",
   "execution_count": null,
   "metadata": {},
   "outputs": [],
   "source": [
    "# Plotting for cytosol and nucleus\n",
    "plot_title_complete = 'all_spots__'+plot_title_subfix\n",
    "dist_plots(df_all, plot_title_complete, destination_folder)"
   ]
  },
  {
   "cell_type": "code",
   "execution_count": null,
   "metadata": {},
   "outputs": [],
   "source": [
    "# Plotting for all Cytosol only\n",
    "plot_title_cyto = 'cyto__'+plot_title_subfix\n",
    "dist_plots(df_cyto, plot_title_cyto, destination_folder)"
   ]
  },
  {
   "cell_type": "code",
   "execution_count": null,
   "metadata": {},
   "outputs": [],
   "source": [
    "# Plotting for all nucleus\n",
    "plot_title_nuc = 'nuc__'+plot_title_subfix\n",
    "dist_plots(df_nuc, plot_title_nuc, destination_folder)"
   ]
  },
  {
   "cell_type": "code",
   "execution_count": null,
   "metadata": {},
   "outputs": [],
   "source": [
    "# Plot that compares nuc, cyto, and spots in all cell.\n",
    "plot_title_comparing = 'comparing__'+plot_title_subfix\n",
    "plot_comparing_df(df_all,df_cyto,df_nuc,plot_title_comparing,destination_folder)"
   ]
  },
  {
   "cell_type": "code",
   "execution_count": null,
   "metadata": {},
   "outputs": [],
   "source": [
    "# Plotting for TS\n",
    "plot_title = 'TS__'+plot_title_subfix\n",
    "plot_TS(df_transcription_sites,plot_title,destination_folder,minimal_TS_size,remove_zeros=False)"
   ]
  },
  {
   "cell_type": "code",
   "execution_count": null,
   "metadata": {},
   "outputs": [],
   "source": [
    "# remove temporary folder\n",
    "shutil.rmtree(local_folder_path)"
   ]
  }
 ],
 "metadata": {
  "interpreter": {
   "hash": "041431ac7e3bc2ef7f2f5628aa36a0858cfecc7ab5587fc492a79545cc0a25bd"
  },
  "kernelspec": {
   "display_name": "Python 3.6.13 64-bit ('FISH_processing': conda)",
   "language": "python",
   "name": "python3"
  },
  "language_info": {
   "codemirror_mode": {
    "name": "ipython",
    "version": 3
   },
   "file_extension": ".py",
   "mimetype": "text/x-python",
   "name": "python",
   "nbconvert_exporter": "python",
   "pygments_lexer": "ipython3",
   "version": "3.8.12"
  },
  "orig_nbformat": 4
 },
 "nbformat": 4,
 "nbformat_minor": 2
}
