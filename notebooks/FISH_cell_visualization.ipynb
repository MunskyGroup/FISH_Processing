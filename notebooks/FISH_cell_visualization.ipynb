{
 "cells": [
  {
   "attachments": {},
   "cell_type": "markdown",
   "id": "d494faaa",
   "metadata": {},
   "source": [
    "# FISH - Pipeline - A Python notebook to visualize FISH data\n",
    "\n",
    "```\n",
    "Author: Luis U. Aguilera\n",
    "Contact Info: luis.aguilera@colostate.edu\n",
    "\n",
    "Copyright (c) 2021 Munsky Group \n",
    "Colorado State University \n",
    "Licensed under BSD 3-Clause License.\n",
    "```"
   ]
  },
  {
   "attachments": {},
   "cell_type": "markdown",
   "id": "6e1f620b",
   "metadata": {},
   "source": [
    "### Libraries"
   ]
  },
  {
   "cell_type": "code",
   "execution_count": null,
   "id": "ec7c8aea",
   "metadata": {},
   "outputs": [],
   "source": [
    "# Importing libraries\n",
    "import sys\n",
    "import pathlib\n",
    "import warnings\n",
    "warnings.filterwarnings(\"ignore\")"
   ]
  },
  {
   "attachments": {},
   "cell_type": "markdown",
   "id": "9d558787",
   "metadata": {},
   "source": [
    "### Path to source directories"
   ]
  },
  {
   "cell_type": "code",
   "execution_count": null,
   "id": "fbf289c0",
   "metadata": {},
   "outputs": [],
   "source": [
    "# Defining directories\n",
    "current_dir = pathlib.Path().absolute()\n",
    "fa_dir = current_dir.parents[0].joinpath('src')\n",
    "\n",
    "# Importing fish_analyses module\n",
    "sys.path.append(str(fa_dir))\n",
    "import fish_analyses as fa\n",
    "\n",
    "# Path to credentials\n",
    "desktop_path = pathlib.Path.home()/'Desktop'\n",
    "path_to_config_file = desktop_path.joinpath('config.yml')\n"
   ]
  },
  {
   "cell_type": "code",
   "execution_count": null,
   "id": "6afb03ea",
   "metadata": {},
   "outputs": [],
   "source": [
    "connect_to_NAS = True\n",
    "\n",
    "mandatory_substring='nuc_102__cyto_202__psfz_350__psfyx_160'\n",
    "#data_folder_path = pathlib.Path('smFISH_images/Eric_smFISH_images/20230413/DUSP1_DexTimeConcSweep_300pM_75min_041223' )\n",
    "#cell_id = 335\n",
    "\n",
    "data_folder_path = pathlib.Path('smFISH_images/Eric_smFISH_images/20230424/DUSP1_DexTimeConcSweep_1nM_75min_041223')\n",
    "cell_id = 246\n",
    "\n",
    "convert_to_standard_format =False\n"
   ]
  },
  {
   "attachments": {},
   "cell_type": "markdown",
   "id": "2d70c1f2",
   "metadata": {},
   "source": [
    "### Paths to folders"
   ]
  },
  {
   "cell_type": "code",
   "execution_count": null,
   "id": "a801367c",
   "metadata": {},
   "outputs": [],
   "source": [
    "# Substring in folder\n",
    "# connect_to_NAS = True\n",
    "\n",
    "# standard_format = True\n",
    "# if standard_format == True:\n",
    "#     mandatory_substring='nuc_70__cyto_0__psfz_350__psfyx_160__ts_550_400'\n",
    "#     data_folder_path = pathlib.Path('smFISH_images/Linda_smFISH_images/Confocal/20220714/MS2-CY5_Cyto543_560_woStim')\n",
    "#     convert_to_standard_format =False\n",
    "# else:\n",
    "#     mandatory_substring='nuc_100__cyto_209__psfz_350__psfyx_120'\n",
    "#     data_folder_path = pathlib.Path('smFISH_images/Sawyer_smFISH_images/A549/Terminator/20230425_DUSP1_A549_DEX_60min_031123')\n",
    "#     convert_to_standard_format=True\n",
    "#     number_color_channels=2\n",
    "#     number_of_fov=1"
   ]
  },
  {
   "attachments": {},
   "cell_type": "markdown",
   "id": "ab28b573",
   "metadata": {},
   "source": [
    "### Downloading data"
   ]
  },
  {
   "cell_type": "code",
   "execution_count": null,
   "id": "8c757c0b",
   "metadata": {},
   "outputs": [],
   "source": [
    "%%capture\n",
    "list_images, list_masks, complete_dataframe, number_images, number_color_channels,local_folders,local_data_dir, images_metadata = fa.Utilities().extract_images_masks_dataframe( data_folder_path,\n",
    "                                                                                                                                mandatory_substring, \n",
    "                                                                                                                                path_to_config_file,\n",
    "                                                                                                                                connect_to_NAS)\n",
    "\n"
   ]
  },
  {
   "cell_type": "code",
   "execution_count": null,
   "id": "f0e76b23",
   "metadata": {},
   "outputs": [],
   "source": [
    "%%capture\n",
    "if convert_to_standard_format == True:\n",
    "    local_data_dir,masks_dir, list_files_names, _, list_images= fa.Utilities().convert_to_standard_format(data_folder_path=local_data_dir, \n",
    "                                                                                                        path_to_config_file=path_to_config_file,\n",
    "                                                                                                        number_color_channels=number_color_channels,\n",
    "                                                                                                        number_of_fov=number_of_fov ,\n",
    "                                                                                                        download_data_from_NAS = False, )\n",
    "    images_metadata = None\n",
    "\n"
   ]
  },
  {
   "cell_type": "code",
   "execution_count": null,
   "id": "b04c26df",
   "metadata": {},
   "outputs": [],
   "source": [
    "# Removing images that were not processed.\n",
    "selected_images = []\n",
    "max_image_id = images_metadata['Image_id'].max()+1\n",
    "for i in range (max_image_id):\n",
    "    processing_status = images_metadata[images_metadata['Image_id'] == i].Processing.values[0]\n",
    "    if processing_status == 'successful':\n",
    "        selected_images.append(list_images[i])\n",
    "list_images = selected_images\n",
    "number_images = len(selected_images)\n",
    "print('number of images: ',number_images)"
   ]
  },
  {
   "attachments": {},
   "cell_type": "markdown",
   "id": "fccefa6b",
   "metadata": {},
   "source": [
    "----\n",
    "# User parameters\n",
    "___"
   ]
  },
  {
   "cell_type": "code",
   "execution_count": null,
   "id": "26637210",
   "metadata": {},
   "outputs": [],
   "source": [
    "# Selecting cell to visualize\n",
    "#cell_id = 2\n",
    "# minimal number of mRNA for consider a cluster a transcription site.\n",
    "min_ts_size = 10 # Use None as the default value used on your existing dataframe"
   ]
  },
  {
   "cell_type": "code",
   "execution_count": null,
   "id": "8f726a18",
   "metadata": {},
   "outputs": [],
   "source": [
    "# Extracting image with cell and specific dataframe\n",
    "subsection_image_with_selected_cell, df_spots_subsection_coordinates,_,_,selected_image_id = fa.Utilities().image_cell_selection(cell_id=cell_id, \n",
    "                                                                                                         list_images=list_images, \n",
    "                                                                                                         dataframe=complete_dataframe)"
   ]
  },
  {
   "cell_type": "code",
   "execution_count": null,
   "id": "760077fa",
   "metadata": {},
   "outputs": [],
   "source": [
    "#shape of the selected sub-section\n",
    "print(subsection_image_with_selected_cell.shape)"
   ]
  },
  {
   "cell_type": "code",
   "execution_count": null,
   "id": "63313d4d",
   "metadata": {},
   "outputs": [],
   "source": [
    "#subsection_image_with_selected_cell= subsection_image_with_selected_cell[7:10,:,:,:]"
   ]
  },
  {
   "attachments": {},
   "cell_type": "markdown",
   "id": "173b9a0a",
   "metadata": {},
   "source": [
    "# Plotting composed-color channels"
   ]
  },
  {
   "cell_type": "code",
   "execution_count": null,
   "id": "05113233",
   "metadata": {},
   "outputs": [],
   "source": [
    "fa.Plots().plot_selected_cell_colors(image=subsection_image_with_selected_cell,\n",
    "                                    df= df_spots_subsection_coordinates, \n",
    "                                    min_ts_size=min_ts_size, \n",
    "                                    show_spots=False,\n",
    "                                    use_gaussian_filter = True,\n",
    "                                    show_legend = True,\n",
    "                                    microns_per_pixel = 0.16,\n",
    "                                    list_channel_order_to_plot=[1,0,2],#[0,3,1],\n",
    "                                    image_name=None)"
   ]
  },
  {
   "attachments": {},
   "cell_type": "markdown",
   "id": "6efb86ee",
   "metadata": {},
   "source": [
    "# Plotting detected spots on a single color channel "
   ]
  },
  {
   "cell_type": "code",
   "execution_count": null,
   "id": "9e4166aa",
   "metadata": {},
   "outputs": [],
   "source": [
    "fa.Plots().plot_single_cell(image=subsection_image_with_selected_cell, \n",
    "                            df=df_spots_subsection_coordinates, \n",
    "                            selected_channel=0, \n",
    "                            min_ts_size=min_ts_size,\n",
    "                            show_spots=True,\n",
    "                            show_legend = True,\n",
    "                            image_name=None,\n",
    "                            microns_per_pixel = 0.16)"
   ]
  },
  {
   "attachments": {},
   "cell_type": "markdown",
   "id": "0fd08ef7",
   "metadata": {},
   "source": [
    "## Plotting all color channels"
   ]
  },
  {
   "cell_type": "code",
   "execution_count": null,
   "id": "ae35e5a4",
   "metadata": {},
   "outputs": [],
   "source": [
    "fa.Plots().plot_single_cell_all_channels(image=subsection_image_with_selected_cell, \n",
    "                                        df=df_spots_subsection_coordinates, \n",
    "                                        min_ts_size=min_ts_size,\n",
    "                                        image_name=None,\n",
    "                                        show_spots = False,\n",
    "                                        microns_per_pixel=0.16)"
   ]
  },
  {
   "attachments": {},
   "cell_type": "markdown",
   "id": "49b08757",
   "metadata": {},
   "source": [
    "# Plotting z-slices for all channels"
   ]
  },
  {
   "cell_type": "code",
   "execution_count": null,
   "id": "2579871d",
   "metadata": {},
   "outputs": [],
   "source": [
    "fa.Plots().plot_cell_all_z_planes(image=subsection_image_with_selected_cell, image_name=None )"
   ]
  },
  {
   "attachments": {},
   "cell_type": "markdown",
   "id": "0f5bf207",
   "metadata": {},
   "source": [
    "# Plotting a color image for a Field of View"
   ]
  },
  {
   "cell_type": "code",
   "execution_count": null,
   "id": "d4e9ba65",
   "metadata": {},
   "outputs": [],
   "source": [
    "fa.Plots().plot_complete_fov(list_images=list_images,\n",
    "                            df=complete_dataframe, \n",
    "                            number_of_selected_image = selected_image_id, \n",
    "                            use_GaussianFilter=True,\n",
    "                            microns_per_pixel = 0.16,\n",
    "                            list_channel_order_to_plot=[1,0,2],\n",
    "                            show_cell_ids=True)"
   ]
  },
  {
   "cell_type": "code",
   "execution_count": null,
   "id": "29ecdc2c",
   "metadata": {},
   "outputs": [],
   "source": [
    "raise"
   ]
  },
  {
   "attachments": {},
   "cell_type": "markdown",
   "id": "61ca8928",
   "metadata": {},
   "source": [
    "## Plotting all cells"
   ]
  },
  {
   "cell_type": "code",
   "execution_count": null,
   "id": "66a4763d",
   "metadata": {},
   "outputs": [],
   "source": [
    "fa.Plots().plot_all_cells(list_images, complete_dataframe, selected_channel=1, spot_type=0,min_ts_size=6,show_spots=True,image_name=None,microns_per_pixel=None,show_legend = True,)"
   ]
  },
  {
   "cell_type": "code",
   "execution_count": null,
   "id": "2fac2136",
   "metadata": {},
   "outputs": [],
   "source": [
    "fa.Plots().plot_all_cells_and_spots(list_images, \n",
    "                                  complete_dataframe, \n",
    "                                  selected_channel=1, \n",
    "                                  spot_type=0,\n",
    "                                  min_ts_size=6,\n",
    "                                  image_name=None,\n",
    "                                  microns_per_pixel=0.16,\n",
    "                                  show_legend = True)"
   ]
  },
  {
   "cell_type": "code",
   "execution_count": null,
   "id": "f624f3c6",
   "metadata": {},
   "outputs": [],
   "source": []
  },
  {
   "cell_type": "code",
   "execution_count": null,
   "id": "ff2bfb1f",
   "metadata": {},
   "outputs": [],
   "source": []
  }
 ],
 "metadata": {
  "interpreter": {
   "hash": "f123aec772437107f61ad48bdc3e74202fc8f652e2fa44805dd8339e0a72f809"
  },
  "kernelspec": {
   "display_name": "Python 3.6.13 64-bit ('FISH_processing': conda)",
   "name": "python3"
  },
  "language_info": {
   "codemirror_mode": {
    "name": "ipython",
    "version": 3
   },
   "file_extension": ".py",
   "mimetype": "text/x-python",
   "name": "python",
   "nbconvert_exporter": "python",
   "pygments_lexer": "ipython3",
   "version": "3.8.12"
  }
 },
 "nbformat": 4,
 "nbformat_minor": 5
}
