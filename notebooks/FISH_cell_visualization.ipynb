{
 "cells": [
  {
   "attachments": {},
   "cell_type": "markdown",
   "id": "d494faaa",
   "metadata": {},
   "source": [
    "# FISH - Pipeline - A Python notebook to visualize FISH data\n",
    "\n",
    "```\n",
    "Author: Luis U. Aguilera\n",
    "Contact Info: luis.aguilera@colostate.edu\n",
    "\n",
    "Copyright (c) 2021 Munsky Group \n",
    "Colorado State University \n",
    "Licensed under BSD 3-Clause License.\n",
    "```"
   ]
  },
  {
   "cell_type": "markdown",
   "id": "6e1f620b",
   "metadata": {},
   "source": [
    "### Libraries"
   ]
  },
  {
   "cell_type": "code",
   "execution_count": null,
   "id": "ec7c8aea",
   "metadata": {},
   "outputs": [],
   "source": [
    "# Importing libraries\n",
    "import sys\n",
    "import pathlib\n",
    "import warnings\n",
    "import matplotlib.pyplot as plt\n",
    "import pandas as pd\n",
    "import glob\n",
    "import numpy as np\n",
    "import math\n",
    "warnings.filterwarnings(\"ignore\")"
   ]
  },
  {
   "cell_type": "markdown",
   "id": "9d558787",
   "metadata": {},
   "source": [
    "### Path to source directories"
   ]
  },
  {
   "cell_type": "code",
   "execution_count": null,
   "id": "fbf289c0",
   "metadata": {},
   "outputs": [],
   "source": [
    "# Defining directories\n",
    "current_dir = pathlib.Path().absolute()\n",
    "fa_dir = current_dir.parents[0].joinpath('src')\n",
    "\n",
    "# Importing fish_analyses module\n",
    "sys.path.append(str(fa_dir))\n",
    "import fish_analyses as fa\n",
    "\n",
    "# Path to credentials\n",
    "desktop_path = pathlib.Path.home()/'Desktop'\n",
    "path_to_config_file = desktop_path.joinpath('config.yml')\n"
   ]
  },
  {
   "cell_type": "markdown",
   "id": "3aa72c56",
   "metadata": {},
   "source": [
    "----\n",
    "\n",
    "# Parameters defined by the user \n",
    "\n",
    "----"
   ]
  },
  {
   "cell_type": "markdown",
   "id": "2d70c1f2",
   "metadata": {},
   "source": [
    "### Paths to images"
   ]
  },
  {
   "cell_type": "code",
   "execution_count": null,
   "id": "a801367c",
   "metadata": {},
   "outputs": [],
   "source": [
    "time_point = 'wo' # 'wo' '18min', '5h'\n",
    "mandatory_substring='nuc_70__cyto_0__psfz_350__psfyx_160__ts_550_400'\n",
    "connect_to_NAS = True\n",
    "\n",
    "if time_point == 'wo':\n",
    "    data_folder_path = pathlib.Path('smFISH_images/Linda_smFISH_images/Confocal/20220714/MS2-CY5_Cyto543_560_woStim')\n",
    "    path_to_masks_dir = pathlib.Path('smFISH_images/Linda_smFISH_images/Confocal/20220714/MS2-CY5_Cyto543_560_woStim/masks_MS2-CY5_Cyto543_560_woStim___nuc_70__cyto_0.zip') \n",
    "    \n",
    "if time_point == '18min':\n",
    "    data_folder_path = pathlib.Path('smFISH_images/Linda_smFISH_images/Confocal/20220714/MS2-CY5_Cyto543_560_18minTPL_5uM')\n",
    "    path_to_masks_dir = pathlib.Path('smFISH_images/Linda_smFISH_images/Confocal/20220714/MS2-CY5_Cyto543_560_18minTPL_5uM/masks_MS2-CY5_Cyto543_560_18minTPL_5uM___nuc_70__cyto_0.zip') \n",
    "    \n",
    "if time_point == '5h':\n",
    "    data_folder_path = pathlib.Path('smFISH_images/Linda_smFISH_images/Confocal/20220714/MS2-CY5_Cyto543_560_5hTPL_5uM')\n",
    "    path_to_masks_dir = pathlib.Path('smFISH_images/Linda_smFISH_images/Confocal/20220714/MS2-CY5_Cyto543_560_5hTPL_5uM/masks_MS2-CY5_Cyto543_560_5hTPL_5uM___nuc_70__cyto_0.zip') \n"
   ]
  },
  {
   "cell_type": "code",
   "execution_count": null,
   "id": "8c757c0b",
   "metadata": {},
   "outputs": [],
   "source": [
    "%%capture\n",
    "list_images, list_masks, dataframe, number_images, number_color_channels = fa.Utilities.extract_images_masks_dataframe( data_folder_path,path_to_masks_dir, mandatory_substring, path_to_config_file,connect_to_NAS)"
   ]
  },
  {
   "cell_type": "code",
   "execution_count": null,
   "id": "8f726a18",
   "metadata": {},
   "outputs": [],
   "source": [
    "# Select the cell to visualize\n",
    "cell_id = 6\n",
    "\n",
    "# Extracting image with cell and specific dataframe\n",
    "subsection_image_with_selected_cell, df_spots = fa.Utilities.image_cell_selection(cell_id=cell_id, list_images=list_images, dataframe=dataframe)"
   ]
  },
  {
   "cell_type": "code",
   "execution_count": null,
   "id": "926577b2",
   "metadata": {},
   "outputs": [],
   "source": [
    "# Plot maximum projection\n",
    "_, axes = plt.subplots(nrows = 1, ncols = number_color_channels, figsize = (15, 5))\n",
    "for i in range(0, number_color_channels):\n",
    "    axes[i].imshow( np.max(subsection_image_with_selected_cell[:,: ,:,i],axis=0))\n",
    "    axes[i].grid(False)\n",
    "    axes[i].set_xticks([])\n",
    "    axes[i].set_yticks([])\n",
    "    axes[i].set_title('max_z_channel_'+str(i) )"
   ]
  },
  {
   "cell_type": "code",
   "execution_count": null,
   "id": "d3be0f9d",
   "metadata": {},
   "outputs": [],
   "source": [
    "# Plot all z_slices\n",
    "number_z_slices = subsection_image_with_selected_cell.shape[0]\n",
    "_, axes = plt.subplots(nrows = number_color_channels , ncols = number_z_slices, figsize = ( number_z_slices*2, 10 ))\n",
    "for i in range(0, number_z_slices):\n",
    "    for j in range(0, number_color_channels):\n",
    "        axes[j,i].imshow( subsection_image_with_selected_cell[i,: ,:,j],cmap='Spectral')\n",
    "        axes[j,i].grid(False)\n",
    "        axes[j,i].set_xticks([])\n",
    "        axes[j,i].set_yticks([])\n",
    "        if i ==0:\n",
    "            axes[j,i].set_ylabel('Channel_'+str(j) )\n",
    "            \n",
    "        if j == 0:\n",
    "            axes[j,i].set_title('z_slice'+str(i) )"
   ]
  },
  {
   "cell_type": "code",
   "execution_count": null,
   "id": "552e98f2",
   "metadata": {},
   "outputs": [],
   "source": [
    "df_spots"
   ]
  },
  {
   "cell_type": "code",
   "execution_count": null,
   "id": "c7ae76b7",
   "metadata": {},
   "outputs": [],
   "source": []
  },
  {
   "cell_type": "code",
   "execution_count": null,
   "id": "0e5ac19a",
   "metadata": {},
   "outputs": [],
   "source": []
  },
  {
   "cell_type": "code",
   "execution_count": null,
   "id": "bda20f3b",
   "metadata": {},
   "outputs": [],
   "source": []
  },
  {
   "cell_type": "code",
   "execution_count": null,
   "id": "b1195140",
   "metadata": {},
   "outputs": [],
   "source": []
  },
  {
   "cell_type": "code",
   "execution_count": null,
   "id": "6680cb5c",
   "metadata": {},
   "outputs": [],
   "source": []
  }
 ],
 "metadata": {
  "interpreter": {
   "hash": "f123aec772437107f61ad48bdc3e74202fc8f652e2fa44805dd8339e0a72f809"
  },
  "kernelspec": {
   "display_name": "Python 3.6.13 64-bit ('FISH_processing': conda)",
   "name": "python3"
  },
  "language_info": {
   "codemirror_mode": {
    "name": "ipython",
    "version": 3
   },
   "file_extension": ".py",
   "mimetype": "text/x-python",
   "name": "python",
   "nbconvert_exporter": "python",
   "pygments_lexer": "ipython3",
   "version": "3.8.12"
  }
 },
 "nbformat": 4,
 "nbformat_minor": 5
}
