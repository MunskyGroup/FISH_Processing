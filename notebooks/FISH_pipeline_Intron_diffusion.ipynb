{
 "cells": [
  {
   "attachments": {},
   "cell_type": "markdown",
   "id": "d494faaa",
   "metadata": {},
   "source": [
    "# FISH - Pipeline - A Python interactive notebook to process FISH data\n",
    "\n",
    "```\n",
    "Author: Luis U. Aguilera\n",
    "Contact Info: luis.aguilera@colostate.edu\n",
    "\n",
    "Copyright (c) 2021 Munsky Group \n",
    "Colorado State University \n",
    "Licensed under BSD 3-Clause License.\n",
    "```"
   ]
  },
  {
   "attachments": {},
   "cell_type": "markdown",
   "id": "6e1f620b",
   "metadata": {},
   "source": [
    "### Libraries"
   ]
  },
  {
   "cell_type": "code",
   "execution_count": null,
   "id": "ec7c8aea",
   "metadata": {},
   "outputs": [],
   "source": [
    "# Importing libraries\n",
    "import sys\n",
    "import pathlib\n",
    "import warnings\n",
    "import matplotlib.pyplot as plt\n",
    "\n",
    "warnings.filterwarnings(\"ignore\")"
   ]
  },
  {
   "attachments": {},
   "cell_type": "markdown",
   "id": "9d558787",
   "metadata": {},
   "source": [
    "### Path to source directories"
   ]
  },
  {
   "cell_type": "code",
   "execution_count": null,
   "id": "fbf289c0",
   "metadata": {},
   "outputs": [],
   "source": [
    "# Defining directories\n",
    "current_dir = pathlib.Path().absolute()\n",
    "fa_dir = current_dir.parents[0].joinpath('src')\n",
    "\n",
    "# Importing fish_analyses module\n",
    "sys.path.append(str(fa_dir))\n",
    "import fish_analyses as fa"
   ]
  },
  {
   "attachments": {},
   "cell_type": "markdown",
   "id": "3aa72c56",
   "metadata": {},
   "source": [
    "----\n",
    "\n",
    "# Parameters defined by the user \n",
    "\n",
    "----"
   ]
  },
  {
   "attachments": {},
   "cell_type": "markdown",
   "id": "2d70c1f2",
   "metadata": {},
   "source": [
    "### Paths to images"
   ]
  },
  {
   "cell_type": "code",
   "execution_count": null,
   "id": "9486b737",
   "metadata": {},
   "outputs": [],
   "source": [
    "# Path to credentials\n",
    "desktop_path = pathlib.Path.home()/'Desktop'\n",
    "path_to_config_file = desktop_path.joinpath('config.yml')\n",
    "data_folder_path =pathlib.Path('RNA_diffusion_data/022624_H128_IDP/H128_Intron_diffusion_stills_1/')\n",
    "channels_with_nucleus=[0]         # Channel to pass to python for nucleus segmentation\n",
    "channels_with_cytosol=None         # Channel to pass to python for cytosol segmentation\n",
    "channels_with_FISH=[0]             # Channel to pass to python for spot detection\n",
    "path_to_masks_dir=pathlib.Path('smFISH_images/Eric_smFISH_images/20230511/GR_ICC_3hr_R1_1nM_0min_050823/masks_GR_ICC_3hr_R1_1nM_0min_050823___nuc_100__cyto_200.zip')"
   ]
  },
  {
   "attachments": {},
   "cell_type": "markdown",
   "id": "b93f8f3b",
   "metadata": {},
   "source": [
    "### Parameters for segmentation and spot detection"
   ]
  },
  {
   "cell_type": "code",
   "execution_count": null,
   "id": "a60c901e",
   "metadata": {},
   "outputs": [],
   "source": [
    "diameter_nucleus=100                         # Approximate nucleus size in pixels\n",
    "diameter_cytosol=200                         # Approximate cytosol size in pixels\n",
    "psf_z=350                                    # Theoretical size of the PSF emitted by a [rna] spot in the z plan, in nanometers\n",
    "psf_yx=130                                   # Theoretical size of the PSF emitted by a [rna] spot in the yx plan, in nanometers\n",
    "voxel_size_z=500                             # Microscope conversion px to nanometers in the z axis.\n",
    "voxel_size_yx=130                            # Microscope conversion px to nanometers in the xy axis.\n",
    "\n",
    "minimum_spots_cluster = 10                    # Minimal value used to define a cluster.\n",
    "\n",
    "number_of_images_to_process = 2 #None           # Use an integer to process a subset of images. None is used to indicate that all images need to be processed.\n"
   ]
  },
  {
   "cell_type": "code",
   "execution_count": null,
   "id": "4baef1b1",
   "metadata": {},
   "outputs": [],
   "source": [
    "# additional parameters\n",
    "optimization_segmentation_method= 'default' #'default'  #'default'  #'default' #'default'   # optimization_segmentation_method = 'default', 'intensity_segmentation' 'z_slice_segmentation', 'gaussian_filter_segmentation' , None\n",
    "save_all_images=0                             # To save all images for all the z-slices\n",
    "save_filtered_images = False                  # To save filtered images.\n",
    "threshold_for_spot_detection=None #400#None   # To select an specific threshold for spot detection. The default is None, and use automated threshold detection.\n",
    "show_plots=1                                  # Flag to show plots\n",
    "send_data_to_NAS=0                            # If data sent back to NAS use 1\n",
    "download_data_from_NAS=1                      # If data downloaded from NAS use 1\n",
    "remove_z_slices_borders=0                     # Use this flag to remove 2 z-slices from the top and bottom of the stack. This is needed to remove z-slices that are out of focus.\n",
    "save_pdf_report=0                             # Use this flag to save a pdf report with the results.\n",
    "display_spots_on_multiple_z_planes=0         # Use this flag to display spots on multiple z-planes.\n",
    "remove_out_of_focus_images = False,          # Use this flag to remove out of focus images.\n",
    "sharpness_threshold =1.10                    # Use this threshold to remove out of focus images."
   ]
  },
  {
   "attachments": {},
   "cell_type": "markdown",
   "id": "887f8361",
   "metadata": {},
   "source": [
    "## Downloading data from NAS"
   ]
  },
  {
   "cell_type": "code",
   "execution_count": null,
   "id": "af176d76",
   "metadata": {},
   "outputs": [],
   "source": [
    "# %%capture\n",
    "# Download data from NAS\n",
    "convert_to_standard_format = True\n",
    "if convert_to_standard_format == False:\n",
    "    local_data_dir, masks_dir, _, _, _,list_images = fa.Utilities().read_images_from_folder( path_to_config_file, data_folder_path, path_to_masks_dir,  download_data_from_NAS)\n",
    "    number_color_channels = list_images[0].shape[-1]\n",
    "else:\n",
    "    ####################################################################\n",
    "    #### Parameters to reformat images from the terminator scope ####\n",
    "    number_color_channels = 1                    # Only use if it is needed to convert to standard format\n",
    "    number_of_fov = 25                            # Only use if it is needed to convert to standard format     \n",
    "    ####################################################################\n",
    "    local_data_dir, masks_dir, _, _, list_images= fa.Utilities().convert_to_standard_format(data_folder_path=data_folder_path, \n",
    "                                                                                path_to_config_file=path_to_config_file, \n",
    "                                                                                download_data_from_NAS = download_data_from_NAS,\n",
    "                                                                                number_color_channels=number_color_channels,\n",
    "                                                                                number_of_fov=number_of_fov)"
   ]
  },
  {
   "attachments": {},
   "cell_type": "markdown",
   "id": "dba673cc",
   "metadata": {},
   "source": [
    "## Running the pipeline\n",
    "\n",
    "----"
   ]
  },
  {
   "cell_type": "code",
   "execution_count": 7,
   "id": "bd3a9063",
   "metadata": {},
   "outputs": [],
   "source": [
    "dataframe_FISH,_,_,_,output_identification_string = fa.PipelineFISH(local_data_dir, \n",
    "                                                                    channels_with_cytosol, \n",
    "                                                                    channels_with_nucleus, \n",
    "                                                                    channels_with_FISH,\n",
    "                                                                    diameter_nucleus, \n",
    "                                                                    diameter_cytosol, \n",
    "                                                                    minimum_spots_cluster, \n",
    "                                                                    masks_dir=masks_dir,  \n",
    "                                                                    voxel_size_z=voxel_size_z,\n",
    "                                                                    voxel_size_yx=voxel_size_yx ,psf_z=psf_z,psf_yx=psf_yx, show_plots=show_plots,  \n",
    "                                                                    file_name_str=data_folder_path.name, \n",
    "                                                                    optimization_segmentation_method=optimization_segmentation_method,\n",
    "                                                                    save_all_images=save_all_images,\n",
    "                                                                    threshold_for_spot_detection=threshold_for_spot_detection,\n",
    "                                                                    save_filtered_images=save_filtered_images,\n",
    "                                                                    number_of_images_to_process=number_of_images_to_process,\n",
    "                                                                    remove_z_slices_borders=remove_z_slices_borders,\n",
    "                                                                    save_pdf_report=save_pdf_report,\n",
    "                                                                    display_spots_on_multiple_z_planes=display_spots_on_multiple_z_planes,\n",
    "                                                                    model_nuc_segmentation='nuclei', # ['cyto','nuclei','tissuenet','livecell','cyto2','CP','CPx','TN1','TN2','TN3','LC1','LC2','LC3','LC4']\n",
    "                                                                    model_cyto_segmentation='cyto', # ['cyto','nuclei','tissuenet','livecell','cyto2','CP','CPx','TN1','TN2','TN3','LC1','LC2','LC3','LC4']\n",
    "                                                                    pretrained_model_nuc_segmentation=None, #nuclei_model_path,\n",
    "                                                                    remove_out_of_focus_images=remove_out_of_focus_images,\n",
    "                                                                    pretrained_model_cyto_segmentation=None ).run()"
   ]
  },
  {
   "attachments": {},
   "cell_type": "markdown",
   "id": "435ce599",
   "metadata": {},
   "source": [
    "## Extracting data from the dataframe\n",
    "\n",
    "----"
   ]
  },
  {
   "cell_type": "code",
   "execution_count": null,
   "id": "05ebfd58",
   "metadata": {},
   "outputs": [],
   "source": [
    "# Be aware that the code keeps track of cells without spots. In the data frame, the fields for cells without spots are populated with -1 values.\n",
    "dataframe_FISH.head()\n"
   ]
  },
  {
   "cell_type": "code",
   "execution_count": null,
   "id": "51b7a86b",
   "metadata": {},
   "outputs": [],
   "source": [
    "print(dataframe_FISH.loc[ (dataframe_FISH['cell_id'] >= 0) & (dataframe_FISH['spot_id'] == 0), ['nuc_int_ch_0','pseudo_cyto_int_ch_0','complete_cell_int_ch_0' ,'cyto_int_ch_0']]  )"
   ]
  },
  {
   "cell_type": "code",
   "execution_count": null,
   "id": "3c7f0a74",
   "metadata": {},
   "outputs": [],
   "source": [
    "print(dataframe_FISH.loc[ (dataframe_FISH['cell_id'] >= 0) & (dataframe_FISH['spot_id'] == 0), ['nuc_int_ch_1','pseudo_cyto_int_ch_1' ,'complete_cell_int_ch_1','cyto_int_ch_1']]  )"
   ]
  },
  {
   "attachments": {},
   "cell_type": "markdown",
   "id": "6b9b3e73",
   "metadata": {},
   "source": [
    "## Plots"
   ]
  },
  {
   "cell_type": "code",
   "execution_count": null,
   "id": "352b47cc",
   "metadata": {},
   "outputs": [],
   "source": [
    "list_files_distributions = fa.Plots().plot_all_distributions(dataframe_FISH,channels_with_cytosol, channels_with_nucleus,channels_with_FISH,minimum_spots_cluster,output_identification_string )"
   ]
  },
  {
   "cell_type": "code",
   "execution_count": null,
   "id": "6f40d8ce",
   "metadata": {},
   "outputs": [],
   "source": [
    "file_plots_bleed_thru = fa.Plots().plot_scatter_bleed_thru(dataframe_FISH, channels_with_cytosol, channels_with_nucleus,output_identification_string)"
   ]
  },
  {
   "cell_type": "code",
   "execution_count": null,
   "id": "04286c61",
   "metadata": {},
   "outputs": [],
   "source": [
    "# plots for cytosol nucleus intensity ratios\n",
    "if not fa.Utilities().is_None(channels_with_cytosol):\n",
    "    file_plots_int_ratio = fa.Plots().plot_nuc_cyto_int_ratio_distributions(dataframe_FISH,output_identification_string=None,plot_for_pseudo_cytosol=False)\n",
    "else:\n",
    "    file_plots_int_ratio = None\n",
    "file_plots_int_pseudo_ratio = fa.Plots().plot_nuc_cyto_int_ratio_distributions(dataframe_FISH,output_identification_string=None,plot_for_pseudo_cytosol=True)\n"
   ]
  },
  {
   "attachments": {},
   "cell_type": "markdown",
   "id": "44ccedfd",
   "metadata": {},
   "source": [
    "## Saving data"
   ]
  },
  {
   "cell_type": "code",
   "execution_count": null,
   "id": "56c1ffc2",
   "metadata": {},
   "outputs": [],
   "source": [
    "# Saving data and plots, and sending data to NAS\n",
    "fa.Utilities().save_output_to_folder(output_identification_string, data_folder_path, \n",
    "                                   list_files_distributions=list_files_distributions,\n",
    "                                   file_plots_bleed_thru=file_plots_bleed_thru,\n",
    "                                   file_plots_int_ratio=file_plots_int_ratio,\n",
    "                                   file_plots_int_pseudo_ratio=file_plots_int_pseudo_ratio,\n",
    "                                   channels_with_FISH=channels_with_FISH,save_pdf_report=save_pdf_report)\n",
    "\n",
    "# sending data to NAS\n",
    "analysis_folder_name, mask_dir_complete_name = fa.Utilities().sending_data_to_NAS(output_identification_string, data_folder_path, path_to_config_file, path_to_masks_dir, diameter_nucleus, diameter_cytosol, send_data_to_NAS, masks_dir)\n",
    "\n",
    "# Moving the complete analysis folder to final analyses folder \n",
    "fa.Utilities().move_results_to_analyses_folder( output_identification_string, data_folder_path, mask_dir_complete_name, path_to_masks_dir, save_filtered_images, download_data_from_NAS )"
   ]
  },
  {
   "cell_type": "code",
   "execution_count": null,
   "id": "42d20224",
   "metadata": {},
   "outputs": [],
   "source": [
    "# Extracting TS intensity. for all cells\n",
    "\n",
    "number_cells = dataframe_FISH['cell_id'].nunique()\n",
    "minimum_spots_cluster = 2\n",
    "ts_size =  dataframe_FISH.loc[ (dataframe_FISH['is_cluster']==True) & (dataframe_FISH['is_nuc']==True) &  (dataframe_FISH['cluster_size']>=minimum_spots_cluster)  & (dataframe_FISH['is_cell_fragmented']!=-1)   ].cluster_size.values\n",
    "\n",
    "ts_size"
   ]
  }
 ],
 "metadata": {
  "interpreter": {
   "hash": "f123aec772437107f61ad48bdc3e74202fc8f652e2fa44805dd8339e0a72f809"
  },
  "kernelspec": {
   "display_name": "Python 3.6.13 64-bit ('FISH_processing': conda)",
   "name": "python3"
  },
  "language_info": {
   "codemirror_mode": {
    "name": "ipython",
    "version": 3
   },
   "file_extension": ".py",
   "mimetype": "text/x-python",
   "name": "python",
   "nbconvert_exporter": "python",
   "pygments_lexer": "ipython3",
   "version": "3.8.12"
  }
 },
 "nbformat": 4,
 "nbformat_minor": 5
}
