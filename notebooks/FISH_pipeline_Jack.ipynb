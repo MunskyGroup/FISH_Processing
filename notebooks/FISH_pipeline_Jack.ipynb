{
 "cells": [
  {
   "attachments": {},
   "cell_type": "markdown",
   "id": "d494faaa",
   "metadata": {},
   "source": [
    "# FISH - Pipeline - A Python interactive notebook to process FISH data\n",
    "\n",
    "```\n",
    "Author: Luis U. Aguilera\n",
    "Contact Info: luis.aguilera@colostate.edu\n",
    "\n",
    "Copyright (c) 2021 Munsky Group \n",
    "Colorado State University \n",
    "Licensed under BSD 3-Clause License.\n",
    "```"
   ]
  },
  {
   "attachments": {},
   "cell_type": "markdown",
   "id": "d5465534",
   "metadata": {},
   "source": [
    "### Notebook summary \n",
    "\n",
    "\n",
    "- Load a directory with microscope FISH images\n",
    "- Establish a connection to Network-attached storage (NAS) using [pysmb](https://github.com/miketeo/pysmb)\n",
    "- Perform cell segmentation using [Cellpose](https://github.com/MouseLand/cellpose)\n",
    "- Perform spot detection using [Big-FISH](https://github.com/fish-quant/big-fish)\n",
    "- Datamanagement using Pandas\n",
    "\n",
    "----"
   ]
  },
  {
   "attachments": {},
   "cell_type": "markdown",
   "id": "6e1f620b",
   "metadata": {},
   "source": [
    "### Libraries"
   ]
  },
  {
   "cell_type": "code",
   "execution_count": null,
   "id": "ec7c8aea",
   "metadata": {},
   "outputs": [],
   "source": [
    "# Importing libraries\n",
    "import sys\n",
    "import pathlib\n",
    "import warnings\n",
    "import matplotlib.pyplot as plt\n",
    "import pycromanager as pycro\n",
    "\n",
    "\n",
    "warnings.filterwarnings(\"ignore\")"
   ]
  },
  {
   "attachments": {},
   "cell_type": "markdown",
   "id": "9d558787",
   "metadata": {},
   "source": [
    "### Path to source directories"
   ]
  },
  {
   "cell_type": "code",
   "execution_count": null,
   "id": "fbf289c0",
   "metadata": {},
   "outputs": [],
   "source": [
    "# Defining directories\n",
    "current_dir = pathlib.Path().absolute()\n",
    "fa_dir = current_dir.parents[0].joinpath('src')\n",
    "\n",
    "# Importing fish_analyses module\n",
    "sys.path.append(str(fa_dir))\n",
    "import fish_analyses as fa"
   ]
  },
  {
   "cell_type": "code",
   "execution_count": null,
   "id": "521b26bf",
   "metadata": {},
   "outputs": [],
   "source": [
    "current_dir"
   ]
  },
  {
   "cell_type": "code",
   "execution_count": null,
   "id": "3d321ee7",
   "metadata": {},
   "outputs": [],
   "source": [
    "fa.Banner().print_banner()"
   ]
  },
  {
   "attachments": {},
   "cell_type": "markdown",
   "id": "3aa72c56",
   "metadata": {},
   "source": [
    "----\n",
    "\n",
    "# Parameters defined by the user \n",
    "\n",
    "----"
   ]
  },
  {
   "cell_type": "code",
   "execution_count": null,
   "id": "45650d0a",
   "metadata": {},
   "outputs": [],
   "source": []
  },
  {
   "attachments": {},
   "cell_type": "markdown",
   "id": "2d70c1f2",
   "metadata": {},
   "source": [
    "### Paths to images"
   ]
  },
  {
   "cell_type": "code",
   "execution_count": null,
   "id": "a801367c",
   "metadata": {},
   "outputs": [],
   "source": [
    "# Path to credentials\n",
    "desktop_path = pathlib.Path.home()/'Desktop'\n",
    "path_to_config_file = desktop_path.joinpath('config.yml')\n",
    "# Path to images and masks\n",
    "DUSP1 = False\n",
    "if DUSP1 == True:\n",
    "    data_folder_path =pathlib.Path('smFISH_images/Eric_smFISH_images/20220225/DUSP1_Dex_0min_20220224')\n",
    "    channels_with_nucleus = [0]                   # Channel to pass to python for nucleus segmentation\n",
    "    channels_with_cytosol = [2]                    # Channel to pass to python for cytosol segmentation\n",
    "    channels_with_FISH=[1]             # Channel to pass to python for spot detection\n",
    "    path_to_masks_dir=None #pathlib.Path('smFISH_images/Eric_smFISH_images/20220225/DUSP1_Dex_0min_20220224/masks_DUSP1_Dex_0min_20220224___nuc_100__cyto_200.zip')\n",
    "    #path_to_masks_dir = None \n",
    "\n",
    "else:\n",
    "    data_folder_path =pathlib.Path(baseloc+'/'+std_info[key_of_file]['folder name'])\n",
    "    channels_with_nucleus=[2]         # Channel to pass to python for nucleus segmentation\n",
    "    channels_with_cytosol=[1]         # Channel to pass to python for cytosol segmentation\n",
    "    channels_with_FISH=[0]             # Channel to pass to python for spot detection\n",
    "    path_to_masks_dir=None #pathlib.Path('smFISH_images/Eric_smFISH_images/20230511/GR_ICC_3hr_R1_1nM_0min_050823/masks_GR_ICC_3hr_R1_1nM_0min_050823___nuc_100__cyto_200.zip')\n",
    "    #path_to_masks_dir = None \n",
    "\n",
    "#data_folder_path =pathlib.Path('/home/luisub/Desktop/FISH_Processing/dataBases/test_2_colors')\n",
    "#data_folder_path =pathlib.Path('/home/luisub/Desktop/FISH_Processing/dataBases/test_2_colors_GR_ICC_3hr_R1_10nM_40min_050823')\n",
    "#data_folder_path = pathlib.Path('smFISH_images/Sawyer_smFISH_images/A549/20230311/A549_Dusp1_100nM_Dex_0min_031123') #Sawyer cells A459\n",
    "\n",
    "#path_to_masks_dir = None \n",
    "data_folder_path"
   ]
  },
  {
   "cell_type": "code",
   "execution_count": null,
   "id": "80e58e56",
   "metadata": {},
   "outputs": [],
   "source": [
    "# Cellpose models\n",
    "\n",
    "nuclei_model_path = None #'/home/luisub/Desktop/FISH_Processing/cell_segmentation/temp_models/nuclei_gapdh/nuclei_gapdh'\n",
    "cyto_model_path =  None #'/home/luisub/Desktop/FISH_Processing/cell_segmentation/temp_models/cyto_gapdh/cyto_gapdh'"
   ]
  },
  {
   "attachments": {},
   "cell_type": "markdown",
   "id": "b93f8f3b",
   "metadata": {},
   "source": [
    "### Parameters for segmentation and spot detection"
   ]
  },
  {
   "cell_type": "code",
   "execution_count": null,
   "id": "a60c901e",
   "metadata": {},
   "outputs": [],
   "source": [
    "diameter_nucleus=100                         # Approximate nucleus size in pixels\n",
    "diameter_cytosol=200                         # Approximate cytosol size in pixels\n",
    "\n",
    "psf_z=350                                    # Theoretical size of the PSF emitted by a [rna] spot in the z plan, in nanometers\n",
    "psf_yx=130                                   # Theoretical size of the PSF emitted by a [rna] spot in the yx plan, in nanometers\n",
    "\n",
    "voxel_size_z=500                             # Microscope conversion px to nanometers in the z axis.\n",
    "voxel_size_yx=130                            # Microscope conversion px to nanometers in the xy axis.\n",
    "\n",
    "optimization_segmentation_method= None #'default'  # optimization_segmentation_method = 'default', 'intensity_segmentation' 'z_slice_segmentation', 'gaussian_filter_segmentation' , None\n",
    "save_all_images=0                             # To save all images for all the z-slices\n",
    "save_filtered_images = True                 # To save filtered images.\n",
    "number_of_images_to_process = 2 #None           # Use an integer to process a subset of images. None is used to indicate that all images need to be processed.\n",
    "minimum_spots_cluster = 4                    # Minimal value used to define a cluster.\n",
    "threshold_for_spot_detection=None            # To select an specific threshold for spot detection. The default is None, and use automated threshold detection.\n",
    "show_plots=1                                 # Flag to show plots\n",
    "send_data_to_NAS=0                           # If data sent back to NAS use 1\n",
    "download_data_from_NAS=1                     # If data downloaded from NAS use 1\n",
    "remove_z_slices_borders=0                    # Use this flag to remove 2 z-slices from the top and bottom of the stack. This is needed to remove z-slices that are out of focus.\n",
    "save_pdf_report=1\n",
    "display_spots_on_multiple_z_planes=0\n",
    "remove_out_of_focus_images = 0\n",
    "sharpness_threshold =1.10\n"
   ]
  },
  {
   "cell_type": "code",
   "execution_count": null,
   "id": "f8dcd000",
   "metadata": {},
   "outputs": [],
   "source": [
    "#channels_with_nucleus = [2]                   # Channel to pass to python for nucleus segmentation\n",
    "#channels_with_cytosol = [1]                    # Channel to pass to python for cytosol segmentation"
   ]
  },
  {
   "cell_type": "code",
   "execution_count": null,
   "id": "8dcbfd13",
   "metadata": {},
   "outputs": [],
   "source": [
    "local_data_dir"
   ]
  },
  {
   "attachments": {},
   "cell_type": "markdown",
   "id": "887f8361",
   "metadata": {},
   "source": [
    "## Downloading data from NAS"
   ]
  },
  {
   "cell_type": "code",
   "execution_count": null,
   "id": "af176d76",
   "metadata": {},
   "outputs": [],
   "source": [
    "%%capture\n",
    "# Download data from NAS\n",
    "convert_to_standard_format = True\n",
    "if convert_to_standard_format == False:\n",
    "    local_data_dir, masks_dir, _, _, _,list_images = fa.Utilities().read_images_from_folder( path_to_config_file, data_folder_path, path_to_masks_dir,  download_data_from_NAS)\n",
    "    number_color_channels = list_images[0].shape[-1]\n",
    "else:\n",
    "    ####################################################################\n",
    "    #### Parameters to reformat images from the terminator scope ####\n",
    "    #number_color_channels = std_info[key_of_file]['channel']                    # Only use if it is needed to convert to standard format\n",
    "    #number_of_fov = std_info[key_of_file]['position']                            # Only use if it is needed to convert to standard format     \n",
    "    ####################################################################\n",
    "    local_data_dir, masks_dir, _, _, list_images= fa.Utilities().convert_to_standard_format(data_folder_path=data_folder_path, \n",
    "                                                                                path_to_config_file=path_to_config_file, \n",
    "                                                                                download_data_from_NAS = download_data_from_NAS,\n",
    "                                                                                number_color_channels=None,\n",
    "                                                                                number_of_fov=None)"
   ]
  },
  {
   "cell_type": "code",
   "execution_count": null,
   "id": "404a288a",
   "metadata": {},
   "outputs": [],
   "source": [
    "# print('image shape:',list_images[0].shape )\n",
    "# num_z = list_images[0].shape[0]\n",
    "# selected_color_channel = 0\n",
    "# _, axes = plt.subplots(nrows = 1, ncols = num_z, figsize = (30, 5))\n",
    "# for i in range (num_z):\n",
    "#     simulated_image_removed_extreme_values = fa.RemoveExtrema(list_images[0][i,:,:,selected_color_channel],min_percentile=0, max_percentile=99.9).remove_outliers()  #np.max(simulated_image[:,:,:,i],axis = 0)\n",
    "#     axes[i].imshow( simulated_image_removed_extreme_values ) #list_images[0][i,:,:,selected_color_channel])\n",
    "#     axes[i].grid(False); axes[i].set_xticks([]); axes[i].set_yticks([])\n",
    "    \n",
    "# 0= spots\n",
    "# 1= GAPDH\n",
    "# 2 = DAPI\n"
   ]
  },
  {
   "cell_type": "code",
   "execution_count": null,
   "id": "c7450bc2",
   "metadata": {},
   "outputs": [],
   "source": [
    "# print('image shape:',list_images[0].shape )\n",
    "# num_z = 3 #list_images[0].shape[0]\n",
    "# start_z=10\n",
    "# selected_color_channel = 0\n",
    "# _, axes = plt.subplots(nrows = 1, ncols = num_z, figsize = (30, 15))\n",
    "# for i in range (0,num_z):\n",
    "#     simulated_image_removed_extreme_values = fa.RemoveExtrema(list_images[0][i+num_z+start_z,:,:,selected_color_channel],min_percentile=0, max_percentile=99.5).remove_outliers()  #np.max(simulated_image[:,:,:,i],axis = 0)\n",
    "#     axes[i].imshow( simulated_image_removed_extreme_values ) #list_images[0][i,:,:,selected_color_channel])\n",
    "#     axes[i].grid(False); axes[i].set_xticks([]); axes[i].set_yticks([])"
   ]
  },
  {
   "attachments": {},
   "cell_type": "markdown",
   "id": "dba673cc",
   "metadata": {},
   "source": [
    "## Running the pipeline\n",
    "\n",
    "----"
   ]
  },
  {
   "cell_type": "code",
   "execution_count": null,
   "id": "bd3a9063",
   "metadata": {},
   "outputs": [],
   "source": [
    "dataframe_FISH,_,_,_,output_identification_string = fa.PipelineFISH(local_data_dir, channels_with_cytosol, channels_with_nucleus, channels_with_FISH,diameter_nucleus, \n",
    "                                       diameter_cytosol, minimum_spots_cluster, masks_dir=masks_dir,  voxel_size_z=voxel_size_z,\n",
    "                                       voxel_size_yx=voxel_size_yx ,psf_z=psf_z,psf_yx=psf_yx, show_plots=show_plots,  \n",
    "                                       file_name_str=data_folder_path.name, \n",
    "                                       optimization_segmentation_method=optimization_segmentation_method,\n",
    "                                       save_all_images=save_all_images,\n",
    "                                       threshold_for_spot_detection=threshold_for_spot_detection,\n",
    "                                       save_filtered_images=save_filtered_images,\n",
    "                                       number_of_images_to_process=number_of_images_to_process,\n",
    "                                       remove_z_slices_borders=remove_z_slices_borders,\n",
    "                                       save_pdf_report=save_pdf_report,\n",
    "                                       display_spots_on_multiple_z_planes=display_spots_on_multiple_z_planes,\n",
    "                                       model_nuc_segmentation='nuclei', # ['cyto','nuclei','tissuenet','livecell','cyto2','CP','CPx','TN1','TN2','TN3','LC1','LC2','LC3','LC4']\n",
    "                                       model_cyto_segmentation='cyto', # ['cyto','nuclei','tissuenet','livecell','cyto2','CP','CPx','TN1','TN2','TN3','LC1','LC2','LC3','LC4']\n",
    "                                       pretrained_model_nuc_segmentation=None, #nuclei_model_path,\n",
    "                                       remove_out_of_focus_images=remove_out_of_focus_images,\n",
    "                                       pretrained_model_cyto_segmentation=cyto_model_path ).run()"
   ]
  },
  {
   "attachments": {},
   "cell_type": "markdown",
   "id": "435ce599",
   "metadata": {},
   "source": [
    "## Extracting data from the dataframe\n",
    "\n",
    "----"
   ]
  },
  {
   "cell_type": "code",
   "execution_count": null,
   "id": "05ebfd58",
   "metadata": {},
   "outputs": [],
   "source": [
    "# Be aware that the code keeps track of cells without spots. In the data frame, the fields for cells without spots are populated with -1 values.\n",
    "dataframe_FISH.head()\n"
   ]
  },
  {
   "cell_type": "code",
   "execution_count": null,
   "id": "51b7a86b",
   "metadata": {},
   "outputs": [],
   "source": [
    "print(dataframe_FISH.loc[ (dataframe_FISH['cell_id'] >= 0) & (dataframe_FISH['spot_id'] == 0), ['nuc_int_ch_0','pseudo_cyto_int_ch_0','complete_cell_int_ch_0' ,'cyto_int_ch_0']]  )"
   ]
  },
  {
   "cell_type": "code",
   "execution_count": null,
   "id": "3c7f0a74",
   "metadata": {},
   "outputs": [],
   "source": [
    "print(dataframe_FISH.loc[ (dataframe_FISH['cell_id'] >= 0) & (dataframe_FISH['spot_id'] == 0), ['nuc_int_ch_1','pseudo_cyto_int_ch_1' ,'complete_cell_int_ch_1','cyto_int_ch_1']]  )"
   ]
  },
  {
   "cell_type": "code",
   "execution_count": null,
   "id": "834ca2d4",
   "metadata": {},
   "outputs": [],
   "source": [
    "#print(dataframe_FISH.loc[ (dataframe_FISH['cell_id'] >= 0) & (dataframe_FISH['spot_id'] == 0), ['nuc_int_ch_2','pseudo_cyto_int_ch_2' ,'complete_cell_int_ch_2','cyto_int_ch_2']]  )"
   ]
  },
  {
   "cell_type": "code",
   "execution_count": null,
   "id": "e133a006",
   "metadata": {},
   "outputs": [],
   "source": [
    "#print(dataframe_FISH.loc[ (dataframe_FISH['cell_id'] >= 0) & (dataframe_FISH['spot_id'] == 0), ['nuc_cyto_int_ratio_ch_0','nuc_cyto_int_ratio_ch_1' ,'nuc_cyto_int_ratio_ch_2']]  )"
   ]
  },
  {
   "cell_type": "code",
   "execution_count": null,
   "id": "9c6bfe51",
   "metadata": {},
   "outputs": [],
   "source": [
    "#print(dataframe_FISH.loc[ (dataframe_FISH['cell_id'] >= 0) & (dataframe_FISH['spot_id'] == 0), ['nuc_pseudo_cyto_int_ratio_ch_0','nuc_pseudo_cyto_int_ratio_ch_1' ,'nuc_pseudo_cyto_int_ratio_ch_2']]  )"
   ]
  },
  {
   "attachments": {},
   "cell_type": "markdown",
   "id": "6b9b3e73",
   "metadata": {},
   "source": [
    "## Plots"
   ]
  },
  {
   "cell_type": "code",
   "execution_count": null,
   "id": "352b47cc",
   "metadata": {},
   "outputs": [],
   "source": [
    "list_files_distributions = fa.Plots().plot_all_distributions(dataframe_FISH,channels_with_cytosol, channels_with_nucleus,channels_with_FISH,minimum_spots_cluster,output_identification_string )"
   ]
  },
  {
   "cell_type": "code",
   "execution_count": null,
   "id": "6f40d8ce",
   "metadata": {},
   "outputs": [],
   "source": [
    "file_plots_bleed_thru = fa.Plots().plot_scatter_bleed_thru(dataframe_FISH, channels_with_cytosol, channels_with_nucleus,output_identification_string)"
   ]
  },
  {
   "cell_type": "code",
   "execution_count": null,
   "id": "04286c61",
   "metadata": {},
   "outputs": [],
   "source": [
    "# plots for cytosol nucleus intensity ratios\n",
    "if not fa.Utilities().is_None(channels_with_cytosol):\n",
    "    file_plots_int_ratio = fa.Plots().plot_nuc_cyto_int_ratio_distributions(dataframe_FISH,output_identification_string=None,plot_for_pseudo_cytosol=False)\n",
    "else:\n",
    "    file_plots_int_ratio = None\n",
    "file_plots_int_pseudo_ratio = fa.Plots().plot_nuc_cyto_int_ratio_distributions(dataframe_FISH,output_identification_string=None,plot_for_pseudo_cytosol=True)\n"
   ]
  },
  {
   "attachments": {},
   "cell_type": "markdown",
   "id": "44ccedfd",
   "metadata": {},
   "source": [
    "## Saving data"
   ]
  },
  {
   "cell_type": "code",
   "execution_count": null,
   "id": "56c1ffc2",
   "metadata": {},
   "outputs": [],
   "source": [
    "# Saving data and plots, and sending data to NAS\n",
    "fa.Utilities().save_output_to_folder(output_identification_string, data_folder_path, \n",
    "                                   list_files_distributions=list_files_distributions,\n",
    "                                   file_plots_bleed_thru=file_plots_bleed_thru,\n",
    "                                   file_plots_int_ratio=file_plots_int_ratio,\n",
    "                                   file_plots_int_pseudo_ratio=file_plots_int_pseudo_ratio,\n",
    "                                   channels_with_FISH=channels_with_FISH,save_pdf_report=save_pdf_report)\n",
    "\n",
    "# sending data to NAS\n",
    "analysis_folder_name, mask_dir_complete_name = fa.Utilities().sending_data_to_NAS(output_identification_string, data_folder_path, path_to_config_file, path_to_masks_dir, diameter_nucleus, diameter_cytosol, send_data_to_NAS, masks_dir)\n",
    "\n",
    "# Moving the complete analysis folder to final analyses folder \n",
    "fa.Utilities().move_results_to_analyses_folder( output_identification_string, data_folder_path, mask_dir_complete_name, path_to_masks_dir, save_filtered_images, download_data_from_NAS )"
   ]
  },
  {
   "cell_type": "code",
   "execution_count": null,
   "id": "42d20224",
   "metadata": {},
   "outputs": [],
   "source": [
    "# Extracting TS intensity. for all cells\n",
    "\n",
    "number_cells = dataframe_FISH['cell_id'].nunique()\n",
    "minimum_spots_cluster = 2\n",
    "ts_size =  dataframe_FISH.loc[ (dataframe_FISH['is_cluster']==True) & (dataframe_FISH['is_nuc']==True) &  (dataframe_FISH['cluster_size']>=minimum_spots_cluster)  & (dataframe_FISH['is_cell_fragmented']!=-1)   ].cluster_size.values\n",
    "\n",
    "ts_size"
   ]
  },
  {
   "cell_type": "code",
   "execution_count": null,
   "id": "1513b6f9",
   "metadata": {},
   "outputs": [],
   "source": [
    "#list_ts = sorted(dataframe.loc[ (dataframe['cell_id']==df_index) & (dataframe['is_cluster']==True) &   (dataframe['cluster_size']>=minimum_spots_cluster)  ].cluster_size.values, reverse=True)\n",
    "#min_length = min(len(ts_array), len(list_ts))\n",
    "#ts_array[:min_length] = list_ts[:min_length]\n",
    "# Size of the nucleus of each cell\n",
    "#nuc_area = dataframe.loc[   (dataframe['cell_id']==df_index) ].nuc_area_px.values[0]   "
   ]
  },
  {
   "cell_type": "code",
   "execution_count": null,
   "id": "152ee27b",
   "metadata": {},
   "outputs": [],
   "source": []
  }
 ],
 "metadata": {
  "kernelspec": {
   "display_name": "Python 3.8.12 ('FISH_processing')",
   "language": "python",
   "name": "python3"
  },
  "language_info": {
   "codemirror_mode": {
    "name": "ipython",
    "version": 3
   },
   "file_extension": ".py",
   "mimetype": "text/x-python",
   "name": "python",
   "nbconvert_exporter": "python",
   "pygments_lexer": "ipython3",
   "version": "3.8.12"
  },
  "vscode": {
   "interpreter": {
    "hash": "4e8c1a11bc75f8ff416d81fbec56a2296deafeaa436451553dda992a5c4cdca5"
   }
  }
 },
 "nbformat": 4,
 "nbformat_minor": 5
}
