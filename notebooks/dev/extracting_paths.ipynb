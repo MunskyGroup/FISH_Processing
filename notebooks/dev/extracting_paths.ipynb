{
 "cells": [
  {
   "cell_type": "markdown",
   "metadata": {},
   "source": [
    "# FISH integrated analyses"
   ]
  },
  {
   "cell_type": "markdown",
   "metadata": {},
   "source": [
    "<img src= /home/luisub/Desktop/FISH_Processing/docs/code_architecture.png alt=\"drawing\" width=\"1000\"/>"
   ]
  },
  {
   "cell_type": "markdown",
   "metadata": {},
   "source": [
    "<img src= /Users/luisaguilera/Desktop/FISH_Processing/docs/code_architecture.png alt=\"drawing\" width=\"1000\"/>"
   ]
  },
  {
   "cell_type": "markdown",
   "metadata": {},
   "source": [
    "## Libraries"
   ]
  },
  {
   "cell_type": "code",
   "execution_count": 1,
   "metadata": {},
   "outputs": [],
   "source": [
    "# Importing libraries\n",
    "import sys\n",
    "import matplotlib as mpl \n",
    "import matplotlib.pyplot as plt \n",
    "import numpy as np \n",
    "import pandas as pd\n",
    "import pathlib\n",
    "import warnings\n",
    "import shutil\n",
    "import os\n",
    "warnings.filterwarnings(\"ignore\")"
   ]
  },
  {
   "cell_type": "markdown",
   "metadata": {},
   "source": [
    "## Directories Path"
   ]
  },
  {
   "cell_type": "code",
   "execution_count": 2,
   "metadata": {},
   "outputs": [],
   "source": [
    "# Deffining directories\n",
    "current_dir = pathlib.Path().absolute()\n",
    "fa_dir = current_dir.parents[1].joinpath('src')\n",
    "\n",
    "# Importing fish_analyses module\n",
    "sys.path.append(str(fa_dir))\n",
    "import fish_analyses as fa"
   ]
  },
  {
   "cell_type": "markdown",
   "metadata": {},
   "source": [
    "# Connecting to NAS and Downloading data."
   ]
  },
  {
   "cell_type": "code",
   "execution_count": 3,
   "metadata": {},
   "outputs": [
    {
     "name": "stdout",
     "output_type": "stream",
     "text": [
      "Connection established\n",
      "File Downloaded : MG_U0126_2_filter1_2_4_0_Fr1.tiff\n",
      "File Downloaded : MG_U0126_2_filter2_4_0_0_Fr1.tiff\n",
      "File Downloaded : MG_U0126_2_filter1_3_4_0_Fr1.tiff\n",
      "File Downloaded : MG_U0126_2_filter4_4_1_0_Fr1.tiff\n",
      "File Downloaded : MG_U0126_2_filter1_1_4_0_Fr1.tiff\n",
      "File Downloaded : MG_U0126_2_filter1_0_4_0_Fr1.tiff\n",
      "File Downloaded : MG_U0126_2_filter5_4_0_0_Fr1.tiff\n",
      "File Downloaded : MG_U0126_2_filter1_4_3_0_Fr1.tiff\n",
      "File Downloaded : MG_U0126_2_filter1_1_3_0_Fr1.tiff\n",
      "File Downloaded : MG_U0126_2_filter2_2_0_0_Fr1.tiff\n",
      "File Downloaded : MG_U0126_2_filter5_1_0_0_Fr1.tiff\n",
      "File Downloaded : MG_U0126_2_filter4_0_1_0_Fr1.tiff\n",
      "File Downloaded : MG_U0126_2_filter1_0_3_0_Fr1.tiff\n",
      "File Downloaded : MG_U0126_2_filter4_1_1_0_Fr1.tiff\n",
      "File Downloaded : MG_U0126_2_filter5_0_0_0_Fr1.tiff\n",
      "File Downloaded : MG_U0126_2_filter2_3_0_0_Fr1.tiff\n",
      "File Downloaded : MG_U0126_2_filter1_4_4_0_Fr1.tiff\n",
      "File Downloaded : MG_U0126_2_filter2_1_0_0_Fr1.tiff\n",
      "File Downloaded : MG_U0126_2_filter5_2_0_0_Fr1.tiff\n",
      "File Downloaded : MG_U0126_2_filter4_3_1_0_Fr1.tiff\n",
      "File Downloaded : MG_U0126_2_filter1_2_3_0_Fr1.tiff\n",
      "File Downloaded : MG_U0126_2_filter4_2_1_0_Fr1.tiff\n",
      "File Downloaded : MG_U0126_2_filter5_3_0_0_Fr1.tiff\n",
      "File Downloaded : MG_U0126_2_filter2_0_0_0_Fr1.tiff\n",
      "File Downloaded : MG_U0126_2_filter1_3_3_0_Fr1.tiff\n",
      "File Downloaded : MG_U0126_2_filter2_4_2_0_Fr1.tiff\n",
      "File Downloaded : MG_U0126_2_filter4_2_4_0_Fr1.tiff\n",
      "File Downloaded : MG_U0126_2_filter4_3_4_0_Fr1.tiff\n",
      "File Downloaded : MG_U0126_2_filter4_1_4_0_Fr1.tiff\n",
      "File Downloaded : MG_U0126_2_filter1_4_1_0_Fr1.tiff\n",
      "File Downloaded : MG_U0126_2_filter5_4_2_0_Fr1.tiff\n",
      "File Downloaded : MG_U0126_2_filter4_4_3_0_Fr1.tiff\n",
      "File Downloaded : MG_U0126_2_filter4_0_4_0_Fr1.tiff\n",
      "File Downloaded : MG_U0126_2_filter4_1_3_0_Fr1.tiff\n",
      "File Downloaded : MG_U0126_2_filter2_3_2_0_Fr1.tiff\n",
      "File Downloaded : MG_U0126_2_filter5_0_2_0_Fr1.tiff\n",
      "File Downloaded : MG_U0126_2_filter1_0_1_0_Fr1.tiff\n",
      "File Downloaded : MG_U0126_2_filter4_4_4_0_Fr1.tiff\n",
      "File Downloaded : MG_U0126_2_filter5_1_2_0_Fr1.tiff\n",
      "File Downloaded : MG_U0126_2_filter2_2_2_0_Fr1.tiff\n",
      "File Downloaded : MG_U0126_2_filter4_0_3_0_Fr1.tiff\n",
      "File Downloaded : MG_U0126_2_filter1_1_1_0_Fr1.tiff\n",
      "File Downloaded : MG_U0126_2_filter1_3_1_0_Fr1.tiff\n",
      "File Downloaded : MG_U0126_2_filter4_2_3_0_Fr1.tiff\n",
      "File Downloaded : MG_U0126_2_filter2_0_2_0_Fr1.tiff\n",
      "File Downloaded : MG_U0126_2_filter5_3_2_0_Fr1.tiff\n",
      "File Downloaded : MG_U0126_2_filter1_2_1_0_Fr1.tiff\n",
      "File Downloaded : MG_U0126_2_filter5_2_2_0_Fr1.tiff\n",
      "File Downloaded : MG_U0126_2_filter2_1_2_0_Fr1.tiff\n",
      "File Downloaded : MG_U0126_2_filter4_3_3_0_Fr1.tiff\n",
      "File Downloaded : MG_U0126_2_filter5_1_3_0_Fr1.tiff\n",
      "File Downloaded : MG_U0126_2_filter2_2_3_0_Fr1.tiff\n",
      "File Downloaded : MG_U0126_2_filter4_0_2_0_Fr1.tiff\n",
      "File Downloaded : MG_U0126_2_filter1_1_0_0_Fr1.tiff\n",
      "File Downloaded : MG_U0126_2_filter5_4_4_0_Fr1.tiff\n",
      "File Downloaded : MG_U0126_2_filter4_1_2_0_Fr1.tiff\n",
      "File Downloaded : MG_U0126_2_filter2_3_3_0_Fr1.tiff\n",
      "File Downloaded : MG_U0126_2_filter5_0_3_0_Fr1.tiff\n",
      "File Downloaded : MG_U0126_2_filter1_0_0_0_Fr1.tiff\n",
      "File Downloaded : MG_U0126_2_filter1_2_0_0_Fr1.tiff\n",
      "File Downloaded : MG_U0126_2_filter5_2_3_0_Fr1.tiff\n",
      "File Downloaded : MG_U0126_2_filter2_1_3_0_Fr1.tiff\n",
      "File Downloaded : MG_U0126_2_filter4_3_2_0_Fr1.tiff\n",
      "File Downloaded : MG_U0126_2_filter1_3_0_0_Fr1.tiff\n",
      "File Downloaded : MG_U0126_2_filter4_2_2_0_Fr1.tiff\n",
      "File Downloaded : MG_U0126_2_filter2_0_3_0_Fr1.tiff\n",
      "File Downloaded : MG_U0126_2_filter5_3_3_0_Fr1.tiff\n",
      "File Downloaded : MG_U0126_2_filter2_4_4_0_Fr1.tiff\n",
      "File Downloaded : MG_U0126_2_filter2_1_4_0_Fr1.tiff\n",
      "File Downloaded : MG_U0126_2_filter5_2_4_0_Fr1.tiff\n",
      "File Downloaded : MG_U0126_2_filter5_3_4_0_Fr1.tiff\n",
      "File Downloaded : MG_U0126_2_filter2_0_4_0_Fr1.tiff\n",
      "File Downloaded : MG_U0126_2_filter2_4_3_0_Fr1.tiff\n",
      "File Downloaded : MG_U0126_2_filter2_2_4_0_Fr1.tiff\n",
      "File Downloaded : MG_U0126_2_filter5_1_4_0_Fr1.tiff\n",
      "File Downloaded : MG_U0126_2_filter4_4_2_0_Fr1.tiff\n",
      "File Downloaded : MG_U0126_2_filter1_4_0_0_Fr1.tiff\n",
      "File Downloaded : MG_U0126_2_filter5_4_3_0_Fr1.tiff\n",
      "File Downloaded : MG_U0126_2_filter5_0_4_0_Fr1.tiff\n",
      "File Downloaded : MG_U0126_2_filter2_3_4_0_Fr1.tiff\n",
      "File Downloaded : MG_U0126_2_filter1_0_2_0_Fr1.tiff\n",
      "File Downloaded : MG_U0126_2_filter4_1_0_0_Fr1.tiff\n",
      "File Downloaded : MG_U0126_2_filter5_0_1_0_Fr1.tiff\n",
      "File Downloaded : MG_U0126_2_filter2_3_1_0_Fr1.tiff\n",
      "File Downloaded : MG_U0126_2_filter1_1_2_0_Fr1.tiff\n",
      "File Downloaded : MG_U0126_2_filter2_2_1_0_Fr1.tiff\n",
      "File Downloaded : MG_U0126_2_filter5_1_1_0_Fr1.tiff\n",
      "File Downloaded : MG_U0126_2_filter4_0_0_0_Fr1.tiff\n",
      "File Downloaded : MG_U0126_2_filter4_2_0_0_Fr1.tiff\n",
      "File Downloaded : MG_U0126_2_filter5_3_1_0_Fr1.tiff\n",
      "File Downloaded : MG_U0126_2_filter2_0_1_0_Fr1.tiff\n",
      "File Downloaded : MG_U0126_2_filter1_3_2_0_Fr1.tiff\n",
      "File Downloaded : MG_U0126_2_filter2_1_1_0_Fr1.tiff\n",
      "File Downloaded : MG_U0126_2_filter5_2_1_0_Fr1.tiff\n",
      "File Downloaded : MG_U0126_2_filter4_3_0_0_Fr1.tiff\n",
      "File Downloaded : MG_U0126_2_filter1_2_2_0_Fr1.tiff\n",
      "File Downloaded : MG_U0126_2_filter2_4_1_0_Fr1.tiff\n",
      "File Downloaded : MG_U0126_2_filter5_4_1_0_Fr1.tiff\n",
      "File Downloaded : MG_U0126_2_filter1_4_2_0_Fr1.tiff\n",
      "File Downloaded : MG_U0126_2_filter4_4_0_0_Fr1.tiff\n",
      "Files downloaded to: /home/luisub/Desktop/FISH_Processing/notebooks/temp_MG_U0126_2\n"
     ]
    }
   ],
   "source": [
    "# Path to credentials\n",
    "desktop_path = pathlib.Path.home()/'Desktop'\n",
    "# Connection to nasstore2\n",
    "#path_to_config_file = desktop_path.joinpath('config_2.yml')\n",
    "#share_name = 'projects'\n",
    "#remote_folder_path = pathlib.Path('qpbio','GAPDH_Exon_Cy5')\n",
    "\n",
    "# Connection to munsky-nas\n",
    "path_to_config_file = desktop_path.joinpath('config.yml')\n",
    "share_name = 'share'\n",
    "#remote_folder_path = pathlib.Path('Test','test_dir')\n",
    "#remote_folder_path = pathlib.Path('smFISH_images/Linda_smFISH_images/Confocal/20220114/GAPDH-Cy3_NFKBIA-Cy5_woDex')\n",
    "remote_folder_path = pathlib.Path('smFISH Images Dan and Jim/smFISH/Cells_1_29_19/0hr/MG_U0126_2')\n",
    "#remote_folder_path = pathlib.Path('smFISH Images Dan and Jim/smFISH/Cells_1_29_19/0hr/U0126_1')\n",
    "\n",
    "# Download data from NAS\n",
    "local_folder_path = pathlib.Path().absolute().joinpath('temp_' + remote_folder_path.name)\n",
    "fa.NASConnection(path_to_config_file,share_name = share_name).copy_files(remote_folder_path, local_folder_path,timeout=120)"
   ]
  },
  {
   "cell_type": "code",
   "execution_count": 4,
   "id": "7db0b00d",
   "metadata": {},
   "outputs": [
    {
     "name": "stdout",
     "output_type": "stream",
     "text": [
      "100\n"
     ]
    }
   ],
   "source": [
    "textfile = open(\"MG_U0126_2.txt\", \"w\")\n",
    "# Files in folder\n",
    "for _, _, files in os.walk(local_folder_path):\n",
    "    total_files = len(files)\n",
    "    print(total_files)\n",
    "    for idx, file in enumerate(files):\n",
    "        if idx ==0:\n",
    "            textfile.write('list_file_names = [\\''+ file + \"',\\n\")\n",
    "        elif (idx>0) and (idx< total_files-1):\n",
    "            textfile.write('                \\''+file + \",\\n\")\n",
    "        elif idx == total_files-1:\n",
    "            textfile.write('                \\''+file + '\\']')\n",
    "textfile.close()\n"
   ]
  },
  {
   "cell_type": "code",
   "execution_count": null,
   "id": "080f83ce",
   "metadata": {},
   "outputs": [],
   "source": []
  }
 ],
 "metadata": {
  "interpreter": {
   "hash": "f123aec772437107f61ad48bdc3e74202fc8f652e2fa44805dd8339e0a72f809"
  },
  "kernelspec": {
   "display_name": "Python 3.6.13 64-bit ('FISH_processing': conda)",
   "name": "python3"
  },
  "language_info": {
   "codemirror_mode": {
    "name": "ipython",
    "version": 3
   },
   "file_extension": ".py",
   "mimetype": "text/x-python",
   "name": "python",
   "nbconvert_exporter": "python",
   "pygments_lexer": "ipython3",
   "version": "3.6.13"
  }
 },
 "nbformat": 4,
 "nbformat_minor": 5
}
