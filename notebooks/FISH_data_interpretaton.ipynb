{
 "cells": [
  {
   "cell_type": "markdown",
   "metadata": {},
   "source": [
    "# FISH - Data interpretation - A Python interactive notebook to interpret FISH data\n",
    "\n",
    "```\n",
    "Author: Luis U. Aguilera\n",
    "Contact Info: luis.aguilera@colostate.edu\n",
    "\n",
    "Copyright (c) 2021 Munsky Group \n",
    "Colorado State University \n",
    "Licensed under BSD 3-Clause License.\n",
    "\n",
    "```"
   ]
  },
  {
   "cell_type": "markdown",
   "metadata": {},
   "source": [
    "### Notebook summary \n",
    "\n",
    "\n",
    "- Load a directory with data quantified by FISH_pipeline.ipynb\n",
    "- Establish a connection to Network-attached storage (NAS) using [pysmb](https://github.com/miketeo/pysmb)\n",
    "- Compares quantifications for multiple conditions in a single plot\n",
    "- Compares mRNA spots in the  nucleus, cytosol and the comple cell.\n",
    "  \n",
    "----"
   ]
  },
  {
   "cell_type": "markdown",
   "metadata": {},
   "source": [
    "<img src= /home/luisub/Desktop/FISH_Processing/docs/images/code_architecture.png alt=\"drawing\" width=\"1000\"/>"
   ]
  },
  {
   "cell_type": "markdown",
   "metadata": {},
   "source": [
    "## Importing libraries"
   ]
  },
  {
   "cell_type": "code",
   "execution_count": null,
   "metadata": {},
   "outputs": [],
   "source": [
    "import sys\n",
    "import matplotlib.pyplot as plt \n",
    "from  matplotlib.ticker import FuncFormatter\n",
    "import numpy as np \n",
    "import pandas as pd\n",
    "import pathlib\n",
    "import warnings\n",
    "import glob\n",
    "import seaborn as sns\n",
    "import zipfile\n",
    "import shutil\n",
    "import scipy.stats as stats\n",
    "warnings.filterwarnings(\"ignore\")"
   ]
  },
  {
   "cell_type": "markdown",
   "metadata": {},
   "source": [
    "## Defining paths"
   ]
  },
  {
   "cell_type": "code",
   "execution_count": null,
   "metadata": {},
   "outputs": [],
   "source": [
    "# Defining directories\n",
    "current_dir = pathlib.Path().absolute()\n",
    "fa_dir = current_dir.parents[0].joinpath('src')\n",
    "# Importing fish_analyses module\n",
    "sys.path.append(str(fa_dir))\n",
    "import fish_analyses as fa\n",
    "# Local folder path\n",
    "local_folder_path = pathlib.Path().absolute().joinpath('temp_zip_analyses')\n",
    "local_folder_path\n",
    "# Path to credentials\n",
    "desktop_path = pathlib.Path.home()/'Desktop'\n",
    "# Connection to munsky-nas\n",
    "path_to_config_file = desktop_path.joinpath('config.yml')\n",
    "share_name = 'share'"
   ]
  },
  {
   "cell_type": "markdown",
   "metadata": {},
   "source": [
    "## List of folders to process"
   ]
  },
  {
   "cell_type": "code",
   "execution_count": null,
   "metadata": {},
   "outputs": [],
   "source": [
    "def A549_COX2(mandatory_substring):\n",
    "    list_dirs=(\n",
    "    'smFISH_images/Linda_smFISH_images/Confocal/20220914/A549_COX2_woSTM_GoldMedia' ,\n",
    "    'smFISH_images/Linda_smFISH_images/Confocal/20220914/A549_COX2_30ngmL_IL1B_2h_GoldMedia'  )\n",
    "    list_labels = [ 'COX2_wo','COX2_2h_30ng_ILB']\n",
    "    plot_title_suffix= \"COX2\"\n",
    "    mandatory_substring = mandatory_substring      #'nuc_90__cyto_200__psfz_350__psfyx_110__ts_500'\n",
    "    return list_dirs, list_labels, plot_title_suffix, mandatory_substring"
   ]
  },
  {
   "cell_type": "markdown",
   "metadata": {},
   "source": [
    "----\n",
    "\n",
    "# Running the codes\n",
    "\n",
    "----"
   ]
  },
  {
   "cell_type": "code",
   "execution_count": null,
   "metadata": {},
   "outputs": [],
   "source": [
    "# To download data from NAS it is necessary to use CSU network or use the CSU VPN.\n",
    "list_dirs, list_labels, plot_title_suffix, mandatory_substring = A549_COX2(mandatory_substring='nuc_90__cyto_200__psfz_350__psfyx_110__ts_300')\n",
    "minimal_TS_size = 3 # Just for the plotting\n",
    "connect_to_NAS = True\n"
   ]
  },
  {
   "cell_type": "markdown",
   "metadata": {},
   "source": [
    "## Connecting to NAS and extracting data"
   ]
  },
  {
   "cell_type": "code",
   "execution_count": null,
   "metadata": {},
   "outputs": [],
   "source": [
    "if connect_to_NAS == True:\n",
    "    # Reading the data from NAS, unziping files, organizing data as single dataframe for comparison. \n",
    "    list_local_files = fa.Utilities.read_zipfiles_from_NAS(list_dirs,path_to_config_file,share_name, mandatory_substring, local_folder_path)\n",
    "    list_local_folders = fa.Utilities.unzip_local_folders(list_local_files,local_folder_path)\n",
    "else: \n",
    "    list_local_folders = list_dirs # Use this line to process files from a local repository\n",
    "# Extracting data from each repository\n",
    "list_spots_total, list_spots_nuc, list_spots_cytosol, list_number_cells, list_transcription_sites,list_cell_size = fa.Utilities.extracting_data_for_each_df_in_directory(  list_local_folders=list_local_folders,current_dir=current_dir,minimal_TS_size=minimal_TS_size)\n",
    "# Final dataframes for nuc, cyto and total spots\n",
    "df_all = fa.Utilities.convert_list_to_df (list_number_cells, list_spots_total, list_labels, remove_extreme_values= True)\n",
    "df_cyto = fa.Utilities.convert_list_to_df (list_number_cells, list_spots_cytosol, list_labels, remove_extreme_values= True)\n",
    "df_nuc = fa.Utilities.convert_list_to_df (list_number_cells, list_spots_nuc, list_labels, remove_extreme_values= True)\n",
    "df_transcription_sites = fa.Utilities.convert_list_to_df (list_number_cells, list_transcription_sites, list_labels, remove_extreme_values= False)"
   ]
  },
  {
   "cell_type": "code",
   "execution_count": null,
   "metadata": {},
   "outputs": [],
   "source": [
    "print('number of cells in each dataset: ', list_number_cells)"
   ]
  },
  {
   "cell_type": "markdown",
   "metadata": {},
   "source": [
    "## Plotting"
   ]
  },
  {
   "cell_type": "code",
   "execution_count": null,
   "metadata": {},
   "outputs": [],
   "source": [
    "# creating a folder to store all plots\n",
    "destination_folder = pathlib.Path().absolute().joinpath('results', 'dist_'+plot_title_suffix+'__'+mandatory_substring)"
   ]
  },
  {
   "cell_type": "code",
   "execution_count": null,
   "metadata": {},
   "outputs": [],
   "source": [
    "# Plotting for cytosol and nucleus\n",
    "plot_title_complete = 'all_spots__'+plot_title_suffix\n",
    "fa.dist_plots(df_all, plot_title_complete, destination_folder)"
   ]
  },
  {
   "cell_type": "code",
   "execution_count": null,
   "metadata": {},
   "outputs": [],
   "source": [
    "# Plotting for all Cytosol only\n",
    "plot_title_cyto = 'cyto__'+plot_title_suffix\n",
    "fa.dist_plots(df_cyto, plot_title_cyto, destination_folder)"
   ]
  },
  {
   "cell_type": "code",
   "execution_count": null,
   "metadata": {},
   "outputs": [],
   "source": [
    "# Plotting for all nucleus\n",
    "plot_title_nuc = 'nuc__'+plot_title_suffix\n",
    "fa.dist_plots(df_nuc, plot_title_nuc, destination_folder)"
   ]
  },
  {
   "cell_type": "code",
   "execution_count": null,
   "metadata": {},
   "outputs": [],
   "source": [
    "# Plot that compares nuc, cyto, and spots in all cell.\n",
    "plot_title_comparing = 'comparing__'+plot_title_suffix\n",
    "fa.plot_comparing_df(df_all,df_cyto,df_nuc,plot_title_comparing,destination_folder)"
   ]
  },
  {
   "cell_type": "code",
   "execution_count": null,
   "metadata": {},
   "outputs": [],
   "source": [
    "# Plotting for TS\n",
    "plot_title = 'TS__'+plot_title_suffix\n",
    "fa.plot_TS(df_transcription_sites,plot_title,destination_folder,minimal_TS_size,remove_zeros=True)"
   ]
  },
  {
   "cell_type": "code",
   "execution_count": null,
   "metadata": {},
   "outputs": [],
   "source": [
    "plot_title = 'TS_stacked__'+plot_title_suffix\n",
    "fa.plot_TS_bar_stacked(df_transcription_sites,plot_title,destination_folder,minimal_TS_size,remove_zeros=True)"
   ]
  },
  {
   "cell_type": "code",
   "execution_count": null,
   "metadata": {},
   "outputs": [],
   "source": [
    "number_conditions = len(list_cell_size)\n",
    "for i in range(len(list_labels)):\n",
    "    x= list_cell_size[i]\n",
    "    y = list_spots_cytosol[i]\n",
    "    title_plot='scatter_'+list_labels[i]\n",
    "    fa.plot_scatter_spots_cell_size(x,y,title_plot,destination_folder)"
   ]
  },
  {
   "cell_type": "markdown",
   "metadata": {},
   "source": [
    "# Converting Dataframe to use in Brian's Matlab code."
   ]
  },
  {
   "cell_type": "code",
   "execution_count": null,
   "metadata": {},
   "outputs": [],
   "source": [
    "# Exporting data to CSV. \n",
    "# ColumnA = time, \n",
    "# ColumnB= #RNA in nucleus, \n",
    "# ColumnC = #RNA in cytoplasm, \n",
    "# ColumnD = total RNA).\n",
    "num_time_points = len(list_spots_total)\n",
    "num_columns = 4 # time, RNA_nuc, RNA_cyto, total\n",
    "array_data_spots =  np.empty(shape=(0, num_columns))\n",
    "\n",
    "for i in range(0, num_time_points):\n",
    "    num_cells = len(list_spots_total[i])\n",
    "    temp_array_data_spots = np.zeros((num_cells,num_columns))\n",
    "    temp_array_data_spots[:,0] = i\n",
    "    temp_array_data_spots[:,1] = list_spots_nuc[i] # nuc\n",
    "    temp_array_data_spots[:,2] = list_spots_cytosol[i] # cyto\n",
    "    temp_array_data_spots[:,3] = list_spots_total[i] # all spots\n",
    "    array_data_spots = np.append(array_data_spots, temp_array_data_spots, axis=0)\n",
    "array_data_spots.shape\n",
    "\n",
    "# final data frame with format for the model\n",
    "df_for_model = pd.DataFrame(data=array_data_spots, columns =['time_index', 'RNA_nuc','RNA_cyto','RNA_total'] )\n",
    "new_dtypes = {'time_index':int, 'RNA_nuc':int, 'RNA_cyto':int,'RNA_total':int}\n",
    "df_for_model = df_for_model.astype(new_dtypes)\n",
    "\n",
    "# Save to csv\n",
    "df_for_model.to_csv(pathlib.Path().absolute().joinpath(destination_folder,plot_title_suffix+'.csv'))"
   ]
  },
  {
   "cell_type": "code",
   "execution_count": null,
   "metadata": {},
   "outputs": [],
   "source": [
    "# remove temporary folder\n",
    "shutil.rmtree(local_folder_path)"
   ]
  },
  {
   "cell_type": "code",
   "execution_count": null,
   "metadata": {},
   "outputs": [],
   "source": []
  }
 ],
 "metadata": {
  "interpreter": {
   "hash": "f123aec772437107f61ad48bdc3e74202fc8f652e2fa44805dd8339e0a72f809"
  },
  "kernelspec": {
   "display_name": "Python 3.8.12 ('FISH_processing')",
   "language": "python",
   "name": "python3"
  },
  "language_info": {
   "codemirror_mode": {
    "name": "ipython",
    "version": 3
   },
   "file_extension": ".py",
   "mimetype": "text/x-python",
   "name": "python",
   "nbconvert_exporter": "python",
   "pygments_lexer": "ipython3",
   "version": "3.8.12"
  },
  "orig_nbformat": 4
 },
 "nbformat": 4,
 "nbformat_minor": 2
}
