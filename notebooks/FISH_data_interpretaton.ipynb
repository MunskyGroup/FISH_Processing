{
 "cells": [
  {
   "cell_type": "markdown",
   "metadata": {},
   "source": [
    "# FISH - Data interpretation - A Python interactive notebook to interpret FISH data\n",
    "\n",
    "```\n",
    "Author: Luis U. Aguilera\n",
    "Contact Info: luis.aguilera@colostate.edu\n",
    "\n",
    "Copyright (c) 2021 Munsky Group \n",
    "Colorado State University \n",
    "Licensed under BSD 3-Clause License.\n",
    "\n",
    "```"
   ]
  },
  {
   "cell_type": "markdown",
   "metadata": {},
   "source": [
    "### Notebook summary \n",
    "\n",
    "\n",
    "- Load a directory with data quantified by FISH_pipeline.ipynb\n",
    "- Establish a connection to Network-attached storage (NAS) using [pysmb](https://github.com/miketeo/pysmb)\n",
    "- Compares quantifications for multiple conditions in a single plot\n",
    "- Compares mRNA spots in the  nucleus, cytosol and the comple cell.\n",
    "  \n",
    "----"
   ]
  },
  {
   "cell_type": "markdown",
   "metadata": {},
   "source": [
    "<img src= /home/luisub/Desktop/FISH_Processing/docs/images/code_architecture.png alt=\"drawing\" width=\"1000\"/>"
   ]
  },
  {
   "cell_type": "markdown",
   "metadata": {},
   "source": [
    "## Importing libraries"
   ]
  },
  {
   "cell_type": "code",
   "execution_count": 1,
   "metadata": {},
   "outputs": [],
   "source": [
    "import sys\n",
    "import matplotlib.pyplot as plt \n",
    "from  matplotlib.ticker import FuncFormatter\n",
    "import numpy as np \n",
    "import pandas as pd\n",
    "import pathlib\n",
    "import warnings\n",
    "import glob\n",
    "import seaborn as sns\n",
    "import zipfile\n",
    "import shutil\n",
    "import scipy.stats as stats\n",
    "warnings.filterwarnings(\"ignore\")"
   ]
  },
  {
   "cell_type": "markdown",
   "metadata": {},
   "source": [
    "## Defining paths"
   ]
  },
  {
   "cell_type": "code",
   "execution_count": 2,
   "metadata": {},
   "outputs": [],
   "source": [
    "# Defining directories\n",
    "current_dir = pathlib.Path().absolute()\n",
    "fa_dir = current_dir.parents[0].joinpath('src')\n",
    "# Importing fish_analyses module\n",
    "sys.path.append(str(fa_dir))\n",
    "import fish_analyses as fa\n",
    "# Local folder path\n",
    "local_folder_path = pathlib.Path().absolute().joinpath('temp_zip_analyses')\n",
    "local_folder_path\n",
    "# Path to credentials\n",
    "desktop_path = pathlib.Path.home()/'Desktop'\n",
    "# Connection to munsky-nas\n",
    "path_to_config_file = desktop_path.joinpath('config.yml')\n",
    "share_name = 'share'"
   ]
  },
  {
   "cell_type": "markdown",
   "metadata": {},
   "source": [
    "## List of folders to process"
   ]
  },
  {
   "cell_type": "code",
   "execution_count": 3,
   "metadata": {},
   "outputs": [],
   "source": [
    "def A549_COX2(mandatory_substring):\n",
    "    list_dirs=(\n",
    "    'smFISH_images/Linda_smFISH_images/Confocal/20220914/A549_COX2_woSTM_GoldMedia' ,\n",
    "    'smFISH_images/Linda_smFISH_images/Confocal/20220914/A549_COX2_30ngmL_IL1B_2h_GoldMedia'  )\n",
    "    list_labels = [ 'COX2_wo','COX2_2h_30ng_ILB']\n",
    "    plot_title_suffix= \"COX2\"\n",
    "    mandatory_substring = mandatory_substring      #'nuc_90__cyto_200__psfz_350__psfyx_110__ts_500'\n",
    "    return list_dirs, list_labels, plot_title_suffix, mandatory_substring"
   ]
  },
  {
   "cell_type": "code",
   "execution_count": 4,
   "metadata": {},
   "outputs": [],
   "source": [
    "def A549_COX2(mandatory_substring):\n",
    "    list_dirs=(\n",
    "    'smFISH_images/Linda_smFISH_images/Confocal/20220914/A549_COX2_woSTM_GoldMedia'  )\n",
    "    list_labels = [ 'COX2_wo']\n",
    "    plot_title_suffix= \"COX2\"\n",
    "    mandatory_substring = mandatory_substring      #'nuc_90__cyto_200__psfz_350__psfyx_110__ts_500'\n",
    "    return list_dirs, list_labels, plot_title_suffix, mandatory_substring"
   ]
  },
  {
   "cell_type": "code",
   "execution_count": 5,
   "metadata": {},
   "outputs": [],
   "source": [
    "def Huys_short(mandatory_substring):\n",
    "    list_dirs=(\n",
    "    'smFISH_images/Linda_smFISH_images/Confocal/20220714/MS2-CY5_Cyto543_560_woStim',\n",
    "    'smFISH_images/Linda_smFISH_images/Confocal/20220714/MS2-CY5_Cyto543_560_18minTPL_5uM' ,\n",
    "    'smFISH_images/Linda_smFISH_images/Confocal/20220714/MS2-CY5_Cyto543_560_5hTPL_5uM' )\n",
    "    list_labels = [ 'woSTM','18minTPL_5uM','5hTPL_5uM']\n",
    "    plot_title_suffix= \"MS2_CY5_TPL_short\"\n",
    "    mandatory_substring = mandatory_substring      #'nuc_80__cyto_0__psfz_350__psfyx_160__ts_220'\n",
    "    return list_dirs, list_labels, plot_title_suffix, mandatory_substring"
   ]
  },
  {
   "cell_type": "code",
   "execution_count": 6,
   "metadata": {},
   "outputs": [],
   "source": [
    "def Huys_long(mandatory_substring):\n",
    "    list_dirs=(\n",
    "    'smFISH_images/Linda_smFISH_images/Confocal/20211014/MS2-CY5-0minTPL',\n",
    "    'smFISH_images/Linda_smFISH_images/Confocal/20211014/MS2-CY5-3minTPL',\n",
    "    'smFISH_images/Linda_smFISH_images/Confocal/20211015/MS2-CY5-6minTPL',\n",
    "    'smFISH_images/Linda_smFISH_images/Confocal/20211015/MS2-CY5-9minTPL', \n",
    "    'smFISH_images/Linda_smFISH_images/Confocal/20211015/MS2-CY5-12minTPL', \n",
    "    'smFISH_images/Linda_smFISH_images/Confocal/20211019/MS2-CY5-15minTPL',\n",
    "    'smFISH_images/Linda_smFISH_images/Confocal/20211019/MS2-CY5-18minTPL', \n",
    "    'smFISH_images/Linda_smFISH_images/Confocal/20211019/MS2-CY5-21minTPL', \n",
    "    'smFISH_images/Linda_smFISH_images/Confocal/20211021/MS2-CY5-24minTPL', \n",
    "    'smFISH_images/Linda_smFISH_images/Confocal/20211021/MS2-CY5-27minTPL', \n",
    "    'smFISH_images/Linda_smFISH_images/Confocal/20211021/MS2-CY5-30minTPL', \n",
    "    'smFISH_images/Linda_smFISH_images/Confocal/20211021/MS2-CY5-60minTPL', \n",
    "    'smFISH_images/Linda_smFISH_images/Confocal/20210921/MS2-Cy5-120minTPL', \n",
    "    'smFISH_images/Linda_smFISH_images/Confocal/20210921/MS2-Cy5-240minTPL' )\n",
    "    list_labels = [ '0min_TPL','3min_TPL','6min_TPL','9min_TPL','12min_TPL','15min_TPL','18min_TPL','21min_TPL','24min_TPL','27min_TPL','30min_TPL','60min_TPL', '120min_TPL','240min_TPL']\n",
    "    plot_title_suffix= \"MS2_CY5_TPL_short_long\"\n",
    "    mandatory_substring = mandatory_substring      #'nuc_180__cyto_0__psfz_350__psfyx_120__ts_auto'\n",
    "    return list_dirs, list_labels, plot_title_suffix, mandatory_substring"
   ]
  },
  {
   "cell_type": "code",
   "execution_count": 7,
   "metadata": {},
   "outputs": [],
   "source": [
    "    \n",
    "def A549_NFKB_AB_488_IKBA(mandatory_substring):\n",
    "    list_dirs=(\n",
    "    'smFISH_images/Linda_smFISH_images/Confocal/20221027/A549_NFKB_AB_488_IKBA-Cy5_woSTM',\n",
    "    'smFISH_images/Linda_smFISH_images/Confocal/20221031/A549_NFKB_AB_488_IKBA-Cy5_IL-1B_20min_woDEX_B1', \n",
    "    'smFISH_images/Linda_smFISH_images/Confocal/20221027/A549_NFKB_AB_488_IKBA-Cy5_IL-1B_60min_woDEX',\n",
    "    'smFISH_images/Linda_smFISH_images/Confocal/20221031/A549_NFKB_AB_488_IKBA-Cy5_DEX_60min_woIL-1B_A2',\n",
    "    'smFISH_images/Linda_smFISH_images/Confocal/20221031/A549_NFKB_AB_488_IKBA-Cy5_DEX_120min_woIL-1B_A3',\n",
    "    'smFISH_images/Linda_smFISH_images/Confocal/20221031/A549_NFKB_AB_488_IKBA-Cy5_IL-1B_20min_DEX_60min_B2',\n",
    "    'smFISH_images/Linda_smFISH_images/Confocal/20221101/A549_NFKB_AB_488_IKBA-Cy5_IL-1B_20min_DEX_120min_B3', \n",
    "    'smFISH_images/Linda_smFISH_images/Confocal/20221101/A549_NFKB_AB_488_IKBA-Cy5_IL-1B_60min_DEX_60min_C2', \n",
    "    'smFISH_images/Linda_smFISH_images/Confocal/20221101/A549_NFKB_AB_488_IKBA-Cy5_IL-1B_60min_DEX_120min_C3')\n",
    "    \n",
    "    list_labels = [ 'woSTM','IL1B_20min','IL1B_60min', 'DEX_60min','DEX_120min','DEX_60min_IL1B_20min','DEX120min_IL1B_20min','DEX_60min_IL1B_60min','DEX_120min_IL1B_60min']\n",
    "    plot_title_suffix= \"A549_NFKB_AB_488_IKBA\"\n",
    "    mandatory_substring = mandatory_substring      # 'nuc_90__cyto_200__psfz_350__psfyx_160__ts_auto'  # 'nuc_90__cyto_200__psfz_350__psfyx_120__ts_500'\n",
    "    return list_dirs, list_labels, plot_title_suffix, mandatory_substring\n"
   ]
  },
  {
   "cell_type": "code",
   "execution_count": 8,
   "metadata": {},
   "outputs": [],
   "source": [
    "def A549_NFKB_AB_488_COX2(mandatory_substring):\n",
    "    list_dirs=(\n",
    "    'smFISH_images/Linda_smFISH_images/Confocal/20221102/A549_NFKB_AB_488_COX2-Cy5_IL-1B_60min_woDEX_A4',\n",
    "    'smFISH_images/Linda_smFISH_images/Confocal/20221102/A549_NFKB_AB_488_COX2-Cy5_IL-1B_60min_DEX_60min_B4',\n",
    "    'smFISH_images/Linda_smFISH_images/Confocal/20221102/A549_NFKB_AB_488_COX2-Cy5_IL-1B_60min_DEX_120min_C4')\n",
    "    list_labels = [ 'IL1B_60min','IL1B_60min_DEX_60min','IL1B_60min_DEX_120min']\n",
    "    plot_title_suffix= \"A549_NFKB_AB_488_COX2\"\n",
    "    mandatory_substring = mandatory_substring      # 'nuc_90__cyto_200__psfz_350__psfyx_160__ts_auto'\n",
    "    return list_dirs, list_labels, plot_title_suffix, mandatory_substring"
   ]
  },
  {
   "cell_type": "code",
   "execution_count": 9,
   "metadata": {},
   "outputs": [],
   "source": [
    "list_dirs=(\n",
    "'smFISH_images/Linda_smFISH_images/Confocal/20221102/A549_NFKB_AB_488_COX2-Cy5_IL-1B_60min_woDEX_A4',\n",
    "'smFISH_images/Linda_smFISH_images/Confocal/20221102/A549_NFKB_AB_488_COX2-Cy5_IL-1B_60min_DEX_60min_B4',\n",
    "'smFISH_images/Linda_smFISH_images/Confocal/20221102/A549_NFKB_AB_488_COX2-Cy5_IL-1B_60min_DEX_120min_C4',\n",
    ")"
   ]
  },
  {
   "cell_type": "code",
   "execution_count": 10,
   "metadata": {},
   "outputs": [],
   "source": [
    "def A549_NFKBIA(mandatory_substring):\n",
    "    list_dirs=(\n",
    "    'smFISH_images/Linda_smFISH_images/Confocal/20220927/A549_NFKBIA_woSTM',\n",
    "    'smFISH_images/Linda_smFISH_images/Confocal/20220927/A549_NFKBIA_10minDEX',\n",
    "    'smFISH_images/Linda_smFISH_images/Confocal/20220927/A549_NFKBIA_20minDEX',\n",
    "    'smFISH_images/Linda_smFISH_images/Confocal/20220928/A549_NFKBIA_30minDEX',\n",
    "    'smFISH_images/Linda_smFISH_images/Confocal/20220928/A549_NFKBIA_40minDEX',\n",
    "    'smFISH_images/Linda_smFISH_images/Confocal/20220928/A549_NFKBIA_50minDEX',\n",
    "    'smFISH_images/Linda_smFISH_images/Confocal/20220928/A549_NFKBIA_60minDEX',\n",
    "    'smFISH_images/Linda_smFISH_images/Confocal/20220928/A549_NFKBIA_75minDEX',\n",
    "    'smFISH_images/Linda_smFISH_images/Confocal/20220928/A549_NFKBIA_90minDEX',\n",
    "    'smFISH_images/Linda_smFISH_images/Confocal/20220928/A549_NFKBIA_120minDEX',\n",
    "    'smFISH_images/Linda_smFISH_images/Confocal/20220928/A549_NFKBIA_150minDEX',\n",
    "    'smFISH_images/Linda_smFISH_images/Confocal/20220930/A549_NFKBIA_180minDEX')\n",
    "    list_labels = [ 'woSTM','10minDEX','20minDEX','30minDEX','40minDEX','50minDEX','60minDEX','75minDEX','90minDEX','120minDEX','150minDEX','180minDEX']\n",
    "    plot_title_suffix= \"A549_NFKBIA\"\n",
    "    mandatory_substring = mandatory_substring      # 'nuc_80__cyto_200__psfz_350__psfyx_160__ts_auto'\n",
    "    return list_dirs, list_labels, plot_title_suffix, mandatory_substring\n"
   ]
  },
  {
   "cell_type": "code",
   "execution_count": 11,
   "metadata": {},
   "outputs": [],
   "source": [
    "def IkBa_NFkB_list(mandatory_substring):\n",
    "    list_dirs=(\n",
    "    'smFISH_images/Linda_smFISH_images/Confocal/20221027/A549_NFKB_AB_488_IKBA-Cy5_woSTM_A1',\n",
    "    'smFISH_images/Linda_smFISH_images/Confocal/20221031/A549_NFKB_AB_488_IKBA-Cy5_DEX_60min_woIL-1B_A2',\n",
    "    'smFISH_images/Linda_smFISH_images/Confocal/20221031/A549_NFKB_AB_488_IKBA-Cy5_DEX_120min_woIL-1B_A3',\n",
    "    'smFISH_images/Linda_smFISH_images/Confocal/20221031/A549_NFKB_AB_488_IKBA-Cy5_IL-1B_20min_woDEX_B1',\n",
    "    'smFISH_images/Linda_smFISH_images/Confocal/20221031/A549_NFKB_AB_488_IKBA-Cy5_IL-1B_20min_DEX_60min_B2',\n",
    "    'smFISH_images/Linda_smFISH_images/Confocal/20221101/A549_NFKB_AB_488_IKBA-Cy5_IL-1B_20min_DEX_120min_B3',\n",
    "    'smFISH_images/Linda_smFISH_images/Confocal/20221027/A549_NFKB_AB_488_IKBA-Cy5_IL-1B_60min_woDEX_C1',\n",
    "    'smFISH_images/Linda_smFISH_images/Confocal/20221101/A549_NFKB_AB_488_IKBA-Cy5_IL-1B_60min_DEX_60min_C2',\n",
    "    'smFISH_images/Linda_smFISH_images/Confocal/20221101/A549_NFKB_AB_488_IKBA-Cy5_IL-1B_60min_DEX_120min_C3' )\n",
    "    list_labels = [ 'A1','A2','A3','B1','B2','B3','C1','C2','C3']\n",
    "    plot_title_subfix= \"IkBa and NFkB\"\n",
    "    mandatory_substring = mandatory_substring #'nuc_90__cyto_200__psfz_350__psfyx_120'\n",
    "    return list_dirs, list_labels, plot_title_subfix, mandatory_substring"
   ]
  },
  {
   "cell_type": "code",
   "execution_count": 12,
   "metadata": {},
   "outputs": [],
   "source": [
    "def COX2_NFkB_list(mandatory_substring):\n",
    "    list_dirs=(\n",
    "    'smFISH_images/Linda_smFISH_images/Confocal/20221102/A549_NFKB_AB_488_COX2-Cy5_IL-1B_60min_woDEX_A4',\n",
    "    'smFISH_images/Linda_smFISH_images/Confocal/20221102/A549_NFKB_AB_488_COX2-Cy5_IL-1B_60min_DEX_60min_B4',\n",
    "    'smFISH_images/Linda_smFISH_images/Confocal/20221102/A549_NFKB_AB_488_COX2-Cy5_IL-1B_60min_DEX_120min_C4')\n",
    "    list_labels = [ 'A4','B4','C4']\n",
    "    plot_title_subfix= \"COX-2 and NFkB\"\n",
    "    mandatory_substring = mandatory_substring #'nuc_91__cyto_201__psfz_350__psfyx_160'\n",
    "    return list_dirs, list_labels, plot_title_subfix, mandatory_substring"
   ]
  },
  {
   "cell_type": "markdown",
   "metadata": {},
   "source": [
    "----\n",
    "\n",
    "# Running the codes\n",
    "\n",
    "----"
   ]
  },
  {
   "cell_type": "code",
   "execution_count": 13,
   "metadata": {},
   "outputs": [],
   "source": [
    "# To download data from NAS it is necessary to use CSU network or use the CSU VPN.\n",
    "#list_dirs, list_labels, plot_title_suffix, mandatory_substring = A549_COX2(mandatory_substring='nuc_90__cyto_200__psfz_350__psfyx_110__ts_300')\n",
    "\n",
    "#list_dirs, list_labels, plot_title_suffix, mandatory_substring = A549_NFKB_AB_488_IKBA(mandatory_substring='nuc_90__cyto_200__psfz_350__psfyx_120__ts_500')\n",
    "\n",
    "\n",
    "\n",
    "\n",
    "\n",
    "list_dirs, list_labels, plot_title_suffix, mandatory_substring = COX2_NFkB_list(mandatory_substring='nuc_91__cyto_201__psfz_350__psfyx_160')\n",
    "\n",
    "#list_dirs, list_labels, plot_title_suffix, mandatory_substring = A549_NFKBIA(mandatory_substring='nuc_90__cyto_200__psfz_350__psfyx_120__ts_500')\n",
    "\n",
    "#list_dirs, list_labels, plot_title_suffix, mandatory_substring = Huys_short(mandatory_substring='nuc_71__cyto_0__psfz_350__psfyx_160__ts_400_550')\n",
    "\n",
    "\n",
    "#list_dirs, list_labels, plot_title_subfix, mandatory_substring = IkBa_NFkB_list ('nuc_90__cyto_200__psfz_350__psfyx_120') \n",
    "\n",
    "\n",
    "#list_dirs, list_labels, plot_title_suffix, mandatory_substring = Huys_long(mandatory_substring='nuc_180__cyto_0__psfz_350__psfyx_120__ts_auto')\n",
    "\n",
    "\n",
    "minimal_TS_size = 3 # Just for the plotting\n",
    "connect_to_NAS = True\n"
   ]
  },
  {
   "cell_type": "markdown",
   "metadata": {},
   "source": [
    "## Connecting to NAS and extracting data"
   ]
  },
  {
   "cell_type": "code",
   "execution_count": 14,
   "metadata": {},
   "outputs": [
    {
     "name": "stdout",
     "output_type": "stream",
     "text": [
      "Connection established\n",
      "Connection established\n",
      "Connection established\n"
     ]
    },
    {
     "ename": "ValueError",
     "evalue": "max() arg is an empty sequence",
     "output_type": "error",
     "traceback": [
      "\u001b[0;31m---------------------------------------------------------------------------\u001b[0m",
      "\u001b[0;31mValueError\u001b[0m                                Traceback (most recent call last)",
      "\u001b[1;32m/home/luisub/Desktop/FISH_Processing/notebooks/FISH_data_interpretaton.ipynb Cell 22\u001b[0m in \u001b[0;36m<module>\u001b[0;34m\u001b[0m\n\u001b[1;32m      <a href='vscode-notebook-cell://ssh-remote%2B7b22686f73744e616d65223a2253636f74745f4c756973227d/home/luisub/Desktop/FISH_Processing/notebooks/FISH_data_interpretaton.ipynb#X25sdnNjb2RlLXJlbW90ZQ%3D%3D?line=7'>8</a>\u001b[0m list_spots_total, list_spots_nuc, list_spots_cytosol, list_number_cells, list_transcription_sites, list_cell_size, list_dataframes, list_nuc_size \u001b[39m=\u001b[39m fa\u001b[39m.\u001b[39mUtilities\u001b[39m.\u001b[39mextracting_data_for_each_df_in_directory(  list_local_folders\u001b[39m=\u001b[39mlist_local_folders,current_dir\u001b[39m=\u001b[39mcurrent_dir,spot_type_selected\u001b[39m=\u001b[39m\u001b[39m0\u001b[39m,minimal_TS_size\u001b[39m=\u001b[39mminimal_TS_size)\n\u001b[1;32m      <a href='vscode-notebook-cell://ssh-remote%2B7b22686f73744e616d65223a2253636f74745f4c756973227d/home/luisub/Desktop/FISH_Processing/notebooks/FISH_data_interpretaton.ipynb#X25sdnNjb2RlLXJlbW90ZQ%3D%3D?line=8'>9</a>\u001b[0m \u001b[39m# Final dataframes for nuc, cyto and total spots\u001b[39;00m\n\u001b[0;32m---> <a href='vscode-notebook-cell://ssh-remote%2B7b22686f73744e616d65223a2253636f74745f4c756973227d/home/luisub/Desktop/FISH_Processing/notebooks/FISH_data_interpretaton.ipynb#X25sdnNjb2RlLXJlbW90ZQ%3D%3D?line=9'>10</a>\u001b[0m df_all \u001b[39m=\u001b[39m fa\u001b[39m.\u001b[39;49mUtilities\u001b[39m.\u001b[39;49mconvert_list_to_df (list_number_cells, list_spots_total, list_labels, remove_extreme_values\u001b[39m=\u001b[39;49m \u001b[39mFalse\u001b[39;49;00m)\n\u001b[1;32m     <a href='vscode-notebook-cell://ssh-remote%2B7b22686f73744e616d65223a2253636f74745f4c756973227d/home/luisub/Desktop/FISH_Processing/notebooks/FISH_data_interpretaton.ipynb#X25sdnNjb2RlLXJlbW90ZQ%3D%3D?line=10'>11</a>\u001b[0m df_cyto \u001b[39m=\u001b[39m fa\u001b[39m.\u001b[39mUtilities\u001b[39m.\u001b[39mconvert_list_to_df (list_number_cells, list_spots_cytosol, list_labels, remove_extreme_values\u001b[39m=\u001b[39m \u001b[39mFalse\u001b[39;00m)\n\u001b[1;32m     <a href='vscode-notebook-cell://ssh-remote%2B7b22686f73744e616d65223a2253636f74745f4c756973227d/home/luisub/Desktop/FISH_Processing/notebooks/FISH_data_interpretaton.ipynb#X25sdnNjb2RlLXJlbW90ZQ%3D%3D?line=11'>12</a>\u001b[0m df_nuc \u001b[39m=\u001b[39m fa\u001b[39m.\u001b[39mUtilities\u001b[39m.\u001b[39mconvert_list_to_df (list_number_cells, list_spots_nuc, list_labels, remove_extreme_values\u001b[39m=\u001b[39m \u001b[39mFalse\u001b[39;00m)\n",
      "File \u001b[0;32m~/Desktop/FISH_Processing/src/fish_analyses.py:2510\u001b[0m, in \u001b[0;36mUtilities.convert_list_to_df\u001b[0;34m(list_number_cells, list_spots, list_labels, remove_extreme_values)\u001b[0m\n\u001b[1;32m   2508\u001b[0m \u001b[39mdef\u001b[39;00m \u001b[39mconvert_list_to_df\u001b[39m (list_number_cells, list_spots, list_labels, remove_extreme_values\u001b[39m=\u001b[39m \u001b[39mFalse\u001b[39;00m) :\n\u001b[1;32m   2509\u001b[0m     \u001b[39m# defining the dimensions for the array.\u001b[39;00m\n\u001b[0;32m-> 2510\u001b[0m     max_number_cells \u001b[39m=\u001b[39m \u001b[39mmax\u001b[39;49m(list_number_cells)\n\u001b[1;32m   2511\u001b[0m     number_conditions \u001b[39m=\u001b[39m \u001b[39mlen\u001b[39m(list_number_cells)\n\u001b[1;32m   2512\u001b[0m     \u001b[39m# creating an array with the same dimensions\u001b[39;00m\n",
      "\u001b[0;31mValueError\u001b[0m: max() arg is an empty sequence"
     ]
    }
   ],
   "source": [
    "if connect_to_NAS == True:\n",
    "    # Reading the data from NAS, unziping files, organizing data as single dataframe for comparison. \n",
    "    list_local_files = fa.Utilities.read_zipfiles_from_NAS(list_dirs,path_to_config_file,share_name, mandatory_substring, local_folder_path)\n",
    "    list_local_folders = fa.Utilities.unzip_local_folders(list_local_files,local_folder_path)\n",
    "else: \n",
    "    list_local_folders = list_dirs # Use this line to process files from a local repository\n",
    "# Extracting data from each repository\n",
    "list_spots_total, list_spots_nuc, list_spots_cytosol, list_number_cells, list_transcription_sites, list_cell_size, list_dataframes, list_nuc_size = fa.Utilities.extracting_data_for_each_df_in_directory(  list_local_folders=list_local_folders,current_dir=current_dir,spot_type_selected=0,minimal_TS_size=minimal_TS_size)\n",
    "# Final dataframes for nuc, cyto and total spots\n",
    "df_all = fa.Utilities.convert_list_to_df (list_number_cells, list_spots_total, list_labels, remove_extreme_values= False)\n",
    "df_cyto = fa.Utilities.convert_list_to_df (list_number_cells, list_spots_cytosol, list_labels, remove_extreme_values= False)\n",
    "df_nuc = fa.Utilities.convert_list_to_df (list_number_cells, list_spots_nuc, list_labels, remove_extreme_values= False)\n",
    "\n",
    "\n",
    "df_transcription_sites = fa.Utilities.convert_list_to_df (list_number_cells, list_transcription_sites, list_labels, remove_extreme_values= False)\n"
   ]
  },
  {
   "cell_type": "code",
   "execution_count": null,
   "metadata": {},
   "outputs": [],
   "source": [
    "print('number of cells in each dataset: ', list_number_cells)"
   ]
  },
  {
   "cell_type": "markdown",
   "metadata": {},
   "source": [
    "## Plotting"
   ]
  },
  {
   "cell_type": "code",
   "execution_count": null,
   "metadata": {},
   "outputs": [],
   "source": [
    "# creating a folder to store all plots\n",
    "destination_folder = pathlib.Path().absolute().joinpath('results', 'dist_'+plot_title_suffix+'__'+mandatory_substring)"
   ]
  },
  {
   "cell_type": "code",
   "execution_count": null,
   "metadata": {},
   "outputs": [],
   "source": [
    "# Plotting for cytosol and nucleus\n",
    "plot_title_complete = 'all_spots__'+plot_title_suffix\n",
    "fa.dist_plots(df_all, plot_title_complete, destination_folder)"
   ]
  },
  {
   "cell_type": "code",
   "execution_count": null,
   "metadata": {},
   "outputs": [],
   "source": [
    "# Plotting for all Cytosol only\n",
    "plot_title_cyto = 'cyto__'+plot_title_suffix\n",
    "#fa.dist_plots(df_cyto, plot_title_cyto, destination_folder)"
   ]
  },
  {
   "cell_type": "code",
   "execution_count": null,
   "metadata": {},
   "outputs": [],
   "source": [
    "# Plotting for all nucleus\n",
    "plot_title_nuc = 'nuc__'+plot_title_suffix\n",
    "fa.dist_plots(df_nuc, plot_title_nuc, destination_folder)"
   ]
  },
  {
   "cell_type": "code",
   "execution_count": null,
   "metadata": {},
   "outputs": [],
   "source": [
    "# Plot that compares nuc, cyto, and spots in all cell.\n",
    "plot_title_comparing = 'comparing__'+plot_title_suffix\n",
    "fa.plot_comparing_df(df_all,df_cyto,df_nuc,plot_title_comparing,destination_folder)"
   ]
  },
  {
   "cell_type": "code",
   "execution_count": null,
   "metadata": {},
   "outputs": [],
   "source": [
    "# Plotting for TS\n",
    "plot_title = 'TS__'+plot_title_suffix\n",
    "fa.plot_TS(df_transcription_sites,plot_title,destination_folder,minimal_TS_size,remove_zeros=True)"
   ]
  },
  {
   "cell_type": "code",
   "execution_count": null,
   "metadata": {},
   "outputs": [],
   "source": [
    "plot_title = 'TS_stacked__'+plot_title_suffix\n",
    "fa.plot_TS_bar_stacked(df_transcription_sites,plot_title,destination_folder,minimal_TS_size,remove_zeros=True)"
   ]
  },
  {
   "cell_type": "code",
   "execution_count": null,
   "metadata": {},
   "outputs": [],
   "source": [
    "number_conditions = len(list_cell_size)\n",
    "for i in range(len(list_labels)):\n",
    "    x= list_cell_size[i]\n",
    "    y = list_spots_cytosol[i]\n",
    "    title_plot='scatter_cyto_'+list_labels[i]\n",
    "    fa.plot_scatter_spots_cell_size(x,y,title_plot,destination_folder)"
   ]
  },
  {
   "cell_type": "code",
   "execution_count": null,
   "metadata": {},
   "outputs": [],
   "source": [
    "number_conditions = len(list_cell_size)\n",
    "for i in range(len(list_labels)):\n",
    "    x= list_nuc_size[i]\n",
    "    y = list_spots_nuc[i]\n",
    "    title_plot='scatter_nuc_'+list_labels[i]\n",
    "    fa.plot_scatter_spots_cell_size(x,y,title_plot,destination_folder)"
   ]
  },
  {
   "attachments": {},
   "cell_type": "markdown",
   "metadata": {},
   "source": [
    "# Cell and spot intensity"
   ]
  },
  {
   "cell_type": "code",
   "execution_count": null,
   "metadata": {},
   "outputs": [],
   "source": [
    "# extracting nuclear intensity\n",
    "\n",
    "column_with_intensity = 'nuc_int_ch_1'\n",
    "\n",
    "list_cell_int = []\n",
    "for i in range (len(list_dataframes)):\n",
    "    list_cell_int.append(   fa.Utilities.function_get_df_columns_as_array(df=list_dataframes[i], colum_to_extract=column_with_intensity, extraction_type='values_per_cell')  )\n"
   ]
  },
  {
   "cell_type": "code",
   "execution_count": null,
   "metadata": {},
   "outputs": [],
   "source": [
    "df_cell_int = fa.Utilities.convert_list_to_df (list_number_cells, list_cell_int, list_labels, remove_extreme_values= False)"
   ]
  },
  {
   "cell_type": "code",
   "execution_count": null,
   "metadata": {},
   "outputs": [],
   "source": [
    "# This code creates a single column for all conditions and adds a 'location' column.\n",
    "df_all_melt = df_all.melt()\n",
    "\n",
    "y_value_label = 'Spot_Count'\n",
    "x_value_label = 'Intensity'\n",
    "\n",
    "df_all_melt.rename(columns={'value' : y_value_label}, inplace=True)\n",
    "\n",
    "df_int_melt = df_cell_int.melt()\n",
    "df_int_melt.rename(columns={'value' : x_value_label}, inplace=True)\n",
    "\n",
    "data_frames_list = [df_all_melt, df_int_melt[x_value_label]]\n",
    "data_frames = pd.concat(data_frames_list, axis=1)\n",
    "data_frames"
   ]
  },
  {
   "cell_type": "code",
   "execution_count": null,
   "metadata": {},
   "outputs": [],
   "source": [
    "# Plotting\n",
    "plt.figure(figsize=(12,7))\n",
    "sns.set(font_scale = 1.5)\n",
    "b= sns.scatterplot( data = data_frames, x = x_value_label, y = y_value_label, hue = 'variable',  alpha = 0.9, palette = 'Set1')\n",
    "b.set_xlabel(x_value_label)\n",
    "b.set_ylabel(y_value_label)\n",
    "b.set_xlim(800,2500)\n",
    "#b.set_ylim(1,500)\n",
    "b.set_title('Channel_intensity')\n",
    "plt.xticks(rotation=45, ha=\"right\")\n",
    "#name_plot = plot_title +'.png'\n",
    "#plt.savefig(name_plot, transparent=False)\n",
    "plt.show()"
   ]
  },
  {
   "cell_type": "markdown",
   "metadata": {},
   "source": [
    "# Converting Dataframe to use in Brian's Matlab code."
   ]
  },
  {
   "cell_type": "markdown",
   "metadata": {},
   "source": [
    "### Use the following  code if only one FISH channel is used."
   ]
  },
  {
   "cell_type": "code",
   "execution_count": null,
   "metadata": {},
   "outputs": [],
   "source": [
    "# Exporting data to CSV. \n",
    "# ColumnA = time, \n",
    "# ColumnB= #RNA in nucleus, \n",
    "# ColumnC = #RNA in cytoplasm, \n",
    "# ColumnD = total RNA).\n",
    "num_time_points = len(list_spots_total)\n",
    "num_columns = 4 # time, RNA_nuc, RNA_cyto, total\n",
    "array_data_spots =  np.empty(shape=(0, num_columns))\n",
    "\n",
    "for i in range(0, num_time_points):\n",
    "    num_cells = len(list_spots_total[i])\n",
    "    temp_array_data_spots = np.zeros((num_cells,num_columns))\n",
    "    temp_array_data_spots[:,0] = i\n",
    "    temp_array_data_spots[:,1] = list_spots_nuc[i] # nuc\n",
    "    temp_array_data_spots[:,2] = list_spots_cytosol[i] # cyto\n",
    "    temp_array_data_spots[:,3] = list_spots_total[i] # all spots\n",
    "    array_data_spots = np.append(array_data_spots, temp_array_data_spots, axis=0)\n",
    "array_data_spots.shape\n",
    "\n",
    "# final data frame with format for the model\n",
    "df_for_model = pd.DataFrame(data=array_data_spots, columns =['time_index', 'RNA_nuc','RNA_cyto','RNA_total'] )\n",
    "new_dtypes = {'time_index':int, 'RNA_nuc':int, 'RNA_cyto':int,'RNA_total':int}\n",
    "df_for_model = df_for_model.astype(new_dtypes)\n",
    "\n",
    "# Save to csv\n",
    "df_for_model.to_csv(pathlib.Path().absolute().joinpath(destination_folder,plot_title_suffix+'.csv'))"
   ]
  },
  {
   "cell_type": "code",
   "execution_count": null,
   "metadata": {},
   "outputs": [],
   "source": [
    "# remove temporary folder\n",
    "shutil.rmtree(local_folder_path)"
   ]
  },
  {
   "cell_type": "code",
   "execution_count": null,
   "metadata": {},
   "outputs": [],
   "source": []
  }
 ],
 "metadata": {
  "interpreter": {
   "hash": "f123aec772437107f61ad48bdc3e74202fc8f652e2fa44805dd8339e0a72f809"
  },
  "kernelspec": {
   "display_name": "Python 3.8.12 ('FISH_processing')",
   "language": "python",
   "name": "python3"
  },
  "language_info": {
   "codemirror_mode": {
    "name": "ipython",
    "version": 3
   },
   "file_extension": ".py",
   "mimetype": "text/x-python",
   "name": "python",
   "nbconvert_exporter": "python",
   "pygments_lexer": "ipython3",
   "version": "3.8.12"
  },
  "orig_nbformat": 4
 },
 "nbformat": 4,
 "nbformat_minor": 2
}
