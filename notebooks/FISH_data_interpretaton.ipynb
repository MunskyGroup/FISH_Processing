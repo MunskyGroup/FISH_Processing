{
 "cells": [
  {
   "cell_type": "markdown",
   "metadata": {},
   "source": [
    "# FISH - Data interpretation - A Python interactive notebook to interpret FISH data\n",
    "\n",
    "```\n",
    "Author: Luis U. Aguilera\n",
    "Contact Info: luis.aguilera@colostate.edu\n",
    "\n",
    "Copyright (c) 2021 Munsky Group \n",
    "Colorado State University \n",
    "Licensed under BSD 3-Clause License.\n",
    "\n",
    "```"
   ]
  },
  {
   "cell_type": "markdown",
   "metadata": {},
   "source": [
    "### Notebook summary \n",
    "\n",
    "\n",
    "- Load a directory with data quantified by FISH_pipeline.ipynb\n",
    "- Establish a connection to Network-attached storage (NAS) using [pysmb](https://github.com/miketeo/pysmb)\n",
    "- Compares quantifications for multiple conditions in a single plot\n",
    "- Compares mRNA spots in the  nucleus, cytosol and the comple cell.\n",
    "  \n",
    "----"
   ]
  },
  {
   "cell_type": "markdown",
   "metadata": {},
   "source": [
    "<img src= /home/luisub/Desktop/FISH_Processing/docs/images/code_architecture.png alt=\"drawing\" width=\"1000\"/>"
   ]
  },
  {
   "cell_type": "markdown",
   "metadata": {},
   "source": [
    "## Importing libraries"
   ]
  },
  {
   "cell_type": "code",
   "execution_count": null,
   "metadata": {},
   "outputs": [],
   "source": [
    "import sys\n",
    "import pathlib\n",
    "import shutil\n",
    "import warnings\n",
    "warnings.filterwarnings(\"ignore\")"
   ]
  },
  {
   "cell_type": "markdown",
   "metadata": {},
   "source": [
    "## Defining paths"
   ]
  },
  {
   "cell_type": "code",
   "execution_count": null,
   "metadata": {},
   "outputs": [],
   "source": [
    "# Defining directories\n",
    "current_dir = pathlib.Path().absolute()\n",
    "fa_dir = current_dir.parents[0].joinpath('src')\n",
    "# Importing fish_analyses module\n",
    "sys.path.append(str(fa_dir))\n",
    "import fish_analyses as fa\n",
    "# Local folder path\n",
    "local_folder_path = pathlib.Path().absolute().joinpath('temp_zip_analyses')\n",
    "local_folder_path\n",
    "# Path to credentials\n",
    "desktop_path = pathlib.Path.home()/'Desktop'\n",
    "# Connection to munsky-nas\n",
    "path_to_config_file = desktop_path.joinpath('config.yml')\n",
    "share_name = 'share'"
   ]
  },
  {
   "cell_type": "markdown",
   "metadata": {},
   "source": [
    "## List of folders to process"
   ]
  },
  {
   "cell_type": "code",
   "execution_count": null,
   "metadata": {},
   "outputs": [],
   "source": [
    "def Huys_short(mandatory_substring):\n",
    "    list_dirs=(\n",
    "    'smFISH_images/Linda_smFISH_images/Confocal/20220714/MS2-CY5_Cyto543_560_woStim',\n",
    "    'smFISH_images/Linda_smFISH_images/Confocal/20220714/MS2-CY5_Cyto543_560_18minTPL_5uM' ,\n",
    "    'smFISH_images/Linda_smFISH_images/Confocal/20220714/MS2-CY5_Cyto543_560_5hTPL_5uM' )\n",
    "    list_labels = [ 'woSTM','18minTPL_5uM','5hTPL_5uM']\n",
    "    plot_title_suffix= \"MS2_CY5_TPL_short\"\n",
    "    mandatory_substring = mandatory_substring      #'nuc_80__cyto_0__psfz_350__psfyx_160__ts_220'\n",
    "    return list_dirs, list_labels, plot_title_suffix, mandatory_substring"
   ]
  },
  {
   "cell_type": "code",
   "execution_count": null,
   "metadata": {},
   "outputs": [],
   "source": [
    "def dusp__dirs(mandatory_substring):\n",
    "    list_dirs=(\n",
    "    'smFISH_images/Eric_smFISH_images/20220225/DUSP1_Dex_0min_20220224',\n",
    "    'smFISH_images/Eric_smFISH_images/20220225/DUSP1_Dex_10min_20220224',   \n",
    "    'smFISH_images/Eric_smFISH_images/20220225/DUSP1_Dex_20min_20220224',\n",
    "    'smFISH_images/Eric_smFISH_images/20220225/DUSP1_Dex_30min_20220224',\n",
    "    'smFISH_images/Eric_smFISH_images/20220303/DUSP1_Dex_40min_20220224' ,  \n",
    "    'smFISH_images/Eric_smFISH_images/20220303/DUSP1_Dex_50min_20220224',\n",
    "    'smFISH_images/Eric_smFISH_images/20220304/DUSP1_Dex_60min_20220224',\n",
    "    'smFISH_images/Eric_smFISH_images/20220304/DUSP1_Dex_75min_20220224',\n",
    "    'smFISH_images/Eric_smFISH_images/20220305/DUSP1_Dex_90min_20220224',\n",
    "    'smFISH_images/Eric_smFISH_images/20220305/DUSP1_Dex_120min_20220224',\n",
    "    'smFISH_images/Eric_smFISH_images/20220305/DUSP1_Dex_150min_20220224',\n",
    "    'smFISH_images/Eric_smFISH_images/20220305/DUSP1_Dex_180min_20220224' )\n",
    "    list_labels = [ 'wo','10min','20min','30min','40min','50min','60min','75min','90min','120min','150min','180min']\n",
    "    plot_title_suffix= \"DUSP1_Dex\"\n",
    "    mandatory_substring = mandatory_substring #'nuc_100__cyto_220__psfz_300__psfyx_105'\n",
    "    return list_dirs, list_labels, plot_title_suffix, mandatory_substring"
   ]
  },
  {
   "cell_type": "markdown",
   "metadata": {},
   "source": [
    "----\n",
    "\n",
    "# Running the codes\n",
    "\n",
    "----"
   ]
  },
  {
   "cell_type": "code",
   "execution_count": null,
   "metadata": {},
   "outputs": [],
   "source": [
    "list_dirs, list_labels, plot_title_suffix, mandatory_substring = Huys_short(mandatory_substring='nuc_70__cyto_0__psfz_350__psfyx_160__ts_550_400')\n",
    "#list_dirs, list_labels, plot_title_suffix, mandatory_substring = dusp__dirs(mandatory_substring='nuc_100__cyto_220__psfz_320__psfyx_120')\n",
    "\n",
    "minimum_spots_cluster = 3 # Just for the plotting\n",
    "connect_to_NAS = True\n",
    "\n",
    "# creating a folder to store all plots\n",
    "destination_folder = pathlib.Path().absolute().joinpath('results', 'dist_'+plot_title_suffix+'__'+mandatory_substring)\n"
   ]
  },
  {
   "cell_type": "markdown",
   "metadata": {},
   "source": [
    "## Connecting to NAS and extracting data"
   ]
  },
  {
   "cell_type": "code",
   "execution_count": null,
   "metadata": {},
   "outputs": [],
   "source": [
    "%%capture\n",
    "df_all, df_cyto, df_nuc, df_transcription_sites, list_spots_total, list_spots_nuc, list_spots_cytosol, list_number_cells, list_transcription_sites, list_cell_size, list_dataframes, list_nuc_size, list_cyto_size  = fa.Utilities.extract_data_interpretation(list_dirs, path_to_config_file,current_dir, mandatory_substring, local_folder_path, list_labels, share_name='share',minimum_spots_cluster=minimum_spots_cluster, connect_to_NAS=connect_to_NAS, spot_type=0, remove_extreme_values=False)\n"
   ]
  },
  {
   "cell_type": "markdown",
   "metadata": {},
   "source": [
    "## Plotting"
   ]
  },
  {
   "cell_type": "code",
   "execution_count": null,
   "metadata": {},
   "outputs": [],
   "source": [
    "fa.Plots.plot_interpretation_distributions (df_all, df_cyto, df_nuc, destination_folder, plot_title_suffix=plot_title_suffix)"
   ]
  },
  {
   "cell_type": "code",
   "execution_count": null,
   "metadata": {},
   "outputs": [],
   "source": [
    "# Plot that compares nuc, cyto, and spots in all cell.\n",
    "plot_title_comparing = 'comparing__'+plot_title_suffix\n",
    "fa.Plots.plot_comparing_df(df_all,df_cyto,df_nuc,plot_title_comparing,destination_folder)"
   ]
  },
  {
   "cell_type": "code",
   "execution_count": null,
   "metadata": {},
   "outputs": [],
   "source": [
    "# Plotting for TS\n",
    "plot_title = 'TS__'+plot_title_suffix\n",
    "fa.Plots.plot_TS(df_transcription_sites,plot_title,destination_folder,minimum_spots_cluster,remove_zeros=True)"
   ]
  },
  {
   "cell_type": "code",
   "execution_count": null,
   "metadata": {},
   "outputs": [],
   "source": [
    "plot_title = 'TS_stacked__'+plot_title_suffix\n",
    "fa.Plots.plot_TS_bar_stacked(df_transcription_sites,plot_title,destination_folder,minimum_spots_cluster,remove_zeros=True)"
   ]
  },
  {
   "attachments": {},
   "cell_type": "markdown",
   "metadata": {},
   "source": [
    "# Cell and spot intensity"
   ]
  },
  {
   "cell_type": "code",
   "execution_count": null,
   "metadata": {},
   "outputs": [],
   "source": [
    "if 'nuc_int_ch_0' in list_dataframes[0].columns:\n",
    "    column_name = 'nuc_int'\n",
    "    fa.Plots.compare_intensities_spots_interpretation(df_all, list_dataframes, list_number_cells, list_labels, plot_title_suffix, destination_folder, column_name = column_name)"
   ]
  },
  {
   "cell_type": "markdown",
   "metadata": {},
   "source": [
    "# Converting Dataframe to use in Brian's Matlab code."
   ]
  },
  {
   "cell_type": "markdown",
   "metadata": {},
   "source": [
    "### Use the following  code if only one FISH channel is used."
   ]
  },
  {
   "cell_type": "code",
   "execution_count": null,
   "metadata": {},
   "outputs": [],
   "source": [
    "df_for_model = fa.Utilities.export_data_to_CSV(list_spots_total, list_spots_nuc, list_spots_cytosol, destination_folder, plot_title_suffix)"
   ]
  },
  {
   "cell_type": "code",
   "execution_count": null,
   "metadata": {},
   "outputs": [],
   "source": [
    "# remove temporary folder\n",
    "shutil.rmtree(local_folder_path)"
   ]
  },
  {
   "cell_type": "code",
   "execution_count": null,
   "metadata": {},
   "outputs": [],
   "source": []
  }
 ],
 "metadata": {
  "interpreter": {
   "hash": "f123aec772437107f61ad48bdc3e74202fc8f652e2fa44805dd8339e0a72f809"
  },
  "kernelspec": {
   "display_name": "Python 3.8.12 ('FISH_processing')",
   "language": "python",
   "name": "python3"
  },
  "language_info": {
   "codemirror_mode": {
    "name": "ipython",
    "version": 3
   },
   "file_extension": ".py",
   "mimetype": "text/x-python",
   "name": "python",
   "nbconvert_exporter": "python",
   "pygments_lexer": "ipython3",
   "version": "3.8.12"
  },
  "orig_nbformat": 4
 },
 "nbformat": 4,
 "nbformat_minor": 2
}
