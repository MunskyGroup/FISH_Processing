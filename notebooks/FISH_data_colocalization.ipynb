{
 "cells": [
  {
   "cell_type": "markdown",
   "metadata": {},
   "source": [
    "# FISH - Data interpretation - A Python interactive notebook to interpret FISH data\n",
    "\n",
    "```\n",
    "Author: Luis U. Aguilera\n",
    "Contact Info: luis.aguilera@colostate.edu\n",
    "\n",
    "Copyright (c) 2021 Munsky Group \n",
    "Colorado State University \n",
    "Licensed under BSD 3-Clause License.\n",
    "\n",
    "```"
   ]
  },
  {
   "cell_type": "markdown",
   "metadata": {},
   "source": [
    "## Importing libraries"
   ]
  },
  {
   "cell_type": "code",
   "execution_count": null,
   "metadata": {},
   "outputs": [],
   "source": [
    "import sys\n",
    "import matplotlib.pyplot as plt \n",
    "from  matplotlib.ticker import FuncFormatter\n",
    "import numpy as np \n",
    "import pandas as pd\n",
    "import pathlib\n",
    "import warnings\n",
    "import glob\n",
    "import seaborn as sns\n",
    "import zipfile\n",
    "import shutil\n",
    "import scipy.stats as stats\n",
    "import os\n",
    "warnings.filterwarnings(\"ignore\")"
   ]
  },
  {
   "cell_type": "markdown",
   "metadata": {},
   "source": [
    "## Defining paths"
   ]
  },
  {
   "cell_type": "code",
   "execution_count": null,
   "metadata": {},
   "outputs": [],
   "source": [
    "# Defining directories\n",
    "current_dir = pathlib.Path().absolute()\n",
    "fa_dir = current_dir.parents[0].joinpath('src')\n",
    "# Importing fish_analyses module\n",
    "sys.path.append(str(fa_dir))\n",
    "import fish_analyses as fa\n",
    "# Local folder path\n",
    "local_folder_path = pathlib.Path().absolute().joinpath('temp_zip_analyses')\n",
    "#local_folder_path\n",
    "# Path to credentials\n",
    "desktop_path = pathlib.Path.home()/'Desktop'\n",
    "# Connection to munsky-nas\n",
    "path_to_config_file = desktop_path.joinpath('config.yml')\n",
    "share_name = 'share'\n",
    "\n",
    "# creating a folder to store all plots\n",
    "destination_folder = pathlib.Path().absolute().joinpath('results', 'data_Huy_combinations_final_test')\n",
    "if not os.path.exists(destination_folder):\n",
    "    os.makedirs(destination_folder) "
   ]
  },
  {
   "cell_type": "code",
   "execution_count": null,
   "metadata": {},
   "outputs": [],
   "source": [
    "psf_z=350                # Theoretical size of the PSF emitted by a [rna] spot in the z plan, in nanometers\n",
    "psf_yx=160               # Theoretical size of the PSF emitted by a [rna] spot in the yx plan, in nanometers\n",
    "voxel_size_z=500         # Microscope conversion px to nanometers in the z axis.\n",
    "voxel_size_yx=160        # Microscope conversion px to nanometers in the xy axis.\n",
    "#scale = np.array ([ voxel_size_z/psf_z, voxel_size_yx/psf_yx, voxel_size_yx/psf_yx ])\n",
    "list_timepoints = [0,18,300]\n",
    "ts_distance=2\n"
   ]
  },
  {
   "cell_type": "markdown",
   "metadata": {},
   "source": [
    "## List of folders to process"
   ]
  },
  {
   "cell_type": "code",
   "execution_count": null,
   "metadata": {},
   "outputs": [],
   "source": [
    "def Huy_data(mandatory_substring):\n",
    "    list_dirs=(\n",
    "    'smFISH_images/Linda_smFISH_images/Confocal/20220714/MS2-CY5_Cyto543_560_woStim',\n",
    "    'smFISH_images/Linda_smFISH_images/Confocal/20220714/MS2-CY5_Cyto543_560_18minTPL_5uM' ,\n",
    "    'smFISH_images/Linda_smFISH_images/Confocal/20220714/MS2-CY5_Cyto543_560_5hTPL_5uM' )\n",
    "    list_labels = [ 'woSTM','18minTPL_5uM','5hTPL_5uM']\n",
    "    plot_title_suffix= \"MS2_CY5\"\n",
    "    mandatory_substring = mandatory_substring      #'nuc_71__cyto_0__psfz_350__psfyx_160__ts_550_400'\n",
    "    return list_dirs, list_labels, plot_title_suffix, mandatory_substring"
   ]
  },
  {
   "cell_type": "markdown",
   "metadata": {},
   "source": [
    "----\n",
    "\n",
    "# Running the codes\n",
    "\n",
    "----"
   ]
  },
  {
   "cell_type": "code",
   "execution_count": null,
   "metadata": {},
   "outputs": [],
   "source": [
    "mandatory_substring = 'nuc_70__cyto_0__psfz_350__psfyx_160__ts_550_400'\n",
    "int_0 = 550\n",
    "int_1 = 400"
   ]
  },
  {
   "cell_type": "markdown",
   "metadata": {},
   "source": [
    "## Connecting to NAS and extracting data"
   ]
  },
  {
   "cell_type": "code",
   "execution_count": null,
   "metadata": {},
   "outputs": [],
   "source": [
    "%%capture\n",
    "# downloading data from NAS\n",
    "list_dirs, list_labels, plot_title_suffix, mandatory_substring = Huy_data(mandatory_substring=mandatory_substring)\n",
    "list_local_files = fa.Utilities.read_zipfiles_from_NAS(list_dirs,path_to_config_file,share_name, mandatory_substring, local_folder_path)\n",
    "list_local_folders = fa.Utilities.unzip_local_folders(list_local_files,local_folder_path)\n",
    "list_dataframes = fa.Utilities.extracting_data_for_each_df_in_directory(  list_local_folders=list_local_folders, current_dir=current_dir,minimum_spots_cluster=2)[6]"
   ]
  },
  {
   "cell_type": "code",
   "execution_count": null,
   "metadata": {},
   "outputs": [],
   "source": [
    "# Iterating for each time point (experimental condition)\n",
    "# selecting one condition woSTM\n",
    "selected_dataframe = list_dataframes[0] # This selects the condidition woSTM\n",
    "df_spots_classification, df_coordinates_colocalized_spots, df_coordinates_0_only_spots, df_coordinates_1_only_spots  = fa.ColocalizationDistance(df = selected_dataframe,\n",
    "                                                                                                                                                    show_plots = False, \n",
    "                                                                                                                                                    time_point = 0, \n",
    "                                                                                                                                                    threshold_intensity_0 = int_0,\n",
    "                                                                                                                                                    threshold_intensity_1 = int_1,\n",
    "                                                                                                                                                    report_codetected_spots_in_both_channels = False,\n",
    "                                                                                                                                                    threshold_distance=ts_distance).extract_spot_classification_from_df()\n"
   ]
  },
  {
   "cell_type": "code",
   "execution_count": null,
   "metadata": {},
   "outputs": [],
   "source": [
    "raise"
   ]
  },
  {
   "cell_type": "code",
   "execution_count": null,
   "metadata": {},
   "outputs": [],
   "source": [
    "df_melted = pd.melt(df_spots_classification, id_vars = ['cell_id'], value_vars = ['num_0_only','num_1_only','num_0','num_1','num_0_1'])\n",
    "plt.figure(figsize=(10,7))\n",
    "sns.set_style(\"white\")\n",
    "color_palete = 'CMRmap'\n",
    "p_bar = sns.barplot( x = 'variable',y = 'value',data = df_melted,capsize = 0.1,palette=color_palete)\n",
    "p = sns.stripplot(data=df_melted, x = 'variable',y = 'value',size=3, color='0.5', jitter=0.2)\n",
    "# Show the plot\n",
    "p_bar.set_xlabel('Spot type')\n",
    "p_bar.set_ylabel('Number of Spots')\n",
    "p_bar.set_title('Colocalization spots')\n",
    "sns.set(font_scale = 1.5)\n",
    "plt.show()"
   ]
  },
  {
   "cell_type": "code",
   "execution_count": null,
   "metadata": {},
   "outputs": [],
   "source": []
  },
  {
   "cell_type": "code",
   "execution_count": null,
   "metadata": {},
   "outputs": [],
   "source": []
  },
  {
   "cell_type": "code",
   "execution_count": null,
   "metadata": {},
   "outputs": [],
   "source": []
  }
 ],
 "metadata": {
  "interpreter": {
   "hash": "f123aec772437107f61ad48bdc3e74202fc8f652e2fa44805dd8339e0a72f809"
  },
  "kernelspec": {
   "display_name": "Python 3.8.12 ('FISH_processing')",
   "language": "python",
   "name": "python3"
  },
  "language_info": {
   "codemirror_mode": {
    "name": "ipython",
    "version": 3
   },
   "file_extension": ".py",
   "mimetype": "text/x-python",
   "name": "python",
   "nbconvert_exporter": "python",
   "pygments_lexer": "ipython3",
   "version": "3.8.12"
  },
  "orig_nbformat": 4
 },
 "nbformat": 4,
 "nbformat_minor": 2
}
