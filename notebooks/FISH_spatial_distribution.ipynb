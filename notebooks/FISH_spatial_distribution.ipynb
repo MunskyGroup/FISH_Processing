{
 "cells": [
  {
   "cell_type": "code",
   "execution_count": null,
   "metadata": {},
   "outputs": [],
   "source": [
    "# Importing libraries\n",
    "import sys\n",
    "import pathlib\n",
    "import warnings\n",
    "from skimage.io import imread\n",
    "import numpy as np\n",
    "import matplotlib.pyplot as plt\n",
    "from skimage.measure import find_contours\n",
    "from scipy import signal\n",
    "import scipy.io\n",
    "from scipy import ndimage\n",
    "import math\n",
    "#skimage.morphology.area_closing\n",
    "warnings.filterwarnings(\"ignore\")"
   ]
  },
  {
   "cell_type": "code",
   "execution_count": null,
   "metadata": {},
   "outputs": [],
   "source": [
    "# Defining directories\n",
    "current_dir = pathlib.Path().absolute()\n",
    "fa_dir = current_dir.parents[0].joinpath('src')\n",
    "\n",
    "# Importing fish_analyses module\n",
    "sys.path.append(str(fa_dir))\n",
    "import fish_analyses as fa"
   ]
  },
  {
   "cell_type": "code",
   "execution_count": null,
   "metadata": {},
   "outputs": [],
   "source": [
    "# Path to credentials\n",
    "desktop_path = pathlib.Path.home()/'Desktop'\n",
    "path_to_config_file = desktop_path.joinpath('config.yml')"
   ]
  },
  {
   "cell_type": "code",
   "execution_count": null,
   "metadata": {},
   "outputs": [],
   "source": [
    "# Path to images and masks\n",
    "\n",
    "time_point = '5h' # 'wo' '18min', '5h'\n",
    "\n",
    "if time_point == 'wo':\n",
    "    data_folder_path = pathlib.Path('smFISH_images/Linda_smFISH_images/Confocal/20220714/MS2-CY5_Cyto543_560_woStim')\n",
    "    path_to_masks_dir = pathlib.Path('smFISH_images/Linda_smFISH_images/Confocal/20220714/MS2-CY5_Cyto543_560_woStim/masks_MS2-CY5_Cyto543_560_woStim___nuc_70__cyto_0.zip') \n",
    "    name_merged_mask_tensors = 'polygons_wo'\n",
    "\n",
    "if time_point == '18min':\n",
    "    data_folder_path = pathlib.Path('smFISH_images/Linda_smFISH_images/Confocal/20220714/MS2-CY5_Cyto543_560_18minTPL_5uM')\n",
    "    path_to_masks_dir = pathlib.Path('smFISH_images/Linda_smFISH_images/Confocal/20220714/MS2-CY5_Cyto543_560_18minTPL_5uM/masks_MS2-CY5_Cyto543_560_18minTPL_5uM___nuc_70__cyto_0.zip') \n",
    "    name_merged_mask_tensors = 'polygons_18min'\n",
    "    \n",
    "if time_point == '5h':\n",
    "    data_folder_path = pathlib.Path('smFISH_images/Linda_smFISH_images/Confocal/20220714/MS2-CY5_Cyto543_560_5hTPL_5uM')\n",
    "    path_to_masks_dir = pathlib.Path('smFISH_images/Linda_smFISH_images/Confocal/20220714/MS2-CY5_Cyto543_560_5hTPL_5uM/masks_MS2-CY5_Cyto543_560_5hTPL_5uM___nuc_70__cyto_0.zip') \n",
    "    name_merged_mask_tensors = 'polygons_5h'\n",
    "    "
   ]
  },
  {
   "cell_type": "code",
   "execution_count": null,
   "metadata": {},
   "outputs": [],
   "source": [
    "download_data_from_NAS = True\n",
    "send_data_to_NAS = False"
   ]
  },
  {
   "cell_type": "code",
   "execution_count": null,
   "metadata": {},
   "outputs": [],
   "source": [
    "%%capture\n",
    "# Download data from NAS\n",
    "local_data_dir, masks_dir, _, _, list_files_names = fa.Utilities().read_images_from_folder( path_to_config_file, data_folder_path, path_to_masks_dir,  download_data_from_NAS)"
   ]
  },
  {
   "cell_type": "code",
   "execution_count": null,
   "metadata": {},
   "outputs": [],
   "source": [
    "# Path to read each file with masks.\n",
    "NUM_POINTS_MASK_EDGE_LINE = 200\n",
    "list_center_mass = []\n",
    "list_complete_masks =[]\n",
    "list_masks = []\n",
    "for file_id , temp_file_name in enumerate (list_files_names):\n",
    "    mask_nuc_path = masks_dir.absolute().joinpath('masks_nuclei_' + temp_file_name  )\n",
    "    masks_nuclei = imread(str(mask_nuc_path ))\n",
    "    list_complete_masks.append(masks_nuclei)\n",
    "    # iterate for each mask\n",
    "    n_masks =np.max(masks_nuclei)  \n",
    "    tensor_masks = np.zeros((n_masks,NUM_POINTS_MASK_EDGE_LINE,2))               \n",
    "    for i in range(1, n_masks+1 ):\n",
    "        # Removing the borders just for plotting\n",
    "        tested_mask_nuc = np.where(masks_nuclei == i, 1, 0).astype(bool)\n",
    "        list_masks.append(tested_mask_nuc)\n",
    "        # removing pixels outside the main mask\n",
    "        centroid_y,centroid_x = ndimage.measurements.center_of_mass(tested_mask_nuc)\n",
    "        list_center_mass.append((centroid_y,centroid_x ))\n",
    "        # Remove border for plotting\n",
    "        temp_contour_n = find_contours(tested_mask_nuc, 0.5, fully_connected='high',positive_orientation='high')\n",
    "        contour_n = np.asarray(temp_contour_n[0])\n",
    "        # Downsample the array using signal.resample\n",
    "        downsampled_mask = signal.resample(contour_n, num = NUM_POINTS_MASK_EDGE_LINE)\n",
    "        tensor_masks[i-1,:,:] = downsampled_mask\n",
    "    # Concatenate mask tensor.\n",
    "    if file_id ==0:\n",
    "        merged_mask_tensors = tensor_masks\n",
    "    if file_id >0:\n",
    "        merged_mask_tensors = np.concatenate((merged_mask_tensors, tensor_masks), axis=0)\n",
    "    del tensor_masks,masks_nuclei\n"
   ]
  },
  {
   "cell_type": "code",
   "execution_count": null,
   "metadata": {},
   "outputs": [],
   "source": [
    "NUM_COLUMNS = 10\n",
    "number_cells = merged_mask_tensors.shape[0]\n",
    "NUM_ROWS = math.ceil(number_cells/ NUM_COLUMNS)"
   ]
  },
  {
   "cell_type": "code",
   "execution_count": null,
   "metadata": {},
   "outputs": [],
   "source": [
    "# plotting masks as contours.\n",
    "_, axes = plt.subplots(nrows = NUM_ROWS, ncols = NUM_COLUMNS, figsize = (20, 30))\n",
    "r = 0\n",
    "c = 0\n",
    "counter = 0\n",
    "for i in range(0, number_cells):\n",
    "    min_x = np.max( (0, np.min(merged_mask_tensors[i,:, 1]))).astype(int)\n",
    "    max_x = np.max(merged_mask_tensors[i,:, 1]).astype(int)\n",
    "    min_y = np.max( (0, np.min(merged_mask_tensors[i,:, 0]))).astype(int)\n",
    "    max_y = np.max(merged_mask_tensors[i,:, 0]).astype(int)\n",
    "    axes[r,c].imshow(list_masks[i][ min_y:max_y, min_x:max_x ])\n",
    "    c+=1\n",
    "    if (c>0) and (c%NUM_COLUMNS ==0):\n",
    "        c=0\n",
    "        r+=1\n",
    "    counter +=1\n",
    "plt.savefig('masks_'+name_merged_mask_tensors+'.pdf', transparent=False,dpi=1200, bbox_inches = 'tight', format='pdf')\n",
    "plt.show()\n"
   ]
  },
  {
   "cell_type": "code",
   "execution_count": null,
   "metadata": {},
   "outputs": [],
   "source": [
    "# plotting maks as contours.\n",
    "_, axes = plt.subplots(nrows = NUM_ROWS, ncols = NUM_COLUMNS, figsize = (20, 30))\n",
    "r = 0\n",
    "c = 0\n",
    "counter = 0\n",
    "for i in range(0, number_cells):\n",
    "    axes[r,c].fill(merged_mask_tensors[i,:, 1], merged_mask_tensors[i,:, 0], facecolor = 'none', edgecolor = 'red', linewidth=2) # mask nucleus\n",
    "    axes[r,c].text(x=list_center_mass[counter][1],y=list_center_mass[counter][0],s=str(counter), fontsize=14)\n",
    "    axes[r,c].invert_yaxis()\n",
    "    c+=1\n",
    "    if (c>0) and (c%10 ==0):\n",
    "        c=0\n",
    "        r+=1\n",
    "    counter +=1\n",
    "plt.savefig(name_merged_mask_tensors+'.pdf', transparent=False,dpi=1200, bbox_inches = 'tight', format='pdf')\n",
    "plt.show()\n"
   ]
  },
  {
   "cell_type": "code",
   "execution_count": null,
   "metadata": {},
   "outputs": [],
   "source": [
    "# Saving masks as matlab arrays\n",
    "mask_dic = {name_merged_mask_tensors: merged_mask_tensors}\n",
    "scipy.io.savemat(name_merged_mask_tensors+'.mat', mask_dic)"
   ]
  }
 ],
 "metadata": {
  "kernelspec": {
   "display_name": "FISH_processing",
   "language": "python",
   "name": "python3"
  },
  "language_info": {
   "codemirror_mode": {
    "name": "ipython",
    "version": 3
   },
   "file_extension": ".py",
   "mimetype": "text/x-python",
   "name": "python",
   "nbconvert_exporter": "python",
   "pygments_lexer": "ipython3",
   "version": "3.8.12"
  },
  "orig_nbformat": 4
 },
 "nbformat": 4,
 "nbformat_minor": 2
}
