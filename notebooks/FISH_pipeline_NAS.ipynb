{
 "cells": [
  {
   "cell_type": "markdown",
   "metadata": {},
   "source": [
    "# FISH integrated analyses"
   ]
  },
  {
   "cell_type": "markdown",
   "metadata": {},
   "source": [
    "<img src= /home/luisub/Desktop/FISH_Processing/docs/code_architecture.png alt=\"drawing\" width=\"1000\"/>"
   ]
  },
  {
   "cell_type": "markdown",
   "metadata": {},
   "source": [
    "<img src= /Users/luisaguilera/Desktop/FISH_Processing/docs/code_architecture.png alt=\"drawing\" width=\"1000\"/>"
   ]
  },
  {
   "cell_type": "markdown",
   "metadata": {},
   "source": [
    "## Libraries"
   ]
  },
  {
   "cell_type": "code",
   "execution_count": null,
   "metadata": {},
   "outputs": [],
   "source": [
    "# Importing libraries\n",
    "import sys\n",
    "import matplotlib as mpl \n",
    "import matplotlib.pyplot as plt \n",
    "import numpy as np \n",
    "import pandas as pd\n",
    "import pathlib\n",
    "import warnings\n",
    "import shutil\n",
    "import os\n",
    "warnings.filterwarnings(\"ignore\")"
   ]
  },
  {
   "cell_type": "markdown",
   "metadata": {},
   "source": [
    "## Directories Path"
   ]
  },
  {
   "cell_type": "code",
   "execution_count": null,
   "metadata": {},
   "outputs": [],
   "source": [
    "# Deffining directories\n",
    "current_dir = pathlib.Path().absolute()\n",
    "fa_dir = current_dir.parents[0].joinpath('src')\n",
    "\n",
    "# Importing fish_analyses module\n",
    "sys.path.append(str(fa_dir))\n",
    "import fish_analyses as fa"
   ]
  },
  {
   "cell_type": "markdown",
   "metadata": {},
   "source": [
    "# Connecting to NAS and Downloading data."
   ]
  },
  {
   "cell_type": "code",
   "execution_count": null,
   "metadata": {},
   "outputs": [],
   "source": [
    "# Path to credentials\n",
    "desktop_path = pathlib.Path.home()/'Desktop'\n",
    "# Connection to nasstore2\n",
    "#path_to_config_file = desktop_path.joinpath('config_2.yml')\n",
    "#share_name = 'projects'\n",
    "#remote_folder_path = pathlib.Path('qpbio','GAPDH_Exon_Cy5')\n",
    "\n",
    "# Connection to munsky-nas\n",
    "path_to_config_file = desktop_path.joinpath('config.yml')\n",
    "share_name = 'share'\n",
    "remote_folder_path = pathlib.Path('Test','test_dir')\n",
    "\n",
    "# Download data from NAS\n",
    "remote_folder_path = remote_folder_path\n",
    "local_folder_path = pathlib.Path().absolute().joinpath('temp_' + remote_folder_path.name)\n",
    "fa.NASConnection(path_to_config_file,share_name = share_name).copy_files(remote_folder_path, local_folder_path,timeout=60)"
   ]
  },
  {
   "cell_type": "markdown",
   "metadata": {},
   "source": [
    "# Deffining parameters for the image processing"
   ]
  },
  {
   "cell_type": "code",
   "execution_count": null,
   "metadata": {},
   "outputs": [],
   "source": [
    "#data_dir = current_dir.parents[0].joinpath('dataBases').joinpath('ms2_cy5_20210518')\n",
    "data_dir = local_folder_path     # path to a folder with images.\n",
    "\n",
    "channels_with_cytosol = [1,2]            # list or int indicating the channels where the cytosol is detectable\n",
    "channels_with_nucleus = 0                # list or int indicating the channels where the nucleus is detectable\n",
    "channels_with_FISH = [1]               # list or int with the channels with FISH spots that are used for the quantification\n",
    "diamter_nucleus = 200                    # approximate nucleus size in pixels\n",
    "diameter_cytosol = 250 #250              # approximate cytosol size in pixels\n",
    "# Parameters for FISH detection\n",
    "voxel_size_z = 500                       # Microscope conversion px to nanometers in the z axis.\n",
    "voxel_size_yx = 103                      # Microscope conversion px to nanometers in the xy axis.\n",
    "psf_z = 600      #350                    # Theoretical size of the PSF emitted by a [rna] spot in the z plan, in nanometers.\n",
    "psf_yx = 150     #150                    # Theoretical size of the PSF emitted by a [rna] spot in the yx plan, in nanometers.\n",
    "# Cluster Detection\n",
    "minimum_spots_cluster = 7                # The number of spots in a neighborhood for a point to be considered as a core point (from which a cluster is expanded). This includes the point itself.\n",
    "show_plots=True                          # Flag to display plots"
   ]
  },
  {
   "cell_type": "markdown",
   "metadata": {},
   "source": [
    "# Running the pipeline"
   ]
  },
  {
   "cell_type": "code",
   "execution_count": null,
   "metadata": {},
   "outputs": [],
   "source": [
    "dataframe_FISH = fa.PipelineFISH(data_dir, channels_with_cytosol, channels_with_nucleus, channels_with_FISH,diamter_nucleus, diameter_cytosol, voxel_size_z, voxel_size_yx, psf_z, psf_yx, minimum_spots_cluster,show_plot=show_plots).run()"
   ]
  },
  {
   "cell_type": "markdown",
   "metadata": {},
   "source": [
    "# Extracting data from the dataframe"
   ]
  },
  {
   "cell_type": "code",
   "execution_count": null,
   "metadata": {},
   "outputs": [],
   "source": [
    "dataframe_FISH.tail()"
   ]
  },
  {
   "cell_type": "code",
   "execution_count": null,
   "metadata": {},
   "outputs": [],
   "source": [
    "# Number of cells\n",
    "spot_type_selected = 0\n",
    "number_cells = dataframe_FISH['cell_id'].nunique()\n",
    "print(number_cells)\n",
    "# Number of spots\n",
    "number_of_spots_per_cell = [len( dataframe_FISH.loc[  (dataframe_FISH['cell_id']==i) &  (dataframe_FISH['is_cluster']==False) & (dataframe_FISH['is_nuc']==False) & (dataframe_FISH['spot_type']==spot_type_selected) ].spot_id) for i in range(0, number_cells)]\n",
    "# Number of TS per cell\n",
    "number_of_TS_per_cell = [len( dataframe_FISH.loc[  (dataframe_FISH['cell_id']==i) &  (dataframe_FISH['is_cluster']==True) & (dataframe_FISH['is_nuc']==True) & (dataframe_FISH['spot_type']==spot_type_selected) ].spot_id) for i in range(0, number_cells)]\n",
    "# Number of RNA in a TS\n",
    "ts_size =  dataframe_FISH.loc[   (dataframe_FISH['is_cluster']==True) & (dataframe_FISH['is_nuc']==True)  & (dataframe_FISH['spot_type']==spot_type_selected)   ].cluster_size.values\n",
    "# Size of each cell\n",
    "cell_size = dataframe_FISH.loc[  (dataframe_FISH['spot_id']==0)  ].cell_area_px.values"
   ]
  },
  {
   "cell_type": "markdown",
   "metadata": {},
   "source": [
    "# Plotting"
   ]
  },
  {
   "cell_type": "code",
   "execution_count": null,
   "metadata": {},
   "outputs": [],
   "source": [
    "def plot_probability_distribution(data_to_plot, numBins = 10, title='', xlab='', ylab='', color='r', subplots=False, show_grid=True, fig=plt.figure() ):\n",
    "  plt.hist(data_to_plot,bins=numBins,density=False,color=color)\n",
    "  plt.xlabel(xlab, size=16)\n",
    "  plt.ylabel(ylab, size=16)\n",
    "  plt.grid(show_grid)\n",
    "  plt.title(title, size=16)\n",
    "  return (f)\n",
    "#Plotting\n",
    "fig_size = (25, 5)\n",
    "f = plt.figure(figsize=fig_size)\n",
    "#ylab='Probability'\n",
    "ylab='Frequency Count'  \n",
    "# adding subplots\n",
    "f.add_subplot(1,4,1) \n",
    "plot_probability_distribution( number_of_spots_per_cell, numBins=20,  title='Num Spots per cell', xlab='Number', ylab=ylab, fig=f, color='g')\n",
    "f.add_subplot(1,4,2) \n",
    "plot_probability_distribution(number_of_TS_per_cell,   numBins=20,  title='num TS per cell', xlab='TS per cell', ylab=ylab, fig=f, color='g')\n",
    "f.add_subplot(1,4,3) \n",
    "plot_probability_distribution(ts_size, numBins=20,    title='TS size', xlab='RNA per TS', ylab=ylab, fig=f, color='g')\n",
    "f.add_subplot(1,4,4) \n",
    "plot_probability_distribution(cell_size ,  numBins=20, title='Cell size', xlab='[Pixels]', ylab=ylab, fig=f, color='g')\n",
    "# plt.savefig('./results/sim_intensity_dist_ch0.png')\n",
    "plt.show()"
   ]
  },
  {
   "cell_type": "markdown",
   "metadata": {},
   "source": [
    "# Sending results to NAS."
   ]
  },
  {
   "cell_type": "code",
   "execution_count": null,
   "metadata": {},
   "outputs": [],
   "source": [
    "# Writing data to NAS\n",
    "remote_folder_path = remote_folder_path\n",
    "\n",
    "local_file_to_send_to_NAS = pathlib.Path().absolute().joinpath('metadata_'+ remote_folder_path.name +'.txt')\n",
    "fa.NASConnection(path_to_config_file,share_name = share_name).write_files_to_NAS(local_file_to_send_to_NAS, remote_folder_path)\n",
    "\n",
    "local_file_to_send_to_NAS = pathlib.Path().absolute().joinpath('dataframe_' + remote_folder_path.name +'.csv')\n",
    "fa.NASConnection(path_to_config_file,share_name = share_name).write_files_to_NAS(local_file_to_send_to_NAS, remote_folder_path)\n"
   ]
  },
  {
   "cell_type": "markdown",
   "metadata": {},
   "source": [
    "# Removing temporal local files"
   ]
  },
  {
   "cell_type": "code",
   "execution_count": null,
   "metadata": {},
   "outputs": [],
   "source": [
    "# delete local files\n",
    "#shutil.rmtree(local_folder_path)\n",
    "#os.remove('metadata_'+ remote_folder_path.name +'.txt')\n",
    "#os.remove('dataframe_' + remote_folder_path.name +'.csv')\n"
   ]
  }
 ],
 "metadata": {
  "interpreter": {
   "hash": "f123aec772437107f61ad48bdc3e74202fc8f652e2fa44805dd8339e0a72f809"
  },
  "kernelspec": {
   "display_name": "Python 3.6.13 64-bit ('FISH_processing': conda)",
   "name": "python3"
  },
  "language_info": {
   "codemirror_mode": {
    "name": "ipython",
    "version": 3
   },
   "file_extension": ".py",
   "mimetype": "text/x-python",
   "name": "python",
   "nbconvert_exporter": "python",
   "pygments_lexer": "ipython3",
   "version": "3.6.13"
  }
 },
 "nbformat": 4,
 "nbformat_minor": 5
}
