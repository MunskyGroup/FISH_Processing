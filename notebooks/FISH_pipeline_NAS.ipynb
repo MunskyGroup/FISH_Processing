{
 "cells": [
  {
   "cell_type": "markdown",
   "id": "d494faaa",
   "metadata": {},
   "source": [
    "# FISH integrated analyses"
   ]
  },
  {
   "cell_type": "markdown",
   "id": "3b1ccb32",
   "metadata": {},
   "source": [
    "<img src= /home/luisub/Desktop/FISH_Processing/docs/images/code_architecture.png alt=\"drawing\" width=\"1000\"/>"
   ]
  },
  {
   "cell_type": "markdown",
   "id": "a3f19c17",
   "metadata": {},
   "source": [
    "<img src= /Users/luisaguilera/Desktop/FISH_Processing/docs/code_architecture.png alt=\"drawing\" width=\"1000\"/>"
   ]
  },
  {
   "cell_type": "markdown",
   "id": "6e1f620b",
   "metadata": {},
   "source": [
    "## Libraries"
   ]
  },
  {
   "cell_type": "code",
   "execution_count": null,
   "id": "ec7c8aea",
   "metadata": {},
   "outputs": [],
   "source": [
    "# Importing libraries\n",
    "import sys\n",
    "import matplotlib as mpl \n",
    "import matplotlib.pyplot as plt \n",
    "import numpy as np \n",
    "import pandas as pd\n",
    "import pathlib\n",
    "import warnings\n",
    "import shutil\n",
    "import os\n",
    "warnings.filterwarnings(\"ignore\")"
   ]
  },
  {
   "cell_type": "markdown",
   "id": "9d558787",
   "metadata": {},
   "source": [
    "## Directories Path"
   ]
  },
  {
   "cell_type": "code",
   "execution_count": null,
   "id": "fbf289c0",
   "metadata": {},
   "outputs": [],
   "source": [
    "# Deffining directories\n",
    "current_dir = pathlib.Path().absolute()\n",
    "fa_dir = current_dir.parents[0].joinpath('src')\n",
    "\n",
    "# Importing fish_analyses module\n",
    "sys.path.append(str(fa_dir))\n",
    "import fish_analyses as fa\n",
    "fa.Banner().print_banner()"
   ]
  },
  {
   "cell_type": "markdown",
   "id": "e9678a14",
   "metadata": {},
   "source": [
    "# Connecting to NAS and Downloading data."
   ]
  },
  {
   "cell_type": "code",
   "execution_count": null,
   "id": "20ffcccf",
   "metadata": {},
   "outputs": [],
   "source": [
    "# Path to credentials\n",
    "desktop_path = pathlib.Path.home()/'Desktop'\n",
    "# Connection to nasstore2\n",
    "#path_to_config_file = desktop_path.joinpath('config_2.yml')\n",
    "#share_name = 'projects'\n",
    "#remote_folder_path = pathlib.Path('qpbio','GAPDH_Exon_Cy5')\n",
    "\n",
    "# Connection to munsky-nas\n",
    "path_to_config_file = desktop_path.joinpath('config.yml')\n",
    "share_name = 'share'\n",
    "#remote_folder_path = pathlib.Path('onel_test','Trans')\n",
    "#remote_folder_path = pathlib.Path('smFISH_images/Eric_smFISH_images/20220126/DUSP1_Dex_0min')\n",
    "remote_folder_path = pathlib.Path('Test','test_dir')\n",
    "path_to_masks_dir = None # pathlib.Path('Test','masks')\n",
    "#remote_folder_path = pathlib.Path('smFISH_images/Linda_smFISH_images/Confocal/20220114/GAPDH-Cy3_NFKBIA-Cy5_woDex')\n",
    "#remote_folder_path = pathlib.Path('smFISH_images/Linda_smFISH_images/Confocal/20220117/GAPDH-Cy3_NFKBIA-Cy5_1h_100nMDex')\n",
    "#remote_folder_path = pathlib.Path('smFISH_images/Linda_smFISH_images/Confocal/20220114/GAPDH-Cy3_NFKBIA-Cy5_2h_100nMDex')\n",
    "#remote_folder_path = pathlib.Path('smFISH_images/Linda_smFISH_images/Confocal/20220117/GAPDH-Cy3_NFKBIA-Cy5_4h_100nMDex')\n",
    "\n",
    "# Download data from NAS\n",
    "remote_folder_path = remote_folder_path\n",
    "local_folder_path = pathlib.Path().absolute().joinpath('temp_' + remote_folder_path.name)\n",
    "fa.NASConnection(path_to_config_file,share_name = share_name).copy_files(remote_folder_path, local_folder_path,timeout=120)"
   ]
  },
  {
   "cell_type": "markdown",
   "id": "1f26be4a",
   "metadata": {},
   "source": [
    "# Deffining parameters for the image processing"
   ]
  },
  {
   "cell_type": "code",
   "execution_count": null,
   "id": "c79f6fa2",
   "metadata": {},
   "outputs": [],
   "source": [
    "#data_dir = current_dir.parents[0].joinpath('dataBases').joinpath('ms2_cy5_20210518')\n",
    "data_dir = local_folder_path     # path to a folder with images.\n",
    "\n",
    "masks_dir = path_to_masks_dir#\n",
    "\n",
    "channels_with_cytosol = [0,1,2]            # list or int indicating the channels where the cytosol is detectable\n",
    "channels_with_nucleus = 0                # list or int indicating the channels where the nucleus is detectable\n",
    "channels_with_FISH = [1]               # list or int with the channels with FISH spots that are used for the quantification\n",
    "diamter_nucleus = 120                    # approximate nucleus size in pixels\n",
    "diameter_cytosol = 220 #250              # approximate cytosol size in pixels\n",
    "# Parameters for FISH detection\n",
    "\n",
    "voxel_size_z = 500    #300                      # Microscope conversion px to nanometers in the z axis.\n",
    "voxel_size_yx = 103 #103   #103                      # Microscope conversion px to nanometers in the xy axis.\n",
    "psf_z = 350      #350                    # Theoretical size of the PSF emitted by a [rna] spot in the z plan, in nanometers.\n",
    "psf_yx = 120     #150                    # Theoretical size of the PSF emitted by a [rna] spot in the yx plan, in nanometers.\n",
    "list_voxels = [ [voxel_size_z,voxel_size_yx  ]  ]\n",
    "list_psfs = [ [psf_z, psf_yx] ]\n",
    "\n",
    "#voxel_size_z_1 = 300    #300                      # Microscope conversion px to nanometers in the z axis.\n",
    "#voxel_size_yx_1 = 103 #103   #103                      # Microscope conversion px to nanometers in the xy axis.\n",
    "#voxel_size_z_2 = 300    #300                      # Microscope conversion px to nanometers in the z axis.\n",
    "#voxel_size_yx_2 = 103 #103   #103                      # Microscope conversion px to nanometers in the xy axis.\n",
    "#psf_z_1 = 220     #280 #350                    # Theoretical size of the PSF emitted by a [rna] spot in the z plan, in nanometers.\n",
    "#psf_yx_1 = 120 # 120    #120  #150                    # Theoretical size of the PSF emitted by a [rna] spot in the yx plan, in nanometers.\n",
    "#psf_z_2 = 280      #350                    # Theoretical size of the PSF emitted by a [rna] spot in the z plan, in nanometers.\n",
    "#psf_yx_2 = 110     #150                    # Theoretical size of the PSF emitted by a [rna] spot in the yx plan, in nanometers.\n",
    "#list_voxels = [ [voxel_size_z_1,voxel_size_yx_1  ] , [voxel_size_z_2,voxel_size_yx_2  ] ]\n",
    "#list_psfs = [ [psf_z_1, psf_yx_1] , [psf_z_2, psf_yx_2]]\n",
    "\n",
    "# Cluster Detection\n",
    "minimum_spots_cluster = 2                # The number of spots in a neighborhood for a point to be considered as a core point (from which a cluster is expanded). This includes the point itself.\n",
    "show_plots=True                          # Flag to display plots"
   ]
  },
  {
   "cell_type": "code",
   "execution_count": null,
   "id": "340c31eb",
   "metadata": {},
   "outputs": [],
   "source": [
    "# Detecting if images need to be merged\n",
    "is_needed_to_merge_images = fa.MergeChannels(data_dir, substring_to_detect_in_file_name = '.*_C0.tif', save_figure =1).checking_images()\n",
    "if is_needed_to_merge_images == True:\n",
    "    list_file_names, list_images, number_images, output_to_path = fa.MergeChannels(data_dir, substring_to_detect_in_file_name = '.*_C0.tif', save_figure =1).merge()\n",
    "    data_dir = data_dir.joinpath('merged')"
   ]
  },
  {
   "cell_type": "markdown",
   "id": "dba673cc",
   "metadata": {},
   "source": [
    "# Running the pipeline"
   ]
  },
  {
   "cell_type": "code",
   "execution_count": null,
   "id": "bd3a9063",
   "metadata": {},
   "outputs": [],
   "source": [
    "dataframe_FISH,_,_,_= fa.PipelineFISH(data_dir, channels_with_cytosol, channels_with_nucleus, channels_with_FISH,diamter_nucleus, diameter_cytosol, minimum_spots_cluster,list_voxels=list_voxels, list_psfs=list_psfs ,show_plot=show_plots,file_name_str=remote_folder_path.name).run()"
   ]
  },
  {
   "cell_type": "markdown",
   "id": "435ce599",
   "metadata": {},
   "source": [
    "# Extracting data from the dataframe"
   ]
  },
  {
   "cell_type": "code",
   "execution_count": null,
   "id": "05ebfd58",
   "metadata": {},
   "outputs": [],
   "source": [
    "dataframe_FISH.tail()"
   ]
  },
  {
   "cell_type": "code",
   "execution_count": null,
   "id": "ebfab568",
   "metadata": {},
   "outputs": [],
   "source": [
    "# Number of cells\n",
    "spot_type_selected = 0\n",
    "\n",
    "number_cells = dataframe_FISH['cell_id'].nunique()\n",
    "print(number_cells)\n",
    "# Number of spots\n",
    "number_of_spots_per_cell = [len( dataframe_FISH.loc[  (dataframe_FISH['cell_id']==i)  & (dataframe_FISH['spot_type']==spot_type_selected) ].spot_id) for i in range(0, number_cells)]\n",
    "\n",
    "# Number of spots in cytosol\n",
    "number_of_spots_per_cell_cytosol = [len( dataframe_FISH.loc[  (dataframe_FISH['cell_id']==i) & (dataframe_FISH['is_nuc']==False) & (dataframe_FISH['spot_type']==spot_type_selected) ].spot_id) for i in range(0, number_cells)]\n",
    "\n",
    "# Number of spots in nucleus\n",
    "number_of_spots_per_cell_nucleus = [len( dataframe_FISH.loc[  (dataframe_FISH['cell_id']==i) &  (dataframe_FISH['is_cluster']==False) & (dataframe_FISH['is_nuc']==True) & (dataframe_FISH['spot_type']==spot_type_selected)    ].spot_id) for i in range(0, number_cells)]\n",
    "\n",
    "# Number of TS per cell.\n",
    "number_of_TS_per_cell = [len( dataframe_FISH.loc[  (dataframe_FISH['cell_id']==i) &  (dataframe_FISH['is_cluster']==True) & (dataframe_FISH['is_nuc']==True) & (dataframe_FISH['spot_type']==spot_type_selected) & (dataframe_FISH['cluster_size'] >=4) ].spot_id) for i in range(0, number_cells)]\n",
    "#number_of_TS_per_cell= np.asarray(number_of_TS_per_cell)\n",
    "#number_of_TS_per_cell=number_of_TS_per_cell[number_of_TS_per_cell>0]   \n",
    "    \n",
    "# Number of RNA in a TS\n",
    "ts_size =  dataframe_FISH.loc[   (dataframe_FISH['is_cluster']==True) & (dataframe_FISH['is_nuc']==True)  & (dataframe_FISH['spot_type']==spot_type_selected)   ].cluster_size.values\n",
    "\n",
    "# Size of each cell\n",
    "cell_size = dataframe_FISH.loc[  (dataframe_FISH['spot_id']==0)  ].cell_area_px.values"
   ]
  },
  {
   "cell_type": "markdown",
   "id": "11c01b92",
   "metadata": {},
   "source": [
    "# Plotting"
   ]
  },
  {
   "cell_type": "code",
   "execution_count": null,
   "id": "061361d8",
   "metadata": {},
   "outputs": [],
   "source": [
    "# Plotting intensity distributions\n",
    "plt.style.use('ggplot')  # ggplot  #default\n",
    "def plot_probability_distribution(data_to_plot, numBins = 10, title='', xlab='', ylab='', color='r', subplots=False, show_grid=True, fig=plt.figure() ):\n",
    "  n, bins, patches = plt.hist(data_to_plot,bins=numBins,density=False,color=color)\n",
    "  plt.xlabel(xlab, size=16)\n",
    "  plt.ylabel(ylab, size=16)\n",
    "  plt.grid(show_grid)\n",
    "  plt.text(bins[(len(bins)//2)],(np.amax(n)//2).astype(int),'mean = '+str(round( np.mean(data_to_plot) ,1) ), fontsize=14,bbox=dict(facecolor='w', alpha=0.5) )\n",
    "  plt.title(title, size=16)\n",
    "  return (f)"
   ]
  },
  {
   "cell_type": "code",
   "execution_count": null,
   "id": "0655143e",
   "metadata": {},
   "outputs": [],
   "source": [
    "#Plotting\n",
    "fig_size = (30, 7)\n",
    "f = plt.figure(figsize=fig_size)\n",
    "#ylab='Probability'\n",
    "ylab='Frequency Count'  \n",
    "# adding subplots\n",
    "f.add_subplot(1,5,1) \n",
    "plot_probability_distribution( number_of_spots_per_cell, numBins=20,  title='Total Num Spots per cell', xlab='Number', ylab=ylab, fig=f, color='orangered')\n",
    "f.add_subplot(1,5,2) \n",
    "plot_probability_distribution(number_of_spots_per_cell_cytosol,   numBins=20,  title='Num Spots in Cytosol', xlab='Number', ylab=ylab, fig=f, color='orangered')\n",
    "f.add_subplot(1,5,3) \n",
    "plot_probability_distribution(number_of_spots_per_cell_nucleus, numBins=20,    title='Num Spots in Nucleus', xlab='Number', ylab=ylab, fig=f, color='orangered')\n",
    "f.add_subplot(1,5,4) \n",
    "plot_probability_distribution(ts_size, numBins=20,    title='Clusters in nucleus', xlab='RNA per Cluster', ylab=ylab, fig=f, color='orangered')\n",
    "f.add_subplot(1,5,5) \n",
    "plot_probability_distribution(number_of_TS_per_cell ,  numBins=20, title='Number TS per cell', xlab='[TS (>= 4 rna)]', ylab=ylab, fig=f, color='orangered')\n",
    "plt.savefig('plots_'+remote_folder_path.name+'.png')\n",
    "plt.show()"
   ]
  },
  {
   "cell_type": "markdown",
   "id": "e7319f74",
   "metadata": {},
   "source": [
    "# Creating folder with results"
   ]
  },
  {
   "cell_type": "code",
   "execution_count": null,
   "id": "f03c92bf",
   "metadata": {},
   "outputs": [],
   "source": [
    "# create results folder\n",
    "if not os.path.exists(str('analysis_'+ remote_folder_path.name)):\n",
    "    os.makedirs(str('analysis_'+ remote_folder_path.name))\n",
    "\n",
    "#figure_path \n",
    "pathlib.Path().absolute().joinpath('plots_'+ remote_folder_path.name +'.png').rename(pathlib.Path().absolute().joinpath(str('analysis_'+ remote_folder_path.name),'plots_'+ remote_folder_path.name +'.png'))\n",
    "#metadata_path\n",
    "pathlib.Path().absolute().joinpath('metadata_'+ remote_folder_path.name +'.txt').rename(pathlib.Path().absolute().joinpath(str('analysis_'+ remote_folder_path.name),'metadata_'+ remote_folder_path.name +'.txt'))\n",
    "#dataframe_path \n",
    "pathlib.Path().absolute().joinpath('dataframe_' + remote_folder_path.name +'.csv').rename(pathlib.Path().absolute().joinpath(str('analysis_'+ remote_folder_path.name),'dataframe_'+ remote_folder_path.name +'.csv'))\n",
    "#pdf_path \n",
    "pathlib.Path().absolute().joinpath('pdf_report_' + remote_folder_path.name +'.pdf').rename(pathlib.Path().absolute().joinpath(str('analysis_'+ remote_folder_path.name),'pdf_report_'+ remote_folder_path.name +'.pdf'))\n",
    "\n",
    "# making a zip file\n",
    "shutil.make_archive(str('analysis_'+ remote_folder_path.name),'zip',pathlib.Path().absolute().joinpath(str('analysis_'+ remote_folder_path.name)))"
   ]
  },
  {
   "cell_type": "markdown",
   "id": "6476dba1",
   "metadata": {},
   "source": [
    "# "
   ]
  },
  {
   "cell_type": "markdown",
   "id": "5b69332a",
   "metadata": {},
   "source": [
    "# Sending results to NAS."
   ]
  },
  {
   "cell_type": "code",
   "execution_count": null,
   "id": "36dd64f8",
   "metadata": {},
   "outputs": [],
   "source": [
    "# Writing data to NAS\n",
    "local_file_to_send_to_NAS = pathlib.Path().absolute().joinpath(str('analysis_'+ remote_folder_path.name)+'.zip')\n",
    "fa.NASConnection(path_to_config_file,share_name = share_name).write_files_to_NAS(local_file_to_send_to_NAS, remote_folder_path)"
   ]
  },
  {
   "cell_type": "markdown",
   "id": "62ab4071",
   "metadata": {},
   "source": [
    "# Removing temporal local files"
   ]
  },
  {
   "cell_type": "code",
   "execution_count": null,
   "id": "184361ea",
   "metadata": {},
   "outputs": [],
   "source": [
    "#Moving all results to \"analyses\" folder\n",
    "if not os.path.exists(str('analyses')):\n",
    "    os.makedirs(str('analyses'))\n",
    "\n",
    "analysis_folder_name = str('analysis_'+ remote_folder_path.name)\n",
    "final_dir_name =pathlib.Path().absolute().joinpath('analyses', analysis_folder_name)\n",
    "\n",
    "if os.path.exists(str(final_dir_name)):\n",
    "  shutil.rmtree(str(final_dir_name))\n",
    "  \n",
    "pathlib.Path().absolute().joinpath(analysis_folder_name).rename(final_dir_name )\n"
   ]
  },
  {
   "cell_type": "code",
   "execution_count": null,
   "id": "75147e91",
   "metadata": {},
   "outputs": [],
   "source": [
    "#Moving all results to \"analyses\" folder\n",
    "#if not os.path.exists(str('analyses')):\n",
    "#    os.makedirs(str('analyses'))\n",
    "#pathlib.Path().absolute().joinpath(str('analysis_'+ remote_folder_path.name)).rename(pathlib.Path().absolute().joinpath('analyses', str('analysis_'+ remote_folder_path.name) ))"
   ]
  },
  {
   "cell_type": "code",
   "execution_count": null,
   "id": "a4e2005e",
   "metadata": {},
   "outputs": [],
   "source": [
    "# delete local files\n",
    "shutil.rmtree(local_folder_path)\n",
    "#shutil.rmtree(str('analysis_'+ remote_folder_path.name))\n",
    "temp_results_folder_name = pathlib.Path().absolute().joinpath('temp_results_' + remote_folder_path.name)\n",
    "shutil.rmtree(temp_results_folder_name)\n",
    "os.remove(pathlib.Path().absolute().joinpath(str('analysis_'+ remote_folder_path.name)+'.zip'))"
   ]
  }
 ],
 "metadata": {
  "interpreter": {
   "hash": "f123aec772437107f61ad48bdc3e74202fc8f652e2fa44805dd8339e0a72f809"
  },
  "kernelspec": {
   "display_name": "Python 3.6.13 64-bit ('FISH_processing': conda)",
   "name": "python3"
  },
  "language_info": {
   "codemirror_mode": {
    "name": "ipython",
    "version": 3
   },
   "file_extension": ".py",
   "mimetype": "text/x-python",
   "name": "python",
   "nbconvert_exporter": "python",
   "pygments_lexer": "ipython3",
   "version": "3.8.12"
  }
 },
 "nbformat": 4,
 "nbformat_minor": 5
}
