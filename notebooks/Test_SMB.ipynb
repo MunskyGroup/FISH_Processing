{
 "cells": [
  {
   "cell_type": "code",
   "execution_count": 105,
   "source": [
    "from smb.SMBConnection import SMBConnection\n",
    "import socket\n",
    "import pathlib\n",
    "import yaml\n",
    "import os\n",
    "import shutil"
   ],
   "outputs": [],
   "metadata": {}
  },
  {
   "cell_type": "code",
   "execution_count": 3,
   "source": [
    "# Loading credentials\n",
    "desktop = pathlib.Path.home() / 'Desktop'\n",
    "conf = yaml.safe_load(open(str(desktop)+'/config.yml'))\n",
    "usr = conf['user']['username']\n",
    "pwd = conf['user']['password']\n",
    "remote_address = conf['user']['remote_address']\n",
    "domain = conf['user']['domain']"
   ],
   "outputs": [],
   "metadata": {}
  },
  {
   "cell_type": "code",
   "execution_count": 100,
   "source": [
    "# LOCAL NAME\n",
    "local_name = socket.gethostbyname(socket.gethostname())\n",
    "# SERVER NAME\n",
    "share_name = 'share'\n",
    "server_name, alias, addresslist = socket.gethostbyaddr(remote_address)"
   ],
   "outputs": [],
   "metadata": {}
  },
  {
   "cell_type": "code",
   "execution_count": 116,
   "source": [
    "folder_path = '/Test/test_dir/'\n",
    "# Creating a local directory in the local computer\n",
    "temp_local_path = pathlib.Path().absolute().joinpath('temp')\n",
    "if os.path.exists(str(temp_local_path)):\n",
    "    shutil.rmtree(temp_local_path)\n",
    "os.makedirs(str(temp_local_path))\n",
    "# Establishing connection to the server\n",
    "conn = SMBConnection(username=usr, password=pwd, domain=domain, my_name=local_name, remote_name=server_name, is_direct_tcp=True)\n",
    "is_connected = conn.connect(server_name,timeout=60)\n",
    "print('Connection established: ', is_connected)\n",
    "print('The files are downloaded to:', temp_local_path)\n",
    "\n",
    "# Iterate in the folder to download all tif files\n",
    "list_dir = conn.listPath(share_name, folder_path)\n",
    "for file in list_dir:\n",
    "    if (file.filename not in ['.', '..']) and ('.tif' in file.filename) :\n",
    "        print ('File Downloaded :', file.filename)\n",
    "        fileobj = open(file.filename,'wb')\n",
    "        conn.retrieveFile(share_name,folder_path+file.filename,fileobj)\n",
    "        # moving files in the local computer\n",
    "        shutil.move(pathlib.Path().absolute().joinpath(file.filename), temp_local_path.joinpath(file.filename))\n",
    "conn.close()"
   ],
   "outputs": [
    {
     "output_type": "stream",
     "name": "stdout",
     "text": [
      "Connection established:  True\n",
      "The files are downloaded to: /home/luisub/Desktop/FISH_Processing/notebooks/temp\n",
      "File Downloaded : Capture_1_XY1617218260_Z00_T0_C0.tif\n",
      "File Downloaded : Capture1_XY1617218260_Z00_T0_C2.tif\n",
      "File Downloaded : Capture1_XY1617218260_Z00_T0_C1.tif\n"
     ]
    }
   ],
   "metadata": {}
  },
  {
   "cell_type": "code",
   "execution_count": null,
   "source": [
    "# https://github.com/humberry/smb-example/blob/master/smb-test.py"
   ],
   "outputs": [],
   "metadata": {}
  }
 ],
 "metadata": {
  "interpreter": {
   "hash": "b6f9c0120f6b292dd79c34d0191dad80e424033e9385d2e7f334399080b40eb3"
  },
  "kernelspec": {
   "name": "python3",
   "display_name": "Python 3.6.13 64-bit ('FISH_processing': conda)"
  },
  "language_info": {
   "codemirror_mode": {
    "name": "ipython",
    "version": 3
   },
   "file_extension": ".py",
   "mimetype": "text/x-python",
   "name": "python",
   "nbconvert_exporter": "python",
   "pygments_lexer": "ipython3",
   "version": "3.6.13"
  }
 },
 "nbformat": 4,
 "nbformat_minor": 5
}