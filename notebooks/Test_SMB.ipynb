{
 "cells": [
  {
   "cell_type": "code",
   "execution_count": null,
   "metadata": {},
   "outputs": [],
   "source": [
    "from smb.SMBConnection import SMBConnection\n",
    "import socket\n",
    "import pathlib\n",
    "import yaml\n",
    "import os\n",
    "import shutil"
   ]
  },
  {
   "cell_type": "code",
   "execution_count": null,
   "metadata": {},
   "outputs": [],
   "source": [
    "# Path to credentials\n",
    "desktop_path = pathlib.Path.home()/'Desktop'\n",
    "path_to_config_file = desktop_path.joinpath('config.yml')"
   ]
  },
  {
   "cell_type": "code",
   "execution_count": null,
   "metadata": {},
   "outputs": [],
   "source": [
    "# Loading credentials\n",
    "conf = yaml.safe_load(open(str(path_to_config_file)))\n",
    "usr = conf['user']['username']\n",
    "pwd = conf['user']['password']\n",
    "remote_address = conf['user']['remote_address']\n",
    "domain = conf['user']['domain']"
   ]
  },
  {
   "cell_type": "code",
   "execution_count": null,
   "metadata": {},
   "outputs": [],
   "source": [
    "# LOCAL NAME\n",
    "local_name = socket.gethostbyname(socket.gethostname())\n",
    "# SERVER NAME\n",
    "share_name = 'share'\n",
    "server_name, alias, addresslist = socket.gethostbyaddr(remote_address)"
   ]
  },
  {
   "cell_type": "code",
   "execution_count": null,
   "metadata": {},
   "outputs": [],
   "source": [
    "folder_path = '/Test/test_dir/'\n",
    "# Creating a local directory in the local computer\n",
    "temp_local_path = pathlib.Path().absolute().joinpath('temp')\n",
    "if os.path.exists(str(temp_local_path)):\n",
    "    shutil.rmtree(temp_local_path)\n",
    "os.makedirs(str(temp_local_path))\n",
    "# Establishing connection to the server\n",
    "conn = SMBConnection(username=usr, password=pwd, domain=domain, my_name=local_name, remote_name=server_name, is_direct_tcp=True)\n",
    "is_connected = conn.connect(server_name,timeout=60)\n",
    "print('Connection established: ', is_connected)\n",
    "print('The files are downloaded to:', temp_local_path)\n",
    "\n",
    "# Iterate in the folder to download all tif files\n",
    "list_dir = conn.listPath(share_name, folder_path)\n",
    "for file in list_dir:\n",
    "    if (file.filename not in ['.', '..']) and ('.tif' in file.filename) :\n",
    "        print ('File Downloaded :', file.filename)\n",
    "        fileobj = open(file.filename,'wb')\n",
    "        conn.retrieveFile(share_name,folder_path+file.filename,fileobj)\n",
    "        # moving files in the local computer\n",
    "        shutil.move(pathlib.Path().absolute().joinpath(file.filename), temp_local_path.joinpath(file.filename))\n",
    "conn.close()"
   ]
  },
  {
   "cell_type": "code",
   "execution_count": null,
   "metadata": {},
   "outputs": [],
   "source": [
    "\n",
    "list_names = [file.filename for file in list_dir]\n",
    "list_names"
   ]
  },
  {
   "cell_type": "code",
   "execution_count": null,
   "metadata": {},
   "outputs": [],
   "source": [
    "class NASConnection():\n",
    "    '''\n",
    "    This class is intended to establish a connection between a Network-Attached storage and a local computer. The class allow the user to establish a connection to NAS, download specific files, and write back files to NAS.\n",
    "    This class doesn't allow the user to delete, modify or overwrite files in NAS.\n",
    "\n",
    "    To use this class you need to:\n",
    "    1) Use the university's network or use the two factor authentication to connect to the university's VPN.\n",
    "    2) You need to create a configuration yaml file, with the following format:\n",
    "\n",
    "    user:\n",
    "        username: name_of_the_user_in_the_nas_server\n",
    "        password: user_password_in_the_nas_server \n",
    "        remote_address : ip or name for the nas server\n",
    "        domain: domain for the nas server\n",
    "    \n",
    "    Parameters\n",
    "    --  --  --  --  -- \n",
    "\n",
    "    ,: bool, optional\n",
    "        parameter description. The default is True. \n",
    "\n",
    "    path_to_config_file : str, Pathlib obj\n",
    "        The path in the local computer that containts the config file.\n",
    "    share_name : str\n",
    "        Name of the share partition to access in NAS. The default is 'share'.\n",
    "    '''\n",
    "    def __init__(self,path_to_config_file,share_name = 'share'):\n",
    "        # Loading credentials\n",
    "        conf = yaml.safe_load(open(str(path_to_config_file)))\n",
    "        usr = conf['user']['username']\n",
    "        pwd = conf['user']['password']\n",
    "        remote_address = conf['user']['remote_address']\n",
    "        domain = conf['user']['domain']\n",
    "        # LOCAL NAME\n",
    "        local_name = socket.gethostbyname(socket.gethostname())\n",
    "        # SERVER NAME\n",
    "        self.share_name = share_name\n",
    "        self.server_name, alias, addresslist = socket.gethostbyaddr(remote_address)\n",
    "        # Deffining the connection to NAS\n",
    "        self.conn = SMBConnection(username=usr, password=pwd, domain=domain, my_name=local_name, remote_name=self.server_name, is_direct_tcp=True)\n",
    "    def connect_to_server(self,timeout=60):\n",
    "        is_connected = self.conn.connect(self.server_name,timeout=timeout)\n",
    "        if is_connected == True:\n",
    "            print('Connection established')\n",
    "        else:\n",
    "            print('Connection failed')\n",
    "        return self.conn\n",
    "        \n",
    "    def copy_files(self, remote_folder_path, local_folder_path, timeout=60):\n",
    "        '''\n",
    "        This method downloads the tif files from NAS to a temp folder in the local computer\n",
    "\n",
    "        Parameters\n",
    "        --  --  --  --  -- \n",
    "\n",
    "        remote_folder_path : str, Pathlib obj\n",
    "            The path in the remote folder to download\n",
    "        local_folder_path : str, Pathlib obj\n",
    "            The path in the local computer where the files will be copied\n",
    "        timeout : int, optional\n",
    "            seconds to establish connection. The default is 60.\n",
    "        '''\n",
    "        # Connecting to NAS\n",
    "        is_connected = self.conn.connect(self.server_name,timeout=timeout)\n",
    "        if is_connected == True:\n",
    "            print('Connection established')\n",
    "        else:\n",
    "            print('Connection failed')\n",
    "        # Converting the paths to a Pathlib object\n",
    "        if type(local_folder_path) == str:\n",
    "            local_folder_path = pathlib.Path(local_folder_path)\n",
    "        if type(remote_folder_path)==str:\n",
    "            remote_folder_path = pathlib.Path(remote_folder_path)\n",
    "        # Creating a temporal folder in path\n",
    "        if  not str(local_folder_path)[-4:] ==  'temp':\n",
    "            local_folder_path = pathlib.Path(local_folder_path).joinpath('temp')\n",
    "        # Making the local directory\n",
    "        if os.path.exists(str(local_folder_path)):\n",
    "            shutil.rmtree(local_folder_path)\n",
    "        os.makedirs(str(local_folder_path))\n",
    "        \n",
    "        # Iterate in the folder to download all tif files\n",
    "        list_dir = self.conn.listPath(self.share_name, str(remote_folder_path))\n",
    "        for file in list_dir:\n",
    "            if (file.filename not in ['.', '..']) and ('.tif' in file.filename) :\n",
    "                print ('File Downloaded :', file.filename)\n",
    "                fileobj = open(file.filename,'wb')\n",
    "                self.conn.retrieveFile(self.share_name, str( pathlib.Path(remote_folder_path).joinpath(file.filename) ),fileobj)\n",
    "                # moving files in the local computer\n",
    "                \n",
    "                #shutil.move(pathlib.Path().absolute().joinpath(file.filename), local_folder_path.joinpath(file.filename))\n",
    "    \n",
    "    def write_files_to_NAS(self, file_to_write_to_NAS, remote_folder_path,  timeout=60):\n",
    "        '''\n",
    "        This method writes files from a local computer to NAS \n",
    "\n",
    "        Parameters\n",
    "        --  --  --  --  -- \n",
    "\n",
    "        remote_folder_path : str, Pathlib obj\n",
    "            The path in the remote folder to download\n",
    "        local_folder_path : str, Pathlib obj\n",
    "            The path in the local computer where the files will be copied\n",
    "        timeout : int, optional\n",
    "            seconds to establish connection. The default is 60.\n",
    "        '''\n",
    "        # Connecting to NAS\n",
    "        is_connected = self.conn.connect(self.server_name,timeout=timeout)\n",
    "        if is_connected == True:\n",
    "            print('Connection established')\n",
    "        else:\n",
    "            print('Connection failed')\n",
    "        # Converting the paths to a Pathlib object\n",
    "        if type(file_to_write_to_NAS) == str:\n",
    "            file_to_write_to_NAS = pathlib.Path(file_to_write_to_NAS)\n",
    "\n",
    "        if type(remote_folder_path)==str:\n",
    "            remote_folder_path = pathlib.Path(remote_folder_path)\n",
    "\n",
    "        # checks that the file doesn't exist on NAS. If it exist it will create a new name as follows original_name__1\n",
    "        # Iterate in the folder to download all tif files\n",
    "        list_dir = self.conn.listPath(self.share_name, str(remote_folder_path))\n",
    "        list_all_files_in_NAS = [file.filename for file in list_dir]\n",
    "\n",
    "        for file in list_dir:\n",
    "            if str(file_to_write_to_NAS.name) not in list_all_files_in_NAS:\n",
    "\n",
    "                #self.conn.storeFile(self.share_name, ,path,file)\n",
    "\n",
    "    "
   ]
  },
  {
   "cell_type": "code",
   "execution_count": null,
   "metadata": {},
   "outputs": [],
   "source": [
    "conn_session= NASConnection(path_to_config_file).connect_to_server()"
   ]
  },
  {
   "cell_type": "code",
   "execution_count": null,
   "metadata": {},
   "outputs": [],
   "source": []
  },
  {
   "cell_type": "code",
   "execution_count": null,
   "metadata": {},
   "outputs": [],
   "source": [
    "remote_folder_path = '/Test/test_dir/'\n",
    "local_folder_path = pathlib.Path().absolute().joinpath('temp')\n",
    "NASConnection(path_to_config_file).copy_files(remote_folder_path, local_folder_path,timeout=60)"
   ]
  },
  {
   "cell_type": "code",
   "execution_count": null,
   "metadata": {},
   "outputs": [],
   "source": [
    "conn_session.close()"
   ]
  },
  {
   "cell_type": "code",
   "execution_count": null,
   "metadata": {},
   "outputs": [],
   "source": [
    "# https://github.com/humberry/smb-example/blob/master/smb-test.py"
   ]
  }
 ],
 "metadata": {
  "interpreter": {
   "hash": "f123aec772437107f61ad48bdc3e74202fc8f652e2fa44805dd8339e0a72f809"
  },
  "kernelspec": {
   "display_name": "Python 3.6.13 64-bit ('FISH_processing': conda)",
   "name": "python3"
  },
  "language_info": {
   "codemirror_mode": {
    "name": "ipython",
    "version": 3
   },
   "file_extension": ".py",
   "mimetype": "text/x-python",
   "name": "python",
   "nbconvert_exporter": "python",
   "pygments_lexer": "ipython3",
   "version": "3.6.13"
  }
 },
 "nbformat": 4,
 "nbformat_minor": 5
}
