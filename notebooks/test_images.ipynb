{
 "cells": [
  {
   "cell_type": "code",
   "execution_count": 1,
   "metadata": {},
   "outputs": [],
   "source": [
    "# Importing libraries\n",
    "import sys\n",
    "import pathlib\n",
    "import warnings\n",
    "import matplotlib.pyplot as plt \n",
    "\n",
    "warnings.filterwarnings(\"ignore\")"
   ]
  },
  {
   "cell_type": "code",
   "execution_count": 2,
   "metadata": {},
   "outputs": [],
   "source": [
    "# Defining directories\n",
    "current_dir = pathlib.Path().absolute()\n",
    "fa_dir = current_dir.parents[0].joinpath('src')\n",
    "\n",
    "# Importing fish_analyses module\n",
    "sys.path.append(str(fa_dir))\n",
    "import fish_analyses as fa\n",
    "\n",
    "# Path to credentials\n",
    "desktop_path = pathlib.Path.home()/'Desktop'\n",
    "path_to_config_file = desktop_path.joinpath('config.yml')"
   ]
  },
  {
   "cell_type": "code",
   "execution_count": 3,
   "metadata": {},
   "outputs": [],
   "source": [
    "data_folder_path = pathlib.Path('/home/luisub/Desktop/FISH_Processing/dataBases/test_huy')\n",
    "\n",
    "#data_folder_path = pathlib.Path('smFISH_images/Linda_smFISH_images/Confocal/20220214/GAPDH-Cy3_NFKBIA-Cy5_WO_10ng_mL_IL-1B_Rep2')\n",
    "\n"
   ]
  },
  {
   "cell_type": "code",
   "execution_count": 4,
   "metadata": {},
   "outputs": [
    {
     "name": "stdout",
     "output_type": "stream",
     "text": [
      "Connection established\n",
      "File Downloaded : ROI030_XY1644865375_Z00_T0_C1.tif\n",
      "File Downloaded : ROI014_XY1644863308_Z00_T0_C2.tif\n",
      "File Downloaded : ROI011_XY1644863305_Z00_T0_C0.tif\n",
      "File Downloaded : ROI002_XY1644863296_Z00_T0_C0.tif\n",
      "File Downloaded : ROI024_XY1644865369_Z00_T0_C0.tif\n",
      "File Downloaded : ROI006_XY1644863300_Z00_T0_C1.tif\n",
      "File Downloaded : ROI029_XY1644865374_Z00_T0_C1.tif\n",
      "File Downloaded : ROI018_XY1644863312_Z00_T0_C2.tif\n",
      "File Downloaded : ROI032_XY1644865377_Z00_T0_C1.tif\n",
      "File Downloaded : ROI013_XY1644863307_Z00_T0_C0.tif\n",
      "File Downloaded : ROI033_XY1644865378_Z00_T0_C1.tif\n",
      "File Downloaded : ROI028_XY1644865373_Z00_T0_C0.tif\n",
      "File Downloaded : ROI005_XY1644863299_Z00_T0_C2.tif\n",
      "File Downloaded : ROI009_XY1644863303_Z00_T0_C1.tif\n",
      "File Downloaded : ROI017_XY1644863311_Z00_T0_C2.tif\n",
      "File Downloaded : ROI034_XY1644865379_Z00_T0_C0.tif\n",
      "File Downloaded : ROI015_XY1644863309_Z00_T0_C1.tif\n",
      "File Downloaded : ROI035_XY1644865380_Z00_T0_C1.tif\n",
      "File Downloaded : ROI025_XY1644865370_Z00_T0_C1.tif\n",
      "File Downloaded : ROI019_XY1644863313_Z00_T0_C1.tif\n",
      "File Downloaded : ROI023_XY1644865368_Z00_T0_C1.tif\n",
      "File Downloaded : ROI007_XY1644863301_Z00_T0_C2.tif\n",
      "File Downloaded : ROI016_XY1644863310_Z00_T0_C1.tif\n",
      "File Downloaded : ROI027_XY1644865372_Z00_T0_C1.tif\n",
      "File Downloaded : ROI008_XY1644863302_Z00_T0_C2.tif\n",
      "File Downloaded : ROI022_XY1644865367_Z00_T0_C1.tif\n",
      "File Downloaded : ROI004_XY1644863298_Z00_T0_C1.tif\n",
      "File Downloaded : ROI033_XY1644865378_Z00_T0_C0.tif\n",
      "File Downloaded : ROI028_XY1644865373_Z00_T0_C1.tif\n",
      "File Downloaded : ROI009_XY1644863303_Z00_T0_C0.tif\n",
      "File Downloaded : ROI032_XY1644865377_Z00_T0_C0.tif\n",
      "File Downloaded : ROI013_XY1644863307_Z00_T0_C1.tif\n",
      "File Downloaded : ROI006_XY1644863300_Z00_T0_C0.tif\n",
      "File Downloaded : ROI029_XY1644865374_Z00_T0_C0.tif\n",
      "File Downloaded : ROI020_XY1644863314_Z00_T0_C2.tif\n",
      "File Downloaded : ROI031_XY1644865376_Z00_T0_C2.tif\n",
      "File Downloaded : ROI024_XY1644865369_Z00_T0_C1.tif\n",
      "File Downloaded : ROI002_XY1644863296_Z00_T0_C1.tif\n",
      "File Downloaded : ROI030_XY1644865375_Z00_T0_C0.tif\n",
      "File Downloaded : ROI011_XY1644863305_Z00_T0_C1.tif\n",
      "File Downloaded : ROI027_XY1644865372_Z00_T0_C0.tif\n",
      "File Downloaded : ROI001_XY1644863295_Z00_T0_C2.tif\n",
      "File Downloaded : ROI004_XY1644863298_Z00_T0_C0.tif\n",
      "File Downloaded : ROI022_XY1644865367_Z00_T0_C0.tif\n",
      "File Downloaded : ROI016_XY1644863310_Z00_T0_C0.tif\n",
      "File Downloaded : ROI026_XY1644865371_Z00_T0_C2.tif\n",
      "File Downloaded : ROI019_XY1644863313_Z00_T0_C0.tif\n",
      "File Downloaded : ROI012_XY1644863306_Z00_T0_C2.tif\n",
      "File Downloaded : ROI023_XY1644865368_Z00_T0_C0.tif\n"
     ]
    }
   ],
   "source": [
    "local_data_dir, masks_dir, _, _, _,list_images = fa.Utilities().read_images_from_folder( path_to_config_file, data_folder_path, path_to_masks_dir=None,  download_data_from_NAS=0)\n",
    "number_color_channels = list_images[0].shape[-1]"
   ]
  },
  {
   "cell_type": "code",
   "execution_count": null,
   "metadata": {},
   "outputs": [],
   "source": [
    "list_images[0].shape"
   ]
  },
  {
   "cell_type": "code",
   "execution_count": null,
   "metadata": {},
   "outputs": [],
   "source": [
    "num_z = list_images[0].shape[0]\n",
    "_, axes = plt.subplots(nrows = 1, ncols = num_z, figsize = (30, 5))\n",
    "for i in range (num_z):\n",
    "    axes[i].imshow(list_images[0][i,:,:,0])\n",
    "    axes[i].grid(False); axes[i].set_xticks([]); axes[i].set_yticks([])"
   ]
  },
  {
   "cell_type": "code",
   "execution_count": null,
   "metadata": {},
   "outputs": [],
   "source": [
    "num_z = list_images[0].shape[0]\n",
    "_, axes = plt.subplots(nrows = 1, ncols = num_z, figsize = (30, 5))\n",
    "for i in range (num_z):\n",
    "    axes[i].imshow(list_images[0][i,:,:,1])\n",
    "    axes[i].grid(False); axes[i].set_xticks([]); axes[i].set_yticks([])"
   ]
  },
  {
   "cell_type": "code",
   "execution_count": null,
   "metadata": {},
   "outputs": [],
   "source": [
    "num_z = list_images[0].shape[0]\n",
    "_, axes = plt.subplots(nrows = 1, ncols = num_z, figsize = (30, 5))\n",
    "for i in range (num_z):\n",
    "    axes[i].imshow(list_images[0][i,:,:,2])\n",
    "    axes[i].grid(False); axes[i].set_xticks([]); axes[i].set_yticks([])"
   ]
  },
  {
   "cell_type": "code",
   "execution_count": null,
   "metadata": {},
   "outputs": [],
   "source": [
    "num_z = list_images[0].shape[0]\n",
    "_, axes = plt.subplots(nrows = 1, ncols = num_z, figsize = (30, 5))\n",
    "for i in range (num_z):\n",
    "    axes[i].imshow(list_images[0][i,:,:,3])\n",
    "    axes[i].grid(False); axes[i].set_xticks([]); axes[i].set_yticks([])"
   ]
  }
 ],
 "metadata": {
  "kernelspec": {
   "display_name": "FISH_processing",
   "language": "python",
   "name": "python3"
  },
  "language_info": {
   "codemirror_mode": {
    "name": "ipython",
    "version": 3
   },
   "file_extension": ".py",
   "mimetype": "text/x-python",
   "name": "python",
   "nbconvert_exporter": "python",
   "pygments_lexer": "ipython3",
   "version": "3.8.12"
  }
 },
 "nbformat": 4,
 "nbformat_minor": 2
}
