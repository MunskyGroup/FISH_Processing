{
 "cells": [
  {
   "cell_type": "markdown",
   "id": "d494faaa",
   "metadata": {},
   "source": [
    "# FISH - Pipeline - A Python interactive notebook to process FISH data\n",
    "\n",
    "```\n",
    "Author: Luis U. Aguilera\n",
    "Contact Info: luis.aguilera@colostate.edu\n",
    "\n",
    "Copyright (c) 2021 Munsky Group \n",
    "Colorado State University \n",
    "Licensed under BSD 3-Clause License.\n",
    "```"
   ]
  },
  {
   "cell_type": "markdown",
   "id": "6e1f620b",
   "metadata": {},
   "source": [
    "### Libraries"
   ]
  },
  {
   "cell_type": "code",
   "execution_count": null,
   "id": "ec7c8aea",
   "metadata": {},
   "outputs": [],
   "source": [
    "# Importing libraries\n",
    "import sys\n",
    "import pathlib\n",
    "import warnings\n",
    "import shutil\n",
    "import numpy as np\n",
    "import matplotlib.pyplot as plt\n",
    "import tifffile\n",
    "\n",
    "warnings.filterwarnings(\"ignore\")"
   ]
  },
  {
   "cell_type": "markdown",
   "id": "9d558787",
   "metadata": {},
   "source": [
    "### Path to source directories"
   ]
  },
  {
   "cell_type": "code",
   "execution_count": null,
   "id": "fbf289c0",
   "metadata": {},
   "outputs": [],
   "source": [
    "# Defining directories\n",
    "current_dir = pathlib.Path().absolute()\n",
    "fa_dir = current_dir.parents[0].joinpath('src')\n",
    "\n",
    "# Importing fish_analyses module\n",
    "sys.path.append(str(fa_dir))\n",
    "import fish_analyses as fa\n",
    "from skimage.io import imread"
   ]
  },
  {
   "cell_type": "code",
   "execution_count": null,
   "id": "3d321ee7",
   "metadata": {},
   "outputs": [],
   "source": [
    "fa.Banner().print_banner()"
   ]
  },
  {
   "cell_type": "markdown",
   "id": "3aa72c56",
   "metadata": {},
   "source": [
    "----\n",
    "\n",
    "# Parameters defined by the user \n",
    "\n",
    "----"
   ]
  },
  {
   "cell_type": "markdown",
   "id": "2d70c1f2",
   "metadata": {},
   "source": [
    "### Paths to images"
   ]
  },
  {
   "cell_type": "code",
   "execution_count": null,
   "id": "a801367c",
   "metadata": {},
   "outputs": [],
   "source": [
    "# Path to credentials\n",
    "desktop_path = pathlib.Path.home()/'Desktop'\n",
    "path_to_config_file = desktop_path.joinpath('config.yml')\n",
    "# Path to images and masks\n",
    "data_folder_path =pathlib.Path('TermData/data/users/Eric/DUSP1_smFISH/20230414_DUSP1_10nM_Dex_180min_040523_60x/20230414_5')\n",
    "#data_folder_path =pathlib.Path('smFISH_images/Sawyer_smFISH_images/A549/Terminator/20230425_DUSP1_A549_DEX_10min_031123')\n",
    "path_to_masks_dir = None \n",
    "download_data_from_NAS = True\n"
   ]
  },
  {
   "cell_type": "code",
   "execution_count": null,
   "id": "9fec593b",
   "metadata": {},
   "outputs": [],
   "source": [
    "# creating a folder to store all plots\n",
    "destination_folder = pathlib.Path().absolute().joinpath('standard_format_'+data_folder_path.name)\n",
    "if pathlib.Path.exists(destination_folder):\n",
    "    shutil.rmtree(str(destination_folder))\n",
    "    destination_folder.mkdir(parents=True, exist_ok=True)\n",
    "else:\n",
    "    destination_folder.mkdir(parents=True, exist_ok=True)"
   ]
  },
  {
   "cell_type": "code",
   "execution_count": null,
   "id": "9ac09427",
   "metadata": {},
   "outputs": [],
   "source": [
    "destination_folder"
   ]
  },
  {
   "cell_type": "code",
   "execution_count": null,
   "id": "5adf6187",
   "metadata": {},
   "outputs": [],
   "source": [
    "local_data_dir, masks_dir, _, _, list_files_names, list_images = fa.Utilities.read_images_from_folder( path_to_config_file, data_folder_path, \n",
    "                                                    path_to_masks_dir,  download_data_from_NAS)\n"
   ]
  },
  {
   "cell_type": "code",
   "execution_count": null,
   "id": "815276da",
   "metadata": {},
   "outputs": [],
   "source": [
    "terminator_image = list_images[0]\n",
    "print(terminator_image.shape)"
   ]
  },
  {
   "cell_type": "code",
   "execution_count": null,
   "id": "e8607ee6",
   "metadata": {},
   "outputs": [],
   "source": [
    "\n",
    "\n",
    "# Visualizing the original image from the terminator scope\n",
    "number_images_to_visualize = 20\n",
    "_ , axes = plt.subplots(nrows=1, ncols=number_images_to_visualize, figsize=(25, 5))\n",
    "for i in range (0,number_images_to_visualize ):\n",
    "    img_2d = terminator_image[i,:,:]\n",
    "    axes[i].imshow(img_2d, cmap='viridis') \n",
    "    axes[i].grid(False)\n",
    "    axes[i].set_xticks([])\n",
    "    axes[i].set_yticks([])\n",
    "plt.show()"
   ]
  },
  {
   "cell_type": "code",
   "execution_count": null,
   "id": "9dd79633",
   "metadata": {},
   "outputs": [],
   "source": [
    "# Reordering the image\n",
    "number_fov = 9\n",
    "number_color_channels = 2\n",
    "number_z_slices = 23\n",
    "number_elements_on_fov = number_color_channels*number_z_slices\n",
    "y_shape, x_shape = terminator_image.shape[1], terminator_image.shape[2]\n",
    "\n",
    "# iterating for each image. Note that the color channels are intercalated in the original image. For that reason a for loop is needed and then selecting even and odd indexes.\n",
    "list_images_standard_format= []\n",
    "counter=0\n",
    "for i in range(number_fov):\n",
    "    temp_image_fov = np.zeros((number_elements_on_fov,y_shape, x_shape))\n",
    "    temp_image_fov = terminator_image[counter*number_elements_on_fov:number_elements_on_fov*(counter+1),:,:]\n",
    "    temp_image = np.zeros((number_z_slices,y_shape, x_shape,number_color_channels))\n",
    "    temp_image[:,:,:,0] = temp_image_fov[::2,:,:] # even indexes\n",
    "    temp_image[:,:,:,1] = temp_image_fov[1::2,:,:] # odd indexes\n",
    "    list_images_standard_format.append(temp_image)\n",
    "    counter+=1\n",
    "print(list_images_standard_format[0].shape) # [Z, Y, X, C]   "
   ]
  },
  {
   "attachments": {},
   "cell_type": "markdown",
   "id": "5bc269b2",
   "metadata": {},
   "source": [
    "# Saving the images as tif"
   ]
  },
  {
   "cell_type": "code",
   "execution_count": null,
   "id": "dac7d4b5",
   "metadata": {},
   "outputs": [],
   "source": [
    "# Saving images as tif files\n",
    "for i in range(number_fov):\n",
    "    image_name = 'image_'+str(i)+'.tif'\n",
    "    tifffile.imsave(str(destination_folder.joinpath(image_name)), list_images_standard_format[i], metadata={'axes': 'ZYXC'})"
   ]
  },
  {
   "attachments": {},
   "cell_type": "markdown",
   "id": "6f1f29e7",
   "metadata": {},
   "source": [
    "# Visualizing the images in standard format"
   ]
  },
  {
   "cell_type": "code",
   "execution_count": null,
   "id": "b501c045",
   "metadata": {},
   "outputs": [],
   "source": [
    "number_images_to_visualize = list_images_standard_format[0].shape[0]\n",
    "_ , axes = plt.subplots(nrows=number_fov, ncols=number_images_to_visualize, figsize=(30, 8))\n",
    "for j in range (number_fov):\n",
    "    for i in range (0,number_images_to_visualize ):\n",
    "        axes[j,i].imshow(list_images_standard_format[j][i,:,:,0], cmap='viridis') \n",
    "        axes[j,i].grid(False)\n",
    "        axes[j,i].set_xticks([])\n",
    "        axes[j,i].set_yticks([])\n",
    "plt.show()"
   ]
  },
  {
   "cell_type": "code",
   "execution_count": null,
   "id": "41b1e3f7",
   "metadata": {},
   "outputs": [],
   "source": [
    "number_images_to_visualize = list_images_standard_format[0].shape[0]\n",
    "_ , axes = plt.subplots(nrows=number_fov, ncols=number_images_to_visualize, figsize=(30, 8))\n",
    "for j in range (number_fov):\n",
    "    for i in range (0,number_images_to_visualize ):\n",
    "        axes[j,i].imshow(list_images_standard_format[j][i,:,:,1], cmap='viridis') \n",
    "        axes[j,i].grid(False)\n",
    "        axes[j,i].set_xticks([])\n",
    "        axes[j,i].set_yticks([])\n",
    "plt.show()"
   ]
  },
  {
   "cell_type": "code",
   "execution_count": null,
   "id": "cc39da92",
   "metadata": {},
   "outputs": [],
   "source": []
  },
  {
   "cell_type": "code",
   "execution_count": null,
   "id": "7cb33e34",
   "metadata": {},
   "outputs": [],
   "source": []
  },
  {
   "cell_type": "code",
   "execution_count": null,
   "id": "96413ed1",
   "metadata": {},
   "outputs": [],
   "source": []
  },
  {
   "cell_type": "code",
   "execution_count": null,
   "id": "e9fb062d",
   "metadata": {},
   "outputs": [],
   "source": []
  }
 ],
 "metadata": {
  "interpreter": {
   "hash": "f123aec772437107f61ad48bdc3e74202fc8f652e2fa44805dd8339e0a72f809"
  },
  "kernelspec": {
   "display_name": "Python 3.6.13 64-bit ('FISH_processing': conda)",
   "name": "python3"
  },
  "language_info": {
   "codemirror_mode": {
    "name": "ipython",
    "version": 3
   },
   "file_extension": ".py",
   "mimetype": "text/x-python",
   "name": "python",
   "nbconvert_exporter": "python",
   "pygments_lexer": "ipython3",
   "version": "3.8.12"
  }
 },
 "nbformat": 4,
 "nbformat_minor": 5
}
