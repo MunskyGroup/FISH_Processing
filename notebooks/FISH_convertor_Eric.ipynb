{
 "cells": [
  {
   "cell_type": "markdown",
   "id": "d494faaa",
   "metadata": {},
   "source": [
    "# FISH - Pipeline - A Python interactive notebook to process FISH data\n",
    "\n",
    "```\n",
    "Author: Luis U. Aguilera\n",
    "Contact Info: luis.aguilera@colostate.edu\n",
    "\n",
    "Copyright (c) 2021 Munsky Group \n",
    "Colorado State University \n",
    "Licensed under BSD 3-Clause License.\n",
    "```"
   ]
  },
  {
   "cell_type": "markdown",
   "id": "6e1f620b",
   "metadata": {},
   "source": [
    "### Libraries"
   ]
  },
  {
   "cell_type": "code",
   "execution_count": 8,
   "id": "ec7c8aea",
   "metadata": {},
   "outputs": [],
   "source": [
    "# Importing libraries\n",
    "import sys\n",
    "import pathlib\n",
    "import warnings\n",
    "import shutil\n",
    "import numpy as np\n",
    "import matplotlib.pyplot as plt\n",
    "import tifffile\n",
    "\n",
    "warnings.filterwarnings(\"ignore\")"
   ]
  },
  {
   "cell_type": "markdown",
   "id": "9d558787",
   "metadata": {},
   "source": [
    "### Path to source directories"
   ]
  },
  {
   "cell_type": "code",
   "execution_count": 9,
   "id": "fbf289c0",
   "metadata": {},
   "outputs": [],
   "source": [
    "# Defining directories\n",
    "current_dir = pathlib.Path().absolute()\n",
    "fa_dir = current_dir.parents[0].joinpath('src')\n",
    "\n",
    "# Importing fish_analyses module\n",
    "sys.path.append(str(fa_dir))\n",
    "import fish_analyses as fa\n",
    "from skimage.io import imread"
   ]
  },
  {
   "cell_type": "code",
   "execution_count": 10,
   "id": "3d321ee7",
   "metadata": {},
   "outputs": [
    {
     "name": "stdout",
     "output_type": "stream",
     "text": [
      " \n",
      "FISH processing repository by : \n",
      "Luis U. Aguilera, Joshua Cook, Tim Stasevich, and Brian Munsky. \n",
      " ____________________________________________________________  \n",
      "|                      ,#^^^^^^^%&&&                         | \n",
      "|  .&.                 &.           ,&&&___                  | \n",
      "|  &  &         ___&&&/                    (&&&&____         | \n",
      "|  &    &,____#&                   .       #.       %&**,    | \n",
      "|  /(                  &         ,%       &       %     ,&   | \n",
      "|    &          &.                       %.      %&%     &*  | \n",
      "|     &&         *         .%            &             &(    | \n",
      "|   &                &(           ,#     .%             ,.&  | \n",
      "|  &    _&&__#&.     &&           &.      ,&         ,%&     | \n",
      "|  &  (%        #&,___                      (-***%&%^        | \n",
      "|  & &                %&&&(,.      .*#&&&&&%.                | \n",
      "|                          &    ,%%%%                        | \n",
      "|___________________________/%%^_____________________________| \n",
      "\n"
     ]
    }
   ],
   "source": [
    "fa.Banner().print_banner()"
   ]
  },
  {
   "cell_type": "markdown",
   "id": "3aa72c56",
   "metadata": {},
   "source": [
    "----\n",
    "\n",
    "# Parameters defined by the user \n",
    "\n",
    "----"
   ]
  },
  {
   "cell_type": "markdown",
   "id": "2d70c1f2",
   "metadata": {},
   "source": [
    "### Paths to images"
   ]
  },
  {
   "cell_type": "code",
   "execution_count": 11,
   "id": "a801367c",
   "metadata": {},
   "outputs": [],
   "source": [
    "# Path to credentials\n",
    "desktop_path = pathlib.Path.home()/'Desktop'\n",
    "path_to_config_file = desktop_path.joinpath('config.yml')\n",
    "# Path to images and masks\n",
    "data_folder_path =pathlib.Path('TermData/data/users/Eric/DUSP1_smFISH/20230414_DUSP1_10nM_Dex_180min_040523_60x/20230414_5')\n",
    "#data_folder_path =pathlib.Path('smFISH_images/Sawyer_smFISH_images/A549/Terminator/20230425_DUSP1_A549_DEX_10min_031123')\n",
    "path_to_masks_dir = None \n",
    "download_data_from_NAS = True\n"
   ]
  },
  {
   "cell_type": "code",
   "execution_count": 12,
   "id": "9fec593b",
   "metadata": {},
   "outputs": [],
   "source": [
    "# creating a folder to store all plots\n",
    "destination_folder = pathlib.Path().absolute().joinpath('standard_format_'+data_folder_path.name)\n",
    "if pathlib.Path.exists(destination_folder):\n",
    "    shutil.rmtree(str(destination_folder))\n",
    "    destination_folder.mkdir(parents=True, exist_ok=True)\n",
    "else:\n",
    "    destination_folder.mkdir(parents=True, exist_ok=True)"
   ]
  },
  {
   "cell_type": "code",
   "execution_count": 13,
   "id": "9ac09427",
   "metadata": {},
   "outputs": [
    {
     "data": {
      "text/plain": [
       "PosixPath('/home/luisub/Desktop/FISH_Processing/notebooks/standard_format_20230425_DUSP1_A549_DEX_10min_031123')"
      ]
     },
     "execution_count": 13,
     "metadata": {},
     "output_type": "execute_result"
    }
   ],
   "source": [
    "destination_folder"
   ]
  },
  {
   "cell_type": "code",
   "execution_count": 14,
   "id": "5adf6187",
   "metadata": {},
   "outputs": [
    {
     "name": "stdout",
     "output_type": "stream",
     "text": [
      "Connection established\n",
      "File Downloaded : SH_A459_10min_DEX_MMStack_Pos33.ome.tif\n",
      "File Downloaded : SH_A459_10min_DEX_MMStack_Pos37.ome.tif\n",
      "File Downloaded : SH_A459_10min_DEX_MMStack_Pos14.ome.tif\n",
      "File Downloaded : SH_A459_10min_DEX_MMStack_Pos10.ome.tif\n",
      "File Downloaded : SH_A459_10min_DEX_MMStack_Pos18.ome.tif\n",
      "File Downloaded : SH_A459_10min_DEX_MMStack_Pos26.ome.tif\n",
      "File Downloaded : SH_A459_10min_DEX_MMStack_Pos22.ome.tif\n",
      "File Downloaded : SH_A459_10min_DEX_MMStack_Pos5.ome.tif\n",
      "File Downloaded : SH_A459_10min_DEX_MMStack_Pos1.ome.tif\n",
      "File Downloaded : SH_A459_10min_DEX_MMStack_Pos9.ome.tif\n",
      "File Downloaded : SH_A459_10min_DEX_MMStack_Pos43.ome.tif\n",
      "File Downloaded : SH_A459_10min_DEX_MMStack_Pos47.ome.tif\n",
      "File Downloaded : SH_A459_10min_DEX_MMStack_Pos27.ome.tif\n",
      "File Downloaded : SH_A459_10min_DEX_MMStack_Pos23.ome.tif\n",
      "File Downloaded : SH_A459_10min_DEX_MMStack_Pos8.ome.tif\n",
      "File Downloaded : SH_A459_10min_DEX_MMStack_Pos4.ome.tif\n",
      "File Downloaded : SH_A459_10min_DEX_MMStack_Pos0.ome.tif\n",
      "File Downloaded : SH_A459_10min_DEX_MMStack_Pos42.ome.tif\n",
      "File Downloaded : SH_A459_10min_DEX_MMStack_Pos46.ome.tif\n",
      "File Downloaded : SH_A459_10min_DEX_MMStack_Pos32.ome.tif\n",
      "File Downloaded : SH_A459_10min_DEX_MMStack_Pos36.ome.tif\n",
      "File Downloaded : SH_A459_10min_DEX_MMStack_Pos19.ome.tif\n",
      "File Downloaded : SH_A459_10min_DEX_MMStack_Pos15.ome.tif\n",
      "File Downloaded : SH_A459_10min_DEX_MMStack_Pos11.ome.tif\n",
      "File Downloaded : SH_A459_10min_DEX_MMStack_Pos25.ome.tif\n",
      "File Downloaded : SH_A459_10min_DEX_MMStack_Pos21.ome.tif\n",
      "File Downloaded : SH_A459_10min_DEX_MMStack_Pos29.ome.tif\n",
      "File Downloaded : SH_A459_10min_DEX_MMStack_Pos48.ome.tif\n",
      "File Downloaded : SH_A459_10min_DEX_MMStack_Pos40.ome.tif\n",
      "File Downloaded : SH_A459_10min_DEX_MMStack_Pos44.ome.tif\n",
      "File Downloaded : SH_A459_10min_DEX_MMStack_Pos6.ome.tif\n",
      "File Downloaded : SH_A459_10min_DEX_MMStack_Pos2.ome.tif\n",
      "File Downloaded : SH_A459_10min_DEX_MMStack_Pos17.ome.tif\n",
      "File Downloaded : SH_A459_10min_DEX_MMStack_Pos13.ome.tif\n",
      "File Downloaded : SH_A459_10min_DEX_MMStack_Pos38.ome.tif\n",
      "File Downloaded : SH_A459_10min_DEX_MMStack_Pos30.ome.tif\n",
      "File Downloaded : SH_A459_10min_DEX_MMStack_Pos34.ome.tif\n",
      "File Downloaded : SH_A459_10min_DEX_MMStack_Pos50.ome.tif\n",
      "File Downloaded : SH_A459_10min_DEX_MMStack_Pos16.ome.tif\n",
      "File Downloaded : SH_A459_10min_DEX_MMStack_Pos12.ome.tif\n",
      "File Downloaded : SH_A459_10min_DEX_MMStack_Pos31.ome.tif\n",
      "File Downloaded : SH_A459_10min_DEX_MMStack_Pos35.ome.tif\n",
      "File Downloaded : SH_A459_10min_DEX_MMStack_Pos39.ome.tif\n",
      "File Downloaded : SH_A459_10min_DEX_MMStack_Pos28.ome.tif\n",
      "File Downloaded : SH_A459_10min_DEX_MMStack_Pos24.ome.tif\n",
      "File Downloaded : SH_A459_10min_DEX_MMStack_Pos20.ome.tif\n",
      "File Downloaded : SH_A459_10min_DEX_MMStack_Pos41.ome.tif\n",
      "File Downloaded : SH_A459_10min_DEX_MMStack_Pos45.ome.tif\n",
      "File Downloaded : SH_A459_10min_DEX_MMStack_Pos49.ome.tif\n",
      "File Downloaded : SH_A459_10min_DEX_MMStack_Pos7.ome.tif\n",
      "File Downloaded : SH_A459_10min_DEX_MMStack_Pos3.ome.tif\n"
     ]
    },
    {
     "name": "stderr",
     "output_type": "stream",
     "text": [
      "<tifffile.TiffFile 'SH_A459_10min_DE…ck_Pos1.ome.tif'> OME series is BinaryOnly, not an OME-TIFF master file \n",
      "<tifffile.TiffFile 'SH_A459_10min_DE…ck_Pos2.ome.tif'> OME series is BinaryOnly, not an OME-TIFF master file \n",
      "<tifffile.TiffFile 'SH_A459_10min_DE…ck_Pos3.ome.tif'> OME series is BinaryOnly, not an OME-TIFF master file \n",
      "<tifffile.TiffFile 'SH_A459_10min_DE…ck_Pos4.ome.tif'> OME series is BinaryOnly, not an OME-TIFF master file \n",
      "<tifffile.TiffFile 'SH_A459_10min_DE…ck_Pos5.ome.tif'> OME series is BinaryOnly, not an OME-TIFF master file \n",
      "<tifffile.TiffFile 'SH_A459_10min_DE…ck_Pos6.ome.tif'> OME series is BinaryOnly, not an OME-TIFF master file \n",
      "<tifffile.TiffFile 'SH_A459_10min_DE…ck_Pos7.ome.tif'> OME series is BinaryOnly, not an OME-TIFF master file \n",
      "<tifffile.TiffFile 'SH_A459_10min_DE…ck_Pos8.ome.tif'> OME series is BinaryOnly, not an OME-TIFF master file \n",
      "<tifffile.TiffFile 'SH_A459_10min_DE…ck_Pos9.ome.tif'> OME series is BinaryOnly, not an OME-TIFF master file \n"
     ]
    },
    {
     "name": "stdout",
     "output_type": "stream",
     "text": [
      "Files downloaded to: /home/luisub/Desktop/FISH_Processing/notebooks/temp_20230425_DUSP1_A549_DEX_10min_031123\n"
     ]
    },
    {
     "name": "stderr",
     "output_type": "stream",
     "text": [
      "<tifffile.TiffFile 'SH_A459_10min_D…ck_Pos10.ome.tif'> OME series is BinaryOnly, not an OME-TIFF master file \n",
      "<tifffile.TiffFile 'SH_A459_10min_D…ck_Pos11.ome.tif'> OME series is BinaryOnly, not an OME-TIFF master file \n",
      "<tifffile.TiffFile 'SH_A459_10min_D…ck_Pos12.ome.tif'> OME series is BinaryOnly, not an OME-TIFF master file \n",
      "<tifffile.TiffFile 'SH_A459_10min_D…ck_Pos13.ome.tif'> OME series is BinaryOnly, not an OME-TIFF master file \n",
      "<tifffile.TiffFile 'SH_A459_10min_D…ck_Pos14.ome.tif'> OME series is BinaryOnly, not an OME-TIFF master file \n",
      "<tifffile.TiffFile 'SH_A459_10min_D…ck_Pos15.ome.tif'> OME series is BinaryOnly, not an OME-TIFF master file \n",
      "<tifffile.TiffFile 'SH_A459_10min_D…ck_Pos16.ome.tif'> OME series is BinaryOnly, not an OME-TIFF master file \n",
      "<tifffile.TiffFile 'SH_A459_10min_D…ck_Pos17.ome.tif'> OME series is BinaryOnly, not an OME-TIFF master file \n",
      "<tifffile.TiffFile 'SH_A459_10min_D…ck_Pos18.ome.tif'> OME series is BinaryOnly, not an OME-TIFF master file \n",
      "<tifffile.TiffFile 'SH_A459_10min_D…ck_Pos19.ome.tif'> OME series is BinaryOnly, not an OME-TIFF master file \n",
      "<tifffile.TiffFile 'SH_A459_10min_D…ck_Pos20.ome.tif'> OME series is BinaryOnly, not an OME-TIFF master file \n",
      "<tifffile.TiffFile 'SH_A459_10min_D…ck_Pos21.ome.tif'> OME series is BinaryOnly, not an OME-TIFF master file \n",
      "<tifffile.TiffFile 'SH_A459_10min_D…ck_Pos22.ome.tif'> OME series is BinaryOnly, not an OME-TIFF master file \n",
      "<tifffile.TiffFile 'SH_A459_10min_D…ck_Pos23.ome.tif'> OME series is BinaryOnly, not an OME-TIFF master file \n",
      "<tifffile.TiffFile 'SH_A459_10min_D…ck_Pos24.ome.tif'> OME series is BinaryOnly, not an OME-TIFF master file \n",
      "<tifffile.TiffFile 'SH_A459_10min_D…ck_Pos25.ome.tif'> OME series is BinaryOnly, not an OME-TIFF master file \n",
      "<tifffile.TiffFile 'SH_A459_10min_D…ck_Pos26.ome.tif'> OME series is BinaryOnly, not an OME-TIFF master file \n",
      "<tifffile.TiffFile 'SH_A459_10min_D…ck_Pos27.ome.tif'> OME series is BinaryOnly, not an OME-TIFF master file \n",
      "<tifffile.TiffFile 'SH_A459_10min_D…ck_Pos28.ome.tif'> OME series is BinaryOnly, not an OME-TIFF master file \n",
      "<tifffile.TiffFile 'SH_A459_10min_D…ck_Pos29.ome.tif'> OME series is BinaryOnly, not an OME-TIFF master file \n",
      "<tifffile.TiffFile 'SH_A459_10min_D…ck_Pos30.ome.tif'> OME series is BinaryOnly, not an OME-TIFF master file \n",
      "<tifffile.TiffFile 'SH_A459_10min_D…ck_Pos31.ome.tif'> OME series is BinaryOnly, not an OME-TIFF master file \n",
      "<tifffile.TiffFile 'SH_A459_10min_D…ck_Pos32.ome.tif'> OME series is BinaryOnly, not an OME-TIFF master file \n",
      "<tifffile.TiffFile 'SH_A459_10min_D…ck_Pos33.ome.tif'> OME series is BinaryOnly, not an OME-TIFF master file \n",
      "<tifffile.TiffFile 'SH_A459_10min_D…ck_Pos34.ome.tif'> OME series is BinaryOnly, not an OME-TIFF master file \n",
      "<tifffile.TiffFile 'SH_A459_10min_D…ck_Pos35.ome.tif'> OME series is BinaryOnly, not an OME-TIFF master file \n",
      "<tifffile.TiffFile 'SH_A459_10min_D…ck_Pos36.ome.tif'> OME series is BinaryOnly, not an OME-TIFF master file \n",
      "<tifffile.TiffFile 'SH_A459_10min_D…ck_Pos37.ome.tif'> OME series is BinaryOnly, not an OME-TIFF master file \n",
      "<tifffile.TiffFile 'SH_A459_10min_D…ck_Pos38.ome.tif'> OME series is BinaryOnly, not an OME-TIFF master file \n",
      "<tifffile.TiffFile 'SH_A459_10min_D…ck_Pos39.ome.tif'> OME series is BinaryOnly, not an OME-TIFF master file \n",
      "<tifffile.TiffFile 'SH_A459_10min_D…ck_Pos40.ome.tif'> OME series is BinaryOnly, not an OME-TIFF master file \n",
      "<tifffile.TiffFile 'SH_A459_10min_D…ck_Pos41.ome.tif'> OME series is BinaryOnly, not an OME-TIFF master file \n",
      "<tifffile.TiffFile 'SH_A459_10min_D…ck_Pos42.ome.tif'> OME series is BinaryOnly, not an OME-TIFF master file \n",
      "<tifffile.TiffFile 'SH_A459_10min_D…ck_Pos43.ome.tif'> OME series is BinaryOnly, not an OME-TIFF master file \n",
      "<tifffile.TiffFile 'SH_A459_10min_D…ck_Pos44.ome.tif'> OME series is BinaryOnly, not an OME-TIFF master file \n",
      "<tifffile.TiffFile 'SH_A459_10min_D…ck_Pos45.ome.tif'> OME series is BinaryOnly, not an OME-TIFF master file \n",
      "<tifffile.TiffFile 'SH_A459_10min_D…ck_Pos46.ome.tif'> OME series is BinaryOnly, not an OME-TIFF master file \n",
      "<tifffile.TiffFile 'SH_A459_10min_D…ck_Pos47.ome.tif'> OME series is BinaryOnly, not an OME-TIFF master file \n",
      "<tifffile.TiffFile 'SH_A459_10min_D…ck_Pos48.ome.tif'> OME series is BinaryOnly, not an OME-TIFF master file \n",
      "<tifffile.TiffFile 'SH_A459_10min_D…ck_Pos49.ome.tif'> OME series is BinaryOnly, not an OME-TIFF master file \n",
      "<tifffile.TiffFile 'SH_A459_10min_D…ck_Pos50.ome.tif'> OME series is BinaryOnly, not an OME-TIFF master file \n"
     ]
    },
    {
     "name": "stdout",
     "output_type": "stream",
     "text": [
      "Image shape:  (30, 512, 512) \n",
      "\n",
      "Number of images:  51 \n",
      "\n",
      "Local directory with images:  /home/luisub/Desktop/FISH_Processing/notebooks/temp_20230425_DUSP1_A549_DEX_10min_031123 \n",
      "\n"
     ]
    }
   ],
   "source": [
    "local_data_dir, masks_dir, _, _, list_files_names, list_images = fa.Utilities.read_images_from_folder( path_to_config_file, data_folder_path, \n",
    "                                                    path_to_masks_dir,  download_data_from_NAS)\n"
   ]
  },
  {
   "cell_type": "code",
   "execution_count": 15,
   "id": "815276da",
   "metadata": {},
   "outputs": [
    {
     "name": "stdout",
     "output_type": "stream",
     "text": [
      "(30, 512, 512)\n"
     ]
    }
   ],
   "source": [
    "terminator_image = list_images[0]\n",
    "print(terminator_image.shape)"
   ]
  },
  {
   "cell_type": "code",
   "execution_count": 16,
   "id": "8fa8b01c",
   "metadata": {},
   "outputs": [
    {
     "ename": "RuntimeError",
     "evalue": "No active exception to reraise",
     "output_type": "error",
     "traceback": [
      "\u001b[0;31m---------------------------------------------------------------------------\u001b[0m",
      "\u001b[0;31mRuntimeError\u001b[0m                              Traceback (most recent call last)",
      "\u001b[1;32m/home/luisub/Desktop/FISH_Processing/notebooks/FISH_convertor_Eric.ipynb Cell 14\u001b[0m in \u001b[0;36m<module>\u001b[0;34m\u001b[0m\n\u001b[0;32m----> <a href='vscode-notebook-cell://ssh-remote%2B7b22686f73744e616d65223a2253636f74745f4c756973227d/home/luisub/Desktop/FISH_Processing/notebooks/FISH_convertor_Eric.ipynb#X35sdnNjb2RlLXJlbW90ZQ%3D%3D?line=0'>1</a>\u001b[0m \u001b[39mraise\u001b[39;00m\n",
      "\u001b[0;31mRuntimeError\u001b[0m: No active exception to reraise"
     ]
    }
   ],
   "source": [
    "raise"
   ]
  },
  {
   "cell_type": "code",
   "execution_count": null,
   "id": "e8607ee6",
   "metadata": {},
   "outputs": [],
   "source": [
    "\n",
    "\n",
    "# Visualizing the original image from the terminator scope\n",
    "number_images_to_visualize = 20\n",
    "_ , axes = plt.subplots(nrows=1, ncols=number_images_to_visualize, figsize=(25, 5))\n",
    "for i in range (0,number_images_to_visualize ):\n",
    "    img_2d = terminator_image[i,:,:]\n",
    "    axes[i].imshow(img_2d, cmap='viridis') \n",
    "    axes[i].grid(False)\n",
    "    axes[i].set_xticks([])\n",
    "    axes[i].set_yticks([])\n",
    "plt.show()"
   ]
  },
  {
   "cell_type": "code",
   "execution_count": null,
   "id": "9dd79633",
   "metadata": {},
   "outputs": [],
   "source": [
    "# Reordering the image\n",
    "number_fov = 9\n",
    "number_color_channels = 2\n",
    "number_z_slices = 23\n",
    "number_elements_on_fov = number_color_channels*number_z_slices\n",
    "y_shape, x_shape = terminator_image.shape[1], terminator_image.shape[2]\n",
    "\n",
    "# iterating for each image. Note that the color channels are intercalated in the original image. For that reason a for loop is needed and then selecting even and odd indexes.\n",
    "list_images_standard_format= []\n",
    "counter=0\n",
    "for i in range(number_fov):\n",
    "    temp_image_fov = np.zeros((number_elements_on_fov,y_shape, x_shape))\n",
    "    temp_image_fov = terminator_image[counter*number_elements_on_fov:number_elements_on_fov*(counter+1),:,:]\n",
    "    temp_image = np.zeros((number_z_slices,y_shape, x_shape,number_color_channels))\n",
    "    temp_image[:,:,:,0] = temp_image_fov[::2,:,:] # even indexes\n",
    "    temp_image[:,:,:,1] = temp_image_fov[1::2,:,:] # odd indexes\n",
    "    list_images_standard_format.append(temp_image)\n",
    "    counter+=1\n",
    "print(list_images_standard_format[0].shape) # [Z, Y, X, C]   "
   ]
  },
  {
   "attachments": {},
   "cell_type": "markdown",
   "id": "5bc269b2",
   "metadata": {},
   "source": [
    "# Saving the images as tif"
   ]
  },
  {
   "cell_type": "code",
   "execution_count": null,
   "id": "dac7d4b5",
   "metadata": {},
   "outputs": [],
   "source": [
    "# Saving images as tif files\n",
    "for i in range(number_fov):\n",
    "    image_name = 'image_'+str(i)+'.tif'\n",
    "    tifffile.imsave(str(destination_folder.joinpath(image_name)), list_images_standard_format[i], metadata={'axes': 'ZYXC'})"
   ]
  },
  {
   "attachments": {},
   "cell_type": "markdown",
   "id": "6f1f29e7",
   "metadata": {},
   "source": [
    "# Visualizing the images in standard format"
   ]
  },
  {
   "cell_type": "code",
   "execution_count": null,
   "id": "b501c045",
   "metadata": {},
   "outputs": [],
   "source": [
    "number_images_to_visualize = list_images_standard_format[0].shape[0]\n",
    "_ , axes = plt.subplots(nrows=number_fov, ncols=number_images_to_visualize, figsize=(30, 8))\n",
    "for j in range (number_fov):\n",
    "    for i in range (0,number_images_to_visualize ):\n",
    "        axes[j,i].imshow(list_images_standard_format[j][i,:,:,0], cmap='viridis') \n",
    "        axes[j,i].grid(False)\n",
    "        axes[j,i].set_xticks([])\n",
    "        axes[j,i].set_yticks([])\n",
    "plt.show()"
   ]
  },
  {
   "cell_type": "code",
   "execution_count": null,
   "id": "41b1e3f7",
   "metadata": {},
   "outputs": [],
   "source": [
    "number_images_to_visualize = list_images_standard_format[0].shape[0]\n",
    "_ , axes = plt.subplots(nrows=number_fov, ncols=number_images_to_visualize, figsize=(30, 8))\n",
    "for j in range (number_fov):\n",
    "    for i in range (0,number_images_to_visualize ):\n",
    "        axes[j,i].imshow(list_images_standard_format[j][i,:,:,1], cmap='viridis') \n",
    "        axes[j,i].grid(False)\n",
    "        axes[j,i].set_xticks([])\n",
    "        axes[j,i].set_yticks([])\n",
    "plt.show()"
   ]
  },
  {
   "cell_type": "code",
   "execution_count": null,
   "id": "cc39da92",
   "metadata": {},
   "outputs": [],
   "source": []
  },
  {
   "cell_type": "code",
   "execution_count": null,
   "id": "7cb33e34",
   "metadata": {},
   "outputs": [],
   "source": []
  },
  {
   "cell_type": "code",
   "execution_count": null,
   "id": "96413ed1",
   "metadata": {},
   "outputs": [],
   "source": []
  },
  {
   "cell_type": "code",
   "execution_count": null,
   "id": "e9fb062d",
   "metadata": {},
   "outputs": [],
   "source": []
  }
 ],
 "metadata": {
  "interpreter": {
   "hash": "f123aec772437107f61ad48bdc3e74202fc8f652e2fa44805dd8339e0a72f809"
  },
  "kernelspec": {
   "display_name": "Python 3.6.13 64-bit ('FISH_processing': conda)",
   "name": "python3"
  },
  "language_info": {
   "codemirror_mode": {
    "name": "ipython",
    "version": 3
   },
   "file_extension": ".py",
   "mimetype": "text/x-python",
   "name": "python",
   "nbconvert_exporter": "python",
   "pygments_lexer": "ipython3",
   "version": "3.8.12"
  }
 },
 "nbformat": 4,
 "nbformat_minor": 5
}
