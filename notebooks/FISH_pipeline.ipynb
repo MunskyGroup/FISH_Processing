{
 "cells": [
  {
   "cell_type": "markdown",
   "id": "d494faaa",
   "metadata": {},
   "source": [
    "# FISH - Pipeline - A Python interactive notebook to process FISH data\n",
    "\n",
    "```\n",
    "Author: Luis U. Aguilera\n",
    "Contact Info: luis.aguilera@colostate.edu\n",
    "\n",
    "Copyright (c) 2021 Munsky Group \n",
    "Colorado State University \n",
    "Licensed under BSD 3-Clause License.\n",
    "```"
   ]
  },
  {
   "cell_type": "markdown",
   "id": "d5465534",
   "metadata": {},
   "source": [
    "### Notebook summary \n",
    "\n",
    "\n",
    "- Load a directory with microscope FISH images\n",
    "- Establish a connection to Network-attached storage (NAS) using [pysmb](https://github.com/miketeo/pysmb)\n",
    "- Perform cell segmentation using [Cellpose](https://github.com/MouseLand/cellpose)\n",
    "- Perform spot detection using [Big-FISH](https://github.com/fish-quant/big-fish)\n",
    "- Datamanagement using Pandas\n",
    "\n",
    "----"
   ]
  },
  {
   "cell_type": "markdown",
   "id": "3b1ccb32",
   "metadata": {},
   "source": [
    "<img src= /home/luisub/Desktop/FISH_Processing/docs/images/code_architecture.png alt=\"drawing\" width=\"1000\"/>"
   ]
  },
  {
   "cell_type": "markdown",
   "id": "6e1f620b",
   "metadata": {},
   "source": [
    "### Libraries"
   ]
  },
  {
   "cell_type": "code",
   "execution_count": null,
   "id": "ec7c8aea",
   "metadata": {},
   "outputs": [],
   "source": [
    "# Importing libraries\n",
    "import sys\n",
    "import matplotlib.pyplot as plt \n",
    "import numpy as np \n",
    "import tifffile\n",
    "import pathlib\n",
    "import warnings\n",
    "import shutil\n",
    "import zipfile\n",
    "import os\n",
    "import seaborn as sns\n",
    "import pandas as pd\n",
    "warnings.filterwarnings(\"ignore\")"
   ]
  },
  {
   "cell_type": "markdown",
   "id": "9d558787",
   "metadata": {},
   "source": [
    "### Path to source directories"
   ]
  },
  {
   "cell_type": "code",
   "execution_count": null,
   "id": "fbf289c0",
   "metadata": {},
   "outputs": [],
   "source": [
    "# Defining directories\n",
    "current_dir = pathlib.Path().absolute()\n",
    "fa_dir = current_dir.parents[0].joinpath('src')\n",
    "\n",
    "# Importing fish_analyses module\n",
    "sys.path.append(str(fa_dir))\n",
    "import fish_analyses as fa"
   ]
  },
  {
   "cell_type": "markdown",
   "id": "3aa72c56",
   "metadata": {},
   "source": [
    "----\n",
    "\n",
    "# Parameters defined by the user \n",
    "\n",
    "----"
   ]
  },
  {
   "cell_type": "markdown",
   "id": "2d70c1f2",
   "metadata": {},
   "source": [
    "### Paths to images"
   ]
  },
  {
   "cell_type": "code",
   "execution_count": null,
   "id": "443e4f12",
   "metadata": {},
   "outputs": [],
   "source": [
    "# Path to credentials\n",
    "desktop_path = pathlib.Path.home()/'Desktop'\n",
    "path_to_config_file = desktop_path.joinpath('config.yml')\n",
    "\n",
    "### Remote directories\n",
    "#data_folder_path = pathlib.Path('Test','test_dir')\n",
    "#data_folder_path =pathlib.Path('smFISH_images/Linda_smFISH_images/Confocal/20220314/GAPDH-Cy3_COX-2-Cy5_wo_IL-1B' )\n",
    "#data_folder_path =pathlib.Path('smFISH_images/Linda_smFISH_images/Confocal/20220314/GAPDH-Cy3_COX-2-Cy5_30ng_ml_IL-1B_2h' )\n",
    "#data_folder_path =pathlib.Path('smFISH_images/Linda_smFISH_images/Confocal/20220314/GAPDH-Cy3_COX-2-Cy5_30ng_ml_IL-1B_6h' )\n",
    "#data_folder_path =pathlib.Path('smFISH_images/Linda_smFISH_images/Confocal/20220314/GAPDH-Cy3_COX-2-Cy5_100ng_ml_IL-1B_2h' )\n",
    "#data_folder_path =pathlib.Path('smFISH_images/Linda_smFISH_images/Confocal/20220314/GAPDH-Cy3_COX-2-Cy5_100ng_ml_IL-1B_6h' )\n",
    "#data_folder_path =pathlib.Path('smFISH_images/Linda_smFISH_images/Confocal/20220315/GAPDH-Cy3_COX-2-Cy5_300ng_ml_IL-1B_2h' )\n",
    "#data_folder_path =pathlib.Path('smFISH_images/Linda_smFISH_images/Confocal/20220315/GAPDH-Cy3_COX-2-Cy5_300ng_ml_IL-1B_6h' )\n",
    "#data_folder_path =pathlib.Path('smFISH_images/Linda_smFISH_images/Confocal/20220114/GAPDH-Cy3_NFKBIA-Cy5_woDex' )\n",
    "#data_folder_path =pathlib.Path('smFISH_images/Linda_smFISH_images/Confocal/20220216/GAPDH-Cy3_NFKBIA-Cy5_10min_100nM_DEX_Rep2')\n",
    "#data_folder_path =pathlib.Path('smFISH_images/Eric_smFISH_images/20211109/MS2_Cy3_TPL_0min')\n",
    "\n",
    "#data_folder_path =pathlib.Path('smFISH_images/Linda_smFISH_images/Confocal/20220714/MS2-CY5_Cyto543_560_woStim')\n",
    "#data_folder_path = pathlib.Path('smFISH_images/Linda_smFISH_images/Confocal/20220714/MS2-CY5_Cyto543_560_woStim')\n",
    "#data_folder_path = pathlib.Path('smFISH_images/Linda_smFISH_images/Confocal/20220721/RPE_GoldMedium_32P_COX-2_2h_30ng_mL_IL-B')\n",
    "#data_folder_path = pathlib.Path('/home/luisub/Desktop/FISH_Processing/notebooks/temp_RPE_GoldMedium_32P_COX-2_2h_30ng_mL_IL-B')\n",
    "#data_folder_path = pathlib.Path('smFISH_images/Linda_smFISH_images/Confocal/20220714/MS2-CY5_Cyto543_560_5hTPL_5uM')\n",
    "#data_folder_path = pathlib.Path('/home/luisub/Desktop/FISH_Processing/notebooks/temp_MS2-CY5_Cyto543_560_5hTPL_5uM/merged')\n",
    "#data_folder_path = pathlib.Path('smFISH_images/Linda_smFISH_images/Confocal/20220801/RPE_GoldMedium_32P_COX-2_30ng_mL_IL-1B-4h_Cyto543_560')\n",
    "data_folder_path = pathlib.Path('smFISH_images/Linda_smFISH_images/Confocal/20220728/RPE_GoldMedium_32P_COX-2_30ng_mL_IL-1B-1h_Cyto543_560')\n",
    "#data_folder_path = pathlib.Path('/home/luisub/Desktop/FISH_Processing/notebooks/test_marker2')\n",
    "path_to_masks_dir = None   # full path to a zip file\n",
    "#path_to_masks_dir =pathlib.Path('/home/luisub/Desktop/FISH_Processing/notebooks/masks_test_marker2')\n",
    "#path_to_masks_dir = pathlib.Path('/home/luisub/Desktop/FISH_Processing/notebooks/masks_MS2-CY5_Cyto543_560_5hTPL_5uM___nuc_90__cyto_160')\n",
    "#path_to_masks_dir = pathlib.Path('Test/test_dir/masks_test_dir___nuc_120__cyto_220.zip')\n",
    "#path_to_masks_dir = pathlib.Path('/home/luisub/Desktop/FISH_Processing/notebooks/masks_RPE_GoldMedium_32P_COX-2_2h_30ng_mL_IL-B')\n",
    "#download_data_from_NAS = True\n",
    "#send_data_to_NAS=True\n",
    "\n",
    "#### Local directories\n",
    "#data_folder_path = current_dir.parents[0].joinpath('dataBases').joinpath('test_data')\n",
    "#path_to_masks_dir = current_dir.parents[0].joinpath('dataBases').joinpath('masks_test_data')\n",
    "#data_folder_path = current_dir.parents[0].joinpath('dataBases').joinpath('GabeIFimages_512')  # GabeIFimages_1024 # GabeIFimages_512\n",
    "#/home/luisub/Desktop/FISH_Processing/dataBases/GabeIFimages/Cell02.tif\n",
    "#path_to_masks_dir = None # current_dir.parents[0].joinpath('dataBases').joinpath('masks_test_data')\n",
    "\n",
    "download_data_from_NAS = True\n",
    "send_data_to_NAS=False"
   ]
  },
  {
   "cell_type": "markdown",
   "id": "b93f8f3b",
   "metadata": {},
   "source": [
    "### Parameters for segmentation and spot detection"
   ]
  },
  {
   "cell_type": "code",
   "execution_count": null,
   "id": "d1a25767",
   "metadata": {},
   "outputs": [],
   "source": [
    "# Parameters fo cell segmentation \n",
    "channels_with_cytosol =   [2,0]             # list or int indicating the channels where the cytosol is detectable\n",
    "channels_with_nucleus = [0,0]           # list or int indicating the channels where the nucleus is detectable\n",
    "channels_with_FISH = [1]              # list or int with the channels with FISH spots that are used for the quantification\n",
    "diameter_nucleus = 90                # approximate nucleus size in pixels\n",
    "diameter_cytosol = 220                # approximate cytosol size in pixels\n",
    "\n",
    "# Parameters for FISH detection\n",
    "voxel_size_z = 500    #300                      # Microscope conversion px to nanometers in the z axis.\n",
    "voxel_size_yx = 103 #103   #103                 # Microscope conversion px to nanometers in the xy axis.\n",
    "psf_z = 350      #350                           # Theoretical size of the PSF emitted by a [rna] spot in the z plan, in nanometers.\n",
    "psf_yx = 120     #150                           # Theoretical size of the PSF emitted by a [rna] spot in the yx plan, in nanometers.\n",
    "list_voxels = [ voxel_size_z,voxel_size_yx ]\n",
    "list_psfs = [psf_z, psf_yx ]\n",
    "\n",
    "# Cluster Detection\n",
    "minimum_spots_cluster = 2                  # The number of spots in a neighborhood for a point to be considered as a core point (from which a cluster is expanded). This includes the point itself.\n",
    "show_plots = False                          # Flag to display plots\n",
    "optimization_segmentation_method = 'z_slice_segmentation_marker' #'z_slice_segmentation_marker' #'z_slice_segmentation' #'z_slice_segmentation' #'z_slice_segmentation'    # optimization_segmentation_method = 'intensity_segmentation' 'z_slice_segmentation', 'gaussian_filter_segmentation' ,  'center_slice', None\n",
    "save_all_images=False                     # If true, it shows a all planes for the FISH plot detection. \n",
    "threshold_for_spot_detection = None       # Intensity threshold to detect  spots. If None, it will automatically detect the spots.\n",
    "use_brute_force=False"
   ]
  },
  {
   "cell_type": "code",
   "execution_count": null,
   "id": "dffe74a4",
   "metadata": {},
   "outputs": [],
   "source": [
    "# names for final folders\n",
    "name_final_folder = data_folder_path.name +'___nuc_' + str(diameter_nucleus) + '__cyto_' + str(diameter_cytosol) + '__psfz_' + str(psf_z) + '__psfyx_' + str(psf_yx) \n"
   ]
  },
  {
   "cell_type": "markdown",
   "id": "e9678a14",
   "metadata": {},
   "source": [
    "## Connecting to NAS and Downloading data"
   ]
  },
  {
   "cell_type": "code",
   "execution_count": null,
   "id": "20ffcccf",
   "metadata": {},
   "outputs": [],
   "source": [
    "def download_data_NAS(path_to_config_file,data_folder_path, path_to_masks_dir,share_name,timeout=200):\n",
    "    # Downloading data from NAS\n",
    "    local_folder_path = pathlib.Path().absolute().joinpath('temp_' + data_folder_path.name)\n",
    "    fa.NASConnection(path_to_config_file,share_name = share_name).copy_files(data_folder_path, local_folder_path,timeout=timeout)\n",
    "    local_data_dir = local_folder_path     # path to a folder with images.\n",
    "    # Downloading masks from NAS\n",
    "    if not (path_to_masks_dir is None):\n",
    "        local_folder_path_masks = pathlib.Path().absolute().joinpath( path_to_masks_dir.stem  )\n",
    "        zip_file_path = local_folder_path_masks.joinpath( path_to_masks_dir.stem +'.zip')\n",
    "        print(zip_file_path)\n",
    "        fa.NASConnection(path_to_config_file,share_name = share_name).download_file(path_to_masks_dir, local_folder_path_masks,timeout=timeout)\n",
    "        # Unzip downloaded images and update mask directory\n",
    "        file_to_unzip = zipfile.ZipFile(str(zip_file_path)) # opens zip\n",
    "        # Iterates for each file in zip file\n",
    "        for file_in_zip in file_to_unzip.namelist():\n",
    "            # Extracts data to specific folder\n",
    "            file_to_unzip.extract(file_in_zip,local_folder_path_masks)\n",
    "        # Closes the zip file\n",
    "        file_to_unzip.close()\n",
    "        # removes the original zip file\n",
    "        os.remove(zip_file_path)\n",
    "        masks_dir = local_folder_path_masks\n",
    "    else:\n",
    "        masks_dir = None\n",
    "    return local_data_dir, masks_dir"
   ]
  },
  {
   "cell_type": "code",
   "execution_count": null,
   "id": "bfa41aa0",
   "metadata": {},
   "outputs": [],
   "source": [
    "# Download data from NAS\n",
    "if download_data_from_NAS == True:\n",
    "    share_name = 'share'\n",
    "    local_data_dir, masks_dir = download_data_NAS(path_to_config_file,data_folder_path, path_to_masks_dir,share_name,timeout=200)\n",
    "else:\n",
    "    local_data_dir = data_folder_path \n",
    "    masks_dir = path_to_masks_dir "
   ]
  },
  {
   "cell_type": "code",
   "execution_count": null,
   "id": "340c31eb",
   "metadata": {},
   "outputs": [],
   "source": [
    "# Detecting if images need to be merged\n",
    "is_needed_to_merge_images = fa.MergeChannels(local_data_dir, substring_to_detect_in_file_name = '.*_C0.tif', save_figure =1).checking_images()\n",
    "if is_needed_to_merge_images == True:\n",
    "    _, list_images, number_images, output_to_path = fa.MergeChannels(local_data_dir, substring_to_detect_in_file_name = '.*_C0.tif', save_figure =1).merge()\n",
    "    local_data_dir = local_data_dir.joinpath('merged')\n",
    "else:\n",
    "    list_images, path_files, list_files_names, number_images = fa.ReadImages(directory= local_data_dir).read()\n",
    "# Printing image properties\n",
    "print('Image shape: ', list_images[0].shape , '\\n')\n",
    "print('Number of images: ',number_images , '\\n')\n",
    "print('Local directory with images: ', local_data_dir, '\\n')\n",
    "del list_images"
   ]
  },
  {
   "cell_type": "markdown",
   "id": "dba673cc",
   "metadata": {},
   "source": [
    "## Running the pipeline\n",
    "\n",
    "----"
   ]
  },
  {
   "cell_type": "code",
   "execution_count": 9,
   "id": "bd3a9063",
   "metadata": {},
   "outputs": [
    {
     "ename": "KeyboardInterrupt",
     "evalue": "",
     "output_type": "error",
     "traceback": [
      "\u001b[0;31m---------------------------------------------------------------------------\u001b[0m",
      "\u001b[0;31mKeyboardInterrupt\u001b[0m                         Traceback (most recent call last)",
      "\u001b[1;32m/home/luisub/Desktop/FISH_Processing/notebooks/FISH_pipeline.ipynb Cell 19\u001b[0m in \u001b[0;36m<module>\u001b[0;34m\u001b[0m\n\u001b[0;32m----> <a href='vscode-notebook-cell://ssh-remote%2B7b22686f73744e616d65223a2253636f74745f4c756973227d/home/luisub/Desktop/FISH_Processing/notebooks/FISH_pipeline.ipynb#ch0000018vscode-remote?line=0'>1</a>\u001b[0m dataframe_FISH,_,_,_ \u001b[39m=\u001b[39m fa\u001b[39m.\u001b[39;49mPipelineFISH(local_data_dir, channels_with_cytosol, channels_with_nucleus, channels_with_FISH,diameter_nucleus, diameter_cytosol, minimum_spots_cluster, masks_dir\u001b[39m=\u001b[39;49mmasks_dir,  list_voxels\u001b[39m=\u001b[39;49mlist_voxels, list_psfs\u001b[39m=\u001b[39;49mlist_psfs, show_plots\u001b[39m=\u001b[39;49mshow_plots, file_name_str \u001b[39m=\u001b[39;49mdata_folder_path\u001b[39m.\u001b[39;49mname, optimization_segmentation_method \u001b[39m=\u001b[39;49m optimization_segmentation_method,save_all_images\u001b[39m=\u001b[39;49msave_all_images,threshold_for_spot_detection\u001b[39m=\u001b[39;49mthreshold_for_spot_detection,use_brute_force\u001b[39m=\u001b[39;49muse_brute_force  )\u001b[39m.\u001b[39;49mrun()\n",
      "File \u001b[0;32m~/Desktop/FISH_Processing/src/fish_analyses.py:2009\u001b[0m, in \u001b[0;36mPipelineFISH.run\u001b[0;34m(self)\u001b[0m\n\u001b[1;32m   2007\u001b[0m \u001b[39mprint\u001b[39m(\u001b[39m'\u001b[39m\u001b[39mCELL SEGMENTATION\u001b[39m\u001b[39m'\u001b[39m)\n\u001b[1;32m   2008\u001b[0m \u001b[39mif\u001b[39;00m (\u001b[39mself\u001b[39m\u001b[39m.\u001b[39mmasks_dir \u001b[39mis\u001b[39;00m \u001b[39mNone\u001b[39;00m):\n\u001b[0;32m-> 2009\u001b[0m     masks_complete_cells, masks_nuclei, masks_cytosol_no_nuclei \u001b[39m=\u001b[39m CellSegmentation(\u001b[39mself\u001b[39;49m\u001b[39m.\u001b[39;49mlist_images[i],\u001b[39mself\u001b[39;49m\u001b[39m.\u001b[39;49mchannels_with_cytosol, \u001b[39mself\u001b[39;49m\u001b[39m.\u001b[39;49mchannels_with_nucleus, diameter_cytosol \u001b[39m=\u001b[39;49m \u001b[39mself\u001b[39;49m\u001b[39m.\u001b[39;49mdiameter_cytosol, diameter_nucleus\u001b[39m=\u001b[39;49m\u001b[39mself\u001b[39;49m\u001b[39m.\u001b[39;49mdiameter_nucleus, show_plots\u001b[39m=\u001b[39;49m\u001b[39mself\u001b[39;49m\u001b[39m.\u001b[39;49mshow_plots,optimization_segmentation_method \u001b[39m=\u001b[39;49m \u001b[39mself\u001b[39;49m\u001b[39m.\u001b[39;49moptimization_segmentation_method,image_name \u001b[39m=\u001b[39;49m temp_segmentation_img_name,use_brute_force\u001b[39m=\u001b[39;49m\u001b[39mself\u001b[39;49m\u001b[39m.\u001b[39;49muse_brute_force)\u001b[39m.\u001b[39;49mcalculate_masks() \n\u001b[1;32m   2010\u001b[0m \u001b[39m# test if segmentation was succcesful\u001b[39;00m\n\u001b[1;32m   2011\u001b[0m     \u001b[39mif\u001b[39;00m np\u001b[39m.\u001b[39msum([masks_complete_cells\u001b[39m.\u001b[39mflatten(), masks_nuclei\u001b[39m.\u001b[39mflatten(), masks_cytosol_no_nuclei\u001b[39m.\u001b[39mflatten()]) \u001b[39m>\u001b[39m NUMBER_OF_PIXELS_IN_MASK:\n",
      "File \u001b[0;32m~/Desktop/FISH_Processing/src/fish_analyses.py:940\u001b[0m, in \u001b[0;36mCellSegmentation.calculate_masks\u001b[0;34m(self)\u001b[0m\n\u001b[1;32m    938\u001b[0m \u001b[39mfor\u001b[39;00m idx, idx_value \u001b[39min\u001b[39;00m \u001b[39menumerate\u001b[39m(list_idx):\n\u001b[1;32m    939\u001b[0m     test_image_optimization \u001b[39m=\u001b[39m \u001b[39mself\u001b[39m\u001b[39m.\u001b[39mimage[idx_value,:,:,:]\n\u001b[0;32m--> 940\u001b[0m     masks_complete_cells, masks_nuclei, masks_cytosol_no_nuclei \u001b[39m=\u001b[39m function_to_find_masks(test_image_optimization)\n\u001b[1;32m    941\u001b[0m     median_radii_complete_cells_complete_cells \u001b[39m=\u001b[39m approximated_radius(masks_complete_cells,diameter\u001b[39m=\u001b[39m\u001b[39mself\u001b[39m\u001b[39m.\u001b[39mdiameter_cytosol)\n\u001b[1;32m    942\u001b[0m     median_radii_nuclei \u001b[39m=\u001b[39m approximated_radius(masks_nuclei,diameter\u001b[39m=\u001b[39m\u001b[39mself\u001b[39m\u001b[39m.\u001b[39mdiameter_nucleus)\n",
      "File \u001b[0;32m~/Desktop/FISH_Processing/src/fish_analyses.py:813\u001b[0m, in \u001b[0;36mCellSegmentation.calculate_masks.<locals>.function_to_find_masks\u001b[0;34m(image)\u001b[0m\n\u001b[1;32m    811\u001b[0m \u001b[39mdef\u001b[39;00m \u001b[39mfunction_to_find_masks\u001b[39m (image):                    \n\u001b[1;32m    812\u001b[0m     \u001b[39mif\u001b[39;00m \u001b[39mnot\u001b[39;00m (\u001b[39mself\u001b[39m\u001b[39m.\u001b[39mchannels_with_cytosol \u001b[39mis\u001b[39;00m \u001b[39mNone\u001b[39;00m):\n\u001b[0;32m--> 813\u001b[0m         masks_cyto \u001b[39m=\u001b[39m Cellpose(image[:, :, \u001b[39mself\u001b[39;49m\u001b[39m.\u001b[39;49mchannels_with_cytosol],diameter \u001b[39m=\u001b[39;49m \u001b[39mself\u001b[39;49m\u001b[39m.\u001b[39;49mdiameter_cytosol, model_type \u001b[39m=\u001b[39;49m \u001b[39m'\u001b[39;49m\u001b[39mcyto\u001b[39;49m\u001b[39m'\u001b[39;49m, selection_method \u001b[39m=\u001b[39;49m \u001b[39m'\u001b[39;49m\u001b[39mmax_cells_and_area\u001b[39;49m\u001b[39m'\u001b[39;49m ,NUMBER_OF_CORES\u001b[39m=\u001b[39;49m\u001b[39mself\u001b[39;49m\u001b[39m.\u001b[39;49mNUMBER_OF_CORES,use_brute_force\u001b[39m=\u001b[39;49m\u001b[39mself\u001b[39;49m\u001b[39m.\u001b[39;49muse_brute_force)\u001b[39m.\u001b[39;49mcalculate_masks()\n\u001b[1;32m    814\u001b[0m     \u001b[39melse\u001b[39;00m:\n\u001b[1;32m    815\u001b[0m         masks_cyto \u001b[39m=\u001b[39m np\u001b[39m.\u001b[39mzeros_like(image[:, :, \u001b[39m0\u001b[39m])\n",
      "File \u001b[0;32m~/Desktop/FISH_Processing/src/fish_analyses.py:687\u001b[0m, in \u001b[0;36mCellpose.calculate_masks\u001b[0;34m(self)\u001b[0m\n\u001b[1;32m    685\u001b[0m     evaluated_metric_for_masks \u001b[39m=\u001b[39m np\u001b[39m.\u001b[39marray(list_metrics_masks)\n\u001b[1;32m    686\u001b[0m \u001b[39mif\u001b[39;00m \u001b[39mself\u001b[39m\u001b[39m.\u001b[39mselection_method \u001b[39m==\u001b[39m \u001b[39m'\u001b[39m\u001b[39mmax_cells_and_area\u001b[39m\u001b[39m'\u001b[39m:\n\u001b[0;32m--> 687\u001b[0m     list_metrics_masks \u001b[39m=\u001b[39m Parallel(n_jobs \u001b[39m=\u001b[39;49m \u001b[39mself\u001b[39;49m\u001b[39m.\u001b[39;49mNUMBER_OF_CORES)(delayed(cellpose_max_cells_and_area)(tested_parameter) \u001b[39mfor\u001b[39;49;00m _,tested_parameter \u001b[39min\u001b[39;49;00m \u001b[39menumerate\u001b[39;49m(\u001b[39mself\u001b[39;49m\u001b[39m.\u001b[39;49moptimization_parameter))\n\u001b[1;32m    688\u001b[0m     evaluated_metric_for_masks \u001b[39m=\u001b[39m np\u001b[39m.\u001b[39marray(list_metrics_masks)\n\u001b[1;32m    689\u001b[0m \u001b[39mif\u001b[39;00m \u001b[39mnot\u001b[39;00m (\u001b[39mself\u001b[39m\u001b[39m.\u001b[39mselection_method \u001b[39mis\u001b[39;00m \u001b[39mNone\u001b[39;00m) \u001b[39mand\u001b[39;00m (np\u001b[39m.\u001b[39mmax(evaluated_metric_for_masks) \u001b[39m>\u001b[39m\u001b[39m0\u001b[39m) :\n",
      "File \u001b[0;32m~/anaconda3/envs/FISH_processing/lib/python3.8/site-packages/joblib/parallel.py:1056\u001b[0m, in \u001b[0;36mParallel.__call__\u001b[0;34m(self, iterable)\u001b[0m\n\u001b[1;32m   1053\u001b[0m     \u001b[39mself\u001b[39m\u001b[39m.\u001b[39m_iterating \u001b[39m=\u001b[39m \u001b[39mFalse\u001b[39;00m\n\u001b[1;32m   1055\u001b[0m \u001b[39mwith\u001b[39;00m \u001b[39mself\u001b[39m\u001b[39m.\u001b[39m_backend\u001b[39m.\u001b[39mretrieval_context():\n\u001b[0;32m-> 1056\u001b[0m     \u001b[39mself\u001b[39;49m\u001b[39m.\u001b[39;49mretrieve()\n\u001b[1;32m   1057\u001b[0m \u001b[39m# Make sure that we get a last message telling us we are done\u001b[39;00m\n\u001b[1;32m   1058\u001b[0m elapsed_time \u001b[39m=\u001b[39m time\u001b[39m.\u001b[39mtime() \u001b[39m-\u001b[39m \u001b[39mself\u001b[39m\u001b[39m.\u001b[39m_start_time\n",
      "File \u001b[0;32m~/anaconda3/envs/FISH_processing/lib/python3.8/site-packages/joblib/parallel.py:935\u001b[0m, in \u001b[0;36mParallel.retrieve\u001b[0;34m(self)\u001b[0m\n\u001b[1;32m    933\u001b[0m \u001b[39mtry\u001b[39;00m:\n\u001b[1;32m    934\u001b[0m     \u001b[39mif\u001b[39;00m \u001b[39mgetattr\u001b[39m(\u001b[39mself\u001b[39m\u001b[39m.\u001b[39m_backend, \u001b[39m'\u001b[39m\u001b[39msupports_timeout\u001b[39m\u001b[39m'\u001b[39m, \u001b[39mFalse\u001b[39;00m):\n\u001b[0;32m--> 935\u001b[0m         \u001b[39mself\u001b[39m\u001b[39m.\u001b[39m_output\u001b[39m.\u001b[39mextend(job\u001b[39m.\u001b[39;49mget(timeout\u001b[39m=\u001b[39;49m\u001b[39mself\u001b[39;49m\u001b[39m.\u001b[39;49mtimeout))\n\u001b[1;32m    936\u001b[0m     \u001b[39melse\u001b[39;00m:\n\u001b[1;32m    937\u001b[0m         \u001b[39mself\u001b[39m\u001b[39m.\u001b[39m_output\u001b[39m.\u001b[39mextend(job\u001b[39m.\u001b[39mget())\n",
      "File \u001b[0;32m~/anaconda3/envs/FISH_processing/lib/python3.8/site-packages/joblib/_parallel_backends.py:542\u001b[0m, in \u001b[0;36mLokyBackend.wrap_future_result\u001b[0;34m(future, timeout)\u001b[0m\n\u001b[1;32m    539\u001b[0m \u001b[39m\"\"\"Wrapper for Future.result to implement the same behaviour as\u001b[39;00m\n\u001b[1;32m    540\u001b[0m \u001b[39mAsyncResults.get from multiprocessing.\"\"\"\u001b[39;00m\n\u001b[1;32m    541\u001b[0m \u001b[39mtry\u001b[39;00m:\n\u001b[0;32m--> 542\u001b[0m     \u001b[39mreturn\u001b[39;00m future\u001b[39m.\u001b[39;49mresult(timeout\u001b[39m=\u001b[39;49mtimeout)\n\u001b[1;32m    543\u001b[0m \u001b[39mexcept\u001b[39;00m CfTimeoutError \u001b[39mas\u001b[39;00m e:\n\u001b[1;32m    544\u001b[0m     \u001b[39mraise\u001b[39;00m \u001b[39mTimeoutError\u001b[39;00m \u001b[39mfrom\u001b[39;00m \u001b[39me\u001b[39;00m\n",
      "File \u001b[0;32m~/anaconda3/envs/FISH_processing/lib/python3.8/concurrent/futures/_base.py:439\u001b[0m, in \u001b[0;36mFuture.result\u001b[0;34m(self, timeout)\u001b[0m\n\u001b[1;32m    436\u001b[0m \u001b[39melif\u001b[39;00m \u001b[39mself\u001b[39m\u001b[39m.\u001b[39m_state \u001b[39m==\u001b[39m FINISHED:\n\u001b[1;32m    437\u001b[0m     \u001b[39mreturn\u001b[39;00m \u001b[39mself\u001b[39m\u001b[39m.\u001b[39m__get_result()\n\u001b[0;32m--> 439\u001b[0m \u001b[39mself\u001b[39;49m\u001b[39m.\u001b[39;49m_condition\u001b[39m.\u001b[39;49mwait(timeout)\n\u001b[1;32m    441\u001b[0m \u001b[39mif\u001b[39;00m \u001b[39mself\u001b[39m\u001b[39m.\u001b[39m_state \u001b[39min\u001b[39;00m [CANCELLED, CANCELLED_AND_NOTIFIED]:\n\u001b[1;32m    442\u001b[0m     \u001b[39mraise\u001b[39;00m CancelledError()\n",
      "File \u001b[0;32m~/anaconda3/envs/FISH_processing/lib/python3.8/threading.py:302\u001b[0m, in \u001b[0;36mCondition.wait\u001b[0;34m(self, timeout)\u001b[0m\n\u001b[1;32m    300\u001b[0m \u001b[39mtry\u001b[39;00m:    \u001b[39m# restore state no matter what (e.g., KeyboardInterrupt)\u001b[39;00m\n\u001b[1;32m    301\u001b[0m     \u001b[39mif\u001b[39;00m timeout \u001b[39mis\u001b[39;00m \u001b[39mNone\u001b[39;00m:\n\u001b[0;32m--> 302\u001b[0m         waiter\u001b[39m.\u001b[39;49macquire()\n\u001b[1;32m    303\u001b[0m         gotit \u001b[39m=\u001b[39m \u001b[39mTrue\u001b[39;00m\n\u001b[1;32m    304\u001b[0m     \u001b[39melse\u001b[39;00m:\n",
      "\u001b[0;31mKeyboardInterrupt\u001b[0m: "
     ]
    }
   ],
   "source": [
    "dataframe_FISH,_,_,_ = fa.PipelineFISH(local_data_dir, channels_with_cytosol, channels_with_nucleus, channels_with_FISH,diameter_nucleus, diameter_cytosol, minimum_spots_cluster, masks_dir=masks_dir,  list_voxels=list_voxels, list_psfs=list_psfs, show_plots=show_plots, file_name_str =data_folder_path.name, optimization_segmentation_method = optimization_segmentation_method,save_all_images=save_all_images,threshold_for_spot_detection=threshold_for_spot_detection,use_brute_force=use_brute_force  ).run()"
   ]
  },
  {
   "cell_type": "markdown",
   "id": "435ce599",
   "metadata": {},
   "source": [
    "## Extracting data from the dataframe\n",
    "\n",
    "----"
   ]
  },
  {
   "cell_type": "code",
   "execution_count": null,
   "id": "05ebfd58",
   "metadata": {},
   "outputs": [],
   "source": [
    "# Be aware that the code keeps track of cells without spots. In the data frame, the fields for cells without spots are populated with -1 values.\n",
    "#dataframe_FISH.tail()"
   ]
  },
  {
   "cell_type": "code",
   "execution_count": null,
   "id": "ebfab568",
   "metadata": {},
   "outputs": [],
   "source": [
    "# Number of cells\n",
    "spot_type_selected = 0\n",
    "number_cells = dataframe_FISH['cell_id'].nunique()\n",
    "print(number_cells)\n",
    "# Number of spots\n",
    "number_of_spots_per_cell = [len( dataframe_FISH.loc[  (dataframe_FISH['cell_id']==i)  & (dataframe_FISH['spot_type']==spot_type_selected) & (dataframe_FISH['is_cell_fragmented']!=-1)  ].spot_id) for i in range(0, number_cells)]\n",
    "# Number of spots in cytosol\n",
    "number_of_spots_per_cell_cytosol = [len( dataframe_FISH.loc[  (dataframe_FISH['cell_id']==i) & (dataframe_FISH['is_nuc']==False) & (dataframe_FISH['spot_type']==spot_type_selected) & (dataframe_FISH['is_cell_fragmented']!=-1) ].spot_id) for i in range(0, number_cells)]\n",
    "# Number of spots in nucleus\n",
    "number_of_spots_per_cell_nucleus = [len( dataframe_FISH.loc[  (dataframe_FISH['cell_id']==i) &  (dataframe_FISH['is_cluster']==False) & (dataframe_FISH['is_nuc']==True) & (dataframe_FISH['spot_type']==spot_type_selected)  & (dataframe_FISH['is_cell_fragmented']!=-1)   ].spot_id) for i in range(0, number_cells)]\n",
    "# Number of TS per cell.\n",
    "number_of_TS_per_cell = [len( dataframe_FISH.loc[  (dataframe_FISH['cell_id']==i) &  (dataframe_FISH['is_cluster']==True) & (dataframe_FISH['is_nuc']==True) & (dataframe_FISH['spot_type']==spot_type_selected) & (dataframe_FISH['cluster_size'] >=minimum_spots_cluster) & (dataframe_FISH['is_cell_fragmented']!=-1) ].spot_id) for i in range(0, number_cells)]\n",
    "# Number of RNA in a TS\n",
    "ts_size =  dataframe_FISH.loc[   (dataframe_FISH['is_cluster']==True) & (dataframe_FISH['is_nuc']==True)  & (dataframe_FISH['spot_type']==spot_type_selected) & (dataframe_FISH['is_cell_fragmented']!=-1)  ].cluster_size.values\n",
    "# Size of each cell\n",
    "cell_size = dataframe_FISH.loc[  (dataframe_FISH['spot_id']==0)  |  (dataframe_FISH['spot_id']==-1)  ].cell_area_px.values"
   ]
  },
  {
   "cell_type": "markdown",
   "id": "11c01b92",
   "metadata": {},
   "source": [
    "## Plotting\n",
    "\n",
    "----"
   ]
  },
  {
   "cell_type": "code",
   "execution_count": null,
   "id": "061361d8",
   "metadata": {},
   "outputs": [],
   "source": [
    "# Plotting intensity distributions\n",
    "plt.style.use('ggplot')  # ggplot  #default\n",
    "def plot_probability_distribution(data_to_plot, numBins = 10, title='', xlab='', ylab='', color='r', subplots=False, show_grid=True, fig=plt.figure() ):\n",
    "  n, bins, _ = plt.hist(data_to_plot,bins=numBins,density=False,color=color)\n",
    "  plt.xlabel(xlab, size=16)\n",
    "  plt.ylabel(ylab, size=16)\n",
    "  plt.grid(show_grid)\n",
    "  plt.text(bins[(len(bins)//2)],(np.amax(n)//2).astype(int),'mean = '+str(round( np.mean(data_to_plot) ,1) ), fontsize=14,bbox=dict(facecolor='w', alpha=0.5) )\n",
    "  plt.title(title, size=16)\n",
    "  return (f)"
   ]
  },
  {
   "cell_type": "code",
   "execution_count": null,
   "id": "0655143e",
   "metadata": {},
   "outputs": [],
   "source": [
    "#Plotting\n",
    "fig_size = (30, 7)\n",
    "f = plt.figure(figsize=fig_size)\n",
    "#ylab='Probability'\n",
    "ylab='Frequency Count'  \n",
    "# adding subplots\n",
    "f.add_subplot(1,5,1) \n",
    "plot_probability_distribution( number_of_spots_per_cell, numBins=20,  title='Total Num Spots per cell', xlab='Number', ylab=ylab, fig=f, color='orangered')\n",
    "f.add_subplot(1,5,2) \n",
    "plot_probability_distribution(number_of_spots_per_cell_cytosol,   numBins=20,  title='Num Spots in Cytosol', xlab='Number', ylab=ylab, fig=f, color='orangered')\n",
    "f.add_subplot(1,5,3) \n",
    "plot_probability_distribution(number_of_spots_per_cell_nucleus, numBins=20,    title='Num Spots in Nucleus', xlab='Number', ylab=ylab, fig=f, color='orangered')\n",
    "f.add_subplot(1,5,4) \n",
    "plot_probability_distribution(ts_size, numBins=20,    title='Clusters in nucleus', xlab='RNA per Cluster', ylab=ylab, fig=f, color='orangered')\n",
    "f.add_subplot(1,5,5) \n",
    "plot_probability_distribution(number_of_TS_per_cell ,  numBins=20, title='Number TS per cell', xlab='[TS (>= 4 rna)]', ylab=ylab, fig=f, color='orangered')\n",
    "plt.savefig('plots_'+data_folder_path.name+'.png')\n",
    "plt.show()"
   ]
  },
  {
   "cell_type": "code",
   "execution_count": null,
   "id": "01266343",
   "metadata": {},
   "outputs": [],
   "source": [
    "# Plotting Cell size vs \n",
    "df_join_distribution = pd.DataFrame({\"number_of_spots_per_cell\":number_of_spots_per_cell,\"cell_size\":cell_size})"
   ]
  },
  {
   "cell_type": "code",
   "execution_count": null,
   "id": "0017acac",
   "metadata": {},
   "outputs": [],
   "source": [
    "sns.jointplot(data=df_join_distribution, x=\"number_of_spots_per_cell\", y=\"cell_size\",kind='scatter',color=\"#003f9a\") #,kind='hex','resid','kde'"
   ]
  },
  {
   "cell_type": "markdown",
   "id": "e7319f74",
   "metadata": {},
   "source": [
    "## Saving results"
   ]
  },
  {
   "cell_type": "code",
   "execution_count": null,
   "id": "f03c92bf",
   "metadata": {},
   "outputs": [],
   "source": [
    "# create results folder\n",
    "if not os.path.exists(str('analysis_'+ name_final_folder)):\n",
    "    os.makedirs(str('analysis_'+ name_final_folder))    \n",
    "\n",
    "#figure_path \n",
    "pathlib.Path().absolute().joinpath('plots_'+ data_folder_path.name +'.png').rename(pathlib.Path().absolute().joinpath(str('analysis_'+ name_final_folder),'plots_'+ data_folder_path.name +'.png'))\n",
    "#metadata_path\n",
    "pathlib.Path().absolute().joinpath('metadata_'+ data_folder_path.name +'.txt').rename(pathlib.Path().absolute().joinpath(str('analysis_'+ name_final_folder),'metadata_'+ data_folder_path.name +'.txt'))\n",
    "#dataframe_path \n",
    "pathlib.Path().absolute().joinpath('dataframe_' + data_folder_path.name +'.csv').rename(pathlib.Path().absolute().joinpath(str('analysis_'+ name_final_folder),'dataframe_'+ data_folder_path.name +'.csv'))\n",
    "#pdf_path \n",
    "pathlib.Path().absolute().joinpath('pdf_report_' + data_folder_path.name +'.pdf').rename(pathlib.Path().absolute().joinpath(str('analysis_'+ name_final_folder    ),'pdf_report_'+ data_folder_path.name +'.pdf'))"
   ]
  },
  {
   "cell_type": "markdown",
   "id": "5b69332a",
   "metadata": {},
   "source": [
    "## Sending results to NAS\n",
    "\n",
    "----"
   ]
  },
  {
   "cell_type": "code",
   "execution_count": null,
   "id": "36dd64f8",
   "metadata": {},
   "outputs": [],
   "source": [
    "# Writing analyses data to NAS\n",
    "analysis_folder_name = 'analysis_'+ name_final_folder\n",
    "if send_data_to_NAS == True:\n",
    "    shutil.make_archive(analysis_folder_name,'zip',pathlib.Path().absolute().joinpath(analysis_folder_name))\n",
    "    local_file_to_send_to_NAS = pathlib.Path().absolute().joinpath(analysis_folder_name+'.zip')\n",
    "    fa.NASConnection(path_to_config_file,share_name = share_name).write_files_to_NAS(local_file_to_send_to_NAS, data_folder_path)\n",
    "    os.remove(pathlib.Path().absolute().joinpath(analysis_folder_name+'.zip'))"
   ]
  },
  {
   "cell_type": "code",
   "execution_count": null,
   "id": "8d348cc1",
   "metadata": {},
   "outputs": [],
   "source": [
    "# Writing masks to NAS\n",
    "if path_to_masks_dir == None: \n",
    "    mask_folder_created_by_pipeline = 'masks_'+ data_folder_path.name # default name by pipeline\n",
    "    name_final_masks = data_folder_path.name +'___nuc_' + str(diameter_nucleus) + '__cyto_' + str(diameter_cytosol) \n",
    "    mask_dir_complete_name = 'masks_'+ name_final_masks # final name for masks dir\n",
    "    shutil.move(mask_folder_created_by_pipeline, mask_dir_complete_name ) # remaing the masks dir\n",
    "else: \n",
    "    mask_dir_complete_name = masks_dir.name\n",
    "    \n",
    "if (send_data_to_NAS == True) and (path_to_masks_dir == None) :\n",
    "    shutil.make_archive( mask_dir_complete_name , 'zip', pathlib.Path().absolute().joinpath(mask_dir_complete_name))\n",
    "    local_file_to_send_to_NAS = pathlib.Path().absolute().joinpath(mask_dir_complete_name+'.zip')\n",
    "    fa.NASConnection(path_to_config_file,share_name = share_name).write_files_to_NAS(local_file_to_send_to_NAS, data_folder_path)\n",
    "    os.remove(pathlib.Path().absolute().joinpath(mask_dir_complete_name+'.zip'))"
   ]
  },
  {
   "cell_type": "markdown",
   "id": "62ab4071",
   "metadata": {},
   "source": [
    "## Removing temporal local files\n",
    "\n",
    "----"
   ]
  },
  {
   "cell_type": "code",
   "execution_count": null,
   "id": "184361ea",
   "metadata": {},
   "outputs": [],
   "source": [
    "# Moving all results to \"analyses\" folder\n",
    "if not os.path.exists(str('analyses')):\n",
    "    os.makedirs(str('analyses'))\n",
    "\n",
    "# Subfolder name\n",
    "final_dir_name =pathlib.Path().absolute().joinpath('analyses', analysis_folder_name)\n",
    "\n",
    "# Removing directory if exist\n",
    "if os.path.exists(str(final_dir_name)):\n",
    "    shutil.rmtree(str(final_dir_name))\n",
    "\n",
    "# Moving results to a subdirectory in 'analyses' folder\n",
    "pathlib.Path().absolute().joinpath(analysis_folder_name).rename(final_dir_name )\n",
    "\n",
    "# Moving masks to a subdirectory in 'analyses' folder\n",
    "if (download_data_from_NAS == True) or (path_to_masks_dir == None):\n",
    "    final_mask_dir_name = pathlib.Path().absolute().joinpath('analyses', mask_dir_complete_name)\n",
    "    if os.path.exists(str(final_mask_dir_name)):\n",
    "        shutil.rmtree(str(final_mask_dir_name))\n",
    "    pathlib.Path().absolute().joinpath(mask_dir_complete_name).rename(final_mask_dir_name )\n",
    "\n",
    "# Delete local temporal files\n",
    "temp_results_folder_name = pathlib.Path().absolute().joinpath('temp_results_' + data_folder_path.name)\n",
    "shutil.rmtree(temp_results_folder_name)\n",
    "\n",
    "if (download_data_from_NAS == True):\n",
    "    # Delete temporal images downloaded from NAS\n",
    "    shutil.rmtree(local_data_dir)"
   ]
  },
  {
   "cell_type": "code",
   "execution_count": null,
   "id": "9a43f16f",
   "metadata": {},
   "outputs": [],
   "source": []
  }
 ],
 "metadata": {
  "interpreter": {
   "hash": "f123aec772437107f61ad48bdc3e74202fc8f652e2fa44805dd8339e0a72f809"
  },
  "kernelspec": {
   "display_name": "Python 3.6.13 64-bit ('FISH_processing': conda)",
   "name": "python3"
  },
  "language_info": {
   "codemirror_mode": {
    "name": "ipython",
    "version": 3
   },
   "file_extension": ".py",
   "mimetype": "text/x-python",
   "name": "python",
   "nbconvert_exporter": "python",
   "pygments_lexer": "ipython3",
   "version": "3.8.12"
  }
 },
 "nbformat": 4,
 "nbformat_minor": 5
}
