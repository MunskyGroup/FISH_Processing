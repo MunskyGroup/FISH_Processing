{
 "cells": [
  {
   "cell_type": "markdown",
   "id": "d494faaa",
   "metadata": {},
   "source": [
    "# FISH - Pipeline - A Python interactive notebook to process FISH data\n",
    "\n",
    "```\n",
    "Author: Luis U. Aguilera\n",
    "Contact Info: luis.aguilera@colostate.edu\n",
    "\n",
    "Copyright (c) 2021 Munsky Group \n",
    "Colorado State University \n",
    "Licensed under BSD 3-Clause License.\n",
    "```"
   ]
  },
  {
   "cell_type": "markdown",
   "id": "d5465534",
   "metadata": {},
   "source": [
    "### Notebook summary \n",
    "\n",
    "\n",
    "- Load a directory with microscope FISH images\n",
    "- Establish a connection to Network-attached storage (NAS) using [pysmb](https://github.com/miketeo/pysmb)\n",
    "- Perform cell segmentation using [Cellpose](https://github.com/MouseLand/cellpose)\n",
    "- Perform spot detection using [Big-FISH](https://github.com/fish-quant/big-fish)\n",
    "- Datamanagement using Pandas\n",
    "\n",
    "----"
   ]
  },
  {
   "cell_type": "markdown",
   "id": "3b1ccb32",
   "metadata": {},
   "source": [
    "<img src= /home/luisub/Desktop/FISH_Processing/docs/images/code_architecture.png alt=\"drawing\" width=\"1000\"/>"
   ]
  },
  {
   "cell_type": "markdown",
   "id": "6e1f620b",
   "metadata": {},
   "source": [
    "### Libraries"
   ]
  },
  {
   "cell_type": "code",
   "execution_count": null,
   "id": "ec7c8aea",
   "metadata": {},
   "outputs": [],
   "source": [
    "# Importing libraries\n",
    "import sys\n",
    "import pathlib\n",
    "import warnings\n",
    "warnings.filterwarnings(\"ignore\")"
   ]
  },
  {
   "cell_type": "markdown",
   "id": "9d558787",
   "metadata": {},
   "source": [
    "### Path to source directories"
   ]
  },
  {
   "cell_type": "code",
   "execution_count": null,
   "id": "fbf289c0",
   "metadata": {},
   "outputs": [],
   "source": [
    "# Defining directories\n",
    "current_dir = pathlib.Path().absolute()\n",
    "fa_dir = current_dir.parents[0].joinpath('src')\n",
    "\n",
    "# Importing fish_analyses module\n",
    "sys.path.append(str(fa_dir))\n",
    "import fish_analyses as fa"
   ]
  },
  {
   "cell_type": "code",
   "execution_count": null,
   "id": "3d321ee7",
   "metadata": {},
   "outputs": [],
   "source": [
    "fa.Banner().print_banner()"
   ]
  },
  {
   "cell_type": "markdown",
   "id": "3aa72c56",
   "metadata": {},
   "source": [
    "----\n",
    "\n",
    "# Parameters defined by the user \n",
    "\n",
    "----"
   ]
  },
  {
   "cell_type": "markdown",
   "id": "2d70c1f2",
   "metadata": {},
   "source": [
    "### Paths to images"
   ]
  },
  {
   "cell_type": "code",
   "execution_count": null,
   "id": "a801367c",
   "metadata": {},
   "outputs": [],
   "source": [
    "# Path to credentials\n",
    "desktop_path = pathlib.Path.home()/'Desktop'\n",
    "path_to_config_file = desktop_path.joinpath('config.yml')\n",
    "# Path to images and masks\n",
    "#data_folder_path =pathlib.Path('smFISH_images/Eric_smFISH_images/20220131/DUSP1_Dex_75min')\n",
    "#path_to_masks_dir = None \n",
    "\n",
    "#data_folder_path =pathlib.Path('smFISH_images/Linda_smFISH_images/Confocal/20220714/MS2-CY5_Cyto543_560_5hTPL_5uM')\n",
    "#path_to_masks_dir = pathlib.Path('smFISH_images/Linda_smFISH_images/Confocal/20220714/MS2-CY5_Cyto543_560_5hTPL_5uM/masks_MS2-CY5_Cyto543_560_5hTPL_5uM___nuc_70__cyto_0.zip') "
   ]
  },
  {
   "cell_type": "code",
   "execution_count": null,
   "id": "7b58c971",
   "metadata": {},
   "outputs": [],
   "source": [
    "\n",
    "time_point = '18min' # 'wo' '18min', '5h'\n",
    "\n",
    "if time_point == 'wo':\n",
    "    data_folder_path = pathlib.Path('smFISH_images/Linda_smFISH_images/Confocal/20220714/MS2-CY5_Cyto543_560_woStim')\n",
    "    path_to_masks_dir = pathlib.Path('smFISH_images/Linda_smFISH_images/Confocal/20220714/MS2-CY5_Cyto543_560_woStim/masks_MS2-CY5_Cyto543_560_woStim___nuc_70__cyto_0.zip') \n",
    "    #name_merged_mask_tensors = 'polygons_wo'\n",
    "\n",
    "if time_point == '18min':\n",
    "    data_folder_path = pathlib.Path('smFISH_images/Linda_smFISH_images/Confocal/20220714/MS2-CY5_Cyto543_560_18minTPL_5uM')\n",
    "    path_to_masks_dir = pathlib.Path('smFISH_images/Linda_smFISH_images/Confocal/20220714/MS2-CY5_Cyto543_560_18minTPL_5uM/masks_MS2-CY5_Cyto543_560_18minTPL_5uM___nuc_70__cyto_0.zip') \n",
    "    #name_merged_mask_tensors = 'polygons_18min'\n",
    "    \n",
    "if time_point == '5h':\n",
    "    data_folder_path = pathlib.Path('smFISH_images/Linda_smFISH_images/Confocal/20220714/MS2-CY5_Cyto543_560_5hTPL_5uM')\n",
    "    path_to_masks_dir = pathlib.Path('smFISH_images/Linda_smFISH_images/Confocal/20220714/MS2-CY5_Cyto543_560_5hTPL_5uM/masks_MS2-CY5_Cyto543_560_5hTPL_5uM___nuc_70__cyto_0.zip') \n",
    "    #name_merged_mask_tensors = 'polygons_5h'"
   ]
  },
  {
   "cell_type": "code",
   "execution_count": null,
   "id": "73a7d177",
   "metadata": {},
   "outputs": [],
   "source": [
    "download_data_from_NAS = True\n",
    "send_data_to_NAS = True"
   ]
  },
  {
   "cell_type": "markdown",
   "id": "b93f8f3b",
   "metadata": {},
   "source": [
    "### Parameters for segmentation and spot detection"
   ]
  },
  {
   "cell_type": "code",
   "execution_count": null,
   "id": "d1a25767",
   "metadata": {},
   "outputs": [],
   "source": [
    "'''\n",
    "# Parameters fo cell segmentation \n",
    "channels_with_cytosol = [2]                  # list or int indicating the channels where the cytosol is detectable. Use None to not segment the cytosol.\n",
    "channels_with_nucleus = [0]                  # list or int indicating the channels where the nucleus is detectable. Use None to not segment the cytosol.\n",
    "channels_with_FISH = [1]                     # list or int with the channels with FISH spots that are used for the quantification\n",
    "diameter_nucleus = 122                       # approximate nucleus size in pixels\n",
    "diameter_cytosol = 222                       # approximate cytosol size in pixels\n",
    "voxel_size_z = 500                           # Microscope conversion px to nanometers in the z axis.\n",
    "voxel_size_yx = 160                          # Microscope conversion px to nanometers in the xy axis.\n",
    "psf_z = 350                                  # Theoretical size of the PSF emitted by a [rna] spot in the z plan, in nanometers.\n",
    "psf_yx = 120                                 # Theoretical size of the PSF emitted by a [rna] spot in the yx plan, in nanometers.\n",
    "minimum_spots_cluster = 3                    # The number of spots in a neighborhood for a point to be considered as a core point (from which a cluster is expanded). This includes the point itself.\n",
    "show_plots = True                            # Flag to display plots\n",
    "optimization_segmentation_method =  'z_slice_segmentation' #  # optimization_segmentation_method = 'intensity_segmentation' 'z_slice_segmentation', 'gaussian_filter_segmentation' , 'z_slice_segmentation_marker' , 'center_slice', None\n",
    "save_all_images=False                        # If true, it shows a all planes for the FISH plot detection. \n",
    "threshold_for_spot_detection = None          # Intensity threshold to detect  spots. If None, it will automatically detect the spots. Pass a list if you have more than one FISH channel.\n",
    "save_filtered_images = False                 # Flag to save images after the gaussian-laplace filter\n",
    "list_selected_z_slices = None                # [6,7,8,9] # subsection of slices to process.\n",
    "number_of_images_to_process = 5              # This section allows the user to select a subset of images to process. Use an integer to indicate the n images to process.\n",
    "'''"
   ]
  },
  {
   "cell_type": "code",
   "execution_count": null,
   "id": "a60c901e",
   "metadata": {},
   "outputs": [],
   "source": [
    "NUMBER_OF_CORES=1\n",
    "diameter_nucleus=70                        # Approximate nucleus size in pixels\n",
    "diameter_cytosol=0                         # Approximate cytosol size in pixels\n",
    "psf_z=350                                  # Theoretical size of the PSF emitted by a [rna] spot in the z plan, in nanometers\n",
    "psf_yx=160                                 # Theoretical size of the PSF emitted by a [rna] spot in the yx plan, in nanometers\n",
    "voxel_size_z=500                           # Microscope conversion px to nanometers in the z axis.\n",
    "voxel_size_yx=160                          # Microscope conversion px to nanometers in the xy axis.\n",
    "channels_with_nucleus=[0]                        # Channel to pass to python for nucleus segmentation\n",
    "channels_with_cytosol=None                          # Channel to pass to python for cytosol segmentation\n",
    "channels_with_FISH=[1,3]                         # Channel to pass to python for spot detection\n",
    "send_data_to_NAS=1                         # If data sent back to NAS use 1\n",
    "download_data_from_NAS=1                   # If data downloaded from NAS use 1\n",
    "optimization_segmentation_method='z_slice_segmentation' # optimization_segmentation_method = 'intensity_segmentation' 'z_slice_segmentation', 'gaussian_filter_segmentation' , None\n",
    "save_all_images=0  \n",
    "save_filtered_images = False \n",
    "number_of_images_to_process = None  # None\n",
    "minimum_spots_cluster = 2\n",
    "threshold_for_spot_detection=[550,400]\n",
    "show_plots=0"
   ]
  },
  {
   "attachments": {},
   "cell_type": "markdown",
   "id": "887f8361",
   "metadata": {},
   "source": [
    "## Downloading data from NAS"
   ]
  },
  {
   "cell_type": "code",
   "execution_count": null,
   "id": "af176d76",
   "metadata": {},
   "outputs": [],
   "source": [
    "# Download data from NAS\n",
    "local_data_dir, masks_dir, _, _, list_files_names = fa.Utilities.read_images_from_folder( path_to_config_file, data_folder_path, \n",
    "                                                                        path_to_masks_dir,  download_data_from_NAS)\n"
   ]
  },
  {
   "cell_type": "markdown",
   "id": "dba673cc",
   "metadata": {},
   "source": [
    "## Running the pipeline\n",
    "\n",
    "----"
   ]
  },
  {
   "cell_type": "code",
   "execution_count": null,
   "id": "bd3a9063",
   "metadata": {},
   "outputs": [],
   "source": [
    "dataframe_FISH,_,_,_,output_identification_string = fa.PipelineFISH(local_data_dir, channels_with_cytosol, channels_with_nucleus, channels_with_FISH,diameter_nucleus, \n",
    "                                       diameter_cytosol, minimum_spots_cluster, masks_dir=masks_dir,  voxel_size_z=voxel_size_z,\n",
    "                                       voxel_size_yx=voxel_size_yx ,psf_z=psf_z,psf_yx=psf_yx, show_plots=show_plots,  \n",
    "                                       file_name_str =data_folder_path.name, optimization_segmentation_method = optimization_segmentation_method,\n",
    "                                       save_all_images=save_all_images,threshold_for_spot_detection=threshold_for_spot_detection,save_filtered_images=save_filtered_images,\n",
    "                                       number_of_images_to_process=number_of_images_to_process).run()"
   ]
  },
  {
   "cell_type": "markdown",
   "id": "435ce599",
   "metadata": {},
   "source": [
    "## Extracting data from the dataframe\n",
    "\n",
    "----"
   ]
  },
  {
   "cell_type": "code",
   "execution_count": null,
   "id": "05ebfd58",
   "metadata": {},
   "outputs": [],
   "source": [
    "# Be aware that the code keeps track of cells without spots. In the data frame, the fields for cells without spots are populated with -1 values.\n",
    "dataframe_FISH.tail()"
   ]
  },
  {
   "cell_type": "code",
   "execution_count": null,
   "id": "cc4df258",
   "metadata": {},
   "outputs": [],
   "source": [
    "#import matplotlib.pyplot as plt\n",
    "#import numpy as np\n",
    "#counter_total_images = np.max( dataframe_FISH['image_id'].values)\n",
    "#for i in range (counter_total_images):\n",
    "#    print(str(i)+' ',np.unique(dataframe_FISH.loc[ (dataframe_FISH['image_id']==i) & (dataframe_FISH['spot_type']==1) ].cell_id.values))\n",
    "#plt.plot(dataframe_FISH['cell_id'].values )"
   ]
  },
  {
   "cell_type": "code",
   "execution_count": null,
   "id": "ebfab568",
   "metadata": {},
   "outputs": [],
   "source": [
    "if isinstance(channels_with_FISH, list):\n",
    "    number_fish_channels = (len(channels_with_FISH))\n",
    "else:\n",
    "    number_fish_channels = 1"
   ]
  },
  {
   "attachments": {},
   "cell_type": "markdown",
   "id": "6b9b3e73",
   "metadata": {},
   "source": [
    "## Plots"
   ]
  },
  {
   "cell_type": "code",
   "execution_count": null,
   "id": "faef6aa1",
   "metadata": {},
   "outputs": [],
   "source": [
    "list_file_plots_spot_intensity_distributions =[]\n",
    "list_file_plots_distributions =[]\n",
    "list_file_plots_cell_size_vs_num_spots =[]\n",
    "list_file_plots_cell_intensity_vs_num_spots =[]\n",
    "# extracting data for each spot type\n",
    "for i in range (number_fish_channels):\n",
    "    number_of_spots_per_cell, number_of_spots_per_cell_cytosol, number_of_spots_per_cell_nucleus, number_of_TS_per_cell, ts_size, cell_size, number_cells, nuc_size, cyto_size = fa.Utilities.dataframe_extract_data(dataframe_FISH,spot_type=i,minimum_spots_cluster=minimum_spots_cluster)\n",
    "    file_plots_cell_intensity_vs_num_spots = fa.Plots.plot_cell_intensity_spots(dataframe_FISH, number_of_spots_per_cell_nucleus, number_of_spots_per_cell_cytosol,output_identification_string,spot_type=i)\n",
    "    file_plots_spot_intensity_distributions = fa.Plots.plot_spot_intensity_distributions(dataframe_FISH,output_identification_string,spot_type=i)\n",
    "    file_plots_distributions = fa.Plots.plotting_results_as_distributions(number_of_spots_per_cell, number_of_spots_per_cell_cytosol, number_of_spots_per_cell_nucleus, ts_size, number_of_TS_per_cell, minimum_spots_cluster, output_identification_string=output_identification_string,spot_type=i)\n",
    "    file_plots_cell_size_vs_num_spots = fa.Plots.plot_cell_size_spots(channels_with_cytosol, channels_with_nucleus, cell_size, number_of_spots_per_cell, cyto_size, number_of_spots_per_cell_cytosol, nuc_size, number_of_spots_per_cell_nucleus,output_identification_string=output_identification_string,spot_type=i)\n",
    "    \n",
    "    # Appending list of files\n",
    "    list_file_plots_spot_intensity_distributions.append(file_plots_spot_intensity_distributions)\n",
    "    list_file_plots_distributions.append(file_plots_distributions)\n",
    "    list_file_plots_cell_size_vs_num_spots.append(file_plots_cell_size_vs_num_spots)\n",
    "    list_file_plots_cell_intensity_vs_num_spots.append(file_plots_cell_intensity_vs_num_spots)\n",
    "    del number_of_spots_per_cell, number_of_spots_per_cell_cytosol, number_of_spots_per_cell_nucleus, number_of_TS_per_cell, ts_size"
   ]
  },
  {
   "cell_type": "code",
   "execution_count": null,
   "id": "6f40d8ce",
   "metadata": {},
   "outputs": [],
   "source": [
    "file_plots_bleedthru = fa.Plots.plot_scatter_bleedthru(dataframe_FISH, channels_with_cytosol, channels_with_nucleus,output_identification_string)"
   ]
  },
  {
   "attachments": {},
   "cell_type": "markdown",
   "id": "44ccedfd",
   "metadata": {},
   "source": [
    "## Saving data"
   ]
  },
  {
   "cell_type": "code",
   "execution_count": null,
   "id": "56c1ffc2",
   "metadata": {},
   "outputs": [],
   "source": [
    "# Saving data and plots, and sending data to NAS\n",
    "    \n",
    "fa.Utilities.save_output_to_folder(output_identification_string, \n",
    "                                   data_folder_path, \n",
    "                                   file_plots_distributions=list_file_plots_distributions, \n",
    "                                   file_plots_cell_size_vs_num_spots=list_file_plots_cell_size_vs_num_spots, \n",
    "                                   file_plots_cell_intensity_vs_num_spots=list_file_plots_cell_intensity_vs_num_spots, \n",
    "                                   file_plots_spot_intensity_distributions=list_file_plots_spot_intensity_distributions,\n",
    "                                   file_plots_bleedthru=file_plots_bleedthru)\n",
    "\n",
    "analysis_folder_name, mask_dir_complete_name = fa.Utilities.sending_data_to_NAS(output_identification_string, data_folder_path, path_to_config_file, path_to_masks_dir, diameter_nucleus, diameter_cytosol, send_data_to_NAS, masks_dir)\n",
    "fa.Utilities.move_results_to_analyses_folder( output_identification_string, data_folder_path, mask_dir_complete_name, path_to_masks_dir, save_filtered_images, download_data_from_NAS )"
   ]
  },
  {
   "cell_type": "code",
   "execution_count": null,
   "id": "5d7698aa",
   "metadata": {},
   "outputs": [],
   "source": []
  }
 ],
 "metadata": {
  "interpreter": {
   "hash": "f123aec772437107f61ad48bdc3e74202fc8f652e2fa44805dd8339e0a72f809"
  },
  "kernelspec": {
   "display_name": "Python 3.6.13 64-bit ('FISH_processing': conda)",
   "name": "python3"
  },
  "language_info": {
   "codemirror_mode": {
    "name": "ipython",
    "version": 3
   },
   "file_extension": ".py",
   "mimetype": "text/x-python",
   "name": "python",
   "nbconvert_exporter": "python",
   "pygments_lexer": "ipython3",
   "version": "3.8.12"
  }
 },
 "nbformat": 4,
 "nbformat_minor": 5
}
