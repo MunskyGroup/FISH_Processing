{
 "cells": [
  {
   "cell_type": "markdown",
   "id": "d494faaa",
   "metadata": {},
   "source": [
    "# FISH - Pipeline - A Python interactive notebook to process FISH data\n",
    "\n",
    "```\n",
    "Author: Luis U. Aguilera\n",
    "Contact Info: luis.aguilera@colostate.edu\n",
    "\n",
    "Copyright (c) 2021 Munsky Group \n",
    "Colorado State University \n",
    "Licensed under BSD 3-Clause License.\n",
    "```"
   ]
  },
  {
   "cell_type": "markdown",
   "id": "d5465534",
   "metadata": {},
   "source": [
    "### Notebook summary \n",
    "\n",
    "\n",
    "- Load a directory with microscope FISH images\n",
    "- Establish a connection to Network-attached storage (NAS) using [pysmb](https://github.com/miketeo/pysmb)\n",
    "- Perform cell segmentation using [Cellpose](https://github.com/MouseLand/cellpose)\n",
    "- Perform spot detection using [Big-FISH](https://github.com/fish-quant/big-fish)\n",
    "- Datamanagement using Pandas\n",
    "\n",
    "----"
   ]
  },
  {
   "cell_type": "markdown",
   "id": "3b1ccb32",
   "metadata": {},
   "source": [
    "<img src= /home/luisub/Desktop/FISH_Processing/docs/images/code_architecture.png alt=\"drawing\" width=\"1000\"/>"
   ]
  },
  {
   "cell_type": "markdown",
   "id": "6e1f620b",
   "metadata": {},
   "source": [
    "### Libraries"
   ]
  },
  {
   "cell_type": "code",
   "execution_count": 1,
   "id": "ec7c8aea",
   "metadata": {},
   "outputs": [],
   "source": [
    "# Importing libraries\n",
    "import sys\n",
    "import matplotlib.pyplot as plt \n",
    "import numpy as np \n",
    "import tifffile\n",
    "import pathlib\n",
    "import warnings\n",
    "import shutil\n",
    "import zipfile\n",
    "import os\n",
    "import seaborn as sns\n",
    "import pandas as pd\n",
    "warnings.filterwarnings(\"ignore\")"
   ]
  },
  {
   "cell_type": "markdown",
   "id": "9d558787",
   "metadata": {},
   "source": [
    "### Path to source directories"
   ]
  },
  {
   "cell_type": "code",
   "execution_count": 2,
   "id": "fbf289c0",
   "metadata": {},
   "outputs": [],
   "source": [
    "# Defining directories\n",
    "current_dir = pathlib.Path().absolute()\n",
    "fa_dir = current_dir.parents[0].joinpath('src')\n",
    "\n",
    "# Importing fish_analyses module\n",
    "sys.path.append(str(fa_dir))\n",
    "import fish_analyses as fa"
   ]
  },
  {
   "cell_type": "markdown",
   "id": "3aa72c56",
   "metadata": {},
   "source": [
    "----\n",
    "\n",
    "# Parameters defined by the user \n",
    "\n",
    "----"
   ]
  },
  {
   "cell_type": "markdown",
   "id": "2d70c1f2",
   "metadata": {},
   "source": [
    "### Paths to images"
   ]
  },
  {
   "cell_type": "code",
   "execution_count": 3,
   "id": "443e4f12",
   "metadata": {},
   "outputs": [],
   "source": [
    "# Path to credentials\n",
    "desktop_path = pathlib.Path.home()/'Desktop'\n",
    "path_to_config_file = desktop_path.joinpath('config.yml')\n",
    "\n",
    "\n",
    "\n",
    "#data_folder_path = pathlib.Path('smFISH_images/Linda_smFISH_images/Confocal/20220927/A549_NFKBIA_woSTM' )\n",
    "#data_folder_path = pathlib.Path('smFISH_images/Linda_smFISH_images/Confocal/20220927/A549_NFKBIA_10minDEX' )\n",
    "#data_folder_path = pathlib.Path('smFISH_images/Linda_smFISH_images/Confocal/20220927/A549_NFKBIA_20minDEX' )\n",
    "#data_folder_path = pathlib.Path('smFISH_images/Linda_smFISH_images/Confocal/20220928/A549_NFKBIA_30minDEX' )\n",
    "#data_folder_path = pathlib.Path('smFISH_images/Linda_smFISH_images/Confocal/20220928/A549_NFKBIA_40minDEX' )\n",
    "#data_folder_path = pathlib.Path('smFISH_images/Linda_smFISH_images/Confocal/20220928/A549_NFKBIA_50minDEX' )\n",
    "#data_folder_path = pathlib.Path('smFISH_images/Linda_smFISH_images/Confocal/20220928/A549_NFKBIA_60minDEX' )\n",
    "#data_folder_path = pathlib.Path('smFISH_images/Linda_smFISH_images/Confocal/20220928/A549_NFKBIA_75minDEX' )\n",
    "#data_folder_path = pathlib.Path('smFISH_images/Linda_smFISH_images/Confocal/20220928/A549_NFKBIA_90minDEX' )\n",
    "#data_folder_path = pathlib.Path('smFISH_images/Linda_smFISH_images/Confocal/20220928/A549_NFKBIA_120minDEX' )\n",
    "#data_folder_path = pathlib.Path('smFISH_images/Linda_smFISH_images/Confocal/20220928/A549_NFKBIA_150minDEX' )\n",
    "#data_folder_path = pathlib.Path('smFISH_images/Linda_smFISH_images/Confocal/20220930/A549_NFKBIA_180minDEX' )\n",
    "\n",
    "#data_folder_path = pathlib.Path('smFISH_images/Linda_smFISH_images/Confocal/20211014/MS2-CY5-0minTPL' )\n",
    "data_folder_path = pathlib.Path('Test/MS2-CY5_Cyto543_560_5hTPL_5uM' )\n",
    "\n",
    "### Remote directories\n",
    "#data_folder_path = pathlib.Path('Test','test_dir')\n",
    "#data_folder_path =pathlib.Path('smFISH_images/Linda_smFISH_images/Confocal/20220314/GAPDH-Cy3_COX-2-Cy5_wo_IL-1B' )\n",
    "#data_folder_path =pathlib.Path('smFISH_images/Linda_smFISH_images/Confocal/20220314/GAPDH-Cy3_COX-2-Cy5_30ng_ml_IL-1B_2h' )\n",
    "#data_folder_path =pathlib.Path('smFISH_images/Linda_smFISH_images/Confocal/20220314/GAPDH-Cy3_COX-2-Cy5_30ng_ml_IL-1B_6h' )\n",
    "#data_folder_path =pathlib.Path('smFISH_images/Linda_smFISH_images/Confocal/20220314/GAPDH-Cy3_COX-2-Cy5_100ng_ml_IL-1B_2h' )\n",
    "#data_folder_path =pathlib.Path('smFISH_images/Linda_smFISH_images/Confocal/20220314/GAPDH-Cy3_COX-2-Cy5_100ng_ml_IL-1B_6h' )\n",
    "#data_folder_path =pathlib.Path('smFISH_images/Linda_smFISH_images/Confocal/20220315/GAPDH-Cy3_COX-2-Cy5_300ng_ml_IL-1B_2h' )\n",
    "#data_folder_path =pathlib.Path('smFISH_images/Linda_smFISH_images/Confocal/20220315/GAPDH-Cy3_COX-2-Cy5_300ng_ml_IL-1B_6h' )\n",
    "#data_folder_path =pathlib.Path('smFISH_images/Linda_smFISH_images/Confocal/20220114/GAPDH-Cy3_NFKBIA-Cy5_woDex' )\n",
    "#data_folder_path =pathlib.Path('smFISH_images/Linda_smFISH_images/Confocal/20220216/GAPDH-Cy3_NFKBIA-Cy5_10min_100nM_DEX_Rep2')\n",
    "#data_folder_path =pathlib.Path('smFISH_images/Eric_smFISH_images/20211109/MS2_Cy3_TPL_0min')\n",
    "\n",
    "#data_folder_path =pathlib.Path('smFISH_images/Linda_smFISH_images/Confocal/20220714/MS2-CY5_Cyto543_560_woStim')\n",
    "#data_folder_path = pathlib.Path('smFISH_images/Linda_smFISH_images/Confocal/20220714/MS2-CY5_Cyto543_560_woStim')\n",
    "#data_folder_path = pathlib.Path('smFISH_images/Linda_smFISH_images/Confocal/20220721/RPE_GoldMedium_32P_COX-2_2h_30ng_mL_IL-B')\n",
    "#data_folder_path = pathlib.Path('/home/luisub/Desktop/FISH_Processing/notebooks/temp_RPE_GoldMedium_32P_COX-2_2h_30ng_mL_IL-B')\n",
    "#data_folder_path = pathlib.Path('smFISH_images/Linda_smFISH_images/Confocal/20220714/MS2-CY5_Cyto543_560_5hTPL_5uM')\n",
    "#data_folder_path = pathlib.Path('/home/luisub/Desktop/FISH_Processing/notebooks/temp_MS2-CY5_Cyto543_560_5hTPL_5uM/merged')\n",
    "#data_folder_path = pathlib.Path('smFISH_images/Linda_smFISH_images/Confocal/20220801/RPE_GoldMedium_32P_COX-2_30ng_mL_IL-1B-4h_Cyto543_560')\n",
    "#data_folder_path = pathlib.Path('smFISH_images/Linda_smFISH_images/Confocal/20220728/RPE_GoldMedium_32P_COX-2_30ng_mL_IL-1B-1h_Cyto543_560')\n",
    "#data_folder_path = pathlib.Path('/home/luisub/Desktop/FISH_Processing/notebooks/test_marker2')\n",
    "\n",
    "#path_to_masks_dir =pathlib.Path('/home/luisub/Desktop/FISH_Processing/notebooks/masks_test_marker2')\n",
    "#path_to_masks_dir = pathlib.Path('/home/luisub/Desktop/FISH_Processing/notebooks/masks_MS2-CY5_Cyto543_560_5hTPL_5uM___nuc_90__cyto_160')\n",
    "#path_to_masks_dir = pathlib.Path('Test/test_dir/masks_test_dir___nuc_120__cyto_220.zip')\n",
    "#path_to_masks_dir = pathlib.Path('/home/luisub/Desktop/FISH_Processing/notebooks/masks_RPE_GoldMedium_32P_COX-2_2h_30ng_mL_IL-B')\n",
    "#download_data_from_NAS = True\n",
    "#send_data_to_NAS=True\n",
    "\n",
    "#### Local directories\n",
    "#data_folder_path = current_dir.parents[0].joinpath('dataBases').joinpath('test_data')\n",
    "#path_to_masks_dir = current_dir.parents[0].joinpath('dataBases').joinpath('masks_test_data')\n",
    "#data_folder_path = current_dir.parents[0].joinpath('dataBases').joinpath('GabeIFimages_512')  # GabeIFimages_1024 # GabeIFimages_512\n",
    "#/home/luisub/Desktop/FISH_Processing/dataBases/GabeIFimages/Cell02.tif\n",
    "#path_to_masks_dir = None # current_dir.parents[0].joinpath('dataBases').joinpath('masks_test_data')\n"
   ]
  },
  {
   "cell_type": "code",
   "execution_count": 4,
   "id": "4f97fe31",
   "metadata": {},
   "outputs": [],
   "source": [
    "#data_folder_path = pathlib.Path('smFISH_images/Linda_smFISH_images/Confocal/20220914/A549_COX2_30ngmL_IL1B_2h_GoldMedia')\n",
    "#data_folder_path = pathlib.Path('smFISH_images/Linda_smFISH_images/Confocal/20220914/A549_COX2_woSTM_GoldMedia')\n",
    "\n",
    "#data_folder_path = pathlib.Path('smFISH_images/Linda_smFISH_images/Confocal/20220914/A549_NFKBIA_100nMDEX_2h')\n",
    "#data_folder_path = pathlib.Path('smFISH_images/Linda_smFISH_images/Confocal/20220914/A549_NFKBIA_woSTM')\n",
    "\n",
    "path_to_masks_dir = None   # full path to a zip file"
   ]
  },
  {
   "cell_type": "code",
   "execution_count": 5,
   "id": "5a36673d",
   "metadata": {},
   "outputs": [],
   "source": [
    "#data_folder_path = current_dir.parents[0].joinpath('notebooks').joinpath('test_linda')\n",
    "#path_to_masks_dir = current_dir.parents[0].joinpath('notebooks').joinpath('masks_test_linda')"
   ]
  },
  {
   "cell_type": "code",
   "execution_count": 6,
   "id": "73a7d177",
   "metadata": {},
   "outputs": [],
   "source": [
    "download_data_from_NAS = True\n",
    "send_data_to_NAS = False"
   ]
  },
  {
   "cell_type": "markdown",
   "id": "b93f8f3b",
   "metadata": {},
   "source": [
    "### Parameters for segmentation and spot detection"
   ]
  },
  {
   "cell_type": "code",
   "execution_count": 7,
   "id": "d1a25767",
   "metadata": {},
   "outputs": [],
   "source": [
    "# Parameters fo cell segmentation \n",
    "channels_with_cytosol =  None # [2]             # list or int indicating the channels where the cytosol is detectable. Use None to not segment the cytosol.\n",
    "channels_with_nucleus = [0]           # list or int indicating the channels where the nucleus is detectable. Use None to not segment the cytosol.\n",
    "channels_with_FISH = [1,3]              # list or int with the channels with FISH spots that are used for the quantification\n",
    "diameter_nucleus = 81                # approximate nucleus size in pixels\n",
    "diameter_cytosol = 0                # approximate cytosol size in pixels\n",
    "\n",
    "# Parameters for FISH detection\n",
    "voxel_size_z = 500    #300                      # Microscope conversion px to nanometers in the z axis.\n",
    "voxel_size_yx = 160 #103   #103                 # Microscope conversion px to nanometers in the xy axis.\n",
    "psf_z = 350      #350                           # Theoretical size of the PSF emitted by a [rna] spot in the z plan, in nanometers.\n",
    "psf_yx = 160     #150                           # Theoretical size of the PSF emitted by a [rna] spot in the yx plan, in nanometers.\n",
    "\n",
    "# Cluster Detection\n",
    "minimum_spots_cluster = 2                  # The number of spots in a neighborhood for a point to be considered as a core point (from which a cluster is expanded). This includes the point itself.\n",
    "show_plots = False                          # Flag to display plots\n",
    "optimization_segmentation_method = 'z_slice_segmentation' #  # optimization_segmentation_method = 'intensity_segmentation' 'z_slice_segmentation', 'gaussian_filter_segmentation' , 'z_slice_segmentation_marker' , 'center_slice', None\n",
    "save_all_images=False                     # If true, it shows a all planes for the FISH plot detection. \n",
    "threshold_for_spot_detection = None       # Intensity threshold to detect  spots. If None, it will automatically detect the spots. Pass a list if you have more than one FISH channel.\n",
    "save_filtered_images = False"
   ]
  },
  {
   "cell_type": "code",
   "execution_count": 8,
   "id": "d4fc0072",
   "metadata": {},
   "outputs": [],
   "source": [
    "# If more than one channel contain FISH spots. This section will create a list of thresholds for spot detection and for each channel. \n",
    "if not(isinstance(channels_with_FISH, list)):\n",
    "    channels_with_FISH=[channels_with_FISH]\n",
    "list_threshold_for_spot_detection=[]\n",
    "if not isinstance(threshold_for_spot_detection, list):\n",
    "    for i in range (len(channels_with_FISH)):\n",
    "        list_threshold_for_spot_detection.append(threshold_for_spot_detection)\n",
    "else:\n",
    "    list_threshold_for_spot_detection = threshold_for_spot_detection\n",
    "# Lists for thresholds\n",
    "if (isinstance(list_threshold_for_spot_detection, list)) and (len(list_threshold_for_spot_detection) < len(channels_with_FISH)):\n",
    "    for i in range (len(channels_with_FISH)):\n",
    "        list_threshold_for_spot_detection.append(list_threshold_for_spot_detection[0])"
   ]
  },
  {
   "cell_type": "code",
   "execution_count": 9,
   "id": "621f6f63",
   "metadata": {},
   "outputs": [],
   "source": [
    "# If only a section  of z-slices is needed to process pass it as a list of integers with consecutive values. If all z-slices are required use None.\n",
    "list_selected_z_slices = None #[6,7,8,9] # subsection of slices to process.\n"
   ]
  },
  {
   "cell_type": "code",
   "execution_count": 10,
   "id": "dffe74a4",
   "metadata": {},
   "outputs": [],
   "source": [
    "# names for final folders\n",
    "    \n",
    "if (threshold_for_spot_detection is None):\n",
    "  name_final_folder = data_folder_path.name +'___nuc_' + str(diameter_nucleus) +'__cyto_' + str(diameter_cytosol) +'__psfz_' + str(psf_z) +'__psfyx_' + str(psf_yx)+'__ts_auto'\n",
    "else:\n",
    "  #name_final_folder = data_folder_path.name +'___nuc_' + str(diameter_nucleus) +'__cyto_' + str(diameter_cytosol) +'__psfz_' + str(psf_z) +'__psfyx_' + str(psf_yx)+'__ts_'+str(threshold_for_spot_detection)\n",
    "  name_final_folder = data_folder_path.name +'___nuc_' + str(diameter_nucleus) +'__cyto_' + str(diameter_cytosol) +'__psfz_' + str(psf_z) +'__psfyx_' + str(psf_yx)+'__ts'\n",
    "  for i in range (len(channels_with_FISH)):\n",
    "    name_final_folder+='_'+ str(list_threshold_for_spot_detection[i])\n"
   ]
  },
  {
   "cell_type": "markdown",
   "id": "e9678a14",
   "metadata": {},
   "source": [
    "## Connecting to NAS and Downloading data"
   ]
  },
  {
   "cell_type": "code",
   "execution_count": 11,
   "id": "bfa41aa0",
   "metadata": {},
   "outputs": [
    {
     "name": "stdout",
     "output_type": "stream",
     "text": [
      "Connection established\n",
      "File Downloaded : ROI001_XY1657822809_Z00_T0_C0.tif\n",
      "File Downloaded : ROI002_XY1657822933_Z00_T0_C3.tif\n",
      "File Downloaded : ROI001_XY1657822809_Z00_T0_C1.tif\n",
      "File Downloaded : ROI002_XY1657822933_Z00_T0_C2.tif\n",
      "File Downloaded : ROI001_XY1657822809_Z00_T0_C2.tif\n",
      "File Downloaded : ROI002_XY1657822933_Z00_T0_C1.tif\n",
      "File Downloaded : ROI001_XY1657822809_Z00_T0_C3.tif\n",
      "File Downloaded : ROI002_XY1657822933_Z00_T0_C0.tif\n",
      "Files downloaded to: /home/luisub/Desktop/FISH_Processing/notebooks/temp_MS2-CY5_Cyto543_560_5hTPL_5uM\n"
     ]
    }
   ],
   "source": [
    "# Download data from NAS\n",
    "if download_data_from_NAS == True:\n",
    "    share_name = 'share'\n",
    "    local_data_dir, masks_dir = fa.Utilities.download_data_NAS(path_to_config_file,data_folder_path, path_to_masks_dir,share_name,timeout=200)\n",
    "else:\n",
    "    local_data_dir = data_folder_path \n",
    "    masks_dir = path_to_masks_dir "
   ]
  },
  {
   "cell_type": "code",
   "execution_count": 12,
   "id": "340c31eb",
   "metadata": {},
   "outputs": [
    {
     "name": "stdout",
     "output_type": "stream",
     "text": [
      "Image shape:  (27, 928, 624, 4) \n",
      "\n",
      "Number of images:  2 \n",
      "\n",
      "Local directory with images:  /home/luisub/Desktop/FISH_Processing/notebooks/temp_MS2-CY5_Cyto543_560_5hTPL_5uM/merged \n",
      "\n"
     ]
    }
   ],
   "source": [
    "# Detecting if images need to be merged\n",
    "is_needed_to_merge_images = fa.MergeChannels(local_data_dir, substring_to_detect_in_file_name = '.*_C0.tif', save_figure =1).checking_images()\n",
    "if is_needed_to_merge_images == True:\n",
    "    _, list_images, number_images, output_to_path = fa.MergeChannels(local_data_dir, substring_to_detect_in_file_name = '.*_C0.tif', save_figure =1).merge()\n",
    "    local_data_dir = local_data_dir.joinpath('merged')\n",
    "else:\n",
    "    list_images, path_files, list_files_names, number_images = fa.ReadImages(directory= local_data_dir).read()\n",
    "# Printing image properties\n",
    "print('Image shape: ', list_images[0].shape , '\\n')\n",
    "print('Number of images: ',number_images , '\\n')\n",
    "print('Local directory with images: ', local_data_dir, '\\n')\n",
    "del list_images"
   ]
  },
  {
   "cell_type": "markdown",
   "id": "dba673cc",
   "metadata": {},
   "source": [
    "## Running the pipeline\n",
    "\n",
    "----"
   ]
  },
  {
   "cell_type": "code",
   "execution_count": 13,
   "id": "bd3a9063",
   "metadata": {},
   "outputs": [
    {
     "name": "stdout",
     "output_type": "stream",
     "text": [
      " ############### \n",
      "       IMAGE : 0\n",
      " ############### \n",
      " \n",
      "ORIGINAL IMAGE\n",
      "ROI001_XY1657822809_Z00_T0_merged.tif\n",
      "(27, 928, 624, 4)\n",
      "CELL SEGMENTATION\n",
      "No paired masks were detected for this image\n",
      "SPOT DETECTION\n",
      "Spot Detection for Channel : 1\n",
      "sigma_value (z,y,x) = (0.7, 1.0, 1.0)\n",
      "Int threshold used for the detection of spots:  179.0\n",
      "Z-Slice:  13\n",
      "Spot Detection for Channel : 3\n",
      "sigma_value (z,y,x) = (0.7, 1.0, 1.0)\n",
      "Int threshold used for the detection of spots:  445.0\n",
      "Z-Slice:  13\n",
      " ############### \n",
      "       IMAGE : 1\n",
      " ############### \n",
      " \n",
      "ORIGINAL IMAGE\n",
      "ROI002_XY1657822933_Z00_T0_merged.tif\n",
      "(27, 928, 624, 4)\n",
      "CELL SEGMENTATION\n",
      "No paired masks were detected for this image\n",
      "SPOT DETECTION\n",
      "Spot Detection for Channel : 1\n",
      "sigma_value (z,y,x) = (0.7, 1.0, 1.0)\n",
      "Int threshold used for the detection of spots:  151.0\n",
      "Z-Slice:  13\n",
      "Spot Detection for Channel : 3\n",
      "sigma_value (z,y,x) = (0.7, 1.0, 1.0)\n",
      "Int threshold used for the detection of spots:  422.0\n",
      "Z-Slice:  13\n"
     ]
    }
   ],
   "source": [
    "dataframe_FISH,_,_,_ = fa.PipelineFISH(local_data_dir, channels_with_cytosol, channels_with_nucleus, channels_with_FISH,diameter_nucleus, diameter_cytosol, minimum_spots_cluster, masks_dir=masks_dir,  voxel_size_z=voxel_size_z, voxel_size_yx=voxel_size_yx ,psf_z=psf_z,psf_yx=psf_yx, show_plots=show_plots, file_name_str =data_folder_path.name, optimization_segmentation_method = optimization_segmentation_method,save_all_images=save_all_images,threshold_for_spot_detection=list_threshold_for_spot_detection,list_selected_z_slices=list_selected_z_slices ,save_filtered_images=save_filtered_images ).run()\n",
    "#dataframe_FISH,_,_,_ = fa.PipelineFISH(local_data_dir, channels_with_cytosol, channels_with_nucleus, channels_with_FISH,diameter_nucleus, diameter_cytosol, minimum_spots_cluster, masks_dir=masks_dir,  list_voxels=list_voxels, list_psfs=list_psfs, show_plots=show_plots, file_name_str =data_folder_path.name, optimization_segmentation_method = optimization_segmentation_method,save_all_images=save_all_images,threshold_for_spot_detection=threshold_for_spot_detection,list_selected_z_slices=list_selected_z_slices ,save_filtered_images=save_filtered_images ).run()"
   ]
  },
  {
   "cell_type": "markdown",
   "id": "435ce599",
   "metadata": {},
   "source": [
    "## Extracting data from the dataframe\n",
    "\n",
    "----"
   ]
  },
  {
   "cell_type": "code",
   "execution_count": 14,
   "id": "05ebfd58",
   "metadata": {},
   "outputs": [],
   "source": [
    "# Be aware that the code keeps track of cells without spots. In the data frame, the fields for cells without spots are populated with -1 values.\n",
    "#dataframe_FISH.tail()"
   ]
  },
  {
   "cell_type": "code",
   "execution_count": 15,
   "id": "ebfab568",
   "metadata": {},
   "outputs": [
    {
     "name": "stdout",
     "output_type": "stream",
     "text": [
      "9\n"
     ]
    }
   ],
   "source": [
    "# Number of cells\n",
    "spot_type_selected = 0\n",
    "number_cells = dataframe_FISH['cell_id'].nunique()\n",
    "print(number_cells)\n",
    "# Number of spots\n",
    "number_of_spots_per_cell = [len( dataframe_FISH.loc[  (dataframe_FISH['cell_id']==i)  & (dataframe_FISH['spot_type']==spot_type_selected) & (dataframe_FISH['is_cell_fragmented']!=-1)  ].spot_id) for i in range(0, number_cells)]\n",
    "# Number of spots in cytosol\n",
    "number_of_spots_per_cell_cytosol = [len( dataframe_FISH.loc[  (dataframe_FISH['cell_id']==i) & (dataframe_FISH['is_nuc']==False) & (dataframe_FISH['spot_type']==spot_type_selected) & (dataframe_FISH['is_cell_fragmented']!=-1) ].spot_id) for i in range(0, number_cells)]\n",
    "# Number of spots in nucleus\n",
    "number_of_spots_per_cell_nucleus = [len( dataframe_FISH.loc[  (dataframe_FISH['cell_id']==i) &  (dataframe_FISH['is_cluster']==False) & (dataframe_FISH['is_nuc']==True) & (dataframe_FISH['spot_type']==spot_type_selected)  & (dataframe_FISH['is_cell_fragmented']!=-1)   ].spot_id) for i in range(0, number_cells)]\n",
    "# Number of TS per cell.\n",
    "number_of_TS_per_cell = [len( dataframe_FISH.loc[  (dataframe_FISH['cell_id']==i) &  (dataframe_FISH['is_cluster']==True) & (dataframe_FISH['is_nuc']==True) & (dataframe_FISH['spot_type']==spot_type_selected) & (dataframe_FISH['cluster_size'] >=minimum_spots_cluster) & (dataframe_FISH['is_cell_fragmented']!=-1) ].spot_id) for i in range(0, number_cells)]\n",
    "# Number of RNA in a TS\n",
    "ts_size =  dataframe_FISH.loc[   (dataframe_FISH['is_cluster']==True) & (dataframe_FISH['is_nuc']==True)  & (dataframe_FISH['spot_type']==spot_type_selected) & (dataframe_FISH['is_cell_fragmented']!=-1)  ].cluster_size.values\n",
    "# Size of each cell\n",
    "cell_size = [dataframe_FISH.loc[dataframe_FISH['cell_id']==i].cell_area_px.values[0] for i in range(0, number_cells)]\n"
   ]
  },
  {
   "cell_type": "markdown",
   "id": "11c01b92",
   "metadata": {},
   "source": [
    "## Plotting\n",
    "\n",
    "----"
   ]
  },
  {
   "cell_type": "code",
   "execution_count": 16,
   "id": "061361d8",
   "metadata": {},
   "outputs": [
    {
     "data": {
      "text/plain": [
       "<Figure size 432x288 with 0 Axes>"
      ]
     },
     "metadata": {},
     "output_type": "display_data"
    }
   ],
   "source": [
    "# Plotting intensity distributions\n",
    "plt.style.use('ggplot')  # ggplot  #default\n",
    "def plot_probability_distribution(data_to_plot, numBins = 10, title='', xlab='', ylab='', color='r', subplots=False, show_grid=True, fig=plt.figure() ):\n",
    "  n, bins, _ = plt.hist(data_to_plot,bins=numBins,density=False,color=color)\n",
    "  plt.xlabel(xlab, size=16)\n",
    "  plt.ylabel(ylab, size=16)\n",
    "  plt.grid(show_grid)\n",
    "  plt.text(bins[(len(bins)//2)],(np.amax(n)//2).astype(int),'mean = '+str(round( np.mean(data_to_plot) ,1) ), fontsize=14,bbox=dict(facecolor='w', alpha=0.5) )\n",
    "  plt.title(title, size=16)\n",
    "  return (f)"
   ]
  },
  {
   "cell_type": "code",
   "execution_count": 17,
   "id": "0655143e",
   "metadata": {},
   "outputs": [
    {
     "data": {
      "image/png": "[encoded data removed]",
      "text/plain": [
       "<Figure size 2160x504 with 5 Axes>"
      ]
     },
     "metadata": {},
     "output_type": "display_data"
    }
   ],
   "source": [
    "#Plotting\n",
    "fig_size = (30, 7)\n",
    "f = plt.figure(figsize=fig_size)\n",
    "#ylab='Probability'\n",
    "ylab='Frequency Count'  \n",
    "# adding subplots\n",
    "f.add_subplot(1,5,1) \n",
    "plot_probability_distribution( number_of_spots_per_cell, numBins=20,  title='Total Num Spots per cell', xlab='Number', ylab=ylab, fig=f, color='orangered')\n",
    "f.add_subplot(1,5,2) \n",
    "plot_probability_distribution(number_of_spots_per_cell_cytosol,   numBins=20,  title='Num Spots in Cytosol', xlab='Number', ylab=ylab, fig=f, color='orangered')\n",
    "f.add_subplot(1,5,3) \n",
    "plot_probability_distribution(number_of_spots_per_cell_nucleus, numBins=20,    title='Num Spots in Nucleus', xlab='Number', ylab=ylab, fig=f, color='orangered')\n",
    "f.add_subplot(1,5,4) \n",
    "plot_probability_distribution(ts_size, numBins=20,    title='Clusters in nucleus', xlab='RNA per Cluster', ylab=ylab, fig=f, color='orangered')\n",
    "f.add_subplot(1,5,5) \n",
    "plot_probability_distribution(number_of_TS_per_cell ,  numBins=20, title='Number TS per cell', xlab='[TS (>= 4 rna)]', ylab=ylab, fig=f, color='orangered')\n",
    "plt.savefig('plots_'+data_folder_path.name+'.png')\n",
    "plt.show()"
   ]
  },
  {
   "cell_type": "code",
   "execution_count": 18,
   "id": "01266343",
   "metadata": {},
   "outputs": [],
   "source": [
    "# Plotting Cell size vs \n",
    "df_join_distribution = pd.DataFrame({\"number_of_spots_per_cell\":number_of_spots_per_cell,\"cell_size\":cell_size})"
   ]
  },
  {
   "cell_type": "code",
   "execution_count": 19,
   "id": "0017acac",
   "metadata": {},
   "outputs": [
    {
     "data": {
      "text/plain": [
       "<seaborn.axisgrid.JointGrid at 0x7fb8a04a7310>"
      ]
     },
     "execution_count": 19,
     "metadata": {},
     "output_type": "execute_result"
    },
    {
     "data": {
      "image/png": "[encoded data removed]",
      "text/plain": [
       "<Figure size 432x432 with 3 Axes>"
      ]
     },
     "metadata": {},
     "output_type": "display_data"
    }
   ],
   "source": [
    "sns.jointplot(data=df_join_distribution, x=\"number_of_spots_per_cell\", y=\"cell_size\",kind='scatter',color=\"#003f9a\") #,kind='hex','resid','kde'"
   ]
  },
  {
   "cell_type": "markdown",
   "id": "e7319f74",
   "metadata": {},
   "source": [
    "## Saving results"
   ]
  },
  {
   "cell_type": "code",
   "execution_count": 20,
   "id": "f03c92bf",
   "metadata": {},
   "outputs": [
    {
     "data": {
      "text/plain": [
       "PosixPath('/home/luisub/Desktop/FISH_Processing/notebooks/analysis_MS2-CY5_Cyto543_560_5hTPL_5uM___nuc_81__cyto_0__psfz_350__psfyx_160__ts_None_None/pdf_report_MS2-CY5_Cyto543_560_5hTPL_5uM.pdf')"
      ]
     },
     "execution_count": 20,
     "metadata": {},
     "output_type": "execute_result"
    }
   ],
   "source": [
    "# create results folder\n",
    "if not os.path.exists(str('analysis_'+ name_final_folder)):\n",
    "    os.makedirs(str('analysis_'+ name_final_folder))    \n",
    "\n",
    "#figure_path \n",
    "pathlib.Path().absolute().joinpath('plots_'+ data_folder_path.name +'.png').rename(pathlib.Path().absolute().joinpath(str('analysis_'+ name_final_folder),'plots_'+ data_folder_path.name +'.png'))\n",
    "#metadata_path\n",
    "pathlib.Path().absolute().joinpath('metadata_'+ data_folder_path.name +'.txt').rename(pathlib.Path().absolute().joinpath(str('analysis_'+ name_final_folder),'metadata_'+ data_folder_path.name +'.txt'))\n",
    "#dataframe_path \n",
    "pathlib.Path().absolute().joinpath('dataframe_' + data_folder_path.name +'.csv').rename(pathlib.Path().absolute().joinpath(str('analysis_'+ name_final_folder),'dataframe_'+ data_folder_path.name +'.csv'))\n",
    "#pdf_path \n",
    "pathlib.Path().absolute().joinpath('pdf_report_' + data_folder_path.name +'.pdf').rename(pathlib.Path().absolute().joinpath(str('analysis_'+ name_final_folder    ),'pdf_report_'+ data_folder_path.name +'.pdf'))\n"
   ]
  },
  {
   "cell_type": "markdown",
   "id": "5b69332a",
   "metadata": {},
   "source": [
    "## Sending results to NAS\n",
    "\n",
    "----"
   ]
  },
  {
   "cell_type": "code",
   "execution_count": 21,
   "id": "36dd64f8",
   "metadata": {},
   "outputs": [],
   "source": [
    "# Writing analyses data to NAS\n",
    "analysis_folder_name = 'analysis_'+ name_final_folder\n",
    "if send_data_to_NAS == True:\n",
    "    shutil.make_archive(analysis_folder_name,'zip',pathlib.Path().absolute().joinpath(analysis_folder_name))\n",
    "    local_file_to_send_to_NAS = pathlib.Path().absolute().joinpath(analysis_folder_name+'.zip')\n",
    "    fa.NASConnection(path_to_config_file,share_name = share_name).write_files_to_NAS(local_file_to_send_to_NAS, data_folder_path)\n",
    "    os.remove(pathlib.Path().absolute().joinpath(analysis_folder_name+'.zip'))"
   ]
  },
  {
   "cell_type": "code",
   "execution_count": 22,
   "id": "8d348cc1",
   "metadata": {},
   "outputs": [],
   "source": [
    "# Writing masks to NAS\n",
    "if path_to_masks_dir == None: \n",
    "    mask_folder_created_by_pipeline = 'masks_'+ data_folder_path.name # default name by pipeline\n",
    "    name_final_masks = data_folder_path.name +'___nuc_' + str(diameter_nucleus) + '__cyto_' + str(diameter_cytosol) \n",
    "    mask_dir_complete_name = 'masks_'+ name_final_masks # final name for masks dir\n",
    "    shutil.move(mask_folder_created_by_pipeline, mask_dir_complete_name ) # remaing the masks dir\n",
    "else: \n",
    "    mask_dir_complete_name = masks_dir.name\n",
    "    \n",
    "if (send_data_to_NAS == True) and (path_to_masks_dir == None) :\n",
    "    shutil.make_archive( mask_dir_complete_name , 'zip', pathlib.Path().absolute().joinpath(mask_dir_complete_name))\n",
    "    local_file_to_send_to_NAS = pathlib.Path().absolute().joinpath(mask_dir_complete_name+'.zip')\n",
    "    fa.NASConnection(path_to_config_file,share_name = share_name).write_files_to_NAS(local_file_to_send_to_NAS, data_folder_path)\n",
    "    os.remove(pathlib.Path().absolute().joinpath(mask_dir_complete_name+'.zip'))"
   ]
  },
  {
   "cell_type": "markdown",
   "id": "62ab4071",
   "metadata": {},
   "source": [
    "## Removing temporal local files\n",
    "\n",
    "----"
   ]
  },
  {
   "cell_type": "code",
   "execution_count": 23,
   "id": "184361ea",
   "metadata": {},
   "outputs": [],
   "source": [
    "# Moving all results to \"analyses\" folder\n",
    "if not os.path.exists(str('analyses')):\n",
    "    os.makedirs(str('analyses'))\n",
    "\n",
    "# Subfolder name\n",
    "final_dir_name =pathlib.Path().absolute().joinpath('analyses', analysis_folder_name)\n",
    "\n",
    "# Removing directory if exist\n",
    "if os.path.exists(str(final_dir_name)):\n",
    "    shutil.rmtree(str(final_dir_name))\n",
    "\n",
    "# Moving results to a subdirectory in 'analyses' folder\n",
    "pathlib.Path().absolute().joinpath(analysis_folder_name).rename(final_dir_name )\n",
    "\n",
    "# Moving masks to a subdirectory in 'analyses' folder\n",
    "if (download_data_from_NAS == True) or (path_to_masks_dir == None):\n",
    "    final_mask_dir_name = pathlib.Path().absolute().joinpath('analyses', mask_dir_complete_name)\n",
    "    if os.path.exists(str(final_mask_dir_name)):\n",
    "        shutil.rmtree(str(final_mask_dir_name))\n",
    "    pathlib.Path().absolute().joinpath(mask_dir_complete_name).rename(final_mask_dir_name )\n",
    "\n",
    "\n",
    "# mask_folder_created_by_pipeline = 'masks_'+ data_folder_path.name # default name by pipeline\n",
    "# filtered_images_dir_name = pathlib.Path().absolute().joinpath('analyses', mask_dir_complete_name)\n",
    "# pathlib.Path().absolute().joinpath(mask_dir_complete_name).rename(final_mask_dir_name )\n",
    "\n",
    "if save_filtered_images == True:\n",
    "    filtered_folder_name = 'filtered_images_' + data_folder_path.name \n",
    "    pathlib.Path().absolute().joinpath(filtered_folder_name).rename(pathlib.Path().absolute().joinpath('analyses',str('analysis_'+ name_final_folder    ),filtered_folder_name))\n",
    "\n",
    "\n",
    "\n",
    "# Delete local temporal files\n",
    "temp_results_folder_name = pathlib.Path().absolute().joinpath('temp_results_' + data_folder_path.name)\n",
    "shutil.rmtree(temp_results_folder_name)\n",
    "\n",
    "if (download_data_from_NAS == True):\n",
    "    # Delete temporal images downloaded from NAS\n",
    "    shutil.rmtree(local_data_dir)"
   ]
  },
  {
   "cell_type": "code",
   "execution_count": null,
   "id": "7dcb6534",
   "metadata": {},
   "outputs": [],
   "source": []
  },
  {
   "cell_type": "code",
   "execution_count": null,
   "id": "bb140777",
   "metadata": {},
   "outputs": [],
   "source": []
  },
  {
   "cell_type": "code",
   "execution_count": null,
   "id": "0b84c6be",
   "metadata": {},
   "outputs": [],
   "source": []
  },
  {
   "cell_type": "code",
   "execution_count": null,
   "id": "8babf6de",
   "metadata": {},
   "outputs": [],
   "source": []
  },
  {
   "cell_type": "code",
   "execution_count": null,
   "id": "39b97b97",
   "metadata": {},
   "outputs": [],
   "source": []
  },
  {
   "cell_type": "code",
   "execution_count": null,
   "id": "faef6aa1",
   "metadata": {},
   "outputs": [],
   "source": []
  },
  {
   "cell_type": "code",
   "execution_count": null,
   "id": "56c1ffc2",
   "metadata": {},
   "outputs": [],
   "source": []
  }
 ],
 "metadata": {
  "interpreter": {
   "hash": "f123aec772437107f61ad48bdc3e74202fc8f652e2fa44805dd8339e0a72f809"
  },
  "kernelspec": {
   "display_name": "Python 3.6.13 64-bit ('FISH_processing': conda)",
   "name": "python3"
  },
  "language_info": {
   "codemirror_mode": {
    "name": "ipython",
    "version": 3
   },
   "file_extension": ".py",
   "mimetype": "text/x-python",
   "name": "python",
   "nbconvert_exporter": "python",
   "pygments_lexer": "ipython3",
   "version": "3.8.12"
  }
 },
 "nbformat": 4,
 "nbformat_minor": 5
}
