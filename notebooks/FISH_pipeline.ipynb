{
 "cells": [
  {
   "cell_type": "markdown",
   "id": "71bf931e",
   "metadata": {},
   "source": [
    "# FISH integrated analyses"
   ]
  },
  {
   "cell_type": "markdown",
   "id": "a3a6da40",
   "metadata": {},
   "source": [
    "<img src= /home/luisub/Desktop/FISH_Processing/docs/code_architecture.png alt=\"drawing\" width=\"1000\"/>"
   ]
  },
  {
   "cell_type": "markdown",
   "id": "bb49a2c9",
   "metadata": {},
   "source": [
    "<img src= /Users/luisaguilera/Desktop/FISH_Processing/docs/code_architecture.png alt=\"drawing\" width=\"1000\"/>"
   ]
  },
  {
   "cell_type": "markdown",
   "id": "ddecb034",
   "metadata": {},
   "source": [
    "## Libraries"
   ]
  },
  {
   "cell_type": "code",
   "execution_count": 2,
   "id": "848d9ad8",
   "metadata": {},
   "outputs": [],
   "source": [
    "# Importing libraries\n",
    "import sys\n",
    "import matplotlib as mpl \n",
    "import matplotlib.pyplot as plt \n",
    "import numpy as np \n",
    "import pandas as pd\n",
    "import pathlib\n",
    "import warnings\n",
    "warnings.filterwarnings(\"ignore\")"
   ]
  },
  {
   "cell_type": "markdown",
   "id": "571a359c",
   "metadata": {},
   "source": [
    "## Directories Path"
   ]
  },
  {
   "cell_type": "code",
   "execution_count": 3,
   "id": "fe746c24",
   "metadata": {},
   "outputs": [],
   "source": [
    "# Deffining directories\n",
    "current_dir = pathlib.Path().absolute()\n",
    "fa_dir = current_dir.parents[0].joinpath('src')\n",
    "\n",
    "# Importing fish_analyses module\n",
    "sys.path.append(str(fa_dir))\n",
    "import fish_analyses as fa"
   ]
  },
  {
   "cell_type": "code",
   "execution_count": 10,
   "id": "ec267381",
   "metadata": {},
   "outputs": [],
   "source": [
    "\n",
    "# Path\n",
    "#data_dir = current_dir.parents[0].joinpath('dataBases').joinpath('GAPDH_Exon_Cy5')     # path to a folder with images.\n",
    "data_dir = current_dir.parents[0].joinpath('dataBases').joinpath('DUSP1_Cy5_norm_fbs_wo_DEX')\n",
    "\n",
    "merge_images = 1 # this flag indicates if the images need to be merged\n",
    "\n",
    "# Segmentation\n",
    "channels_with_cytosol = [1]            # list or int indicating the channels where the cytosol is detectable\n",
    "channels_with_nucleus =0                # list or int indicating the channels where the nucleus is detectable\n",
    "channels_with_FISH = [1]               # list or int with the channels with FISH spots that are used for the quantification\n",
    "diamter_nucleus = 200                    # approximate nucleus size in pixels\n",
    "diameter_cytosol = 250              # approximate cytosol size in pixels\n",
    "\n",
    "# Parameters for spot detection\n",
    "voxel_size_z = 500                       # Microscope conversion px to nanometers in the z axis.\n",
    "voxel_size_yx = 103                      # Microscope conversion px to nanometers in the xy axis.\n",
    "\n",
    "\n",
    "psf_z_type_0 = 250                    # Theoretical size of the PSF emitted by a [rna] spot in the z plan, in nanometers.\n",
    "psf_yx_type_0 = 120                    # Theoretical size of the PSF emitted by a [rna] spot in the yx plan, in nanometers.\n",
    "\n",
    "psf_z_type_1 = 250                    # Theoretical size of the PSF emitted by a [rna] spot in the z plan, in nanometers.\n",
    "psf_yx_type_1 = 110                    # Theoretical size of the PSF emitted by a [rna] spot in the yx plan, in nanometers.\n",
    "\n",
    "\n",
    "list_voxels = [ [voxel_size_z, voxel_size_yx  ] ,  [voxel_size_z,voxel_size_yx ] ]\n",
    "list_psfs = [ [psf_z_type_0 ,psf_yx_type_0] , [psf_z_type_1,psf_yx_type_1] ]\n",
    "\n",
    "# Cluster Detection\n",
    "minimum_spots_cluster = 2                # The number of spots in a neighborhood for a point to be considered as a core point (from which a cluster is expanded). This includes the point itself.\n",
    "show_plots=True                          # Flag to display plots\n"
   ]
  },
  {
   "cell_type": "code",
   "execution_count": 6,
   "id": "409c9b67",
   "metadata": {},
   "outputs": [],
   "source": [
    "# Detecting if images need to be merged\n",
    "if merge_images == 1:\n",
    "    list_file_names, list_images, number_images, output_to_path = fa.MergeChannels(data_dir, substring_to_detect_in_file_name = '.*_C0.tif', save_figure =1).merge()\n",
    "    data_dir = data_dir.joinpath('merged')"
   ]
  },
  {
   "cell_type": "code",
   "execution_count": 7,
   "id": "c5e9b56c",
   "metadata": {},
   "outputs": [
    {
     "data": {
      "text/plain": [
       "(24, 928, 624, 2)"
      ]
     },
     "execution_count": 7,
     "metadata": {},
     "output_type": "execute_result"
    }
   ],
   "source": [
    "list_images, path_files, list_files_names, number_images = fa.ReadImages(data_dir).read()\n",
    "list_images[0].shape[3]"
   ]
  },
  {
   "cell_type": "code",
   "execution_count": 20,
   "id": "707311b7",
   "metadata": {},
   "outputs": [
    {
     "data": {
      "text/plain": [
       "array([[729, 638, 600, ..., 571, 561, 613],\n",
       "       [634, 630, 680, ..., 624, 570, 680],\n",
       "       [675, 636, 534, ..., 675, 593, 678],\n",
       "       ...,\n",
       "       [703, 778, 884, ..., 543, 671, 620],\n",
       "       [816, 745, 743, ..., 619, 568, 571],\n",
       "       [808, 763, 853, ..., 649, 560, 553]], dtype=uint16)"
      ]
     },
     "execution_count": 20,
     "metadata": {},
     "output_type": "execute_result"
    }
   ],
   "source": [
    "np.amax(list_images[0][:,:,:,0],axis=0)  #.shape"
   ]
  },
  {
   "cell_type": "code",
   "execution_count": 12,
   "id": "d2a3e341",
   "metadata": {},
   "outputs": [
    {
     "name": "stdout",
     "output_type": "stream",
     "text": [
      " ____  ____   ___   ____ _____ ____ ____ ___ _   _  ____    ___ __  __    _    ____ _____        ___  \n",
      "|  _ \\|  _ \\ / _ \\ / ___| ____/ ___/ ___|_ _| \\ | |/ ___|  |_ _|  \\/  |  / \\  / ___| ____|  _   / _ \\ \n",
      "| |_) | |_) | | | | |   |  _| \\___ \\___ \\| ||  \\| | |  _    | || |\\/| | / _ \\| |  _|  _|   (_) | | | |\n",
      "|  __/|  _ <| |_| | |___| |___ ___) |__) | || |\\  | |_| |   | || |  | |/ ___ \\ |_| | |___   _  | |_| |\n",
      "|_|   |_| \\_\\\\___/ \\____|_____|____/____/___|_| \\_|\\____|  |___|_|  |_/_/   \\_\\____|_____| (_)  \\___/ \n",
      "                                                                                                      \n",
      "\n",
      "ORIGINAL IMAGE\n"
     ]
    },
    {
     "ename": "IndexError",
     "evalue": "tuple index out of range",
     "output_type": "error",
     "traceback": [
      "\u001b[0;31m---------------------------------------------------------------------------\u001b[0m",
      "\u001b[0;31mIndexError\u001b[0m                                Traceback (most recent call last)",
      "\u001b[0;32m<ipython-input-12-9845daea21d0>\u001b[0m in \u001b[0;36m<module>\u001b[0;34m\u001b[0m\n\u001b[0;32m----> 1\u001b[0;31m \u001b[0mdataframe_FISH\u001b[0m \u001b[0;34m=\u001b[0m \u001b[0mfa\u001b[0m\u001b[0;34m.\u001b[0m\u001b[0mPipelineFISH\u001b[0m\u001b[0;34m(\u001b[0m\u001b[0mdata_dir\u001b[0m\u001b[0;34m,\u001b[0m \u001b[0mchannels_with_cytosol\u001b[0m\u001b[0;34m,\u001b[0m \u001b[0mchannels_with_nucleus\u001b[0m\u001b[0;34m,\u001b[0m \u001b[0mchannels_with_FISH\u001b[0m\u001b[0;34m,\u001b[0m\u001b[0mdiamter_nucleus\u001b[0m\u001b[0;34m,\u001b[0m \u001b[0mdiameter_cytosol\u001b[0m\u001b[0;34m,\u001b[0m \u001b[0mminimum_spots_cluster\u001b[0m\u001b[0;34m,\u001b[0m\u001b[0mlist_voxels\u001b[0m\u001b[0;34m=\u001b[0m\u001b[0mlist_voxels\u001b[0m\u001b[0;34m,\u001b[0m \u001b[0mlist_psfs\u001b[0m\u001b[0;34m=\u001b[0m\u001b[0mlist_psfs\u001b[0m\u001b[0;34m,\u001b[0m \u001b[0mshow_plot\u001b[0m\u001b[0;34m=\u001b[0m\u001b[0mshow_plots\u001b[0m\u001b[0;34m)\u001b[0m\u001b[0;34m.\u001b[0m\u001b[0mrun\u001b[0m\u001b[0;34m(\u001b[0m\u001b[0;34m)\u001b[0m\u001b[0;34m\u001b[0m\u001b[0;34m\u001b[0m\u001b[0m\n\u001b[0m",
      "\u001b[0;32m~/Desktop/FISH_Processing/src/fish_analyses.py\u001b[0m in \u001b[0;36mrun\u001b[0;34m(self)\u001b[0m\n\u001b[1;32m   1344\u001b[0m                 \u001b[0mdataframe\u001b[0m \u001b[0;34m=\u001b[0m \u001b[0;32mNone\u001b[0m\u001b[0;34m\u001b[0m\u001b[0;34m\u001b[0m\u001b[0m\n\u001b[1;32m   1345\u001b[0m             \u001b[0mprint\u001b[0m\u001b[0;34m(\u001b[0m\u001b[0;34m'ORIGINAL IMAGE'\u001b[0m\u001b[0;34m)\u001b[0m\u001b[0;34m\u001b[0m\u001b[0;34m\u001b[0m\u001b[0m\n\u001b[0;32m-> 1346\u001b[0;31m             \u001b[0mPlotImages\u001b[0m\u001b[0;34m(\u001b[0m\u001b[0mself\u001b[0m\u001b[0;34m.\u001b[0m\u001b[0mlist_images\u001b[0m\u001b[0;34m[\u001b[0m\u001b[0mi\u001b[0m\u001b[0;34m]\u001b[0m\u001b[0;34m,\u001b[0m\u001b[0mfigsize\u001b[0m\u001b[0;34m=\u001b[0m\u001b[0;34m(\u001b[0m\u001b[0;36m15\u001b[0m\u001b[0;34m,\u001b[0m \u001b[0;36m10\u001b[0m\u001b[0;34m)\u001b[0m \u001b[0;34m)\u001b[0m\u001b[0;34m.\u001b[0m\u001b[0mplot\u001b[0m\u001b[0;34m(\u001b[0m\u001b[0;34m)\u001b[0m\u001b[0;34m\u001b[0m\u001b[0;34m\u001b[0m\u001b[0m\n\u001b[0m\u001b[1;32m   1347\u001b[0m             \u001b[0mprint\u001b[0m\u001b[0;34m(\u001b[0m\u001b[0;34m'CELL SEGMENTATION'\u001b[0m\u001b[0;34m)\u001b[0m\u001b[0;34m\u001b[0m\u001b[0;34m\u001b[0m\u001b[0m\n\u001b[1;32m   1348\u001b[0m             \u001b[0mmasks_complete_cells\u001b[0m\u001b[0;34m,\u001b[0m \u001b[0mmasks_nuclei\u001b[0m\u001b[0;34m,\u001b[0m \u001b[0mmasks_cytosol_no_nuclei\u001b[0m\u001b[0;34m,\u001b[0m \u001b[0m_\u001b[0m \u001b[0;34m=\u001b[0m \u001b[0mCellSegmentation\u001b[0m\u001b[0;34m(\u001b[0m\u001b[0mself\u001b[0m\u001b[0;34m.\u001b[0m\u001b[0mlist_images\u001b[0m\u001b[0;34m[\u001b[0m\u001b[0mi\u001b[0m\u001b[0;34m]\u001b[0m\u001b[0;34m,\u001b[0m\u001b[0mself\u001b[0m\u001b[0;34m.\u001b[0m\u001b[0mchannels_with_cytosol\u001b[0m\u001b[0;34m,\u001b[0m \u001b[0mself\u001b[0m\u001b[0;34m.\u001b[0m\u001b[0mchannels_with_nucleus\u001b[0m\u001b[0;34m,\u001b[0m\u001b[0mdiameter_cytosol\u001b[0m \u001b[0;34m=\u001b[0m \u001b[0mself\u001b[0m\u001b[0;34m.\u001b[0m\u001b[0mdiameter_cytosol\u001b[0m\u001b[0;34m,\u001b[0m \u001b[0mdiamter_nucleus\u001b[0m\u001b[0;34m=\u001b[0m\u001b[0mself\u001b[0m\u001b[0;34m.\u001b[0m\u001b[0mdiamter_nucleus\u001b[0m\u001b[0;34m,\u001b[0m \u001b[0mshow_plot\u001b[0m\u001b[0;34m=\u001b[0m\u001b[0mself\u001b[0m\u001b[0;34m.\u001b[0m\u001b[0mshow_plot\u001b[0m\u001b[0;34m)\u001b[0m\u001b[0;34m.\u001b[0m\u001b[0mcalculate_masks\u001b[0m\u001b[0;34m(\u001b[0m\u001b[0;34m)\u001b[0m\u001b[0;34m\u001b[0m\u001b[0;34m\u001b[0m\u001b[0m\n",
      "\u001b[0;32m~/Desktop/FISH_Processing/src/fish_analyses.py\u001b[0m in \u001b[0;36mplot\u001b[0;34m(self)\u001b[0m\n\u001b[1;32m   1282\u001b[0m         \u001b[0mThis\u001b[0m \u001b[0mfunction\u001b[0m \u001b[0mplots\u001b[0m \u001b[0mall\u001b[0m \u001b[0mthe\u001b[0m \u001b[0mchannels\u001b[0m \u001b[0;32mfor\u001b[0m \u001b[0mthe\u001b[0m \u001b[0moriginal\u001b[0m \u001b[0mimage\u001b[0m\u001b[0;34m.\u001b[0m\u001b[0;34m\u001b[0m\u001b[0;34m\u001b[0m\u001b[0m\n\u001b[1;32m   1283\u001b[0m         '''\n\u001b[0;32m-> 1284\u001b[0;31m         \u001b[0mnumber_channels\u001b[0m \u001b[0;34m=\u001b[0m \u001b[0mself\u001b[0m\u001b[0;34m.\u001b[0m\u001b[0mimage\u001b[0m\u001b[0;34m.\u001b[0m\u001b[0mshape\u001b[0m\u001b[0;34m[\u001b[0m\u001b[0;36m3\u001b[0m\u001b[0;34m]\u001b[0m\u001b[0;34m\u001b[0m\u001b[0;34m\u001b[0m\u001b[0m\n\u001b[0m\u001b[1;32m   1285\u001b[0m         \u001b[0mfig\u001b[0m\u001b[0;34m,\u001b[0m \u001b[0maxes\u001b[0m \u001b[0;34m=\u001b[0m \u001b[0mplt\u001b[0m\u001b[0;34m.\u001b[0m\u001b[0msubplots\u001b[0m\u001b[0;34m(\u001b[0m\u001b[0mnrows\u001b[0m\u001b[0;34m=\u001b[0m\u001b[0;36m1\u001b[0m\u001b[0;34m,\u001b[0m \u001b[0mncols\u001b[0m\u001b[0;34m=\u001b[0m\u001b[0mnumber_channels\u001b[0m\u001b[0;34m,\u001b[0m \u001b[0mfigsize\u001b[0m\u001b[0;34m=\u001b[0m\u001b[0mself\u001b[0m\u001b[0;34m.\u001b[0m\u001b[0mfigsize\u001b[0m\u001b[0;34m)\u001b[0m\u001b[0;34m\u001b[0m\u001b[0;34m\u001b[0m\u001b[0m\n\u001b[1;32m   1286\u001b[0m         \u001b[0;32mfor\u001b[0m \u001b[0mi\u001b[0m \u001b[0;32min\u001b[0m \u001b[0mrange\u001b[0m \u001b[0;34m(\u001b[0m\u001b[0;36m0\u001b[0m\u001b[0;34m,\u001b[0m\u001b[0mnumber_channels\u001b[0m \u001b[0;34m)\u001b[0m\u001b[0;34m:\u001b[0m\u001b[0;34m\u001b[0m\u001b[0;34m\u001b[0m\u001b[0m\n",
      "\u001b[0;31mIndexError\u001b[0m: tuple index out of range"
     ]
    }
   ],
   "source": [
    "dataframe_FISH = fa.PipelineFISH(data_dir, channels_with_cytosol, channels_with_nucleus, channels_with_FISH,diamter_nucleus, diameter_cytosol, minimum_spots_cluster,list_voxels=list_voxels, list_psfs=list_psfs, show_plot=show_plots).run()"
   ]
  },
  {
   "cell_type": "code",
   "execution_count": null,
   "id": "22d1d322",
   "metadata": {},
   "outputs": [],
   "source": [
    "dataframe_FISH.head()"
   ]
  },
  {
   "cell_type": "code",
   "execution_count": null,
   "id": "dcc38b32",
   "metadata": {},
   "outputs": [],
   "source": [
    "# Number of cells\n",
    "spot_type_selected = 1\n",
    "number_cells = dataframe_FISH['cell_id'].nunique()\n",
    "print(number_cells)\n",
    "# Number of spots\n",
    "number_of_spots_per_cell = [len( dataframe_FISH.loc[  (dataframe_FISH['cell_id']==i) &  (dataframe_FISH['is_cluster']==False) & (dataframe_FISH['spot_type']==spot_type_selected) ].spot_id) for i in range(0, number_cells)]\n",
    "\n",
    "# Number of spots in cytosol\n",
    "number_of_spots_per_cell_cytosol = [len( dataframe_FISH.loc[  (dataframe_FISH['cell_id']==i) &  (dataframe_FISH['is_cluster']==False) & (dataframe_FISH['is_nuc']==False) & (dataframe_FISH['spot_type']==spot_type_selected) ].spot_id) for i in range(0, number_cells)]\n",
    "\n",
    "# Number of spots in nucleus\n",
    "number_of_spots_per_cell_nucleus = [len( dataframe_FISH.loc[  (dataframe_FISH['cell_id']==i) &  (dataframe_FISH['is_cluster']==False) & (dataframe_FISH['is_nuc']==True) & (dataframe_FISH['spot_type']==spot_type_selected) ].spot_id) for i in range(0, number_cells)]\n",
    "\n",
    "# Number of TS per cell\n",
    "number_of_TS_per_cell = [len( dataframe_FISH.loc[  (dataframe_FISH['cell_id']==i) &  (dataframe_FISH['is_cluster']==True) & (dataframe_FISH['is_nuc']==True) & (dataframe_FISH['spot_type']==spot_type_selected) ].spot_id) for i in range(0, number_cells)]\n",
    "# Number of RNA in a TS\n",
    "ts_size =  dataframe_FISH.loc[   (dataframe_FISH['is_cluster']==True) & (dataframe_FISH['is_nuc']==True)  & (dataframe_FISH['spot_type']==spot_type_selected)   ].cluster_size.values\n",
    "# Size of each cell\n",
    "cell_size = dataframe_FISH.loc[  (dataframe_FISH['spot_id']==0)  ].cell_area_px.values"
   ]
  },
  {
   "cell_type": "code",
   "execution_count": null,
   "id": "00ccc434",
   "metadata": {},
   "outputs": [],
   "source": [
    "# Plotting intensity distributions\n",
    "plt.style.use('ggplot')  # ggplot  #default\n",
    "def plot_probability_distribution(data_to_plot, numBins = 10, title='', xlab='', ylab='', color='r', subplots=False, show_grid=True, fig=plt.figure() ):\n",
    "  plt.hist(data_to_plot,bins=numBins,density=False,color=color)\n",
    "  plt.xlabel(xlab, size=16)\n",
    "  plt.ylabel(ylab, size=16)\n",
    "  plt.grid(show_grid)\n",
    "  plt.title(title, size=16)\n",
    "  return (f)"
   ]
  },
  {
   "cell_type": "code",
   "execution_count": null,
   "id": "670a8ef4",
   "metadata": {},
   "outputs": [],
   "source": [
    "#Plotting\n",
    "fig_size = (30, 7)\n",
    "f = plt.figure(figsize=fig_size)\n",
    "#ylab='Probability'\n",
    "ylab='Frequency Count'  \n",
    "# adding subplots\n",
    "f.add_subplot(1,5,1) \n",
    "plot_probability_distribution( number_of_spots_per_cell, numBins=20,  title='Total Num Spots per cell', xlab='Number', ylab=ylab, fig=f, color='orangered')\n",
    "f.add_subplot(1,5,2) \n",
    "plot_probability_distribution(number_of_spots_per_cell_cytosol,   numBins=20,  title='Num Spots in Cytosol', xlab='Number', ylab=ylab, fig=f, color='orangered')\n",
    "f.add_subplot(1,5,3) \n",
    "plot_probability_distribution(number_of_spots_per_cell_nucleus, numBins=20,    title='Num Spots in Nucleus', xlab='Number', ylab=ylab, fig=f, color='orangered')\n",
    "f.add_subplot(1,5,4) \n",
    "plot_probability_distribution(number_of_TS_per_cell, numBins=20,    title='Clusters in nucleus', xlab='RNA per Cluster', ylab=ylab, fig=f, color='orangered')\n",
    "f.add_subplot(1,5,5) \n",
    "plot_probability_distribution(cell_size ,  numBins=20, title='Cell size', xlab='[Pixels]', ylab=ylab, fig=f, color='orangered')\n",
    "# plt.savefig('./results/sim_intensity_dist_ch0.png')\n",
    "plt.show()"
   ]
  }
 ],
 "metadata": {
  "interpreter": {
   "hash": "f123aec772437107f61ad48bdc3e74202fc8f652e2fa44805dd8339e0a72f809"
  },
  "kernelspec": {
   "display_name": "Python 3.6.13 64-bit ('FISH_processing': conda)",
   "name": "python3"
  },
  "language_info": {
   "codemirror_mode": {
    "name": "ipython",
    "version": 3
   },
   "file_extension": ".py",
   "mimetype": "text/x-python",
   "name": "python",
   "nbconvert_exporter": "python",
   "pygments_lexer": "ipython3",
   "version": "3.6.13"
  }
 },
 "nbformat": 4,
 "nbformat_minor": 5
}
