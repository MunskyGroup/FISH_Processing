{
 "cells": [
  {
   "cell_type": "markdown",
   "id": "71bf931e",
   "metadata": {},
   "source": [
    "# FISH integrated analyses"
   ]
  },
  {
   "cell_type": "markdown",
   "id": "a3a6da40",
   "metadata": {},
   "source": [
    "<img src= /home/luisub/Desktop/FISH_Processing/docs/code_architecture.png alt=\"drawing\" width=\"1000\"/>"
   ]
  },
  {
   "cell_type": "markdown",
   "id": "bb49a2c9",
   "metadata": {},
   "source": [
    "<img src= /Users/luisaguilera/Desktop/FISH_Processing/docs/code_architecture.png alt=\"drawing\" width=\"1000\"/>"
   ]
  },
  {
   "cell_type": "markdown",
   "id": "ddecb034",
   "metadata": {},
   "source": [
    "## Libraries"
   ]
  },
  {
   "cell_type": "code",
   "execution_count": null,
   "id": "848d9ad8",
   "metadata": {},
   "outputs": [],
   "source": [
    "# Importing libraries\n",
    "import sys\n",
    "import matplotlib as mpl \n",
    "import matplotlib.pyplot as plt \n",
    "import numpy as np \n",
    "import pandas as pd\n",
    "import pathlib\n",
    "import warnings\n",
    "import os\n",
    "import shutil\n",
    "warnings.filterwarnings(\"ignore\")"
   ]
  },
  {
   "cell_type": "markdown",
   "id": "571a359c",
   "metadata": {},
   "source": [
    "## Directories Path"
   ]
  },
  {
   "cell_type": "code",
   "execution_count": null,
   "id": "fe746c24",
   "metadata": {},
   "outputs": [],
   "source": [
    "# Deffining directories\n",
    "current_dir = pathlib.Path().absolute()\n",
    "fa_dir = current_dir.parents[0].joinpath('src')\n",
    "\n",
    "# Importing fish_analyses module\n",
    "sys.path.append(str(fa_dir))\n",
    "import fish_analyses as fa"
   ]
  },
  {
   "cell_type": "code",
   "execution_count": null,
   "id": "ec267381",
   "metadata": {},
   "outputs": [],
   "source": [
    "# Path\n",
    "#data_dir = current_dir.parents[0].joinpath('dataBases').joinpath('GAPDH_Exon_Cy5')     # path to a folder with images.\n",
    "#data_dir = current_dir.parents[0].joinpath('dataBases').joinpath('DUSP1_Cy5_norm_fbs_wo_DEX')\n",
    "#data_dir = current_dir.parents[0].joinpath('dataBases').joinpath('DUSP1_Cy5_norm_fbs_DEX_100nM_120min')\n",
    "#data_dir = current_dir.parents[0].joinpath('dataBases').joinpath('DUSP1_Cy5_DEX_5min_a')\n",
    "#data_dir = current_dir.parents[0].joinpath('dataBases').joinpath('HeLa_Anxa1_WO_DEX_0min_Goldmedia')\n",
    "#data_dir = current_dir.parents[0].joinpath('dataBases').joinpath('RPE_GoldFBS_ANXA_DEX_120min')\n",
    "data_dir = current_dir.parents[0].joinpath('dataBases').joinpath('test')\n",
    "\n",
    "folder_name = data_dir.name\n",
    "merge_images = 0 # this flag indicates if the images need to be merged\n",
    "\n",
    "# Segmentation\n",
    "channels_with_cytosol = [0,1]            # list or int indicating the channels where the cytosol is detectable\n",
    "channels_with_nucleus =0                # list or int indicating the channels where the nucleus is detectable\n",
    "channels_with_FISH = [1,2]               # list or int with the channels with FISH spots that are used for the quantification\n",
    "\n",
    "diamter_nucleus = 100                    # approximate nucleus size in pixels\n",
    "diameter_cytosol = 250              # approximate cytosol size in pixels\n",
    "\n",
    "# Parameters for spot detection\n",
    "voxel_size_z = 500                       # Microscope conversion px to nanometers in the z axis.\n",
    "voxel_size_yx = 103                      # Microscope conversion px to nanometers in the xy axis.\n",
    "\n",
    "psf_z_type_0 = 300                    # Theoretical size of the PSF emitted by a [rna] spot in the z plan, in nanometers.\n",
    "psf_yx_type_0 = 120                    # Theoretical size of the PSF emitted by a [rna] spot in the yx plan, in nanometers.\n",
    "\n",
    "psf_z_type_1 = 300                    # Theoretical size of the PSF emitted by a [rna] spot in the z plan, in nanometers.\n",
    "psf_yx_type_1 = 110                    # Theoretical size of the PSF emitted by a [rna] spot in the yx plan, in nanometers.\n",
    "\n",
    "list_voxels = [ [voxel_size_z, voxel_size_yx  ] ,  [voxel_size_z,voxel_size_yx ] ]\n",
    "list_psfs = [ [psf_z_type_0 ,psf_yx_type_0] , [psf_z_type_1,psf_yx_type_1] ]\n",
    "\n",
    "# Cluster Detection\n",
    "minimum_spots_cluster = 2                # The number of spots in a neighborhood for a point to be considered as a core point (from which a cluster is expanded). This includes the point itself.\n",
    "show_plots=True                          # Flag to display plots\n",
    "\n",
    "optimization_segmentation_method = 'z_slice_segmentation' # optimization_segmentation_method = 'intensity_segmentation' 'z_slice_segmentation', 'gaussian_filter_segmentation' , None\n",
    "\n"
   ]
  },
  {
   "cell_type": "code",
   "execution_count": null,
   "id": "409c9b67",
   "metadata": {},
   "outputs": [],
   "source": [
    "# Detecting if images need to be merged\n",
    "if merge_images == 1:\n",
    "    list_file_names, list_images, number_images, output_to_path = fa.MergeChannels(data_dir, substring_to_detect_in_file_name = '.*_C0.tif', save_figure =1).merge()\n",
    "    data_dir = data_dir.joinpath('merged')"
   ]
  },
  {
   "cell_type": "code",
   "execution_count": null,
   "id": "d2a3e341",
   "metadata": {},
   "outputs": [],
   "source": [
    "dataframe_FISH = fa.PipelineFISH(data_dir, channels_with_cytosol, channels_with_nucleus, channels_with_FISH,diamter_nucleus, diameter_cytosol, minimum_spots_cluster,list_voxels=list_voxels, list_psfs=list_psfs, show_plot=show_plots,file_name_str =folder_name,optimization_segmentation_method = optimization_segmentation_method ).run()"
   ]
  },
  {
   "cell_type": "code",
   "execution_count": null,
   "id": "22d1d322",
   "metadata": {},
   "outputs": [],
   "source": [
    "dataframe_FISH.head()"
   ]
  },
  {
   "cell_type": "code",
   "execution_count": null,
   "id": "dcc38b32",
   "metadata": {},
   "outputs": [],
   "source": [
    "# Number of cells\n",
    "spot_type_selected = 0\n",
    "\n",
    "number_cells = dataframe_FISH['cell_id'].nunique()\n",
    "print(number_cells)\n",
    "# Number of spots\n",
    "number_of_spots_per_cell = [len( dataframe_FISH.loc[  (dataframe_FISH['cell_id']==i)  & (dataframe_FISH['spot_type']==spot_type_selected) ].spot_id) for i in range(0, number_cells)]\n",
    "\n",
    "# Number of spots in cytosol\n",
    "number_of_spots_per_cell_cytosol = [len( dataframe_FISH.loc[  (dataframe_FISH['cell_id']==i) & (dataframe_FISH['is_nuc']==False) & (dataframe_FISH['spot_type']==spot_type_selected) ].spot_id) for i in range(0, number_cells)]\n",
    "\n",
    "# Number of spots in nucleus\n",
    "number_of_spots_per_cell_nucleus = [len( dataframe_FISH.loc[  (dataframe_FISH['cell_id']==i) &  (dataframe_FISH['is_cluster']==False) & (dataframe_FISH['is_nuc']==True) & (dataframe_FISH['spot_type']==spot_type_selected)    ].spot_id) for i in range(0, number_cells)]\n",
    "\n",
    "# Number of TS per cell.\n",
    "number_of_TS_per_cell = [len( dataframe_FISH.loc[  (dataframe_FISH['cell_id']==i) &  (dataframe_FISH['is_cluster']==True) & (dataframe_FISH['is_nuc']==True) & (dataframe_FISH['spot_type']==spot_type_selected) & (dataframe_FISH['cluster_size'] >=4) ].spot_id) for i in range(0, number_cells)]\n",
    "#number_of_TS_per_cell= np.asarray(number_of_TS_per_cell)\n",
    "#number_of_TS_per_cell=number_of_TS_per_cell[number_of_TS_per_cell>0]   \n",
    "    \n",
    "# Number of RNA in a TS\n",
    "ts_size =  dataframe_FISH.loc[   (dataframe_FISH['is_cluster']==True) & (dataframe_FISH['is_nuc']==True)  & (dataframe_FISH['spot_type']==spot_type_selected)   ].cluster_size.values\n",
    "\n",
    "# Size of each cell\n",
    "cell_size = dataframe_FISH.loc[  (dataframe_FISH['spot_id']==0)  ].cell_area_px.values"
   ]
  },
  {
   "cell_type": "code",
   "execution_count": null,
   "id": "00ccc434",
   "metadata": {},
   "outputs": [],
   "source": [
    "# Plotting intensity distributions\n",
    "plt.style.use('ggplot')  # ggplot  #default\n",
    "def plot_probability_distribution(data_to_plot, numBins = 10, title='', xlab='', ylab='', color='r', subplots=False, show_grid=True, fig=plt.figure() ):\n",
    "  n, bins, patches = plt.hist(data_to_plot,bins=numBins,density=False,color=color)\n",
    "  plt.xlabel(xlab, size=16)\n",
    "  plt.ylabel(ylab, size=16)\n",
    "  plt.grid(show_grid)\n",
    "  plt.text(bins[(len(bins)//2)],(np.amax(n)//2).astype(int),'mean = '+str(round( np.mean(data_to_plot) ,1) ), fontsize=14,bbox=dict(facecolor='w', alpha=0.5) )\n",
    "  plt.title(title, size=16)\n",
    "  return (f)"
   ]
  },
  {
   "cell_type": "code",
   "execution_count": null,
   "id": "670a8ef4",
   "metadata": {},
   "outputs": [],
   "source": [
    "#Plotting\n",
    "fig_size = (30, 7)\n",
    "f = plt.figure(figsize=fig_size)\n",
    "#ylab='Probability'\n",
    "ylab='Frequency Count'  \n",
    "# adding subplots\n",
    "f.add_subplot(1,5,1) \n",
    "plot_probability_distribution( number_of_spots_per_cell, numBins=20,  title='Total Num Spots per cell', xlab='Number', ylab=ylab, fig=f, color='orangered')\n",
    "f.add_subplot(1,5,2) \n",
    "plot_probability_distribution(number_of_spots_per_cell_cytosol,   numBins=20,  title='Num Spots in Cytosol', xlab='Number', ylab=ylab, fig=f, color='orangered')\n",
    "f.add_subplot(1,5,3) \n",
    "plot_probability_distribution(number_of_spots_per_cell_nucleus, numBins=20,    title='Num Spots in Nucleus', xlab='Number', ylab=ylab, fig=f, color='orangered')\n",
    "f.add_subplot(1,5,4) \n",
    "plot_probability_distribution(ts_size, numBins=20,    title='Clusters in nucleus', xlab='RNA per Cluster', ylab=ylab, fig=f, color='orangered')\n",
    "f.add_subplot(1,5,5) \n",
    "plot_probability_distribution(number_of_TS_per_cell ,  numBins=20, title='Number TS per cell', xlab='[TS (>= 4 rna)]', ylab=ylab, fig=f, color='orangered')\n",
    "plt.savefig('Figure_Distributions_'+folder_name)\n",
    "plt.show()"
   ]
  },
  {
   "cell_type": "code",
   "execution_count": null,
   "id": "6aeb4009",
   "metadata": {},
   "outputs": [],
   "source": [
    "# create results folder\n",
    "if not os.path.exists(str('analysis_'+ folder_name)):\n",
    "    os.makedirs(str('analysis_'+ folder_name))\n",
    "\n",
    "#figure_path \n",
    "pathlib.Path().absolute().joinpath('Figure_Distributions_'+ folder_name +'.png').rename(pathlib.Path().absolute().joinpath(str('analysis_'+ folder_name),'Figure_Distributions_'+ folder_name +'.png'))\n",
    "#metadata_path\n",
    "pathlib.Path().absolute().joinpath('metadata_'+ folder_name +'.txt').rename(pathlib.Path().absolute().joinpath(str('analysis_'+ folder_name),'metadata_'+ folder_name +'.txt'))\n",
    "#dataframe_path \n",
    "pathlib.Path().absolute().joinpath('dataframe_' + folder_name +'.csv').rename(pathlib.Path().absolute().joinpath(str('analysis_'+ folder_name),'dataframe_'+ folder_name +'.csv'))\n",
    "\n",
    "# making a zip file\n",
    "shutil.make_archive(str('analysis_'+ folder_name),'zip',pathlib.Path().absolute().joinpath(str('analysis_'+ folder_name)))"
   ]
  },
  {
   "cell_type": "code",
   "execution_count": null,
   "id": "4da6d017",
   "metadata": {},
   "outputs": [],
   "source": [
    "# Create the PDF from temp_img_folder\n",
    "# pip install fpdf\n",
    "\n",
    "\n",
    "#  Create an executable file to run the complete pipeline passing arguments and saving all report files\n",
    "# save qsub sh files"
   ]
  }
 ],
 "metadata": {
  "interpreter": {
   "hash": "f123aec772437107f61ad48bdc3e74202fc8f652e2fa44805dd8339e0a72f809"
  },
  "kernelspec": {
   "display_name": "Python 3.6.13 64-bit ('FISH_processing': conda)",
   "name": "python3"
  },
  "language_info": {
   "codemirror_mode": {
    "name": "ipython",
    "version": 3
   },
   "file_extension": ".py",
   "mimetype": "text/x-python",
   "name": "python",
   "nbconvert_exporter": "python",
   "pygments_lexer": "ipython3",
   "version": "3.6.13"
  }
 },
 "nbformat": 4,
 "nbformat_minor": 5
}
