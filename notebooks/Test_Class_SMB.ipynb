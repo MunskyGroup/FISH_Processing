{
 "cells": [
  {
   "cell_type": "markdown",
   "metadata": {},
   "source": [
    "# This notebook shows how to establish a connection to NAS"
   ]
  },
  {
   "cell_type": "markdown",
   "metadata": {},
   "source": [
    "The user needs to create a local confg.yml file with the following format.\n",
    "```yaml\n",
    "    user:\n",
    "        username: name_of_the_user_in_the_nas_server\n",
    "        password: user_password_in_the_nas_server \n",
    "        remote_address : ip or name for the nas server\n",
    "        domain: domain for the nas server\n",
    "```"
   ]
  },
  {
   "cell_type": "code",
   "execution_count": 2,
   "metadata": {},
   "outputs": [],
   "source": [
    "# Importing libraries\n",
    "import sys\n",
    "import pathlib"
   ]
  },
  {
   "cell_type": "code",
   "execution_count": 3,
   "metadata": {},
   "outputs": [],
   "source": [
    "# Deffining directories\n",
    "current_dir = pathlib.Path().absolute()\n",
    "fa_dir = current_dir.parents[0].joinpath('src')\n",
    "data_dir = current_dir.parents[0].joinpath('dataBases').joinpath('GAPDH_Exon_Cy5')"
   ]
  },
  {
   "cell_type": "code",
   "execution_count": 4,
   "metadata": {},
   "outputs": [
    {
     "name": "stdout",
     "output_type": "stream",
     "text": [
      "2021-11-01 14:16:39,396 [INFO] WRITING LOG OUTPUT TO /home/luisub/.cellpose/run.log\n"
     ]
    }
   ],
   "source": [
    "# Importing fish_analyses module\n",
    "sys.path.append(str(fa_dir))\n",
    "import fish_analyses as fa"
   ]
  },
  {
   "cell_type": "code",
   "execution_count": 5,
   "metadata": {},
   "outputs": [],
   "source": [
    "# Path to credentials\n",
    "desktop_path = pathlib.Path.home()/'Desktop'\n",
    "path_to_config_file = desktop_path.joinpath('config.yml')"
   ]
  },
  {
   "cell_type": "code",
   "execution_count": 6,
   "metadata": {},
   "outputs": [
    {
     "name": "stdout",
     "output_type": "stream",
     "text": [
      "2021-11-01 14:17:00,859 [INFO] Authentication with remote machine \"MUNSKY-NAS.ENGR.COLOSTATE.EDU\" for user \"luisub\" will be using NTLM v2 authentication (with extended security)\n",
      "2021-11-01 14:17:00,874 [INFO] Now switching over to SMB2 protocol communication\n",
      "2021-11-01 14:17:00,875 [INFO] SMB2 dialect negotiation successful\n",
      "2021-11-01 14:17:00,877 [INFO] Performing NTLMv2 authentication (on SMB2) with server challenge \"b'7ec7443ea1659725'\"\n",
      "2021-11-01 14:17:00,878 [INFO] Performing NTLMv2 authentication (on SMB2) with server challenge \"b'7ec7443ea1659725'\"\n",
      "2021-11-01 14:17:00,880 [INFO] Server supports SMB signing\n",
      "2021-11-01 14:17:00,881 [INFO] SMB signing deactivated. SMB messages will NOT be signed.\n",
      "2021-11-01 14:17:00,895 [INFO] Authentication (on SMB2) successful!\n",
      "Connection established\n"
     ]
    }
   ],
   "source": [
    "# Establish connection to NAS\n",
    "conn_session= fa.NASConnection(path_to_config_file).connect_to_server()"
   ]
  },
  {
   "cell_type": "code",
   "execution_count": 7,
   "metadata": {},
   "outputs": [],
   "source": [
    "# Close connection\n",
    "conn_session.close()"
   ]
  },
  {
   "cell_type": "code",
   "execution_count": 8,
   "metadata": {},
   "outputs": [
    {
     "name": "stdout",
     "output_type": "stream",
     "text": [
      "2021-11-01 14:20:17,820 [INFO] Authentication with remote machine \"MUNSKY-NAS.ENGR.COLOSTATE.EDU\" for user \"luisub\" will be using NTLM v2 authentication (with extended security)\n",
      "2021-11-01 14:20:17,835 [INFO] Now switching over to SMB2 protocol communication\n",
      "2021-11-01 14:20:17,836 [INFO] SMB2 dialect negotiation successful\n",
      "2021-11-01 14:20:17,837 [INFO] Performing NTLMv2 authentication (on SMB2) with server challenge \"b'3a94e2d69f721a05'\"\n",
      "2021-11-01 14:20:17,838 [INFO] Performing NTLMv2 authentication (on SMB2) with server challenge \"b'3a94e2d69f721a05'\"\n",
      "2021-11-01 14:20:17,839 [INFO] Server supports SMB signing\n",
      "2021-11-01 14:20:17,839 [INFO] SMB signing deactivated. SMB messages will NOT be signed.\n",
      "2021-11-01 14:20:17,850 [INFO] Authentication (on SMB2) successful!\n",
      "Connection established\n",
      "File Downloaded : Capture_1_XY1617218260_Z00_T0_C0.tif\n",
      "File Downloaded : Capture1_XY1617218260_Z00_T0_C2.tif\n",
      "File Downloaded : Capture1_XY1617218260_Z00_T0_C1.tif\n",
      "/home/luisub/Desktop/FISH_Processing/notebooks\n"
     ]
    }
   ],
   "source": [
    "# Download data from NAS\n",
    "remote_folder_path = '/Test/test_dir/'\n",
    "local_folder_path = pathlib.Path().absolute().joinpath('temp')\n",
    "fa.NASConnection(path_to_config_file).copy_files(remote_folder_path, local_folder_path,timeout=60)"
   ]
  },
  {
   "cell_type": "code",
   "execution_count": 9,
   "metadata": {},
   "outputs": [
    {
     "name": "stdout",
     "output_type": "stream",
     "text": [
      "2021-11-01 14:21:11,980 [INFO] Authentication with remote machine \"MUNSKY-NAS.ENGR.COLOSTATE.EDU\" for user \"luisub\" will be using NTLM v2 authentication (with extended security)\n",
      "2021-11-01 14:21:11,995 [INFO] Now switching over to SMB2 protocol communication\n",
      "2021-11-01 14:21:11,996 [INFO] SMB2 dialect negotiation successful\n",
      "2021-11-01 14:21:11,998 [INFO] Performing NTLMv2 authentication (on SMB2) with server challenge \"b'd2a1d235ab26ba39'\"\n",
      "2021-11-01 14:21:11,999 [INFO] Performing NTLMv2 authentication (on SMB2) with server challenge \"b'd2a1d235ab26ba39'\"\n",
      "2021-11-01 14:21:12,000 [INFO] Server supports SMB signing\n",
      "2021-11-01 14:21:12,001 [INFO] SMB signing deactivated. SMB messages will NOT be signed.\n",
      "2021-11-01 14:21:12,018 [INFO] Authentication (on SMB2) successful!\n",
      "Connection established\n",
      "The file was uploaded to NAS in location: /Test/test_dir/test_file.txt\n"
     ]
    }
   ],
   "source": [
    "# Wrting data to NAS\n",
    "remote_folder_path = '/Test/test_dir/'\n",
    "local_file_to_send_to_NAS = pathlib.Path().absolute().joinpath('test_file.txt')\n",
    "fa.NASConnection(path_to_config_file).write_files_to_NAS(local_file_to_send_to_NAS, remote_folder_path)"
   ]
  },
  {
   "cell_type": "code",
   "execution_count": null,
   "metadata": {},
   "outputs": [],
   "source": []
  }
 ],
 "metadata": {
  "interpreter": {
   "hash": "f123aec772437107f61ad48bdc3e74202fc8f652e2fa44805dd8339e0a72f809"
  },
  "kernelspec": {
   "display_name": "Python 3.6.13 64-bit ('FISH_processing': conda)",
   "name": "python3"
  },
  "language_info": {
   "codemirror_mode": {
    "name": "ipython",
    "version": 3
   },
   "file_extension": ".py",
   "mimetype": "text/x-python",
   "name": "python",
   "nbconvert_exporter": "python",
   "pygments_lexer": "ipython3",
   "version": "3.6.13"
  }
 },
 "nbformat": 4,
 "nbformat_minor": 5
}
