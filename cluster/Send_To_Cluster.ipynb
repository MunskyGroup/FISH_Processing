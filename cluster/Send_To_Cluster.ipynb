{
 "cells": [
  {
   "cell_type": "code",
   "execution_count": 65,
   "metadata": {},
   "outputs": [],
   "source": [
    "import paramiko\n",
    "import os\n",
    "import yaml\n",
    "import sys\n",
    "import pickle\n",
    "import numpy as np\n",
    "from pipeline_builder import display_object_attributes\n",
    "import shutil\n",
    "\n",
    "from Send_To_Cluster import run_on_cluster\n",
    "\n",
    "# Get the path of the current script (or current working directory)\n",
    "parent_dir = os.path.dirname(os.getcwd())\n",
    "# Append the parent directory to sys.path\n",
    "sys.path.append(parent_dir)\n",
    "\n",
    "import src\n",
    "\n",
    "def save_dict_to_file(dic, location):\n",
    "    f = open(location,'w')\n",
    "    f.write(str(dic))\n",
    "    f.close()\n",
    "\n",
    "def load_dict_from_file(location):\n",
    "    f = open(location,'r')\n",
    "    data=f.read()\n",
    "    f.close()\n",
    "    return eval(data)"
   ]
  },
  {
   "cell_type": "code",
   "execution_count": 66,
   "metadata": {},
   "outputs": [],
   "source": [
    "config_location = r\"C:\\Users\\Jack\\Desktop\\config_keck.yml\"\n",
    "package_location = r'C:\\Users\\Jack\\Documents\\GitHub\\FISH_Processing\\Pipelines\\Standard_Pipeline'\n"
   ]
  },
  {
   "cell_type": "markdown",
   "metadata": {},
   "source": [
    "# Load in Package"
   ]
  },
  {
   "cell_type": "code",
   "execution_count": 67,
   "metadata": {},
   "outputs": [],
   "source": [
    "# Load in dataclass\n",
    "settings = load_dict_from_file(os.path.join(package_location, 'settings.txt'))\n",
    "scope = load_dict_from_file(os.path.join(package_location, 'scope.txt'))\n",
    "experiment = load_dict_from_file(os.path.join(package_location, 'experiment.txt'))\n",
    "# settings = np.load(os.path.join(package_location, 'settings.npy')).item()\n",
    "# scope = np.load(os.path.join(package_location, 'scope.npy')).item()\n",
    "# experiment = np.load(os.path.join(package_location, 'experiment.npy')).item()"
   ]
  },
  {
   "cell_type": "markdown",
   "metadata": {},
   "source": [
    "# Update Params"
   ]
  },
  {
   "cell_type": "code",
   "execution_count": 68,
   "metadata": {},
   "outputs": [],
   "source": [
    "experiment['initial_data_location'] = r'\\Users\\Jack\\06182024_HeLa_DexPulse_10nM\\rep1_4hr_zStacksAtSelectedLocations_1'\n",
    "experiment['nucChannel'] = [2]\n",
    "experiment['cytoChannel'] = [1]\n",
    "experiment['FISHChannel'] = [0]\n",
    "experiment['voxel_size_z'] = 300"
   ]
  },
  {
   "cell_type": "markdown",
   "metadata": {},
   "source": [
    "# Copy the Directory and Zip it "
   ]
  },
  {
   "cell_type": "code",
   "execution_count": 69,
   "metadata": {},
   "outputs": [
    {
     "data": {
      "text/plain": [
       "'c:\\\\Users\\\\Jack\\\\Documents\\\\GitHub\\\\FISH_Processing\\\\cluster\\\\Standard_Pipeline.zip'"
      ]
     },
     "execution_count": 69,
     "metadata": {},
     "output_type": "execute_result"
    }
   ],
   "source": [
    "copy_pipeline_location = os.path.join(os.getcwd(), os.path.basename(package_location))\n",
    "if os.path.exists(copy_pipeline_location):\n",
    "    shutil.rmtree(copy_pipeline_location)\n",
    "shutil.copytree(package_location, copy_pipeline_location)\n",
    "\n",
    "# Rewrite the pickle files\n",
    "\n",
    "# np.save(os.path.join(copy_pipeline_location, 'settings.pkl'), settings)\n",
    "# np.save(os.path.join(copy_pipeline_location, 'scope.pkl'), scope)\n",
    "# np.save(os.path.join(copy_pipeline_location, 'experiment.pkl'), experiment)\n",
    "\n",
    "save_dict_to_file(settings, os.path.join(copy_pipeline_location, 'settings.txt'))\n",
    "save_dict_to_file(scope, os.path.join(copy_pipeline_location, 'scope.txt'))\n",
    "save_dict_to_file(experiment, os.path.join(copy_pipeline_location, 'experiment.txt'))\n",
    "\n",
    "# pickle.dump(settings, open(os.path.join(copy_pipeline_location, 'settings.pkl'), 'wb'))\n",
    "# pickle.dump(scope, open(os.path.join(copy_pipeline_location, 'scope.pkl'), 'wb'))\n",
    "# pickle.dump(experiment, open(os.path.join(copy_pipeline_location, 'experiment.pkl'), 'wb'))\n",
    "\n",
    "shutil.make_archive(copy_pipeline_location, 'zip', os.getcwd(), os.path.basename(copy_pipeline_location))\n"
   ]
  },
  {
   "cell_type": "markdown",
   "metadata": {},
   "source": [
    "# Were gonna Send It"
   ]
  },
  {
   "cell_type": "code",
   "execution_count": 70,
   "metadata": {},
   "outputs": [
    {
     "name": "stderr",
     "output_type": "stream",
     "text": [
      "DEBUG:paramiko.transport:starting thread (client mode): 0xf72412d0\n",
      "DEBUG:paramiko.transport:Local version/idstring: SSH-2.0-paramiko_3.4.1\n",
      "DEBUG:paramiko.transport:Remote version/idstring: SSH-2.0-OpenSSH_8.0\n",
      "INFO:paramiko.transport:Connected (version 2.0, client OpenSSH_8.0)\n",
      "DEBUG:paramiko.transport:=== Key exchange possibilities ===\n",
      "DEBUG:paramiko.transport:kex algos: curve25519-sha256, curve25519-sha256@libssh.org, ecdh-sha2-nistp256, ecdh-sha2-nistp384, ecdh-sha2-nistp521, diffie-hellman-group-exchange-sha256, diffie-hellman-group14-sha256, diffie-hellman-group16-sha512, diffie-hellman-group18-sha512, diffie-hellman-group-exchange-sha1, diffie-hellman-group14-sha1\n",
      "DEBUG:paramiko.transport:server key: rsa-sha2-512, rsa-sha2-256, ssh-rsa, ecdsa-sha2-nistp256, ssh-ed25519\n",
      "DEBUG:paramiko.transport:client encrypt: aes256-gcm@openssh.com, chacha20-poly1305@openssh.com, aes256-ctr, aes256-cbc, aes128-gcm@openssh.com, aes128-ctr, aes128-cbc\n",
      "DEBUG:paramiko.transport:server encrypt: aes256-gcm@openssh.com, chacha20-poly1305@openssh.com, aes256-ctr, aes256-cbc, aes128-gcm@openssh.com, aes128-ctr, aes128-cbc\n",
      "DEBUG:paramiko.transport:client mac: hmac-sha2-256-etm@openssh.com, hmac-sha1-etm@openssh.com, umac-128-etm@openssh.com, hmac-sha2-512-etm@openssh.com, hmac-sha2-256, hmac-sha1, umac-128@openssh.com, hmac-sha2-512\n",
      "DEBUG:paramiko.transport:server mac: hmac-sha2-256-etm@openssh.com, hmac-sha1-etm@openssh.com, umac-128-etm@openssh.com, hmac-sha2-512-etm@openssh.com, hmac-sha2-256, hmac-sha1, umac-128@openssh.com, hmac-sha2-512\n",
      "DEBUG:paramiko.transport:client compress: none, zlib@openssh.com\n",
      "DEBUG:paramiko.transport:server compress: none, zlib@openssh.com\n",
      "DEBUG:paramiko.transport:client lang: <none>\n",
      "DEBUG:paramiko.transport:server lang: <none>\n",
      "DEBUG:paramiko.transport:kex follows: False\n",
      "DEBUG:paramiko.transport:=== Key exchange agreements ===\n",
      "DEBUG:paramiko.transport:Kex: curve25519-sha256@libssh.org\n",
      "DEBUG:paramiko.transport:HostKey: ssh-ed25519\n",
      "DEBUG:paramiko.transport:Cipher: aes128-ctr\n",
      "DEBUG:paramiko.transport:MAC: hmac-sha2-256\n",
      "DEBUG:paramiko.transport:Compression: none\n",
      "DEBUG:paramiko.transport:=== End of kex handshake ===\n",
      "DEBUG:paramiko.transport:kex engine KexCurve25519 specified hash_algo <built-in function openssl_sha256>\n",
      "DEBUG:paramiko.transport:Switch to new keys ...\n",
      "DEBUG:paramiko.transport:Adding ssh-ed25519 host key for keck.engr.colostate.edu: b'38926ebfa15334d940b5b39187c964b8'\n",
      "DEBUG:paramiko.transport:Got EXT_INFO: {'server-sig-algs': b'ssh-ed25519,ssh-rsa,rsa-sha2-256,rsa-sha2-512,ssh-dss,ecdsa-sha2-nistp256,ecdsa-sha2-nistp384,ecdsa-sha2-nistp521'}\n",
      "DEBUG:paramiko.transport:userauth is OK\n",
      "INFO:paramiko.transport:Authentication (password) successful!\n",
      "DEBUG:paramiko.transport:[chan 0] Max packet in: 32768 bytes\n",
      "DEBUG:paramiko.transport:Received global request \"hostkeys-00@openssh.com\"\n",
      "DEBUG:paramiko.transport:Rejecting \"hostkeys-00@openssh.com\" global request from server.\n",
      "DEBUG:paramiko.transport:[chan 0] Max packet out: 32768 bytes\n",
      "DEBUG:paramiko.transport:Secsh channel 0 opened.\n",
      "DEBUG:paramiko.transport:[chan 0] Sesch channel 0 request ok\n",
      "INFO:paramiko.transport.sftp:[chan 0] Opened sftp connection (server version 3)\n",
      "DEBUG:paramiko.transport.sftp:[chan 0] open(b'/home/formanj/FISH_Processing_JF/FISH_Processing/cluster/Standard_Pipeline.zip', 'wb')\n",
      "DEBUG:paramiko.transport.sftp:[chan 0] open(b'/home/formanj/FISH_Processing_JF/FISH_Processing/cluster/Standard_Pipeline.zip', 'wb') -> 00000000\n",
      "DEBUG:paramiko.transport.sftp:[chan 0] close(00000000)\n",
      "DEBUG:paramiko.transport.sftp:[chan 0] stat(b'/home/formanj/FISH_Processing_JF/FISH_Processing/cluster/Standard_Pipeline.zip')\n",
      "INFO:paramiko.transport.sftp:[chan 0] sftp session closed.\n",
      "DEBUG:paramiko.transport:[chan 0] EOF sent (0)\n",
      "DEBUG:paramiko.transport:[chan 1] Max packet in: 32768 bytes\n",
      "DEBUG:paramiko.transport:[chan 0] EOF received (0)\n",
      "DEBUG:paramiko.transport:[chan 1] Max packet out: 32768 bytes\n",
      "DEBUG:paramiko.transport:Secsh channel 1 opened.\n",
      "DEBUG:paramiko.transport:[chan 1] Sesch channel 1 request ok\n",
      "DEBUG:paramiko.transport:[chan 1] EOF received (1)\n",
      "DEBUG:paramiko.transport:[chan 1] EOF sent (1)\n",
      "DEBUG:paramiko.transport:Dropping user packet because connection is dead.\n"
     ]
    },
    {
     "name": "stdout",
     "output_type": "stream",
     "text": [
      "Submitted batch job 3385\n",
      "\n",
      "\n"
     ]
    }
   ],
   "source": [
    "run_on_cluster(config_location, copy_pipeline_location + '.zip') \n",
    "# remove the copied pipeline\n",
    "shutil.rmtree(copy_pipeline_location)\n",
    "os.remove(copy_pipeline_location + '.zip')"
   ]
  },
  {
   "cell_type": "code",
   "execution_count": null,
   "metadata": {},
   "outputs": [],
   "source": []
  }
 ],
 "metadata": {
  "kernelspec": {
   "display_name": "FISH_env",
   "language": "python",
   "name": "python3"
  },
  "language_info": {
   "codemirror_mode": {
    "name": "ipython",
    "version": 3
   },
   "file_extension": ".py",
   "mimetype": "text/x-python",
   "name": "python",
   "nbconvert_exporter": "python",
   "pygments_lexer": "ipython3",
   "version": "3.10.13"
  }
 },
 "nbformat": 4,
 "nbformat_minor": 2
}
