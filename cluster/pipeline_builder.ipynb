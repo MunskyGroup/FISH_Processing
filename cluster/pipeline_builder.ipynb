{
 "cells": [
  {
   "cell_type": "code",
   "execution_count": 1,
   "metadata": {},
   "outputs": [
    {
     "ename": "ModuleNotFoundError",
     "evalue": "No module named 'bigfish'",
     "output_type": "error",
     "traceback": [
      "\u001b[1;31m---------------------------------------------------------------------------\u001b[0m",
      "\u001b[1;31mModuleNotFoundError\u001b[0m                       Traceback (most recent call last)",
      "Cell \u001b[1;32mIn[1], line 12\u001b[0m\n\u001b[0;32m      9\u001b[0m \u001b[38;5;66;03m# Append the parent directory to sys.path\u001b[39;00m\n\u001b[0;32m     10\u001b[0m sys\u001b[38;5;241m.\u001b[39mpath\u001b[38;5;241m.\u001b[39mappend(parent_dir)\n\u001b[1;32m---> 12\u001b[0m \u001b[38;5;28;01mimport\u001b[39;00m \u001b[38;5;21;01msrc\u001b[39;00m\n\u001b[0;32m     13\u001b[0m \u001b[38;5;28;01mfrom\u001b[39;00m \u001b[38;5;21;01msrc\u001b[39;00m\u001b[38;5;21;01m.\u001b[39;00m\u001b[38;5;21;01mPrePipelineSteps\u001b[39;00m \u001b[38;5;28;01mimport\u001b[39;00m Pycromanager2NativeDataType, Make_Output_Dir_JF, Make_Analysis_Dir_JF, \\\n\u001b[0;32m     14\u001b[0m                                     ConsolidateImageShapes, TrimZSlices, AutomaticSpotDetection_JF\n\u001b[0;32m     16\u001b[0m \u001b[38;5;28;01mfrom\u001b[39;00m \u001b[38;5;21;01msrc\u001b[39;00m\u001b[38;5;21;01m.\u001b[39;00m\u001b[38;5;21;01mPipelineSteps\u001b[39;00m \u001b[38;5;28;01mimport\u001b[39;00m CellSegmentationStepClass_JF, BIGFISH_SpotDetection, SimpleCellposeSegmentaion\n",
      "File \u001b[1;32mc:\\Users\\formanj.COLOSTATE\\GitHub\\FISH_Processing\\src\\__init__.py:21\u001b[0m\n\u001b[0;32m     19\u001b[0m \u001b[38;5;28;01mfrom\u001b[39;00m \u001b[38;5;21;01m.\u001b[39;00m\u001b[38;5;21;01mGeneralOutputClasses\u001b[39;00m \u001b[38;5;28;01mimport\u001b[39;00m OutputClass, StepOutputsClass, PipelineOutputsClass, PrePipelineOutputsClass \u001b[38;5;66;03m# GeneralOutputClasses\u001b[39;00m\n\u001b[0;32m     20\u001b[0m \u001b[38;5;28;01mfrom\u001b[39;00m \u001b[38;5;21;01m.\u001b[39;00m\u001b[38;5;21;01mPipelineDataClass\u001b[39;00m \u001b[38;5;28;01mimport\u001b[39;00m PipelineDataClass\n\u001b[1;32m---> 21\u001b[0m \u001b[38;5;28;01mfrom\u001b[39;00m \u001b[38;5;21;01m.\u001b[39;00m\u001b[38;5;21;01mPipeline\u001b[39;00m \u001b[38;5;28;01mimport\u001b[39;00m Pipeline\n\u001b[0;32m     22\u001b[0m \u001b[38;5;28;01mfrom\u001b[39;00m \u001b[38;5;21;01m.\u001b[39;00m\u001b[38;5;21;01mSingleStepCompiler\u001b[39;00m \u001b[38;5;28;01mimport\u001b[39;00m SingleStepCompiler\n\u001b[0;32m     24\u001b[0m \u001b[38;5;28;01mfrom\u001b[39;00m \u001b[38;5;21;01m.\u001b[39;00m \u001b[38;5;28;01mimport\u001b[39;00m Util\n",
      "File \u001b[1;32mc:\\Users\\formanj.COLOSTATE\\GitHub\\FISH_Processing\\src\\Pipeline.py:5\u001b[0m\n\u001b[0;32m      1\u001b[0m \u001b[38;5;28;01mimport\u001b[39;00m \u001b[38;5;21;01mos\u001b[39;00m\n\u001b[0;32m      3\u001b[0m \u001b[38;5;28;01mfrom\u001b[39;00m \u001b[38;5;21;01m.\u001b[39;00m \u001b[38;5;28;01mimport\u001b[39;00m PipelineSettings, ScopeClass, Experiment, PipelineDataClass, PipelineOutputsClass, \\\n\u001b[0;32m      4\u001b[0m     PrePipelineOutputsClass, StepOutputsClass\n\u001b[1;32m----> 5\u001b[0m \u001b[38;5;28;01mfrom\u001b[39;00m \u001b[38;5;21;01m.\u001b[39;00m\u001b[38;5;21;01mUtil\u001b[39;00m\u001b[38;5;21;01m.\u001b[39;00m\u001b[38;5;21;01mUtilities\u001b[39;00m \u001b[38;5;28;01mimport\u001b[39;00m Utilities\n\u001b[0;32m      8\u001b[0m \u001b[38;5;66;03m# from .GeneralOutputClasses import PipelineOutputsClass\u001b[39;00m\n\u001b[0;32m      9\u001b[0m \u001b[38;5;66;03m# from .PipelineSettings import PipelineSettings\u001b[39;00m\n\u001b[0;32m     10\u001b[0m \u001b[38;5;66;03m# from .MicroscopeClass import ScopeClass\u001b[39;00m\n\u001b[0;32m     11\u001b[0m \u001b[38;5;66;03m# from .ExperimentClass import Experiment\u001b[39;00m\n\u001b[0;32m     12\u001b[0m \u001b[38;5;66;03m# from .PipelineDataClass import PipelineDataClass\u001b[39;00m\n\u001b[0;32m     14\u001b[0m \u001b[38;5;28;01mclass\u001b[39;00m \u001b[38;5;21;01mPipeline\u001b[39;00m:\n",
      "File \u001b[1;32mc:\\Users\\formanj.COLOSTATE\\GitHub\\FISH_Processing\\src\\Util\\__init__.py:4\u001b[0m\n\u001b[0;32m      1\u001b[0m \u001b[38;5;66;03m# from .All_in_one import *\u001b[39;00m\n\u001b[1;32m----> 4\u001b[0m \u001b[38;5;28;01mfrom\u001b[39;00m \u001b[38;5;21;01m.\u001b[39;00m\u001b[38;5;21;01mBigFish\u001b[39;00m \u001b[38;5;28;01mimport\u001b[39;00m BigFISH\n\u001b[0;32m      5\u001b[0m \u001b[38;5;28;01mfrom\u001b[39;00m \u001b[38;5;21;01m.\u001b[39;00m\u001b[38;5;21;01mCellPose\u001b[39;00m \u001b[38;5;28;01mimport\u001b[39;00m Cellpose\n\u001b[0;32m      6\u001b[0m \u001b[38;5;28;01mfrom\u001b[39;00m \u001b[38;5;21;01m.\u001b[39;00m\u001b[38;5;21;01mCellSegmentation\u001b[39;00m \u001b[38;5;28;01mimport\u001b[39;00m CellSegmentation\n",
      "File \u001b[1;32mc:\\Users\\formanj.COLOSTATE\\GitHub\\FISH_Processing\\src\\Util\\BigFish.py:1\u001b[0m\n\u001b[1;32m----> 1\u001b[0m \u001b[38;5;28;01mimport\u001b[39;00m \u001b[38;5;21;01mbigfish\u001b[39;00m\u001b[38;5;21;01m.\u001b[39;00m\u001b[38;5;21;01mdetection\u001b[39;00m \u001b[38;5;28;01mas\u001b[39;00m \u001b[38;5;21;01mdetection\u001b[39;00m\n\u001b[0;32m      2\u001b[0m \u001b[38;5;28;01mimport\u001b[39;00m \u001b[38;5;21;01mbigfish\u001b[39;00m\u001b[38;5;21;01m.\u001b[39;00m\u001b[38;5;21;01mplot\u001b[39;00m \u001b[38;5;28;01mas\u001b[39;00m \u001b[38;5;21;01mplot\u001b[39;00m\n\u001b[0;32m      3\u001b[0m \u001b[38;5;28;01mimport\u001b[39;00m \u001b[38;5;21;01mbigfish\u001b[39;00m\u001b[38;5;21;01m.\u001b[39;00m\u001b[38;5;21;01mstack\u001b[39;00m \u001b[38;5;28;01mas\u001b[39;00m \u001b[38;5;21;01mstack\u001b[39;00m\n",
      "\u001b[1;31mModuleNotFoundError\u001b[0m: No module named 'bigfish'"
     ]
    }
   ],
   "source": [
    "import pickle\n",
    "import sys\n",
    "import os\n",
    "\n",
    "import numpy as np\n",
    "\n",
    "# Get the path of the current script (or current working directory)\n",
    "parent_dir = os.path.dirname(os.getcwd())\n",
    "# Append the parent directory to sys.path\n",
    "sys.path.append(parent_dir)\n",
    "\n",
    "import src\n",
    "from src.PrePipelineSteps import Pycromanager2NativeDataType, Make_Output_Dir_JF, Make_Analysis_Dir_JF, \\\n",
    "                                    ConsolidateImageShapes, TrimZSlices, AutomaticSpotDetection_JF\n",
    "\n",
    "from src.PipelineSteps import CellSegmentationStepClass_JF, BIGFISH_SpotDetection, SimpleCellposeSegmentaion\n",
    "\n",
    "from src.PostPipelineSteps import BuildPDFReport, SaveSpotDetectionResults, SaveMasksToAnalysis, SendAnalysisToNAS, \\\n",
    "                                    DeleteTempFiles\n",
    "\n",
    "                                    \n",
    "\n",
    "from src import Experiment, PipelineSettings, ScopeClass, PipelineDataClass, Pipeline\n",
    "\n",
    "def save_dict_to_file(dic, location):\n",
    "    f = open(location,'w')\n",
    "    f.write(str(dic))\n",
    "    f.close()"
   ]
  },
  {
   "cell_type": "code",
   "execution_count": 2,
   "metadata": {},
   "outputs": [],
   "source": [
    "pipeline_package_name = 'IntronDiffusion_SpotPopulations'"
   ]
  },
  {
   "cell_type": "markdown",
   "metadata": {},
   "source": [
    "# Initialize Dataclasses"
   ]
  },
  {
   "cell_type": "code",
   "execution_count": 3,
   "metadata": {},
   "outputs": [],
   "source": [
    "settings = PipelineSettings(return_data_to_NAS=1,\n",
    "    optimization_segmentation_method='default',\n",
    "    save_all_imgs=1,\n",
    "    save_all_filtered_imgs=0,\n",
    "    threshold_for_spot_detection=None,\n",
    "    NUMBER_OF_CORES=4,\n",
    "    save_filtered_images=1,\n",
    "    remove_z_slices_borders=1,\n",
    "    remove_out_of_focus_images=1,\n",
    "    save_pdf_report=1,\n",
    "    MINIMAL_NUMBER_OF_Z_SLICES_TO_CONSIDER_A_3D_IMAGE=5,\n",
    "    NUMBER_Z_SLICES_TO_TRIM=0,\n",
    "    user_select_number_of_images_to_run=100_000,  # TODO: This is bad but I want it to select all and am too lazy\n",
    "                                                        # to deal with it rn\n",
    "    minimum_spots_cluster=5,\n",
    "    show_plots=1,\n",
    "    CLUSTER_RADIUS=750,  # int(psf_yx*1.5)\n",
    "    save_all_images=1,\n",
    "    display_spots_on_multiple_z_planes=0,\n",
    "    use_log_filter_for_spot_detection=0,\n",
    "    sharpness_threshold=1.10,\n",
    "    local_or_NAS=1,  # 0 for local, 1 for NAS\n",
    "    save_files=1,\n",
    "    model_nuc_segmentation=None,\n",
    "    model_cyto_segmentation=None,\n",
    "    pretrained_model_nuc_segmentation=None,\n",
    "    pretrained_model_cyto_segmentation=None,\n",
    "    diameter_nucleus=100,\n",
    "    diameter_cytosol=200,\n",
    "    save_masks_as_file=0,\n",
    "    MINIMAL_NUMBER_OF_PIXELS_IN_MASK=1000,\n",
    "    MAX_NUM_IMAGES_TO_AUTOMATICALLY_CALCULATE_THRESHOLD=20,\n",
    "    MINUMUM_NUMBERs_IMAGES_TO_AUTOMATICALLY_CALCULATE_THRESHOLD=3,\n",
    "    connection_config_location=r'/home/formanj/FISH_Processing_JF/FISH_Processing/config.yml', # \"C:\\Users\\Jack\\Desktop\\config.yml\"  '/home/formanj/FISH_Processing_JF/FISH_Processing/config.yml'\n",
    "    share_name='share')\n",
    "\n",
    "settings.bigfish_alpha = 0.5"
   ]
  },
  {
   "cell_type": "code",
   "execution_count": 4,
   "metadata": {},
   "outputs": [],
   "source": [
    "experiment = Experiment(initial_data_location=None,\n",
    "                        nucChannel=None,\n",
    "                        cytoChannel=None,\n",
    "                        FISHChannel=None,\n",
    "                        voxel_size_z=300)"
   ]
  },
  {
   "cell_type": "code",
   "execution_count": 5,
   "metadata": {},
   "outputs": [],
   "source": [
    "scope = ScopeClass( voxel_size_yx=130,\n",
    "                    spot_z=500,\n",
    "                    spot_yx=360,\n",
    "                    microscope_saving_format='pycromanager'\n",
    "                )"
   ]
  },
  {
   "cell_type": "code",
   "execution_count": 6,
   "metadata": {},
   "outputs": [],
   "source": [
    "data = PipelineDataClass()"
   ]
  },
  {
   "cell_type": "code",
   "execution_count": 7,
   "metadata": {},
   "outputs": [],
   "source": [
    "setting_dict = settings.__dict__\n",
    "experiment_dict = experiment.__dict__\n",
    "scope_dict = scope.__dict__\n"
   ]
  },
  {
   "cell_type": "markdown",
   "metadata": {},
   "source": [
    "# Initialize Steps"
   ]
  },
  {
   "cell_type": "code",
   "execution_count": 8,
   "metadata": {},
   "outputs": [],
   "source": [
    "PrePipelineSteps = [Pycromanager2NativeDataType(), \n",
    "                   Make_Output_Dir_JF(), \n",
    "                   Make_Analysis_Dir_JF(), \n",
    "                   ConsolidateImageShapes(), \n",
    "                   AutomaticSpotDetection_JF()]"
   ]
  },
  {
   "cell_type": "code",
   "execution_count": 9,
   "metadata": {},
   "outputs": [],
   "source": [
    "PipelineSteps = [SimpleCellposeSegmentaion(), BIGFISH_SpotDetection()]"
   ]
  },
  {
   "cell_type": "code",
   "execution_count": 10,
   "metadata": {},
   "outputs": [],
   "source": [
    "PostPipelineSteps = [BuildPDFReport(), SaveSpotDetectionResults(), SaveMasksToAnalysis(), SendAnalysisToNAS(), DeleteTempFiles()]"
   ]
  },
  {
   "cell_type": "markdown",
   "metadata": {},
   "source": [
    "# Combine into single Dict"
   ]
  },
  {
   "cell_type": "code",
   "execution_count": 11,
   "metadata": {},
   "outputs": [],
   "source": [
    "pipeline_dict = {'settings': setting_dict, \n",
    "                 'experiment': experiment_dict, \n",
    "                 'scope': scope_dict, \n",
    "                 'data': data.__dict__,\n",
    "                 'PrePipelineSteps': [i.__class__.__name__ for i in PrePipelineSteps],\n",
    "                 'PipelineSteps': [i.__class__.__name__ for i in PipelineSteps],\n",
    "                 'PostPipelineSteps': [i.__class__.__name__ for i in PostPipelineSteps]}"
   ]
  },
  {
   "cell_type": "code",
   "execution_count": 12,
   "metadata": {},
   "outputs": [],
   "source": [
    "# Save the instances to pickle files\n",
    "package_dir = os.path.join(os.path.dirname(os.getcwd()), 'Pipelines')\n",
    "os.makedirs(package_dir, exist_ok=True)\n",
    "\n",
    "save_dict_to_file(pipeline_dict, os.path.join(package_dir, f'{pipeline_package_name}.txt'))\n",
    "\n"
   ]
  },
  {
   "cell_type": "code",
   "execution_count": 13,
   "metadata": {},
   "outputs": [
    {
     "data": {
      "text/plain": [
       "'c:\\\\Users\\\\Jack\\\\Documents\\\\GitHub\\\\FISH_Processing\\\\Pipelines\\\\Standard_Pipeline.txt'"
      ]
     },
     "execution_count": 13,
     "metadata": {},
     "output_type": "execute_result"
    }
   ],
   "source": [
    "os.path.join(package_dir, f'{pipeline_package_name}.txt')"
   ]
  },
  {
   "cell_type": "code",
   "execution_count": null,
   "metadata": {},
   "outputs": [],
   "source": []
  }
 ],
 "metadata": {
  "kernelspec": {
   "display_name": "FISH_env",
   "language": "python",
   "name": "python3"
  },
  "language_info": {
   "codemirror_mode": {
    "name": "ipython",
    "version": 3
   },
   "file_extension": ".py",
   "mimetype": "text/x-python",
   "name": "python",
   "nbconvert_exporter": "python",
   "pygments_lexer": "ipython3",
   "version": "3.12.4"
  }
 },
 "nbformat": 4,
 "nbformat_minor": 2
}
