{
 "cells": [
  {
   "cell_type": "code",
   "execution_count": 27,
   "metadata": {},
   "outputs": [],
   "source": [
    "import pickle\n",
    "import sys\n",
    "import os\n",
    "import numpy as np\n",
    "\n",
    "# Get the path of the current script (or current working directory)\n",
    "parent_dir = os.path.dirname(os.getcwd())\n",
    "# Append the parent directory to sys.path\n",
    "sys.path.append(parent_dir)\n",
    "\n",
    "import src\n",
    "from src.IndependentSteps import Pycromanager2NativeDataType, Make_Output_Dir_JF, Make_Analysis_Dir_JF, \\\n",
    "                                    ConsolidateImageShapes, TrimZSlices, AutomaticSpotDetection_JF\n",
    "\n",
    "from src.SequentialSteps import CellSegmentationStepClass_JF, BIGFISH_SpotDetection, SimpleCellposeSegmentaion\n",
    "\n",
    "from src.FinalizationSteps import BuildPDFReport, SaveSpotDetectionResults, SaveMasksToAnalysis, SendAnalysisToNAS, \\\n",
    "                                    DeleteTempFiles, TrackPyAnlaysis\n",
    "\n",
    "                                    \n",
    "\n",
    "from src import Experiment, Settings, ScopeClass, DataContainer, Pipeline\n",
    "\n",
    "def save_dict_to_file(dic, location):\n",
    "    f = open(location,'w')\n",
    "    f.write(str(dic))\n",
    "    f.close()"
   ]
  },
  {
   "cell_type": "code",
   "execution_count": 28,
   "metadata": {},
   "outputs": [],
   "source": [
    "pipeline_package_name = 'IntronDiffusion_TrackpyDiffusion'"
   ]
  },
  {
   "cell_type": "markdown",
   "metadata": {},
   "source": [
    "# Initialize Dataclasses"
   ]
  },
  {
   "cell_type": "code",
   "execution_count": 29,
   "metadata": {},
   "outputs": [],
   "source": [
    "settings = Settings(return_data_to_NAS = 1,\n",
    "    NUMBER_OF_CORES = 4,\n",
    "    save_files = 1,\n",
    "    user_select_number_of_images_to_run = 100_000,\n",
    "    download_data_from_NAS = 0 ,  # 0 for local, 1 for NAS\n",
    "    connection_config_location = r\"C:\\Users\\Jack\\Desktop\\config.yml\", # r\"/home/formanj/FISH_Processing_JF/FISH_Processing/config.yml\"\n",
    "    share_name = 'share',\n",
    "    display_plots = False)\n",
    "\n",
    "settings.bigfish_alpha = 0.5\n",
    "settings.CLUSTER_RADIUS = 500"
   ]
  },
  {
   "cell_type": "code",
   "execution_count": 30,
   "metadata": {},
   "outputs": [],
   "source": [
    "experiment = Experiment(initial_data_location=None,\n",
    "                        nucChannel=[0],\n",
    "                        cytoChannel=None,\n",
    "                        FISHChannel=None,\n",
    "                        voxel_size_z=300)"
   ]
  },
  {
   "cell_type": "code",
   "execution_count": 31,
   "metadata": {},
   "outputs": [],
   "source": [
    "scope = ScopeClass( voxel_size_yx=130,\n",
    "                    spot_z=500,\n",
    "                    spot_yx=360,\n",
    "                    microscope_saving_format='pycromanager'\n",
    "                )"
   ]
  },
  {
   "cell_type": "code",
   "execution_count": 32,
   "metadata": {},
   "outputs": [],
   "source": [
    "data = DataContainer()"
   ]
  },
  {
   "cell_type": "code",
   "execution_count": 33,
   "metadata": {},
   "outputs": [],
   "source": [
    "setting_dict = settings.__dict__\n",
    "experiment_dict = experiment.__dict__\n",
    "scope_dict = scope.__dict__\n"
   ]
  },
  {
   "cell_type": "markdown",
   "metadata": {},
   "source": [
    "# Initialize Steps"
   ]
  },
  {
   "cell_type": "code",
   "execution_count": 34,
   "metadata": {},
   "outputs": [],
   "source": [
    "PrePipelineSteps = [Pycromanager2NativeDataType(), \n",
    "                   Make_Output_Dir_JF(), \n",
    "                   Make_Analysis_Dir_JF(), \n",
    "                   ConsolidateImageShapes(), \n",
    "                   AutomaticSpotDetection_JF()]"
   ]
  },
  {
   "cell_type": "code",
   "execution_count": 35,
   "metadata": {},
   "outputs": [],
   "source": [
    "PipelineSteps = [SimpleCellposeSegmentaion(), \n",
    "                 BIGFISH_SpotDetection()]"
   ]
  },
  {
   "cell_type": "code",
   "execution_count": 36,
   "metadata": {},
   "outputs": [],
   "source": [
    "PostPipelineSteps = [SaveSpotDetectionResults(), \n",
    "                     TrackPyAnlaysis(), \n",
    "                     BuildPDFReport(), \n",
    "                     SaveMasksToAnalysis(), \n",
    "                     SendAnalysisToNAS(), \n",
    "                     DeleteTempFiles()]"
   ]
  },
  {
   "cell_type": "markdown",
   "metadata": {},
   "source": [
    "# Combine into single Dict"
   ]
  },
  {
   "cell_type": "code",
   "execution_count": 37,
   "metadata": {},
   "outputs": [],
   "source": [
    "pipeline_dict = {'settings': setting_dict, \n",
    "                 'experiment': experiment_dict, \n",
    "                 'scope': scope_dict, \n",
    "                 'data': data.__dict__,\n",
    "                 'independentSteps': [i.__class__.__name__ for i in PrePipelineSteps],\n",
    "                 'sequentialSteps': [i.__class__.__name__ for i in PipelineSteps],\n",
    "                 'finalizationSteps': [i.__class__.__name__ for i in PostPipelineSteps]}"
   ]
  },
  {
   "cell_type": "code",
   "execution_count": 38,
   "metadata": {},
   "outputs": [],
   "source": [
    "# Save the instances to pickle files\n",
    "package_dir = os.path.join(os.getcwd(), 'Pipelines')\n",
    "os.makedirs(package_dir, exist_ok=True)\n",
    "\n",
    "save_dict_to_file(pipeline_dict, os.path.join(package_dir, f'{pipeline_package_name}.txt'))\n",
    "\n"
   ]
  },
  {
   "cell_type": "code",
   "execution_count": 39,
   "metadata": {},
   "outputs": [
    {
     "data": {
      "text/plain": [
       "'c:\\\\Users\\\\ericron.COLOSTATE\\\\GitHub\\\\FISH_Processing\\\\Pipelines\\\\IntronDiffusion_TrackpyDiffusion.txt'"
      ]
     },
     "execution_count": 39,
     "metadata": {},
     "output_type": "execute_result"
    }
   ],
   "source": [
    "os.path.join(package_dir, f'{pipeline_package_name}.txt')"
   ]
  },
  {
   "cell_type": "code",
   "execution_count": null,
   "metadata": {},
   "outputs": [],
   "source": []
  }
 ],
 "metadata": {
  "kernelspec": {
   "display_name": "FISH_env",
   "language": "python",
   "name": "python3"
  },
  "language_info": {
   "codemirror_mode": {
    "name": "ipython",
    "version": 3
   },
   "file_extension": ".py",
   "mimetype": "text/x-python",
   "name": "python",
   "nbconvert_exporter": "python",
   "pygments_lexer": "ipython3",
   "version": "3.10.13"
  }
 },
 "nbformat": 4,
 "nbformat_minor": 2
}
